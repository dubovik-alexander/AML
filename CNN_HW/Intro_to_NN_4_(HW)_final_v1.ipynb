{
  "cells": [
    {
      "cell_type": "markdown",
      "metadata": {
        "id": "l4VAzKlG8aHj"
      },
      "source": [
        "## Neural Part Of Speech Tagging\n",
        "\n",
        "We're now going to solve the same problem of POS tagging with neural networks.\n",
        "<img src=https://i.stack.imgur.com/6pdIT.png width=320>\n",
        "\n",
        "From deep learning perspective, this is a task of predicting a sequence of outputs aligned to a sequence of inputs. There are several problems that match this formulation:\n",
        "* Part Of Speech Tagging -  an auxuliary task for many NLP problems\n",
        "* Named Entity Recognition - for chat bots and web crawlers\n",
        "* Protein structure prediction - for bioinformatics"
      ]
    },
    {
      "cell_type": "code",
      "execution_count": 1,
      "metadata": {
        "colab": {
          "base_uri": "https://localhost:8080/"
        },
        "id": "wnu9D3YZoH2e",
        "outputId": "fa79de65-acc7-41a0-91fe-d0d2f8c042cc",
        "tags": []
      },
      "outputs": [
        {
          "output_type": "stream",
          "name": "stdout",
          "text": [
            "Colab only includes TensorFlow 2.x; %tensorflow_version has no effect.\n"
          ]
        }
      ],
      "source": [
        "%tensorflow_version 2.x\n",
        "# import tensorflow"
      ]
    },
    {
      "cell_type": "code",
      "execution_count": 2,
      "metadata": {
        "colab": {
          "base_uri": "https://localhost:8080/"
        },
        "id": "yxFUBtb88aHq",
        "outputId": "38f983a2-29ae-4b5d-d9d1-07e1c97a1614",
        "scrolled": true,
        "tags": []
      },
      "outputs": [
        {
          "output_type": "stream",
          "name": "stderr",
          "text": [
            "[nltk_data] Downloading package brown to /root/nltk_data...\n",
            "[nltk_data]   Unzipping corpora/brown.zip.\n",
            "[nltk_data] Downloading package universal_tagset to /root/nltk_data...\n",
            "[nltk_data]   Unzipping taggers/universal_tagset.zip.\n",
            "<ipython-input-2-bc9847c14597>:10: VisibleDeprecationWarning: Creating an ndarray from ragged nested sequences (which is a list-or-tuple of lists-or-tuples-or ndarrays with different lengths or shapes) is deprecated. If you meant to do this, you must specify 'dtype=object' when creating the ndarray.\n",
            "  data = np.array([ [(word.lower(),tag) for word,tag in sentence] for sentence in data ])\n"
          ]
        }
      ],
      "source": [
        "import nltk\n",
        "import sys\n",
        "import numpy as np\n",
        "\n",
        "nltk.download('brown')\n",
        "nltk.download('universal_tagset')\n",
        "data = nltk.corpus.brown.tagged_sents(tagset='universal')\n",
        "all_tags = ['#EOS#','#UNK#','ADV', 'NOUN', 'ADP', 'PRON', 'DET', '.', 'PRT', 'VERB', 'X', 'NUM', 'CONJ', 'ADJ']\n",
        "\n",
        "data = np.array([ [(word.lower(),tag) for word,tag in sentence] for sentence in data ])\n"
      ]
    },
    {
      "cell_type": "code",
      "execution_count": 3,
      "metadata": {
        "id": "Bq_OXuD38aHs"
      },
      "outputs": [],
      "source": [
        "from sklearn.model_selection import train_test_split\n",
        "train_data, test_data = train_test_split(data,test_size=0.25,random_state=42)"
      ]
    },
    {
      "cell_type": "code",
      "execution_count": 4,
      "metadata": {
        "colab": {
          "base_uri": "https://localhost:8080/",
          "height": 157
        },
        "id": "sAlXrDmU8aHs",
        "outputId": "581b6594-ba6d-4295-96bc-8ff5d8163431"
      },
      "outputs": [
        {
          "output_type": "display_data",
          "data": {
            "text/plain": [
              "<IPython.core.display.HTML object>"
            ],
            "text/html": [
              "<table><tr><td>NOUN</td><td>ADP</td><td>NOUN</td><td>NOUN</td><td>NOUN</td><td>NOUN</td><td>VERB</td><td>ADV</td><td>VERB</td><td>ADP</td><td>DET</td><td>ADJ</td><td>NOUN</td><td>.</td></tr><td>implementation</td><td>of</td><td>georgia's</td><td>automobile</td><td>title</td><td>law</td><td>was</td><td>also</td><td>recommended</td><td>by</td><td>the</td><td>outgoing</td><td>jury</td><td>.</td><tr></table>"
            ]
          },
          "metadata": {}
        },
        {
          "output_type": "display_data",
          "data": {
            "text/plain": [
              "<IPython.core.display.HTML object>"
            ],
            "text/html": [
              "<table><tr><td>PRON</td><td>VERB</td><td>ADP</td><td>DET</td><td>NOUN</td><td>.</td><td>VERB</td><td>NOUN</td><td>PRT</td><td>VERB</td><td>.</td><td>DET</td><td>NOUN</td><td>.</td></tr><td>it</td><td>urged</td><td>that</td><td>the</td><td>city</td><td>``</td><td>take</td><td>steps</td><td>to</td><td>remedy</td><td>''</td><td>this</td><td>problem</td><td>.</td><tr></table>"
            ]
          },
          "metadata": {}
        },
        {
          "output_type": "display_data",
          "data": {
            "text/plain": [
              "<IPython.core.display.HTML object>"
            ],
            "text/html": [
              "<table><tr><td>NOUN</td><td>VERB</td></tr><td>merger</td><td>proposed</td><tr></table>"
            ]
          },
          "metadata": {}
        }
      ],
      "source": [
        "from IPython.display import HTML, display\n",
        "def draw(sentence):\n",
        "    words,tags = zip(*sentence)\n",
        "    display(HTML('<table><tr>{tags}</tr>{words}<tr></table>'.format(\n",
        "                words = '<td>{}</td>'.format('</td><td>'.join(words)),\n",
        "                tags = '<td>{}</td>'.format('</td><td>'.join(tags)))))\n",
        "\n",
        "\n",
        "draw(data[11])\n",
        "draw(data[10])\n",
        "draw(data[7])"
      ]
    },
    {
      "cell_type": "markdown",
      "metadata": {
        "id": "LAViiL2C8aHt"
      },
      "source": [
        "### Building vocabularies\n",
        "\n",
        "Just like before, we have to build a mapping from tokens to integer ids. This time around, our model operates on a word level, processing one word per RNN step. This means we'll have to deal with far larger vocabulary.\n",
        "\n",
        "Luckily for us, we only receive those words as input i.e. we don't have to predict them. This means we can have a large vocabulary for free by using word embeddings."
      ]
    },
    {
      "cell_type": "code",
      "execution_count": 5,
      "metadata": {
        "colab": {
          "base_uri": "https://localhost:8080/"
        },
        "collapsed": true,
        "id": "ZXK_k-mo8aHt",
        "jupyter": {
          "outputs_hidden": true
        },
        "outputId": "ceb8bf47-8b6e-4639-9dd4-2fe18d88b0a8"
      },
      "outputs": [
        {
          "output_type": "stream",
          "name": "stdout",
          "text": [
            "Coverage = 0.92876\n"
          ]
        }
      ],
      "source": [
        "from collections import Counter\n",
        "word_counts = Counter()\n",
        "for sentence in data:\n",
        "    words,tags = zip(*sentence)\n",
        "    word_counts.update(words)\n",
        "\n",
        "all_words = ['#EOS#','#UNK#'] + list(list(zip(*word_counts.most_common(10000)))[0])\n",
        "\n",
        "#let's measure what fraction of data words are in the dictionary\n",
        "print(\"Coverage = %.5f\" % (float(sum(word_counts[w] for w in all_words)) / sum(word_counts.values())))"
      ]
    },
    {
      "cell_type": "code",
      "execution_count": 6,
      "metadata": {
        "collapsed": true,
        "id": "T0hee8L88aHt",
        "jupyter": {
          "outputs_hidden": true
        }
      },
      "outputs": [],
      "source": [
        "from collections import defaultdict\n",
        "word_to_id = defaultdict(lambda:1, { word: i for i, word in enumerate(all_words) })\n",
        "tag_to_id = { tag: i for i, tag in enumerate(all_tags)}"
      ]
    },
    {
      "cell_type": "markdown",
      "metadata": {
        "id": "RCmGbwpP8aHu"
      },
      "source": [
        "convert words and tags into fixed-size matrix"
      ]
    },
    {
      "cell_type": "code",
      "execution_count": 7,
      "metadata": {
        "collapsed": true,
        "id": "X7kx6jWn8aHu",
        "jupyter": {
          "outputs_hidden": true
        }
      },
      "outputs": [],
      "source": [
        "def to_matrix(lines, token_to_id, max_len=None, pad=0, dtype='int32', time_major=False):\n",
        "    \"\"\"Converts a list of names into rnn-digestable matrix with paddings added after the end\"\"\"\n",
        "\n",
        "    max_len = max_len or max(map(len,lines))\n",
        "    matrix = np.empty([len(lines), max_len],dtype)\n",
        "    matrix.fill(pad)\n",
        "\n",
        "    for i in range(len(lines)):\n",
        "        line_ix = list(map(token_to_id.__getitem__,lines[i]))[:max_len]\n",
        "        matrix[i,:len(line_ix)] = line_ix\n",
        "\n",
        "    return matrix.T if time_major else matrix"
      ]
    },
    {
      "cell_type": "code",
      "execution_count": 8,
      "metadata": {
        "colab": {
          "base_uri": "https://localhost:8080/"
        },
        "collapsed": true,
        "id": "BCaE-i5u8aHu",
        "jupyter": {
          "outputs_hidden": true
        },
        "outputId": "45724dbd-5d42-4a14-8078-f5aa922756a1"
      },
      "outputs": [
        {
          "output_type": "stream",
          "name": "stdout",
          "text": [
            "Word ids:\n",
            "[[   2 3057    5    2 2238 1334 4238 2454    3    6   19   26 1070   69\n",
            "     8 2088    6    3    1    3  266   65  342    2    1    3    2  315\n",
            "     1    9   87  216 3322   69 1558    4    0    0    0    0    0    0\n",
            "     0    0    0    0    0    0    0    0    0    0    0]\n",
            " [  45   12    8  511 8419    6   60 3246   39    2    1    1    3    2\n",
            "   845    1    3    1    3   10 9910    2    1 3470    9   43    1    1\n",
            "     3    6    2 1046  385   73 4562    3    9    2    1    1 3250    3\n",
            "    12   10    2  861 5240   12    8 8936  121    1    4]\n",
            " [  33   64   26   12  445    7 7346    9    8 3337    3    1 2811    3\n",
            "     2  463  572    2    1    1 1649   12    1    4    0    0    0    0\n",
            "     0    0    0    0    0    0    0    0    0    0    0    0    0    0\n",
            "     0    0    0    0    0    0    0    0    0    0    0]]\n",
            "Tag ids:\n",
            "[[ 6  3  4  6  3  3  9  9  7 12  4  5  9  4  6  3 12  7  9  7  9  8  4  6\n",
            "   3  7  6 13  3  4  6  3  9  4  3  7  0  0  0  0  0  0  0  0  0  0  0  0\n",
            "   0  0  0  0  0]\n",
            " [ 5  9  6  9  3 12  6  3  7  6 13  3  7  6 13  3  7 13  7  5  9  6  3  3\n",
            "   4  6 13  3  7 12  6  3  6 13  3  7  4  6  3  9  3  7  9  4  6 13  3  9\n",
            "   6  3  2 13  7]\n",
            " [ 4  6  5  9 13  4  3  4  6 13  7 13  3  7  6  3  4  6 13  3  3  9  9  7\n",
            "   0  0  0  0  0  0  0  0  0  0  0  0  0  0  0  0  0  0  0  0  0  0  0  0\n",
            "   0  0  0  0  0]]\n"
          ]
        }
      ],
      "source": [
        "batch_words, batch_tags = zip(*[zip(*sentence) for sentence in data[-3:]])\n",
        "\n",
        "print(\"Word ids:\")\n",
        "print(to_matrix(batch_words, word_to_id))\n",
        "print(\"Tag ids:\")\n",
        "print(to_matrix(batch_tags, tag_to_id))"
      ]
    },
    {
      "cell_type": "markdown",
      "metadata": {
        "id": "_oK_i5Xa8aHv"
      },
      "source": [
        "### Build model\n",
        "\n",
        "Unlike our previous lab, this time we'll focus on a high-level keras interface to recurrent neural networks. It is as simple as you can get with RNN, allbeit somewhat constraining for complex tasks like seq2seq.\n",
        "\n",
        "By default, all keras RNNs apply to a whole sequence of inputs and produce a sequence of hidden states `(return_sequences=True` or just the last hidden state `(return_sequences=False)`. All the recurrence is happening under the hood.\n",
        "\n",
        "At the top of our model we need to apply a Dense layer to each time-step independently. As of now, by default keras.layers.Dense would apply once to all time-steps concatenated. We use __keras.layers.TimeDistributed__ to modify Dense layer so that it would apply across both batch and time axes."
      ]
    },
    {
      "cell_type": "code",
      "execution_count": 9,
      "metadata": {
        "id": "OQeb8d5j8aHv"
      },
      "outputs": [],
      "source": [
        "import keras\n",
        "import keras.layers as L\n",
        "\n",
        "model = keras.models.Sequential()\n",
        "model.add(L.InputLayer([None],dtype='int32'))\n",
        "model.add(L.Embedding(len(all_words),50))\n",
        "model.add(L.SimpleRNN(64,return_sequences=True))\n",
        "\n",
        "#add top layer that predicts tag probabilities\n",
        "stepwise_dense = L.Dense(len(all_tags),activation='softmax')\n",
        "stepwise_dense = L.TimeDistributed(stepwise_dense)\n",
        "model.add(stepwise_dense)"
      ]
    },
    {
      "cell_type": "markdown",
      "metadata": {
        "id": "lQbJqM2n8aHv"
      },
      "source": [
        "__Training:__ in this case we don't want to prepare the whole training dataset in advance. The main cause is that the length of every batch depends on the maximum sentence length within the batch. This leaves us two options: use custom training code as in previous seminar or use generators.\n",
        "\n",
        "Keras models have a __`model.fit_generator`__ method that accepts a python generator yielding one batch at a time. But first we need to implement such generator:"
      ]
    },
    {
      "cell_type": "code",
      "execution_count": 10,
      "metadata": {
        "collapsed": true,
        "id": "kpeMsDi18aHw",
        "jupyter": {
          "outputs_hidden": true
        }
      },
      "outputs": [],
      "source": [
        "import tensorflow\n",
        "from tensorflow.keras.utils import to_categorical\n",
        "\n",
        "BATCH_SIZE=32\n",
        "def generate_batches(sentences,batch_size=BATCH_SIZE,max_len=None,pad=0):\n",
        "    assert isinstance(sentences,np.ndarray),\"Make sure sentences is q numpy array\"\n",
        "\n",
        "    while True:\n",
        "        indices = np.random.permutation(np.arange(len(sentences)))\n",
        "        for start in range(0,len(indices)-1,batch_size):\n",
        "            batch_indices = indices[start:start+batch_size]\n",
        "            batch_words,batch_tags = [],[]\n",
        "            for sent in sentences[batch_indices]:\n",
        "                words,tags = zip(*sent)\n",
        "                batch_words.append(words)\n",
        "                batch_tags.append(tags)\n",
        "\n",
        "            batch_words = to_matrix(batch_words,word_to_id,max_len,pad)\n",
        "            batch_tags = to_matrix(batch_tags,tag_to_id,max_len,pad)\n",
        "\n",
        "            batch_tags_1hot = to_categorical(batch_tags,len(all_tags)).reshape(batch_tags.shape+(-1,))\n",
        "            yield batch_words,batch_tags_1hot\n"
      ]
    },
    {
      "cell_type": "markdown",
      "metadata": {
        "id": "zYoR9vgn8aHw"
      },
      "source": [
        "__Callbacks:__ Another thing we need is to measure model performance. The tricky part is not to count accuracy after sentence ends (on padding) and making sure we count all the validation data exactly once.\n",
        "\n",
        "While it isn't impossible to persuade Keras to do all of that, we may as well write our own callback that does that.\n",
        "Keras callbacks allow you to write a custom code to be ran once every epoch or every minibatch. We'll define one via LambdaCallback"
      ]
    },
    {
      "cell_type": "code",
      "execution_count": 11,
      "metadata": {
        "collapsed": true,
        "id": "CC8woNtV8aHx",
        "jupyter": {
          "outputs_hidden": true
        }
      },
      "outputs": [],
      "source": [
        "def compute_test_accuracy(model):\n",
        "    test_words,test_tags = zip(*[zip(*sentence) for sentence in test_data])\n",
        "    test_words,test_tags = to_matrix(test_words,word_to_id),to_matrix(test_tags,tag_to_id)\n",
        "\n",
        "    #predict tag probabilities of shape [batch,time,n_tags]\n",
        "    predicted_tag_probabilities = model.predict(test_words,verbose=1)\n",
        "    predicted_tags = predicted_tag_probabilities.argmax(axis=-1)\n",
        "\n",
        "    #compute accurary excluding padding\n",
        "    numerator = np.sum(np.logical_and((predicted_tags == test_tags),(test_words != 0)))\n",
        "    denominator = np.sum(test_words != 0)\n",
        "    return float(numerator)/denominator\n",
        "\n",
        "\n",
        "class EvaluateAccuracy(keras.callbacks.Callback):\n",
        "    def on_epoch_end(self,epoch,logs=None):\n",
        "        sys.stdout.flush()\n",
        "        print(\"\\nMeasuring validation accuracy...\")\n",
        "        acc = compute_test_accuracy(self.model)\n",
        "        print(\"\\nValidation accuracy: %.5f\\n\"%acc)\n",
        "        sys.stdout.flush()"
      ]
    },
    {
      "cell_type": "code",
      "execution_count": 12,
      "metadata": {
        "colab": {
          "base_uri": "https://localhost:8080/"
        },
        "collapsed": true,
        "id": "5eJGEWu58aHx",
        "jupyter": {
          "outputs_hidden": true
        },
        "outputId": "3171ecd4-6c33-40aa-f819-80906b30ac6c"
      },
      "outputs": [
        {
          "output_type": "stream",
          "name": "stdout",
          "text": [
            "Epoch 1/5\n"
          ]
        },
        {
          "output_type": "stream",
          "name": "stderr",
          "text": [
            "<ipython-input-12-e75a6e7fae6a>:3: UserWarning: `Model.fit_generator` is deprecated and will be removed in a future version. Please use `Model.fit`, which supports generators.\n",
            "  model.fit_generator(generate_batches(train_data),len(train_data)/BATCH_SIZE,\n"
          ]
        },
        {
          "output_type": "stream",
          "name": "stdout",
          "text": [
            "1343/1343 [============================>.] - ETA: 0s - loss: 0.2514\n",
            "Measuring validation accuracy...\n",
            "448/448 [==============================] - 7s 14ms/step\n",
            "\n",
            "Validation accuracy: 0.94038\n",
            "\n",
            "1343/1343 [==============================] - 130s 92ms/step - loss: 0.2513\n",
            "Epoch 2/5\n",
            "1344/1343 [==============================] - ETA: 0s - loss: 0.0582\n",
            "Measuring validation accuracy...\n",
            "448/448 [==============================] - 6s 14ms/step\n",
            "\n",
            "Validation accuracy: 0.94451\n",
            "\n",
            "1343/1343 [==============================] - 91s 68ms/step - loss: 0.0582\n",
            "Epoch 3/5\n",
            "1344/1343 [==============================] - ETA: 0s - loss: 0.0513\n",
            "Measuring validation accuracy...\n",
            "448/448 [==============================] - 6s 14ms/step\n",
            "\n",
            "Validation accuracy: 0.94564\n",
            "\n",
            "1343/1343 [==============================] - 84s 62ms/step - loss: 0.0513\n",
            "Epoch 4/5\n",
            "1343/1343 [============================>.] - ETA: 0s - loss: 0.0472\n",
            "Measuring validation accuracy...\n",
            "448/448 [==============================] - 7s 16ms/step\n",
            "\n",
            "Validation accuracy: 0.94690\n",
            "\n",
            "1343/1343 [==============================] - 108s 80ms/step - loss: 0.0472\n",
            "Epoch 5/5\n",
            "1343/1343 [============================>.] - ETA: 0s - loss: 0.0436\n",
            "Measuring validation accuracy...\n",
            "448/448 [==============================] - 6s 14ms/step\n",
            "\n",
            "Validation accuracy: 0.94586\n",
            "\n",
            "1343/1343 [==============================] - 94s 70ms/step - loss: 0.0436\n"
          ]
        },
        {
          "output_type": "execute_result",
          "data": {
            "text/plain": [
              "<keras.src.callbacks.History at 0x7eb0f7f46b90>"
            ]
          },
          "metadata": {},
          "execution_count": 12
        }
      ],
      "source": [
        "model.compile('adam','categorical_crossentropy')\n",
        "\n",
        "model.fit_generator(generate_batches(train_data),len(train_data)/BATCH_SIZE,\n",
        "                    callbacks=[EvaluateAccuracy()], epochs=5,)"
      ]
    },
    {
      "cell_type": "markdown",
      "metadata": {
        "id": "TTN7C34V8aHy"
      },
      "source": [
        "Measure final accuracy on the whole test set."
      ]
    },
    {
      "cell_type": "code",
      "execution_count": 13,
      "metadata": {
        "collapsed": true,
        "id": "tHgxnYB68aHy",
        "jupyter": {
          "outputs_hidden": true
        },
        "colab": {
          "base_uri": "https://localhost:8080/"
        },
        "outputId": "74254e32-d811-4b82-b4e8-b789ee9cf9a1"
      },
      "outputs": [
        {
          "output_type": "stream",
          "name": "stdout",
          "text": [
            "448/448 [==============================] - 6s 14ms/step\n",
            "Final accuracy: 0.94586\n"
          ]
        }
      ],
      "source": [
        "acc = compute_test_accuracy(model)\n",
        "print(\"Final accuracy: %.5f\"%acc)\n",
        "\n",
        "assert acc>0.94, \"Keras has gone on a rampage again, please contact course staff.\""
      ]
    },
    {
      "cell_type": "markdown",
      "metadata": {
        "id": "5L5Prr4I8aHy"
      },
      "source": [
        "### Going bidirectional\n",
        "\n",
        "Since we're analyzing a full sequence, it's legal for us to look into future data.\n",
        "\n",
        "A simple way to achieve that is to go both directions at once, making a __bidirectional RNN__.\n",
        "\n",
        "In Keras you can achieve that both manually (using two LSTMs and Concatenate) and by using __`keras.layers.Bidirectional`__.\n",
        "\n",
        "This one works just as `TimeDistributed` we saw before: you wrap it around a recurrent layer (SimpleRNN now and LSTM/GRU later) and it actually creates two layers under the hood.\n",
        "\n",
        "Your first task is to use such a layer our POS-tagger."
      ]
    },
    {
      "cell_type": "code",
      "source": [
        "# Функция определения модели с изменяемым обертывающим слоем"
      ],
      "metadata": {
        "id": "BNvdJsfIirBT"
      },
      "execution_count": 42,
      "outputs": []
    },
    {
      "cell_type": "code",
      "execution_count": 29,
      "metadata": {
        "collapsed": true,
        "id": "xWfCrbh-8aHy",
        "jupyter": {
          "outputs_hidden": true
        }
      },
      "outputs": [],
      "source": [
        "def models (recurrent_layer):\n",
        "  model = keras.models.Sequential()\n",
        "  model.add(L.InputLayer([None],dtype='int32'))\n",
        "  model.add(L.Embedding(len(all_words),50))\n",
        "\n",
        "  # в исходную модель добавили слой Bidirectional обертывающий слой SimpleRNN\n",
        "  model.add(L.Bidirectional(recurrent_layer(64, return_sequences=True)))\n",
        "\n",
        "  # Add the top layer that predicts tag probabilities\n",
        "  stepwise_dense = L.Dense(len(all_tags),activation='softmax')\n",
        "  stepwise_dense = L.TimeDistributed(stepwise_dense)\n",
        "  model.add(stepwise_dense)\n",
        "  return model\n"
      ]
    },
    {
      "cell_type": "code",
      "source": [
        "# 1. Bidirectional обертывающий слой SimpleRNN"
      ],
      "metadata": {
        "id": "lSm6ZA9KJo4I"
      },
      "execution_count": 43,
      "outputs": []
    },
    {
      "cell_type": "code",
      "source": [
        "model = models(L.SimpleRNN)"
      ],
      "metadata": {
        "id": "GRC57R-XBSTe"
      },
      "execution_count": 30,
      "outputs": []
    },
    {
      "cell_type": "code",
      "execution_count": 31,
      "metadata": {
        "collapsed": true,
        "id": "Ort64W348aHz",
        "jupyter": {
          "outputs_hidden": true
        },
        "colab": {
          "base_uri": "https://localhost:8080/"
        },
        "outputId": "d5e92a2e-c2b3-458e-94c4-768a59fc736e"
      },
      "outputs": [
        {
          "output_type": "stream",
          "name": "stdout",
          "text": [
            "Epoch 1/5\n"
          ]
        },
        {
          "output_type": "stream",
          "name": "stderr",
          "text": [
            "<ipython-input-31-e75a6e7fae6a>:3: UserWarning: `Model.fit_generator` is deprecated and will be removed in a future version. Please use `Model.fit`, which supports generators.\n",
            "  model.fit_generator(generate_batches(train_data),len(train_data)/BATCH_SIZE,\n"
          ]
        },
        {
          "output_type": "stream",
          "name": "stdout",
          "text": [
            "1344/1343 [==============================] - ETA: 0s - loss: 0.1882\n",
            "Measuring validation accuracy...\n",
            "448/448 [==============================] - 12s 27ms/step\n",
            "\n",
            "Validation accuracy: 0.95649\n",
            "\n",
            "1343/1343 [==============================] - 224s 165ms/step - loss: 0.1882\n",
            "Epoch 2/5\n",
            "1344/1343 [==============================] - ETA: 0s - loss: 0.0421\n",
            "Measuring validation accuracy...\n",
            "448/448 [==============================] - 12s 27ms/step\n",
            "\n",
            "Validation accuracy: 0.96104\n",
            "\n",
            "1343/1343 [==============================] - 170s 127ms/step - loss: 0.0421\n",
            "Epoch 3/5\n",
            "1344/1343 [==============================] - ETA: 0s - loss: 0.0350\n",
            "Measuring validation accuracy...\n",
            "448/448 [==============================] - 12s 27ms/step\n",
            "\n",
            "Validation accuracy: 0.96249\n",
            "\n",
            "1343/1343 [==============================] - 162s 121ms/step - loss: 0.0350\n",
            "Epoch 4/5\n",
            "1344/1343 [==============================] - ETA: 0s - loss: 0.0297\n",
            "Measuring validation accuracy...\n",
            "448/448 [==============================] - 12s 27ms/step\n",
            "\n",
            "Validation accuracy: 0.96311\n",
            "\n",
            "1343/1343 [==============================] - 162s 120ms/step - loss: 0.0297\n",
            "Epoch 5/5\n",
            "1344/1343 [==============================] - ETA: 0s - loss: 0.0255\n",
            "Measuring validation accuracy...\n",
            "448/448 [==============================] - 12s 27ms/step\n",
            "\n",
            "Validation accuracy: 0.96232\n",
            "\n",
            "1343/1343 [==============================] - 162s 120ms/step - loss: 0.0255\n"
          ]
        },
        {
          "output_type": "execute_result",
          "data": {
            "text/plain": [
              "<keras.src.callbacks.History at 0x7eb052ee11e0>"
            ]
          },
          "metadata": {},
          "execution_count": 31
        }
      ],
      "source": [
        "model.compile('adam','categorical_crossentropy')\n",
        "\n",
        "model.fit_generator(generate_batches(train_data),len(train_data)/BATCH_SIZE,\n",
        "                    callbacks=[EvaluateAccuracy()], epochs=5,)"
      ]
    },
    {
      "cell_type": "code",
      "execution_count": 33,
      "metadata": {
        "collapsed": true,
        "id": "iWHSkF648aHz",
        "jupyter": {
          "outputs_hidden": true
        },
        "colab": {
          "base_uri": "https://localhost:8080/"
        },
        "outputId": "ccbd1031-bb0b-4a4b-ef9a-467e5246b79e"
      },
      "outputs": [
        {
          "output_type": "stream",
          "name": "stdout",
          "text": [
            "448/448 [==============================] - 12s 27ms/step\n",
            "\n",
            "Final accuracy: 0.96232\n",
            "Well done!\n"
          ]
        }
      ],
      "source": [
        "acc_bslrn = compute_test_accuracy(model)\n",
        "print(\"\\nFinal accuracy: %.5f\"%acc_bslrn)\n",
        "\n",
        "assert acc_bslrn>0.96, \"Bidirectional RNNs are better than this!\"\n",
        "print(\"Well done!\")"
      ]
    },
    {
      "cell_type": "code",
      "execution_count": 20,
      "metadata": {
        "id": "2DyAflw066m9"
      },
      "outputs": [],
      "source": [
        "# 2. Bidirectional обертывающий слой LSTM"
      ]
    },
    {
      "cell_type": "code",
      "source": [
        "model_blstm = models(L.LSTM)\n",
        "\n",
        "model_blstm.compile('adam','categorical_crossentropy')\n",
        "\n",
        "model_blstm.fit_generator(generate_batches(train_data),len(train_data)/BATCH_SIZE,\n",
        "                    callbacks=[EvaluateAccuracy()], epochs=5,)"
      ],
      "metadata": {
        "colab": {
          "base_uri": "https://localhost:8080/"
        },
        "id": "qm0r_3Aq-UOv",
        "outputId": "384f7b62-c629-4ed9-ff4e-f657e301879e"
      },
      "execution_count": 35,
      "outputs": [
        {
          "output_type": "stream",
          "name": "stdout",
          "text": [
            "Epoch 1/5\n"
          ]
        },
        {
          "output_type": "stream",
          "name": "stderr",
          "text": [
            "<ipython-input-35-bbdb32a031f2>:5: UserWarning: `Model.fit_generator` is deprecated and will be removed in a future version. Please use `Model.fit`, which supports generators.\n",
            "  model_blstm.fit_generator(generate_batches(train_data),len(train_data)/BATCH_SIZE,\n"
          ]
        },
        {
          "output_type": "stream",
          "name": "stdout",
          "text": [
            "1344/1343 [==============================] - ETA: 0s - loss: 0.2688\n",
            "Measuring validation accuracy...\n",
            "448/448 [==============================] - 4s 7ms/step\n",
            "\n",
            "Validation accuracy: 0.95517\n",
            "\n",
            "1343/1343 [==============================] - 50s 34ms/step - loss: 0.2688\n",
            "Epoch 2/5\n",
            "1340/1343 [============================>.] - ETA: 0s - loss: 0.0445\n",
            "Measuring validation accuracy...\n",
            "448/448 [==============================] - 2s 5ms/step\n",
            "\n",
            "Validation accuracy: 0.96111\n",
            "\n",
            "1343/1343 [==============================] - 19s 14ms/step - loss: 0.0445\n",
            "Epoch 3/5\n",
            "1343/1343 [============================>.] - ETA: 0s - loss: 0.0367\n",
            "Measuring validation accuracy...\n",
            "448/448 [==============================] - 3s 7ms/step\n",
            "\n",
            "Validation accuracy: 0.96370\n",
            "\n",
            "1343/1343 [==============================] - 19s 14ms/step - loss: 0.0367\n",
            "Epoch 4/5\n",
            "1344/1343 [==============================] - ETA: 0s - loss: 0.0320\n",
            "Measuring validation accuracy...\n",
            "448/448 [==============================] - 3s 6ms/step\n",
            "\n",
            "Validation accuracy: 0.96422\n",
            "\n",
            "1343/1343 [==============================] - 20s 15ms/step - loss: 0.0320\n",
            "Epoch 5/5\n",
            "1342/1343 [============================>.] - ETA: 0s - loss: 0.0283\n",
            "Measuring validation accuracy...\n",
            "448/448 [==============================] - 3s 6ms/step\n",
            "\n",
            "Validation accuracy: 0.96535\n",
            "\n",
            "1343/1343 [==============================] - 19s 14ms/step - loss: 0.0283\n"
          ]
        },
        {
          "output_type": "execute_result",
          "data": {
            "text/plain": [
              "<keras.src.callbacks.History at 0x7eb044b10cd0>"
            ]
          },
          "metadata": {},
          "execution_count": 35
        }
      ]
    },
    {
      "cell_type": "code",
      "source": [
        "acc_blstm = compute_test_accuracy(model_blstm)\n",
        "print(\"\\nFinal accuracy: %.5f\"%acc_blstm)\n",
        "\n",
        "assert acc_blstm>0.96, \"Bidirectional RNNs are better than this!\"\n",
        "print(\"Well done!\")"
      ],
      "metadata": {
        "colab": {
          "base_uri": "https://localhost:8080/"
        },
        "id": "5etk8XYK-Ue7",
        "outputId": "d40d9c9c-e9aa-4c77-83b4-78eb36551c46"
      },
      "execution_count": 36,
      "outputs": [
        {
          "output_type": "stream",
          "name": "stdout",
          "text": [
            "448/448 [==============================] - 3s 6ms/step\n",
            "\n",
            "Final accuracy: 0.96535\n",
            "Well done!\n"
          ]
        }
      ]
    },
    {
      "cell_type": "code",
      "source": [
        "# 3. Bidirectional обертывающий слой GRU"
      ],
      "metadata": {
        "id": "X69vw397IfWA"
      },
      "execution_count": 37,
      "outputs": []
    },
    {
      "cell_type": "code",
      "source": [
        "model_gru = models(L.GRU)\n",
        "\n",
        "model_gru.compile('adam','categorical_crossentropy')\n",
        "\n",
        "model_gru.fit_generator(generate_batches(train_data),len(train_data)/BATCH_SIZE,\n",
        "                    callbacks=[EvaluateAccuracy()], epochs=5,)"
      ],
      "metadata": {
        "colab": {
          "base_uri": "https://localhost:8080/"
        },
        "id": "NidYQcS7Ijl1",
        "outputId": "8a7007ee-624e-4b64-c2df-8e112df7f011"
      },
      "execution_count": 38,
      "outputs": [
        {
          "output_type": "stream",
          "name": "stdout",
          "text": [
            "Epoch 1/5\n"
          ]
        },
        {
          "output_type": "stream",
          "name": "stderr",
          "text": [
            "<ipython-input-38-ec75fc261529>:5: UserWarning: `Model.fit_generator` is deprecated and will be removed in a future version. Please use `Model.fit`, which supports generators.\n",
            "  model_gru.fit_generator(generate_batches(train_data),len(train_data)/BATCH_SIZE,\n"
          ]
        },
        {
          "output_type": "stream",
          "name": "stdout",
          "text": [
            "1341/1343 [============================>.] - ETA: 0s - loss: 0.1911\n",
            "Measuring validation accuracy...\n",
            "448/448 [==============================] - 3s 5ms/step\n",
            "\n",
            "Validation accuracy: 0.95637\n",
            "\n",
            "1343/1343 [==============================] - 61s 42ms/step - loss: 0.1908\n",
            "Epoch 2/5\n",
            "1340/1343 [============================>.] - ETA: 0s - loss: 0.0423\n",
            "Measuring validation accuracy...\n",
            "448/448 [==============================] - 3s 6ms/step\n",
            "\n",
            "Validation accuracy: 0.96266\n",
            "\n",
            "1343/1343 [==============================] - 20s 15ms/step - loss: 0.0423\n",
            "Epoch 3/5\n",
            "1341/1343 [============================>.] - ETA: 0s - loss: 0.0353\n",
            "Measuring validation accuracy...\n",
            "448/448 [==============================] - 2s 5ms/step\n",
            "\n",
            "Validation accuracy: 0.96458\n",
            "\n",
            "1343/1343 [==============================] - 16s 12ms/step - loss: 0.0353\n",
            "Epoch 4/5\n",
            "1338/1343 [============================>.] - ETA: 0s - loss: 0.0310\n",
            "Measuring validation accuracy...\n",
            "448/448 [==============================] - 2s 5ms/step\n",
            "\n",
            "Validation accuracy: 0.96575\n",
            "\n",
            "1343/1343 [==============================] - 17s 13ms/step - loss: 0.0310\n",
            "Epoch 5/5\n",
            "1344/1343 [==============================] - ETA: 0s - loss: 0.0278\n",
            "Measuring validation accuracy...\n",
            "448/448 [==============================] - 3s 7ms/step\n",
            "\n",
            "Validation accuracy: 0.96590\n",
            "\n",
            "1343/1343 [==============================] - 18s 13ms/step - loss: 0.0278\n"
          ]
        },
        {
          "output_type": "execute_result",
          "data": {
            "text/plain": [
              "<keras.src.callbacks.History at 0x7eb04e3bf6d0>"
            ]
          },
          "metadata": {},
          "execution_count": 38
        }
      ]
    },
    {
      "cell_type": "code",
      "source": [
        "acc_gru = compute_test_accuracy(model_gru)\n",
        "print(\"\\nFinal accuracy: %.5f\"%acc_gru)\n",
        "\n",
        "assert acc_gru>0.96, \"Bidirectional RNNs are better than this!\"\n",
        "print(\"Well done!\")"
      ],
      "metadata": {
        "colab": {
          "base_uri": "https://localhost:8080/"
        },
        "id": "1YqA30FTIuBu",
        "outputId": "57371f94-0cf5-43f7-8c7f-229200a34ca2"
      },
      "execution_count": 39,
      "outputs": [
        {
          "output_type": "stream",
          "name": "stdout",
          "text": [
            "448/448 [==============================] - 2s 5ms/step\n",
            "\n",
            "Final accuracy: 0.96590\n",
            "Well done!\n"
          ]
        }
      ]
    },
    {
      "cell_type": "code",
      "source": [
        "# Сравнение Final accuracy"
      ],
      "metadata": {
        "id": "iQYerqqCI0__"
      },
      "execution_count": 40,
      "outputs": []
    },
    {
      "cell_type": "code",
      "source": [
        "from prettytable import PrettyTable"
      ],
      "metadata": {
        "id": "bdu2A4DiI9En"
      },
      "execution_count": 41,
      "outputs": []
    },
    {
      "cell_type": "code",
      "source": [
        "table = PrettyTable()\n",
        "table.field_names = [\"Слой Bidirectional обертывающий слой:\", \"Final accuracy\"]\n",
        "table.add_row([\"SimpleRNN\", \"\\nFinal accuracy: %.5f\"%acc_bslrn])\n",
        "table.add_row([\"LSTM\", \"\\nFinal accuracy: %.5f\"%acc_blstm])\n",
        "table.add_row([\"GRU\", \"\\nFinal accuracy: %.5f\"%acc_gru])\n",
        "table.valign = \"m\"\n",
        "print(table.get_string())"
      ],
      "metadata": {
        "colab": {
          "base_uri": "https://localhost:8080/"
        },
        "id": "SCJbn1KUJKUU",
        "outputId": "1a7dfd41-b3b6-490c-9f90-518507a4ab11"
      },
      "execution_count": 49,
      "outputs": [
        {
          "output_type": "stream",
          "name": "stdout",
          "text": [
            "+---------------------------------------+-------------------------+\n",
            "| Слой Bidirectional обертывающий слой: |      Final accuracy     |\n",
            "+---------------------------------------+-------------------------+\n",
            "|               SimpleRNN               |                         |\n",
            "|                                       | Final accuracy: 0.96232 |\n",
            "|                  LSTM                 |                         |\n",
            "|                                       | Final accuracy: 0.96535 |\n",
            "|                  GRU                  |                         |\n",
            "|                                       | Final accuracy: 0.96590 |\n",
            "+---------------------------------------+-------------------------+\n"
          ]
        }
      ]
    },
    {
      "cell_type": "markdown",
      "metadata": {
        "id": "y2kLQyJz7FRw"
      },
      "source": [
        "Create **at least one experiment** from the list bellow, you can choose the most interesting and promising options to improve the performance of Bidirectional LSTM:\n",
        "\n",
        "* __Go beyond SimpleRNN__: there's `keras.layers.LSTM` and `keras.layers.GRU`\n",
        "  * If you want to use a custom recurrent Cell, read [this](https://keras.io/layers/recurrent/#rnn)\n",
        "  * You can also use 1D Convolutions (`keras.layers.Conv1D`). They are often as good as recurrent layers but with less overfitting.\n",
        "* __Stack more layers__: if there is a common motif to this course it's about stacking layers\n",
        "  * You can just add recurrent and 1dconv layers on top of one another and keras will understand it\n",
        "  * Just remember that bigger networks may need more epochs to train\n",
        "* __Regularization__: you can apply dropouts as usual but also in an RNN-specific way\n",
        "  * `keras.layers.Dropout` works inbetween RNN layers\n",
        "  * Recurrent layers also have `recurrent_dropout` parameter\n",
        "* __Gradient clipping__: If your training isn't as stable as you'd like, set `clipnorm` in your optimizer.\n",
        "  * Which is to say, it's a good idea to watch over your loss curve at each minibatch. Try tensorboard callback or something similar."
      ]
    },
    {
      "cell_type": "code",
      "source": [
        "# Так как в прошлых эксперементах, GRU показал лучший результат буду использовать его для улучшений, а так же поэкспериметирую с сочитанием GRU и SLTM"
      ],
      "metadata": {
        "id": "oyEFYOHoLMfc"
      },
      "execution_count": 87,
      "outputs": []
    },
    {
      "cell_type": "code",
      "execution_count": 84,
      "metadata": {
        "id": "TF1T00yr8RvM"
      },
      "outputs": [],
      "source": [
        "model_final = keras.models.Sequential()\n",
        "model_final.add(L.InputLayer([None],dtype='int32'))\n",
        "model_final.add(L.Embedding(len(all_words),50))\n",
        "\n",
        "# model_final.add(L.Bidirectional(L.GRU(64, dropout=0.2, return_sequences=True)))\n",
        "model_final.add(L.Bidirectional(L.LSTM(64, dropout=0.2, return_sequences=True)))\n",
        "\n",
        "# model_final.add(L.Dropout(0.5))\n",
        "# добавим еще один слой Bidirectional GRU\n",
        "model_final.add(L.Bidirectional(L.GRU(64, dropout=0.2, return_sequences=True)))\n",
        "\n",
        "# Add the top layer that predicts tag probabilities\n",
        "stepwise_dense = L.Dense(len(all_tags),activation='softmax')\n",
        "stepwise_dense = L.TimeDistributed(stepwise_dense)\n",
        "model_final.add(stepwise_dense)"
      ]
    },
    {
      "cell_type": "code",
      "execution_count": 85,
      "metadata": {
        "id": "V2T0SMV37eSP",
        "colab": {
          "base_uri": "https://localhost:8080/"
        },
        "outputId": "247b621b-8d3a-4f0c-aeb9-2794a6342b05"
      },
      "outputs": [
        {
          "output_type": "stream",
          "name": "stdout",
          "text": [
            "Epoch 1/10\n"
          ]
        },
        {
          "output_type": "stream",
          "name": "stderr",
          "text": [
            "<ipython-input-85-a8ec3bed2e85>:3: UserWarning: `Model.fit_generator` is deprecated and will be removed in a future version. Please use `Model.fit`, which supports generators.\n",
            "  model_final.fit_generator(generate_batches(train_data),len(train_data)/BATCH_SIZE,\n"
          ]
        },
        {
          "output_type": "stream",
          "name": "stdout",
          "text": [
            "1344/1343 [==============================] - ETA: 0s - loss: 0.2228\n",
            "Measuring validation accuracy...\n",
            "448/448 [==============================] - 6s 11ms/step\n",
            "\n",
            "Validation accuracy: 0.95547\n",
            "\n",
            "1343/1343 [==============================] - 61s 40ms/step - loss: 0.2228\n",
            "Epoch 2/10\n",
            "1343/1343 [============================>.] - ETA: 0s - loss: 0.0499\n",
            "Measuring validation accuracy...\n",
            "448/448 [==============================] - 4s 9ms/step\n",
            "\n",
            "Validation accuracy: 0.96004\n",
            "\n",
            "1343/1343 [==============================] - 28s 21ms/step - loss: 0.0499\n",
            "Epoch 3/10\n",
            "1342/1343 [============================>.] - ETA: 0s - loss: 0.0418\n",
            "Measuring validation accuracy...\n",
            "448/448 [==============================] - 4s 9ms/step\n",
            "\n",
            "Validation accuracy: 0.96311\n",
            "\n",
            "1343/1343 [==============================] - 26s 19ms/step - loss: 0.0417\n",
            "Epoch 4/10\n",
            "1342/1343 [============================>.] - ETA: 0s - loss: 0.0372\n",
            "Measuring validation accuracy...\n",
            "448/448 [==============================] - 4s 9ms/step\n",
            "\n",
            "Validation accuracy: 0.96442\n",
            "\n",
            "1343/1343 [==============================] - 26s 19ms/step - loss: 0.0372\n",
            "Epoch 5/10\n",
            "1342/1343 [============================>.] - ETA: 0s - loss: 0.0337\n",
            "Measuring validation accuracy...\n",
            "448/448 [==============================] - 4s 10ms/step\n",
            "\n",
            "Validation accuracy: 0.96563\n",
            "\n",
            "1343/1343 [==============================] - 26s 19ms/step - loss: 0.0337\n",
            "Epoch 6/10\n",
            "1344/1343 [==============================] - ETA: 0s - loss: 0.0312\n",
            "Measuring validation accuracy...\n",
            "448/448 [==============================] - 5s 10ms/step\n",
            "\n",
            "Validation accuracy: 0.96647\n",
            "\n",
            "1343/1343 [==============================] - 26s 19ms/step - loss: 0.0312\n",
            "Epoch 7/10\n",
            "1342/1343 [============================>.] - ETA: 0s - loss: 0.0289\n",
            "Measuring validation accuracy...\n",
            "448/448 [==============================] - 5s 11ms/step\n",
            "\n",
            "Validation accuracy: 0.96707\n",
            "\n",
            "1343/1343 [==============================] - 25s 18ms/step - loss: 0.0289\n",
            "Epoch 8/10\n",
            "1341/1343 [============================>.] - ETA: 0s - loss: 0.0267\n",
            "Measuring validation accuracy...\n",
            "448/448 [==============================] - 5s 11ms/step\n",
            "\n",
            "Validation accuracy: 0.96761\n",
            "\n",
            "1343/1343 [==============================] - 26s 19ms/step - loss: 0.0267\n",
            "Epoch 9/10\n",
            "1343/1343 [============================>.] - ETA: 0s - loss: 0.0250\n",
            "Measuring validation accuracy...\n",
            "448/448 [==============================] - 5s 11ms/step\n",
            "\n",
            "Validation accuracy: 0.96788\n",
            "\n",
            "1343/1343 [==============================] - 25s 19ms/step - loss: 0.0250\n",
            "Epoch 10/10\n",
            "1344/1343 [==============================] - ETA: 0s - loss: 0.0235\n",
            "Measuring validation accuracy...\n",
            "448/448 [==============================] - 5s 11ms/step\n",
            "\n",
            "Validation accuracy: 0.96678\n",
            "\n",
            "1343/1343 [==============================] - 25s 19ms/step - loss: 0.0235\n"
          ]
        },
        {
          "output_type": "execute_result",
          "data": {
            "text/plain": [
              "<keras.src.callbacks.History at 0x7eb06d6f4340>"
            ]
          },
          "metadata": {},
          "execution_count": 85
        }
      ],
      "source": [
        "model_final.compile('adam','categorical_crossentropy')\n",
        "\n",
        "model_final.fit_generator(generate_batches(train_data),len(train_data)/BATCH_SIZE,\n",
        "                    callbacks=[EvaluateAccuracy()], epochs=10,)"
      ]
    },
    {
      "cell_type": "code",
      "source": [
        "acc_final = compute_test_accuracy(model_final)\n",
        "print(\"\\nFinal accuracy: %.5f\"%acc_final)\n",
        "\n",
        "assert acc_final>0.96, \"Bidirectional RNNs are better than this!\"\n",
        "print(\"Well done!\")"
      ],
      "metadata": {
        "colab": {
          "base_uri": "https://localhost:8080/"
        },
        "id": "JliZvDgPL05b",
        "outputId": "111884fd-bc34-40b5-d75c-a4f2d47a2613"
      },
      "execution_count": 86,
      "outputs": [
        {
          "output_type": "stream",
          "name": "stdout",
          "text": [
            "448/448 [==============================] - 4s 10ms/step\n",
            "\n",
            "Final accuracy: 0.96678\n",
            "Well done!\n"
          ]
        }
      ]
    },
    {
      "cell_type": "code",
      "source": [
        "# После проведенных экспериментов получилась следующая картина, при использовании двух рек.слоев GRU макс. accuracy = 0.96644\n",
        "# При двух рек.слоях выросло на 0,3% это не много но прогресс есть :)"
      ],
      "metadata": {
        "id": "kD32lIggTGT2"
      },
      "execution_count": 90,
      "outputs": []
    },
    {
      "cell_type": "code",
      "source": [],
      "metadata": {
        "id": "1ryuSHSEYCq9"
      },
      "execution_count": null,
      "outputs": []
    }
  ],
  "metadata": {
    "accelerator": "GPU",
    "colab": {
      "provenance": []
    },
    "kernelspec": {
      "display_name": "Python 3 (ipykernel)",
      "language": "python",
      "name": "python3"
    },
    "language_info": {
      "codemirror_mode": {
        "name": "ipython",
        "version": 3
      },
      "file_extension": ".py",
      "mimetype": "text/x-python",
      "name": "python",
      "nbconvert_exporter": "python",
      "pygments_lexer": "ipython3",
      "version": "3.11.4"
    }
  },
  "nbformat": 4,
  "nbformat_minor": 0
}
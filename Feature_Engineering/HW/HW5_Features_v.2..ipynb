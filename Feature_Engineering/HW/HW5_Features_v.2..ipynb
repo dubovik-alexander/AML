{
 "cells": [
  {
   "cell_type": "markdown",
   "id": "c59a745f-a97b-43cf-9b1d-fae6cbf487cd",
   "metadata": {},
   "source": [
    "## Домашнее задание по теме «Работа с переменными»\n",
    "\n",
    "### Задание\n",
    "\n",
    "<b>Цель:</b><br> изучить применение методов разведочного анализа данных (EDA) для улучшения качества работы моделей машинного обучения.<p>\n",
    "<b>Описание задания:</b><br>\n",
    "В домашнем задании нужно улучшить метрики RMSE, R2 модели линейной регрессии путем работы с данными, а именно <br>\n",
    "проведения разведочного анализа данных. В качестве датасета необходимо загрузить данные о недвижимости Калифорнии <br>\n",
    "из библиотеки <a href=\"https://scikit-learn.org/stable/modules/generated/sklearn.datasets.fetch_california_housing.html\" target=\"_blank\">sklearn.datasets.</a>.Целевая переменная – MedHouseVal. Прочитать информацию о признаках датасета можно, <br>\n",
    "выполнив следующий код – print(fetch_california_housing().DESCR). \n",
    "\n",
    "<b>Этапы работы:</b>\n",
    "1. Получите данные и загрузите их в рабочую среду. (Jupyter Notebook или другую).\n",
    "2. Проверьте данные на наличие пропусков. Удалите их в случае обнаружения.\n",
    "3. Разделите выборку на обучающее и тестовое подмножества. 80% данных оставить на обучающее множество, 20% - на тестовое.\n",
    "4. Постройте модель линейной регрессии. Вычислите метрики RMSE, R2 на обучающем и тестовом множестве.\n",
    "5. Постройте график распределения целевой переменной. Сделайте вывод. Присутствуют ли в этом признаке выбросы?\n",
    "6. Посчитайте и выведите корреляционную матрицу. Убедитесь, что ячейки матрицы поделены на цветные категории, в ячейках указано числовое значение корреляции.<br>\n",
    "a. Сделайте выводы. <br>\n",
    "b. Удалите признаки на основании полученных значений, выводов. <br>\n",
    "c. Повторите п. 3, п. 4 на измененных данных.<br>\n",
    "7. Исследуйте оставленные признаки на выбросы.<br>\n",
    "a. Удалите выбросы в случае обнаружения.<br>\n",
    "b. Повторите п. 3, п. 4 на измененных данных.<br>\n",
    "8. Измените несколько признаков на выбор математически. Например, вычислите логарифм, возведите в квадрат, извлеките квадратный корень.<br>\n",
    "a. Повторите п. 3, п. 4 на измененных данных.<br>\n",
    "9. Сформулируйте выводы по проделанной работе.<br>\n",
    "a. Кратко опишите какие преобразования были сделаны с данными.<br>\n",
    "b. Сравните метрики всех моделей. Желательно оформление в виде таблицы вида |модель|RMSE|R2|признаки, на которых проводилось обучение с указанием их преобразований|.<br>\n",
    "c. Напишите свое мнение, в полной ли мере модели справились с поставленной задачей.<br><p>\n",
    "\n",
    "Для получения зачета по этому домашнему заданию, минимально, должно быть реализовано обучение трех моделей классификации: на основе всех неизмененных признаков; на основе признаков, отобранных по значениям корреляций; на основе признаков, отобранных по значениям корреляций и с удалением выбросов в них. Должны быть выведены метрики RMSE, R2 моделей. Желательно добиться улучшения метрик.\n",
    "\n",
    "\n",
    "\n",
    "<b>Результат:</b>\n",
    "Получены знания по проведению разведочного анализа данных.\n",
    "<p>\n",
    "\n",
    "<b>Форма выполнения:</b>\n",
    "- Ссылка на Jupyter Notebook, загруженный на GitHub\n",
    "- Ссылка на Google Colab\n",
    "- Файл с расширением .ipynb<p>\n",
    "\n",
    "   \n",
    "<b>Инструменты:</b>\n",
    "- Библиотека <a href=\"https://scikit-learn.org/stable/modules/generated/sklearn.datasets.fetch_california_housing.html\" target=\"_blank\">sklearn.datasets</a>\n",
    "- Jupyter Notebook/Google Colab\n",
    "GitHub.<p>\n",
    "\n",
    "<b>Срок выполнения:</b> дедлайн приема решений на проверку\n",
    "    \n",
    "<b><i>Рекомендации к выполнению: </b></i><br>\n",
    "- Текст оформляйте в отдельной ячейке Jupyter Notebook/Google Colab в формате markdown.\n",
    "- У графиков должен быть заголовок, подписи осей, легенда (опционально). Делайте графики бОльшего размера, чем стандартный вывод, чтобы увеличить читабельность.\n",
    "- Убедитесь, что по ссылкам есть доступ на чтение/просмотр.\n",
    "- Убедитесь, что все ячейки в работе выполнены и можно увидеть их вывод без повторного запуска."
   ]
  },
  {
   "cell_type": "markdown",
   "id": "2398ab8e-dffa-4928-bea4-65c5685a9464",
   "metadata": {},
   "source": [
    "___"
   ]
  },
  {
   "cell_type": "markdown",
   "id": "6ec5a9da-889a-4c8f-acbc-a450e87551d3",
   "metadata": {},
   "source": [
    "### Решение"
   ]
  },
  {
   "cell_type": "code",
   "execution_count": 1,
   "id": "f3d35dbe-1985-4c7d-9fcb-dcba4095f07d",
   "metadata": {},
   "outputs": [],
   "source": [
    "import numpy as np\n",
    "import pandas as pd\n",
    "import seaborn as sns\n",
    " \n",
    "from matplotlib import pyplot as plt\n",
    " \n",
    "from sklearn.linear_model import LinearRegression\n",
    "from sklearn.model_selection import train_test_split\n",
    "from sklearn.metrics import mean_squared_error, r2_score\n",
    "\n"
   ]
  },
  {
   "cell_type": "markdown",
   "id": "54c79b9a-ba1a-4546-afbf-f70cab0a151c",
   "metadata": {},
   "source": [
    "> Загружаем данные о недвижимости Калифорнии из библиотеки sklearn.datasets."
   ]
  },
  {
   "cell_type": "code",
   "execution_count": 2,
   "id": "b994771a-f6ab-486a-8f4f-2ea3c72a49be",
   "metadata": {},
   "outputs": [
    {
     "name": "stdout",
     "output_type": "stream",
     "text": [
      ".. _california_housing_dataset:\n",
      "\n",
      "California Housing dataset\n",
      "--------------------------\n",
      "\n",
      "**Data Set Characteristics:**\n",
      "\n",
      "    :Number of Instances: 20640\n",
      "\n",
      "    :Number of Attributes: 8 numeric, predictive attributes and the target\n",
      "\n",
      "    :Attribute Information:\n",
      "        - MedInc        median income in block group\n",
      "        - HouseAge      median house age in block group\n",
      "        - AveRooms      average number of rooms per household\n",
      "        - AveBedrms     average number of bedrooms per household\n",
      "        - Population    block group population\n",
      "        - AveOccup      average number of household members\n",
      "        - Latitude      block group latitude\n",
      "        - Longitude     block group longitude\n",
      "\n",
      "    :Missing Attribute Values: None\n",
      "\n",
      "This dataset was obtained from the StatLib repository.\n",
      "https://www.dcc.fc.up.pt/~ltorgo/Regression/cal_housing.html\n",
      "\n",
      "The target variable is the median house value for California districts,\n",
      "expressed in hundreds of thousands of dollars ($100,000).\n",
      "\n",
      "This dataset was derived from the 1990 U.S. census, using one row per census\n",
      "block group. A block group is the smallest geographical unit for which the U.S.\n",
      "Census Bureau publishes sample data (a block group typically has a population\n",
      "of 600 to 3,000 people).\n",
      "\n",
      "An household is a group of people residing within a home. Since the average\n",
      "number of rooms and bedrooms in this dataset are provided per household, these\n",
      "columns may take surpinsingly large values for block groups with few households\n",
      "and many empty houses, such as vacation resorts.\n",
      "\n",
      "It can be downloaded/loaded using the\n",
      ":func:`sklearn.datasets.fetch_california_housing` function.\n",
      "\n",
      ".. topic:: References\n",
      "\n",
      "    - Pace, R. Kelley and Ronald Barry, Sparse Spatial Autoregressions,\n",
      "      Statistics and Probability Letters, 33 (1997) 291-297\n",
      "\n"
     ]
    }
   ],
   "source": [
    "from sklearn.datasets import fetch_california_housing\n",
    "print(fetch_california_housing().DESCR)\n",
    "data = fetch_california_housing(as_frame=True).frame"
   ]
  },
  {
   "cell_type": "markdown",
   "id": "2a84f57e-a3be-4369-8070-18305f629ebd",
   "metadata": {},
   "source": [
    "> Проверяем данные на наличие пропусков. И в общем оцениваем и смотрим информацию по полученным данным"
   ]
  },
  {
   "cell_type": "code",
   "execution_count": 3,
   "id": "26e5dd6c-3de3-46e9-aef4-bb36b7241a50",
   "metadata": {},
   "outputs": [
    {
     "name": "stdout",
     "output_type": "stream",
     "text": [
      "(20640, 9)\n",
      "<class 'pandas.core.frame.DataFrame'>\n",
      "RangeIndex: 20640 entries, 0 to 20639\n",
      "Data columns (total 9 columns):\n",
      " #   Column       Non-Null Count  Dtype  \n",
      "---  ------       --------------  -----  \n",
      " 0   MedInc       20640 non-null  float64\n",
      " 1   HouseAge     20640 non-null  float64\n",
      " 2   AveRooms     20640 non-null  float64\n",
      " 3   AveBedrms    20640 non-null  float64\n",
      " 4   Population   20640 non-null  float64\n",
      " 5   AveOccup     20640 non-null  float64\n",
      " 6   Latitude     20640 non-null  float64\n",
      " 7   Longitude    20640 non-null  float64\n",
      " 8   MedHouseVal  20640 non-null  float64\n",
      "dtypes: float64(9)\n",
      "memory usage: 1.4 MB\n"
     ]
    }
   ],
   "source": [
    "print(data.shape)\n",
    "data.info()"
   ]
  },
  {
   "cell_type": "code",
   "execution_count": 4,
   "id": "0efb1491-ec88-406c-9bbe-7820cecb75d7",
   "metadata": {},
   "outputs": [
    {
     "data": {
      "text/html": [
       "<div>\n",
       "<style scoped>\n",
       "    .dataframe tbody tr th:only-of-type {\n",
       "        vertical-align: middle;\n",
       "    }\n",
       "\n",
       "    .dataframe tbody tr th {\n",
       "        vertical-align: top;\n",
       "    }\n",
       "\n",
       "    .dataframe thead th {\n",
       "        text-align: right;\n",
       "    }\n",
       "</style>\n",
       "<table border=\"1\" class=\"dataframe\">\n",
       "  <thead>\n",
       "    <tr style=\"text-align: right;\">\n",
       "      <th></th>\n",
       "      <th>MedInc</th>\n",
       "      <th>HouseAge</th>\n",
       "      <th>AveRooms</th>\n",
       "      <th>AveBedrms</th>\n",
       "      <th>Population</th>\n",
       "      <th>AveOccup</th>\n",
       "      <th>Latitude</th>\n",
       "      <th>Longitude</th>\n",
       "      <th>MedHouseVal</th>\n",
       "    </tr>\n",
       "  </thead>\n",
       "  <tbody>\n",
       "    <tr>\n",
       "      <th>count</th>\n",
       "      <td>20640.000000</td>\n",
       "      <td>20640.000000</td>\n",
       "      <td>20640.000000</td>\n",
       "      <td>20640.000000</td>\n",
       "      <td>20640.000000</td>\n",
       "      <td>20640.000000</td>\n",
       "      <td>20640.000000</td>\n",
       "      <td>20640.000000</td>\n",
       "      <td>20640.000000</td>\n",
       "    </tr>\n",
       "    <tr>\n",
       "      <th>mean</th>\n",
       "      <td>3.870671</td>\n",
       "      <td>28.639486</td>\n",
       "      <td>5.429000</td>\n",
       "      <td>1.096675</td>\n",
       "      <td>1425.476744</td>\n",
       "      <td>3.070655</td>\n",
       "      <td>35.631861</td>\n",
       "      <td>-119.569704</td>\n",
       "      <td>2.068558</td>\n",
       "    </tr>\n",
       "    <tr>\n",
       "      <th>std</th>\n",
       "      <td>1.899822</td>\n",
       "      <td>12.585558</td>\n",
       "      <td>2.474173</td>\n",
       "      <td>0.473911</td>\n",
       "      <td>1132.462122</td>\n",
       "      <td>10.386050</td>\n",
       "      <td>2.135952</td>\n",
       "      <td>2.003532</td>\n",
       "      <td>1.153956</td>\n",
       "    </tr>\n",
       "    <tr>\n",
       "      <th>min</th>\n",
       "      <td>0.499900</td>\n",
       "      <td>1.000000</td>\n",
       "      <td>0.846154</td>\n",
       "      <td>0.333333</td>\n",
       "      <td>3.000000</td>\n",
       "      <td>0.692308</td>\n",
       "      <td>32.540000</td>\n",
       "      <td>-124.350000</td>\n",
       "      <td>0.149990</td>\n",
       "    </tr>\n",
       "    <tr>\n",
       "      <th>25%</th>\n",
       "      <td>2.563400</td>\n",
       "      <td>18.000000</td>\n",
       "      <td>4.440716</td>\n",
       "      <td>1.006079</td>\n",
       "      <td>787.000000</td>\n",
       "      <td>2.429741</td>\n",
       "      <td>33.930000</td>\n",
       "      <td>-121.800000</td>\n",
       "      <td>1.196000</td>\n",
       "    </tr>\n",
       "    <tr>\n",
       "      <th>50%</th>\n",
       "      <td>3.534800</td>\n",
       "      <td>29.000000</td>\n",
       "      <td>5.229129</td>\n",
       "      <td>1.048780</td>\n",
       "      <td>1166.000000</td>\n",
       "      <td>2.818116</td>\n",
       "      <td>34.260000</td>\n",
       "      <td>-118.490000</td>\n",
       "      <td>1.797000</td>\n",
       "    </tr>\n",
       "    <tr>\n",
       "      <th>75%</th>\n",
       "      <td>4.743250</td>\n",
       "      <td>37.000000</td>\n",
       "      <td>6.052381</td>\n",
       "      <td>1.099526</td>\n",
       "      <td>1725.000000</td>\n",
       "      <td>3.282261</td>\n",
       "      <td>37.710000</td>\n",
       "      <td>-118.010000</td>\n",
       "      <td>2.647250</td>\n",
       "    </tr>\n",
       "    <tr>\n",
       "      <th>max</th>\n",
       "      <td>15.000100</td>\n",
       "      <td>52.000000</td>\n",
       "      <td>141.909091</td>\n",
       "      <td>34.066667</td>\n",
       "      <td>35682.000000</td>\n",
       "      <td>1243.333333</td>\n",
       "      <td>41.950000</td>\n",
       "      <td>-114.310000</td>\n",
       "      <td>5.000010</td>\n",
       "    </tr>\n",
       "  </tbody>\n",
       "</table>\n",
       "</div>"
      ],
      "text/plain": [
       "             MedInc      HouseAge      AveRooms     AveBedrms    Population  \\\n",
       "count  20640.000000  20640.000000  20640.000000  20640.000000  20640.000000   \n",
       "mean       3.870671     28.639486      5.429000      1.096675   1425.476744   \n",
       "std        1.899822     12.585558      2.474173      0.473911   1132.462122   \n",
       "min        0.499900      1.000000      0.846154      0.333333      3.000000   \n",
       "25%        2.563400     18.000000      4.440716      1.006079    787.000000   \n",
       "50%        3.534800     29.000000      5.229129      1.048780   1166.000000   \n",
       "75%        4.743250     37.000000      6.052381      1.099526   1725.000000   \n",
       "max       15.000100     52.000000    141.909091     34.066667  35682.000000   \n",
       "\n",
       "           AveOccup      Latitude     Longitude   MedHouseVal  \n",
       "count  20640.000000  20640.000000  20640.000000  20640.000000  \n",
       "mean       3.070655     35.631861   -119.569704      2.068558  \n",
       "std       10.386050      2.135952      2.003532      1.153956  \n",
       "min        0.692308     32.540000   -124.350000      0.149990  \n",
       "25%        2.429741     33.930000   -121.800000      1.196000  \n",
       "50%        2.818116     34.260000   -118.490000      1.797000  \n",
       "75%        3.282261     37.710000   -118.010000      2.647250  \n",
       "max     1243.333333     41.950000   -114.310000      5.000010  "
      ]
     },
     "execution_count": 4,
     "metadata": {},
     "output_type": "execute_result"
    }
   ],
   "source": [
    "data.describe()"
   ]
  },
  {
   "cell_type": "code",
   "execution_count": 5,
   "id": "fe7497e4-f04a-481a-bdc1-86e7517553f7",
   "metadata": {},
   "outputs": [
    {
     "data": {
      "text/plain": [
       "MedInc         0\n",
       "HouseAge       0\n",
       "AveRooms       0\n",
       "AveBedrms      0\n",
       "Population     0\n",
       "AveOccup       0\n",
       "Latitude       0\n",
       "Longitude      0\n",
       "MedHouseVal    0\n",
       "dtype: int64"
      ]
     },
     "execution_count": 5,
     "metadata": {},
     "output_type": "execute_result"
    }
   ],
   "source": [
    "data.isna().sum()"
   ]
  },
  {
   "cell_type": "markdown",
   "id": "63f8da22-2d96-42fd-9d52-df68fb4d80a6",
   "metadata": {},
   "source": [
    "> Из полученных даннных видим, что пропусков нет, следвательно ничего удалять не надо (согласно заданию)"
   ]
  },
  {
   "cell_type": "markdown",
   "id": "ba73690f-91c8-422f-84ad-f4491697ad15",
   "metadata": {},
   "source": [
    "> <b><i>Описание метрик:</b></i> <br>\n",
    "RMSE (Root Mean Squared Error) и R2 (Coefficient of Determination) являются метриками, которые используются для количественной оценки того, насколько хорошо модель соответствует набору данных. RMSE сообщает нам, насколько в среднем прогнозируемые значения отличаются от наблюдаемых значений в наборе данных. Чем ниже RMSE, тем лучше модель соответствует набору данных.\n",
    "\n",
    "> Для расчета RMSE и R2 используем библиотеку scikit-learn."
   ]
  },
  {
   "cell_type": "code",
   "execution_count": 6,
   "id": "b5018cb3-10d0-4ffe-82d4-3add5f0de79c",
   "metadata": {},
   "outputs": [],
   "source": [
    "from sklearn.metrics import mean_squared_error, r2_score"
   ]
  },
  {
   "cell_type": "code",
   "execution_count": 7,
   "id": "645d22e7-7297-4525-8370-1c8d01bfbc89",
   "metadata": {},
   "outputs": [],
   "source": [
    "# Создаем функцию метрик\n",
    "# Разделяем на тренировочные и тестовые данные (согласно условию: 80% данных оставить на обучающее множество, 20% - на тестовое)\n",
    "\n",
    "def get_metrics(X, y, random_seed=42, model=None, test_size=0.2): \n",
    "    if model is None:\n",
    "        model = LinearRegression()\n",
    "    X_train, X_test, y_train, y_test = train_test_split(X, y, test_size=test_size, random_state=random_seed)\n",
    "    model.fit(X_train, y_train)\n",
    "    y_pred_train = model.predict(X_train)\n",
    "    y_pred_test = model.predict(X_test)\n",
    "    \n",
    "    rmse_train = mean_squared_error(y_train, y_pred_train, squared=False)\n",
    "    r2_train = r2_score(y_train, y_pred_train)\n",
    "    \n",
    "    rmse_test = mean_squared_error(y_test, y_pred_test, squared=False)\n",
    "    r2_test = r2_score(y_test, y_pred_test)\n",
    "    \n",
    "    return (rmse_train, rmse_test, r2_train, r2_test)"
   ]
  },
  {
   "cell_type": "code",
   "execution_count": 8,
   "id": "b2e22121-ae07-43b8-9f1e-45b73b4a1c2c",
   "metadata": {},
   "outputs": [
    {
     "data": {
      "text/plain": [
       "(0.7196757085831575, 0.7455813830127763, 0.6125511913966952, 0.575787706032451)"
      ]
     },
     "execution_count": 8,
     "metadata": {},
     "output_type": "execute_result"
    }
   ],
   "source": [
    "X = data.drop(['MedHouseVal'], axis=1) \n",
    "y = data[\"MedHouseVal\"]\n",
    "get_metrics(X, y)"
   ]
  },
  {
   "cell_type": "markdown",
   "id": "257603a7-f42e-4df6-b7ed-8edb760fcaca",
   "metadata": {},
   "source": [
    "> Строим график распределения целевой переменной. Сделайте вывод. Присутствуют ли в этом признаке выбросы?"
   ]
  },
  {
   "cell_type": "code",
   "execution_count": 9,
   "id": "1d2ee097-0218-4fe5-9f6d-864d15a82fba",
   "metadata": {},
   "outputs": [],
   "source": [
    "def get_boxplots(X, columns=[]):\n",
    "    for i in columns:\n",
    "        sns.boxplot(x=X[i])\n",
    "    pass   "
   ]
  },
  {
   "cell_type": "code",
   "execution_count": 10,
   "id": "dee8f9a2-3512-4f5f-8999-74fe14f108d9",
   "metadata": {},
   "outputs": [
    {
     "data": {
      "image/png": "[encoded data removed]",
      "text/plain": [
       "<Figure size 432x288 with 1 Axes>"
      ]
     },
     "metadata": {
      "needs_background": "light"
     },
     "output_type": "display_data"
    }
   ],
   "source": [
    "get_boxplots(data, [\"MedHouseVal\"])"
   ]
  },
  {
   "cell_type": "code",
   "execution_count": 11,
   "id": "090e7ea6-995f-41d7-9755-82dcb88f5e93",
   "metadata": {},
   "outputs": [
    {
     "data": {
      "image/png": "[encoded data removed]",
      "text/plain": [
       "<Figure size 432x288 with 1 Axes>"
      ]
     },
     "metadata": {
      "needs_background": "light"
     },
     "output_type": "display_data"
    }
   ],
   "source": [
    "plt.hist(data[\"MedHouseVal\"], bins=100)\n",
    "plt.xlabel('Median House Value')\n",
    "plt.ylabel('Count')\n",
    "plt.show()"
   ]
  },
  {
   "cell_type": "markdown",
   "id": "fd4c0eff-b9aa-4b76-9122-b1399ff50224",
   "metadata": {},
   "source": [
    "> на обоих графиках видно, что есть выбросы."
   ]
  },
  {
   "cell_type": "code",
   "execution_count": 12,
   "id": "6d98258c-41c6-4243-b224-37d20c3b214d",
   "metadata": {},
   "outputs": [
    {
     "data": {
      "text/html": [
       "<div>\n",
       "<style scoped>\n",
       "    .dataframe tbody tr th:only-of-type {\n",
       "        vertical-align: middle;\n",
       "    }\n",
       "\n",
       "    .dataframe tbody tr th {\n",
       "        vertical-align: top;\n",
       "    }\n",
       "\n",
       "    .dataframe thead th {\n",
       "        text-align: right;\n",
       "    }\n",
       "</style>\n",
       "<table border=\"1\" class=\"dataframe\">\n",
       "  <thead>\n",
       "    <tr style=\"text-align: right;\">\n",
       "      <th></th>\n",
       "      <th>MedInc</th>\n",
       "      <th>HouseAge</th>\n",
       "      <th>AveRooms</th>\n",
       "      <th>AveBedrms</th>\n",
       "      <th>Population</th>\n",
       "      <th>AveOccup</th>\n",
       "      <th>Latitude</th>\n",
       "      <th>Longitude</th>\n",
       "      <th>MedHouseVal</th>\n",
       "    </tr>\n",
       "  </thead>\n",
       "  <tbody>\n",
       "    <tr>\n",
       "      <th>89</th>\n",
       "      <td>1.2434</td>\n",
       "      <td>52.0</td>\n",
       "      <td>2.929412</td>\n",
       "      <td>0.917647</td>\n",
       "      <td>396.0</td>\n",
       "      <td>4.658824</td>\n",
       "      <td>37.80</td>\n",
       "      <td>-122.27</td>\n",
       "      <td>5.00001</td>\n",
       "    </tr>\n",
       "    <tr>\n",
       "      <th>140</th>\n",
       "      <td>6.3624</td>\n",
       "      <td>30.0</td>\n",
       "      <td>5.615385</td>\n",
       "      <td>0.730769</td>\n",
       "      <td>126.0</td>\n",
       "      <td>2.423077</td>\n",
       "      <td>37.81</td>\n",
       "      <td>-122.18</td>\n",
       "      <td>4.83300</td>\n",
       "    </tr>\n",
       "    <tr>\n",
       "      <th>459</th>\n",
       "      <td>1.1696</td>\n",
       "      <td>52.0</td>\n",
       "      <td>2.436000</td>\n",
       "      <td>0.944000</td>\n",
       "      <td>1349.0</td>\n",
       "      <td>5.396000</td>\n",
       "      <td>37.87</td>\n",
       "      <td>-122.25</td>\n",
       "      <td>5.00001</td>\n",
       "    </tr>\n",
       "    <tr>\n",
       "      <th>489</th>\n",
       "      <td>3.0417</td>\n",
       "      <td>48.0</td>\n",
       "      <td>4.690632</td>\n",
       "      <td>1.126362</td>\n",
       "      <td>1656.0</td>\n",
       "      <td>3.607843</td>\n",
       "      <td>37.86</td>\n",
       "      <td>-122.25</td>\n",
       "      <td>4.89600</td>\n",
       "    </tr>\n",
       "    <tr>\n",
       "      <th>493</th>\n",
       "      <td>7.8521</td>\n",
       "      <td>52.0</td>\n",
       "      <td>7.794393</td>\n",
       "      <td>1.051402</td>\n",
       "      <td>517.0</td>\n",
       "      <td>2.415888</td>\n",
       "      <td>37.86</td>\n",
       "      <td>-122.24</td>\n",
       "      <td>5.00001</td>\n",
       "    </tr>\n",
       "    <tr>\n",
       "      <th>...</th>\n",
       "      <td>...</td>\n",
       "      <td>...</td>\n",
       "      <td>...</td>\n",
       "      <td>...</td>\n",
       "      <td>...</td>\n",
       "      <td>...</td>\n",
       "      <td>...</td>\n",
       "      <td>...</td>\n",
       "      <td>...</td>\n",
       "    </tr>\n",
       "    <tr>\n",
       "      <th>20422</th>\n",
       "      <td>5.1457</td>\n",
       "      <td>35.0</td>\n",
       "      <td>6.958333</td>\n",
       "      <td>1.217593</td>\n",
       "      <td>576.0</td>\n",
       "      <td>2.666667</td>\n",
       "      <td>34.14</td>\n",
       "      <td>-118.90</td>\n",
       "      <td>5.00001</td>\n",
       "    </tr>\n",
       "    <tr>\n",
       "      <th>20426</th>\n",
       "      <td>10.0472</td>\n",
       "      <td>11.0</td>\n",
       "      <td>9.890756</td>\n",
       "      <td>1.159664</td>\n",
       "      <td>415.0</td>\n",
       "      <td>3.487395</td>\n",
       "      <td>34.18</td>\n",
       "      <td>-118.69</td>\n",
       "      <td>5.00001</td>\n",
       "    </tr>\n",
       "    <tr>\n",
       "      <th>20427</th>\n",
       "      <td>8.6499</td>\n",
       "      <td>4.0</td>\n",
       "      <td>7.236059</td>\n",
       "      <td>1.032528</td>\n",
       "      <td>5495.0</td>\n",
       "      <td>2.553439</td>\n",
       "      <td>34.19</td>\n",
       "      <td>-118.80</td>\n",
       "      <td>5.00001</td>\n",
       "    </tr>\n",
       "    <tr>\n",
       "      <th>20436</th>\n",
       "      <td>12.5420</td>\n",
       "      <td>10.0</td>\n",
       "      <td>9.873315</td>\n",
       "      <td>1.102426</td>\n",
       "      <td>1179.0</td>\n",
       "      <td>3.177898</td>\n",
       "      <td>34.21</td>\n",
       "      <td>-118.69</td>\n",
       "      <td>5.00001</td>\n",
       "    </tr>\n",
       "    <tr>\n",
       "      <th>20443</th>\n",
       "      <td>3.3438</td>\n",
       "      <td>50.0</td>\n",
       "      <td>5.342857</td>\n",
       "      <td>0.942857</td>\n",
       "      <td>130.0</td>\n",
       "      <td>3.714286</td>\n",
       "      <td>34.27</td>\n",
       "      <td>-118.85</td>\n",
       "      <td>5.00001</td>\n",
       "    </tr>\n",
       "  </tbody>\n",
       "</table>\n",
       "<p>1182 rows × 9 columns</p>\n",
       "</div>"
      ],
      "text/plain": [
       "        MedInc  HouseAge  AveRooms  AveBedrms  Population  AveOccup  Latitude  \\\n",
       "89      1.2434      52.0  2.929412   0.917647       396.0  4.658824     37.80   \n",
       "140     6.3624      30.0  5.615385   0.730769       126.0  2.423077     37.81   \n",
       "459     1.1696      52.0  2.436000   0.944000      1349.0  5.396000     37.87   \n",
       "489     3.0417      48.0  4.690632   1.126362      1656.0  3.607843     37.86   \n",
       "493     7.8521      52.0  7.794393   1.051402       517.0  2.415888     37.86   \n",
       "...        ...       ...       ...        ...         ...       ...       ...   \n",
       "20422   5.1457      35.0  6.958333   1.217593       576.0  2.666667     34.14   \n",
       "20426  10.0472      11.0  9.890756   1.159664       415.0  3.487395     34.18   \n",
       "20427   8.6499       4.0  7.236059   1.032528      5495.0  2.553439     34.19   \n",
       "20436  12.5420      10.0  9.873315   1.102426      1179.0  3.177898     34.21   \n",
       "20443   3.3438      50.0  5.342857   0.942857       130.0  3.714286     34.27   \n",
       "\n",
       "       Longitude  MedHouseVal  \n",
       "89       -122.27      5.00001  \n",
       "140      -122.18      4.83300  \n",
       "459      -122.25      5.00001  \n",
       "489      -122.25      4.89600  \n",
       "493      -122.24      5.00001  \n",
       "...          ...          ...  \n",
       "20422    -118.90      5.00001  \n",
       "20426    -118.69      5.00001  \n",
       "20427    -118.80      5.00001  \n",
       "20436    -118.69      5.00001  \n",
       "20443    -118.85      5.00001  \n",
       "\n",
       "[1182 rows x 9 columns]"
      ]
     },
     "execution_count": 12,
     "metadata": {},
     "output_type": "execute_result"
    }
   ],
   "source": [
    "data[data[\"MedHouseVal\"]>4.6]"
   ]
  },
  {
   "cell_type": "code",
   "execution_count": 13,
   "id": "c9279d90-155f-44fb-8fac-6239bc9f6025",
   "metadata": {},
   "outputs": [],
   "source": [
    "target = data[\"MedHouseVal\"]"
   ]
  },
  {
   "cell_type": "code",
   "execution_count": 14,
   "id": "bdeb4d98-e950-4838-8775-7167ad393ba2",
   "metadata": {},
   "outputs": [],
   "source": [
    "def outliers(target):\n",
    "    '''\n",
    "    Функция поиска выброса\n",
    "    '''\n",
    "    z_scores = (target - np.mean(target)) / np.std(target)\n",
    "    outliers_z = target[np.abs(z_scores) > 3]\n",
    "\n",
    "    q1 = target.quantile(0.25)\n",
    "    q3 = target.quantile(0.75)\n",
    "    iqr = q3 - q1\n",
    "    outliers_iqr = target[(target < q1 - 1.5 * iqr) | (target > q3 + 1.5 * iqr)]\n",
    "    return outliers_iqr.min()"
   ]
  },
  {
   "cell_type": "code",
   "execution_count": 15,
   "id": "2e5f44ba-33ed-456d-929b-4561963c176d",
   "metadata": {},
   "outputs": [
    {
     "data": {
      "text/plain": [
       "4.827"
      ]
     },
     "execution_count": 15,
     "metadata": {},
     "output_type": "execute_result"
    }
   ],
   "source": [
    "outliers(data[\"MedHouseVal\"])"
   ]
  },
  {
   "cell_type": "code",
   "execution_count": 16,
   "id": "e7a0079e-380f-410d-a0ab-5ebef701a8ae",
   "metadata": {},
   "outputs": [
    {
     "data": {
      "text/html": [
       "<div>\n",
       "<style scoped>\n",
       "    .dataframe tbody tr th:only-of-type {\n",
       "        vertical-align: middle;\n",
       "    }\n",
       "\n",
       "    .dataframe tbody tr th {\n",
       "        vertical-align: top;\n",
       "    }\n",
       "\n",
       "    .dataframe thead th {\n",
       "        text-align: right;\n",
       "    }\n",
       "</style>\n",
       "<table border=\"1\" class=\"dataframe\">\n",
       "  <thead>\n",
       "    <tr style=\"text-align: right;\">\n",
       "      <th></th>\n",
       "      <th>MedInc</th>\n",
       "      <th>HouseAge</th>\n",
       "      <th>AveRooms</th>\n",
       "      <th>AveBedrms</th>\n",
       "      <th>Population</th>\n",
       "      <th>AveOccup</th>\n",
       "      <th>Latitude</th>\n",
       "      <th>Longitude</th>\n",
       "      <th>MedHouseVal</th>\n",
       "    </tr>\n",
       "  </thead>\n",
       "  <tbody>\n",
       "    <tr>\n",
       "      <th>89</th>\n",
       "      <td>1.2434</td>\n",
       "      <td>52.0</td>\n",
       "      <td>2.929412</td>\n",
       "      <td>0.917647</td>\n",
       "      <td>396.0</td>\n",
       "      <td>4.658824</td>\n",
       "      <td>37.80</td>\n",
       "      <td>-122.27</td>\n",
       "      <td>5.00001</td>\n",
       "    </tr>\n",
       "    <tr>\n",
       "      <th>140</th>\n",
       "      <td>6.3624</td>\n",
       "      <td>30.0</td>\n",
       "      <td>5.615385</td>\n",
       "      <td>0.730769</td>\n",
       "      <td>126.0</td>\n",
       "      <td>2.423077</td>\n",
       "      <td>37.81</td>\n",
       "      <td>-122.18</td>\n",
       "      <td>4.83300</td>\n",
       "    </tr>\n",
       "    <tr>\n",
       "      <th>459</th>\n",
       "      <td>1.1696</td>\n",
       "      <td>52.0</td>\n",
       "      <td>2.436000</td>\n",
       "      <td>0.944000</td>\n",
       "      <td>1349.0</td>\n",
       "      <td>5.396000</td>\n",
       "      <td>37.87</td>\n",
       "      <td>-122.25</td>\n",
       "      <td>5.00001</td>\n",
       "    </tr>\n",
       "    <tr>\n",
       "      <th>489</th>\n",
       "      <td>3.0417</td>\n",
       "      <td>48.0</td>\n",
       "      <td>4.690632</td>\n",
       "      <td>1.126362</td>\n",
       "      <td>1656.0</td>\n",
       "      <td>3.607843</td>\n",
       "      <td>37.86</td>\n",
       "      <td>-122.25</td>\n",
       "      <td>4.89600</td>\n",
       "    </tr>\n",
       "    <tr>\n",
       "      <th>493</th>\n",
       "      <td>7.8521</td>\n",
       "      <td>52.0</td>\n",
       "      <td>7.794393</td>\n",
       "      <td>1.051402</td>\n",
       "      <td>517.0</td>\n",
       "      <td>2.415888</td>\n",
       "      <td>37.86</td>\n",
       "      <td>-122.24</td>\n",
       "      <td>5.00001</td>\n",
       "    </tr>\n",
       "    <tr>\n",
       "      <th>...</th>\n",
       "      <td>...</td>\n",
       "      <td>...</td>\n",
       "      <td>...</td>\n",
       "      <td>...</td>\n",
       "      <td>...</td>\n",
       "      <td>...</td>\n",
       "      <td>...</td>\n",
       "      <td>...</td>\n",
       "      <td>...</td>\n",
       "    </tr>\n",
       "    <tr>\n",
       "      <th>20422</th>\n",
       "      <td>5.1457</td>\n",
       "      <td>35.0</td>\n",
       "      <td>6.958333</td>\n",
       "      <td>1.217593</td>\n",
       "      <td>576.0</td>\n",
       "      <td>2.666667</td>\n",
       "      <td>34.14</td>\n",
       "      <td>-118.90</td>\n",
       "      <td>5.00001</td>\n",
       "    </tr>\n",
       "    <tr>\n",
       "      <th>20426</th>\n",
       "      <td>10.0472</td>\n",
       "      <td>11.0</td>\n",
       "      <td>9.890756</td>\n",
       "      <td>1.159664</td>\n",
       "      <td>415.0</td>\n",
       "      <td>3.487395</td>\n",
       "      <td>34.18</td>\n",
       "      <td>-118.69</td>\n",
       "      <td>5.00001</td>\n",
       "    </tr>\n",
       "    <tr>\n",
       "      <th>20427</th>\n",
       "      <td>8.6499</td>\n",
       "      <td>4.0</td>\n",
       "      <td>7.236059</td>\n",
       "      <td>1.032528</td>\n",
       "      <td>5495.0</td>\n",
       "      <td>2.553439</td>\n",
       "      <td>34.19</td>\n",
       "      <td>-118.80</td>\n",
       "      <td>5.00001</td>\n",
       "    </tr>\n",
       "    <tr>\n",
       "      <th>20436</th>\n",
       "      <td>12.5420</td>\n",
       "      <td>10.0</td>\n",
       "      <td>9.873315</td>\n",
       "      <td>1.102426</td>\n",
       "      <td>1179.0</td>\n",
       "      <td>3.177898</td>\n",
       "      <td>34.21</td>\n",
       "      <td>-118.69</td>\n",
       "      <td>5.00001</td>\n",
       "    </tr>\n",
       "    <tr>\n",
       "      <th>20443</th>\n",
       "      <td>3.3438</td>\n",
       "      <td>50.0</td>\n",
       "      <td>5.342857</td>\n",
       "      <td>0.942857</td>\n",
       "      <td>130.0</td>\n",
       "      <td>3.714286</td>\n",
       "      <td>34.27</td>\n",
       "      <td>-118.85</td>\n",
       "      <td>5.00001</td>\n",
       "    </tr>\n",
       "  </tbody>\n",
       "</table>\n",
       "<p>1070 rows × 9 columns</p>\n",
       "</div>"
      ],
      "text/plain": [
       "        MedInc  HouseAge  AveRooms  AveBedrms  Population  AveOccup  Latitude  \\\n",
       "89      1.2434      52.0  2.929412   0.917647       396.0  4.658824     37.80   \n",
       "140     6.3624      30.0  5.615385   0.730769       126.0  2.423077     37.81   \n",
       "459     1.1696      52.0  2.436000   0.944000      1349.0  5.396000     37.87   \n",
       "489     3.0417      48.0  4.690632   1.126362      1656.0  3.607843     37.86   \n",
       "493     7.8521      52.0  7.794393   1.051402       517.0  2.415888     37.86   \n",
       "...        ...       ...       ...        ...         ...       ...       ...   \n",
       "20422   5.1457      35.0  6.958333   1.217593       576.0  2.666667     34.14   \n",
       "20426  10.0472      11.0  9.890756   1.159664       415.0  3.487395     34.18   \n",
       "20427   8.6499       4.0  7.236059   1.032528      5495.0  2.553439     34.19   \n",
       "20436  12.5420      10.0  9.873315   1.102426      1179.0  3.177898     34.21   \n",
       "20443   3.3438      50.0  5.342857   0.942857       130.0  3.714286     34.27   \n",
       "\n",
       "       Longitude  MedHouseVal  \n",
       "89       -122.27      5.00001  \n",
       "140      -122.18      4.83300  \n",
       "459      -122.25      5.00001  \n",
       "489      -122.25      4.89600  \n",
       "493      -122.24      5.00001  \n",
       "...          ...          ...  \n",
       "20422    -118.90      5.00001  \n",
       "20426    -118.69      5.00001  \n",
       "20427    -118.80      5.00001  \n",
       "20436    -118.69      5.00001  \n",
       "20443    -118.85      5.00001  \n",
       "\n",
       "[1070 rows x 9 columns]"
      ]
     },
     "execution_count": 16,
     "metadata": {},
     "output_type": "execute_result"
    }
   ],
   "source": [
    "data[data[\"MedHouseVal\"] > outliers(data[\"MedHouseVal\"])]"
   ]
  },
  {
   "cell_type": "markdown",
   "id": "dd1a3bee-5d08-4f4e-8a59-8e164c92ce8b",
   "metadata": {},
   "source": [
    "> Из проведенных изысканий видно, что из 20640 строк 1070 строк - это выбросы"
   ]
  },
  {
   "cell_type": "markdown",
   "id": "abfd9f3a-6ffb-4cca-a04f-1714b2be9ccc",
   "metadata": {},
   "source": [
    "> Посчитаем и выведим корреляционную матрицу (необходимо убедиться, что ячейки матрицы поделены на цветные категории, в ячейках указано числовое значение корреляции)."
   ]
  },
  {
   "cell_type": "code",
   "execution_count": 17,
   "id": "5e736489-bf67-4cad-b9ca-d5f680963371",
   "metadata": {},
   "outputs": [
    {
     "data": {
      "image/png": "[encoded data removed]",
      "text/plain": [
       "<Figure size 1080x1080 with 2 Axes>"
      ]
     },
     "metadata": {
      "needs_background": "light"
     },
     "output_type": "display_data"
    }
   ],
   "source": [
    "fig, ax = plt.subplots(figsize=(15,15))\n",
    "corr_matrix = data.corr()\n",
    "sns.heatmap(corr_matrix, cmap='coolwarm', annot=True, fmt='.2f')\n",
    "plt.title('Correlation Matrix for California Housing Dataset')\n",
    "plt.show()"
   ]
  },
  {
   "cell_type": "markdown",
   "id": "00735895-5ab5-4e53-8b1b-7f9608adfedb",
   "metadata": {},
   "source": [
    "> Сильная корреляция, судя по полученной матрице, **0.85** между **AveRooms** и **AveBedrms**. Один их признаков можем удалить и посмотреть на метрики, как это повлияет."
   ]
  },
  {
   "cell_type": "code",
   "execution_count": 18,
   "id": "5a35d3d0-042e-43a2-9c39-d181fc6b6aa0",
   "metadata": {},
   "outputs": [
    {
     "data": {
      "text/plain": [
       "(0.7272420835082767,\n",
       " 0.7419270782296468,\n",
       " 0.6043614091244853,\n",
       " 0.5799358837198176)"
      ]
     },
     "execution_count": 18,
     "metadata": {},
     "output_type": "execute_result"
    }
   ],
   "source": [
    "X1 = data.drop(['MedHouseVal', 'AveRooms'], axis=1) \n",
    "y1 = data[\"MedHouseVal\"]\n",
    "get_metrics(X1, y1)"
   ]
  },
  {
   "cell_type": "code",
   "execution_count": 19,
   "id": "a203ed91-394a-4a94-ae44-456a637011e7",
   "metadata": {},
   "outputs": [],
   "source": [
    "# RMSE train: 0.7196757085831575;\n",
    "# RMSE test: 0.7455813830127763;\n",
    "# R2 train: 0.6125511913966952;\n",
    "# R2 test:0.575787706032451"
   ]
  },
  {
   "cell_type": "markdown",
   "id": "992e3094-a5d0-447a-9c05-2f5e584ce048",
   "metadata": {},
   "source": [
    "> Из полученных метрик, при сравнении их с метриками, полученными ранее, видно, что метрики качества RMSE и R2, сильно не изменились, таким образом можно удалять без проблем сильно коррелированные данные, один из признаков, конечно же, а не все."
   ]
  },
  {
   "cell_type": "markdown",
   "id": "8397c42c-55c3-4482-a694-a2659c7068a7",
   "metadata": {},
   "source": [
    "> Исследуем оставленные признаки на выбросы. (Удаляем выбросы в случае обнаружения. Повторите п. 3, п. 4 на измененных данных.)"
   ]
  },
  {
   "cell_type": "code",
   "execution_count": 20,
   "id": "e88111a8-2359-4313-a98d-34e5a166bfa9",
   "metadata": {},
   "outputs": [
    {
     "name": "stdout",
     "output_type": "stream",
     "text": [
      "MedInc: 8.0137\n",
      "HouseAge: nan\n",
      "AveBedrms: 0.3333333333333333\n",
      "Population: 3134.0\n",
      "AveOccup: 0.6923076923076923\n",
      "Latitude: nan\n",
      "Longitude: nan\n"
     ]
    }
   ],
   "source": [
    "for i in X1:\n",
    "    print(f'{i}: {outliers(X1[i])}')"
   ]
  },
  {
   "cell_type": "code",
   "execution_count": 21,
   "id": "951f4156-30c0-48d1-a956-ce16c60df3b3",
   "metadata": {},
   "outputs": [
    {
     "data": {
      "text/plain": [
       "4.827"
      ]
     },
     "execution_count": 21,
     "metadata": {},
     "output_type": "execute_result"
    }
   ],
   "source": [
    "outliers(y1)"
   ]
  },
  {
   "cell_type": "code",
   "execution_count": 22,
   "id": "bfd6a79d-867c-4e36-bf52-98170ce9709d",
   "metadata": {},
   "outputs": [
    {
     "data": {
      "image/png": "[encoded data removed]",
      "text/plain": [
       "<Figure size 432x288 with 1 Axes>"
      ]
     },
     "metadata": {
      "needs_background": "light"
     },
     "output_type": "display_data"
    }
   ],
   "source": [
    "get_boxplots(data.drop(['AveRooms'], axis=1) , [\"MedInc\"])"
   ]
  },
  {
   "cell_type": "code",
   "execution_count": 23,
   "id": "002fab29-0c16-4d0d-b98b-23adf6a710b5",
   "metadata": {},
   "outputs": [
    {
     "data": {
      "image/png": "[encoded data removed]",
      "text/plain": [
       "<Figure size 432x288 with 1 Axes>"
      ]
     },
     "metadata": {
      "needs_background": "light"
     },
     "output_type": "display_data"
    }
   ],
   "source": [
    "get_boxplots(data.drop(['AveRooms'], axis=1) , [\"MedHouseVal\"])"
   ]
  },
  {
   "cell_type": "code",
   "execution_count": 24,
   "id": "17811956-d34f-471b-9a94-c075cdca47e6",
   "metadata": {},
   "outputs": [
    {
     "data": {
      "image/png": "[encoded data removed]",
      "text/plain": [
       "<Figure size 432x288 with 1 Axes>"
      ]
     },
     "metadata": {
      "needs_background": "light"
     },
     "output_type": "display_data"
    }
   ],
   "source": [
    "get_boxplots(data.drop(['AveRooms'], axis=1) , [\"AveBedrms\"])"
   ]
  },
  {
   "cell_type": "code",
   "execution_count": 25,
   "id": "33ec8195-2741-4214-9a45-78db0db5897e",
   "metadata": {},
   "outputs": [
    {
     "data": {
      "text/html": [
       "<div>\n",
       "<style scoped>\n",
       "    .dataframe tbody tr th:only-of-type {\n",
       "        vertical-align: middle;\n",
       "    }\n",
       "\n",
       "    .dataframe tbody tr th {\n",
       "        vertical-align: top;\n",
       "    }\n",
       "\n",
       "    .dataframe thead th {\n",
       "        text-align: right;\n",
       "    }\n",
       "</style>\n",
       "<table border=\"1\" class=\"dataframe\">\n",
       "  <thead>\n",
       "    <tr style=\"text-align: right;\">\n",
       "      <th></th>\n",
       "      <th>MedInc</th>\n",
       "      <th>HouseAge</th>\n",
       "      <th>AveRooms</th>\n",
       "      <th>AveBedrms</th>\n",
       "      <th>Population</th>\n",
       "      <th>AveOccup</th>\n",
       "      <th>Latitude</th>\n",
       "      <th>Longitude</th>\n",
       "      <th>MedHouseVal</th>\n",
       "    </tr>\n",
       "  </thead>\n",
       "  <tbody>\n",
       "    <tr>\n",
       "      <th>count</th>\n",
       "      <td>20640.000000</td>\n",
       "      <td>20640.000000</td>\n",
       "      <td>20640.000000</td>\n",
       "      <td>20640.000000</td>\n",
       "      <td>20640.000000</td>\n",
       "      <td>20640.000000</td>\n",
       "      <td>20640.000000</td>\n",
       "      <td>20640.000000</td>\n",
       "      <td>20640.000000</td>\n",
       "    </tr>\n",
       "    <tr>\n",
       "      <th>mean</th>\n",
       "      <td>3.870671</td>\n",
       "      <td>28.639486</td>\n",
       "      <td>5.429000</td>\n",
       "      <td>1.096675</td>\n",
       "      <td>1425.476744</td>\n",
       "      <td>3.070655</td>\n",
       "      <td>35.631861</td>\n",
       "      <td>-119.569704</td>\n",
       "      <td>2.068558</td>\n",
       "    </tr>\n",
       "    <tr>\n",
       "      <th>std</th>\n",
       "      <td>1.899822</td>\n",
       "      <td>12.585558</td>\n",
       "      <td>2.474173</td>\n",
       "      <td>0.473911</td>\n",
       "      <td>1132.462122</td>\n",
       "      <td>10.386050</td>\n",
       "      <td>2.135952</td>\n",
       "      <td>2.003532</td>\n",
       "      <td>1.153956</td>\n",
       "    </tr>\n",
       "    <tr>\n",
       "      <th>min</th>\n",
       "      <td>0.499900</td>\n",
       "      <td>1.000000</td>\n",
       "      <td>0.846154</td>\n",
       "      <td>0.333333</td>\n",
       "      <td>3.000000</td>\n",
       "      <td>0.692308</td>\n",
       "      <td>32.540000</td>\n",
       "      <td>-124.350000</td>\n",
       "      <td>0.149990</td>\n",
       "    </tr>\n",
       "    <tr>\n",
       "      <th>25%</th>\n",
       "      <td>2.563400</td>\n",
       "      <td>18.000000</td>\n",
       "      <td>4.440716</td>\n",
       "      <td>1.006079</td>\n",
       "      <td>787.000000</td>\n",
       "      <td>2.429741</td>\n",
       "      <td>33.930000</td>\n",
       "      <td>-121.800000</td>\n",
       "      <td>1.196000</td>\n",
       "    </tr>\n",
       "    <tr>\n",
       "      <th>50%</th>\n",
       "      <td>3.534800</td>\n",
       "      <td>29.000000</td>\n",
       "      <td>5.229129</td>\n",
       "      <td>1.048780</td>\n",
       "      <td>1166.000000</td>\n",
       "      <td>2.818116</td>\n",
       "      <td>34.260000</td>\n",
       "      <td>-118.490000</td>\n",
       "      <td>1.797000</td>\n",
       "    </tr>\n",
       "    <tr>\n",
       "      <th>75%</th>\n",
       "      <td>4.743250</td>\n",
       "      <td>37.000000</td>\n",
       "      <td>6.052381</td>\n",
       "      <td>1.099526</td>\n",
       "      <td>1725.000000</td>\n",
       "      <td>3.282261</td>\n",
       "      <td>37.710000</td>\n",
       "      <td>-118.010000</td>\n",
       "      <td>2.647250</td>\n",
       "    </tr>\n",
       "    <tr>\n",
       "      <th>max</th>\n",
       "      <td>15.000100</td>\n",
       "      <td>52.000000</td>\n",
       "      <td>141.909091</td>\n",
       "      <td>34.066667</td>\n",
       "      <td>35682.000000</td>\n",
       "      <td>1243.333333</td>\n",
       "      <td>41.950000</td>\n",
       "      <td>-114.310000</td>\n",
       "      <td>5.000010</td>\n",
       "    </tr>\n",
       "  </tbody>\n",
       "</table>\n",
       "</div>"
      ],
      "text/plain": [
       "             MedInc      HouseAge      AveRooms     AveBedrms    Population  \\\n",
       "count  20640.000000  20640.000000  20640.000000  20640.000000  20640.000000   \n",
       "mean       3.870671     28.639486      5.429000      1.096675   1425.476744   \n",
       "std        1.899822     12.585558      2.474173      0.473911   1132.462122   \n",
       "min        0.499900      1.000000      0.846154      0.333333      3.000000   \n",
       "25%        2.563400     18.000000      4.440716      1.006079    787.000000   \n",
       "50%        3.534800     29.000000      5.229129      1.048780   1166.000000   \n",
       "75%        4.743250     37.000000      6.052381      1.099526   1725.000000   \n",
       "max       15.000100     52.000000    141.909091     34.066667  35682.000000   \n",
       "\n",
       "           AveOccup      Latitude     Longitude   MedHouseVal  \n",
       "count  20640.000000  20640.000000  20640.000000  20640.000000  \n",
       "mean       3.070655     35.631861   -119.569704      2.068558  \n",
       "std       10.386050      2.135952      2.003532      1.153956  \n",
       "min        0.692308     32.540000   -124.350000      0.149990  \n",
       "25%        2.429741     33.930000   -121.800000      1.196000  \n",
       "50%        2.818116     34.260000   -118.490000      1.797000  \n",
       "75%        3.282261     37.710000   -118.010000      2.647250  \n",
       "max     1243.333333     41.950000   -114.310000      5.000010  "
      ]
     },
     "execution_count": 25,
     "metadata": {},
     "output_type": "execute_result"
    }
   ],
   "source": [
    "data.describe()"
   ]
  },
  {
   "cell_type": "markdown",
   "id": "e4b811d4-c7ad-40b2-a90b-73e54277e927",
   "metadata": {},
   "source": [
    "> По полученным данным, удалю все выбросы полученные из файла.\n",
    "Изходя из моей логики: <br>\n",
    "Population не более 5000\n",
    "Medink более 8.0137\n",
    "Целевая переменная - MedHouseVal менее 4.827"
   ]
  },
  {
   "cell_type": "code",
   "execution_count": 26,
   "id": "ba2a3fc8-7e19-4f4f-af21-2901cd057e5e",
   "metadata": {},
   "outputs": [],
   "source": [
    "temp = data[(data['Population'] < 5000)&(data['MedInc'] < 8.0137)&(data['MedHouseVal'] < 4.827)].copy()"
   ]
  },
  {
   "cell_type": "code",
   "execution_count": 27,
   "id": "cc341026-cd1c-4c25-b232-ebd1b13f9556",
   "metadata": {},
   "outputs": [
    {
     "data": {
      "text/plain": [
       "(0.6294227865486249, 0.6199151616977465, 0.547080259665524, 0.5620963707490221)"
      ]
     },
     "execution_count": 27,
     "metadata": {},
     "output_type": "execute_result"
    }
   ],
   "source": [
    "X2 = temp.drop(['MedHouseVal', 'AveRooms'], axis=1) \n",
    "y2 = temp[\"MedHouseVal\"]\n",
    "get_metrics(X2, y2)"
   ]
  },
  {
   "cell_type": "code",
   "execution_count": 28,
   "id": "05a3a239-030e-483e-a2f4-b2d6681bf2b9",
   "metadata": {},
   "outputs": [],
   "source": [
    "temp1 = data[(data['MedHouseVal'] < 4.827)].copy()"
   ]
  },
  {
   "cell_type": "code",
   "execution_count": 29,
   "id": "09ac52b4-dbb0-4c56-a773-8abd0464afd0",
   "metadata": {},
   "outputs": [
    {
     "data": {
      "text/plain": [
       "(0.6273342212975435,\n",
       " 0.6072589861493274,\n",
       " 0.5662399734391856,\n",
       " 0.6012592989543195)"
      ]
     },
     "execution_count": 29,
     "metadata": {},
     "output_type": "execute_result"
    }
   ],
   "source": [
    "X3 = temp1.drop(['MedHouseVal'], axis=1) \n",
    "y3 = temp1[\"MedHouseVal\"]\n",
    "get_metrics(X3, y3)"
   ]
  },
  {
   "cell_type": "markdown",
   "id": "d8537b33-752b-482d-8d6c-021a2876e3a4",
   "metadata": {},
   "source": [
    "> *Вывод:* На основании полученных метрик видим, что качество модели сильно ухудшается, поэтому с большой долей вероятности можно сделать предположение, что удаляемые значения могут не быть выбросами."
   ]
  },
  {
   "cell_type": "markdown",
   "id": "78237b53-7d1c-4601-a3d3-a60749fe5f38",
   "metadata": {},
   "source": [
    "> Изменяем несколько признаков на выбор математически. Например, вычислим логарифм, возведите в квадрат, извлеките квадратный корень."
   ]
  },
  {
   "cell_type": "code",
   "execution_count": 30,
   "id": "a6f0a6f3-eac3-41fc-b73b-cd9ef48e71a0",
   "metadata": {},
   "outputs": [],
   "source": [
    "temp2 = data.copy()"
   ]
  },
  {
   "cell_type": "code",
   "execution_count": 31,
   "id": "6be34cb9-477d-4bdb-92ef-dfeb3b95769d",
   "metadata": {},
   "outputs": [
    {
     "data": {
      "text/html": [
       "<div>\n",
       "<style scoped>\n",
       "    .dataframe tbody tr th:only-of-type {\n",
       "        vertical-align: middle;\n",
       "    }\n",
       "\n",
       "    .dataframe tbody tr th {\n",
       "        vertical-align: top;\n",
       "    }\n",
       "\n",
       "    .dataframe thead th {\n",
       "        text-align: right;\n",
       "    }\n",
       "</style>\n",
       "<table border=\"1\" class=\"dataframe\">\n",
       "  <thead>\n",
       "    <tr style=\"text-align: right;\">\n",
       "      <th></th>\n",
       "      <th>MedInc</th>\n",
       "      <th>HouseAge</th>\n",
       "      <th>AveRooms</th>\n",
       "      <th>AveBedrms</th>\n",
       "      <th>Population</th>\n",
       "      <th>AveOccup</th>\n",
       "      <th>Latitude</th>\n",
       "      <th>Longitude</th>\n",
       "      <th>MedHouseVal</th>\n",
       "    </tr>\n",
       "  </thead>\n",
       "  <tbody>\n",
       "    <tr>\n",
       "      <th>count</th>\n",
       "      <td>20640.000000</td>\n",
       "      <td>20640.000000</td>\n",
       "      <td>20640.000000</td>\n",
       "      <td>20640.000000</td>\n",
       "      <td>20640.000000</td>\n",
       "      <td>20640.000000</td>\n",
       "      <td>20640.000000</td>\n",
       "      <td>20640.000000</td>\n",
       "      <td>20640.000000</td>\n",
       "    </tr>\n",
       "    <tr>\n",
       "      <th>mean</th>\n",
       "      <td>18.591242</td>\n",
       "      <td>3.225135</td>\n",
       "      <td>5.429000</td>\n",
       "      <td>1.096675</td>\n",
       "      <td>7.024116</td>\n",
       "      <td>1.703329</td>\n",
       "      <td>35.631861</td>\n",
       "      <td>-119.569704</td>\n",
       "      <td>2.068558</td>\n",
       "    </tr>\n",
       "    <tr>\n",
       "      <th>std</th>\n",
       "      <td>21.946544</td>\n",
       "      <td>0.567748</td>\n",
       "      <td>2.474173</td>\n",
       "      <td>0.473911</td>\n",
       "      <td>0.738524</td>\n",
       "      <td>0.411502</td>\n",
       "      <td>2.135952</td>\n",
       "      <td>2.003532</td>\n",
       "      <td>1.153956</td>\n",
       "    </tr>\n",
       "    <tr>\n",
       "      <th>min</th>\n",
       "      <td>0.249900</td>\n",
       "      <td>0.000000</td>\n",
       "      <td>0.846154</td>\n",
       "      <td>0.333333</td>\n",
       "      <td>1.098612</td>\n",
       "      <td>0.832050</td>\n",
       "      <td>32.540000</td>\n",
       "      <td>-124.350000</td>\n",
       "      <td>0.149990</td>\n",
       "    </tr>\n",
       "    <tr>\n",
       "      <th>25%</th>\n",
       "      <td>6.571020</td>\n",
       "      <td>2.890372</td>\n",
       "      <td>4.440716</td>\n",
       "      <td>1.006079</td>\n",
       "      <td>6.668228</td>\n",
       "      <td>1.558763</td>\n",
       "      <td>33.930000</td>\n",
       "      <td>-121.800000</td>\n",
       "      <td>1.196000</td>\n",
       "    </tr>\n",
       "    <tr>\n",
       "      <th>50%</th>\n",
       "      <td>12.494811</td>\n",
       "      <td>3.367296</td>\n",
       "      <td>5.229129</td>\n",
       "      <td>1.048780</td>\n",
       "      <td>7.061334</td>\n",
       "      <td>1.678724</td>\n",
       "      <td>34.260000</td>\n",
       "      <td>-118.490000</td>\n",
       "      <td>1.797000</td>\n",
       "    </tr>\n",
       "    <tr>\n",
       "      <th>75%</th>\n",
       "      <td>22.498421</td>\n",
       "      <td>3.610918</td>\n",
       "      <td>6.052381</td>\n",
       "      <td>1.099526</td>\n",
       "      <td>7.452982</td>\n",
       "      <td>1.811701</td>\n",
       "      <td>37.710000</td>\n",
       "      <td>-118.010000</td>\n",
       "      <td>2.647250</td>\n",
       "    </tr>\n",
       "    <tr>\n",
       "      <th>max</th>\n",
       "      <td>225.003000</td>\n",
       "      <td>3.951244</td>\n",
       "      <td>141.909091</td>\n",
       "      <td>34.066667</td>\n",
       "      <td>10.482402</td>\n",
       "      <td>35.260932</td>\n",
       "      <td>41.950000</td>\n",
       "      <td>-114.310000</td>\n",
       "      <td>5.000010</td>\n",
       "    </tr>\n",
       "  </tbody>\n",
       "</table>\n",
       "</div>"
      ],
      "text/plain": [
       "             MedInc      HouseAge      AveRooms     AveBedrms    Population  \\\n",
       "count  20640.000000  20640.000000  20640.000000  20640.000000  20640.000000   \n",
       "mean      18.591242      3.225135      5.429000      1.096675      7.024116   \n",
       "std       21.946544      0.567748      2.474173      0.473911      0.738524   \n",
       "min        0.249900      0.000000      0.846154      0.333333      1.098612   \n",
       "25%        6.571020      2.890372      4.440716      1.006079      6.668228   \n",
       "50%       12.494811      3.367296      5.229129      1.048780      7.061334   \n",
       "75%       22.498421      3.610918      6.052381      1.099526      7.452982   \n",
       "max      225.003000      3.951244    141.909091     34.066667     10.482402   \n",
       "\n",
       "           AveOccup      Latitude     Longitude   MedHouseVal  \n",
       "count  20640.000000  20640.000000  20640.000000  20640.000000  \n",
       "mean       1.703329     35.631861   -119.569704      2.068558  \n",
       "std        0.411502      2.135952      2.003532      1.153956  \n",
       "min        0.832050     32.540000   -124.350000      0.149990  \n",
       "25%        1.558763     33.930000   -121.800000      1.196000  \n",
       "50%        1.678724     34.260000   -118.490000      1.797000  \n",
       "75%        1.811701     37.710000   -118.010000      2.647250  \n",
       "max       35.260932     41.950000   -114.310000      5.000010  "
      ]
     },
     "execution_count": 31,
     "metadata": {},
     "output_type": "execute_result"
    }
   ],
   "source": [
    "temp2['HouseAge'] = np.log(temp2['HouseAge'])\n",
    "temp2['Population'] = np.log(temp2['Population'])\n",
    "temp2['AveOccup'] = np.sqrt(temp2['AveOccup'])\n",
    "temp2['MedInc'] = np.power(temp2['MedInc'], 2)\n",
    "\n",
    "temp2.describe()"
   ]
  },
  {
   "cell_type": "code",
   "execution_count": 32,
   "id": "098ddf88-d1a9-4ded-836c-9efe115987e0",
   "metadata": {},
   "outputs": [
    {
     "data": {
      "text/plain": [
       "(0.766599329030844, 0.7580966417608691, 0.5603799298285448, 0.5614266020821972)"
      ]
     },
     "execution_count": 32,
     "metadata": {},
     "output_type": "execute_result"
    }
   ],
   "source": [
    "X4 = temp2.drop(['MedHouseVal'], axis=1) \n",
    "y4 = temp2[\"MedHouseVal\"]\n",
    "get_metrics(X4, y4)"
   ]
  },
  {
   "cell_type": "code",
   "execution_count": 33,
   "id": "5a8ea237-a786-450e-a185-9d21d4bd764f",
   "metadata": {},
   "outputs": [
    {
     "name": "stdout",
     "output_type": "stream",
     "text": [
      "+--------+--------------------+--------------------+--------------------+--------------------+---------------------------------------------------------------------------------------+\n",
      "| Модель |     RMSE_train     |     RMSE_test      |      R2_train      |      R2_test       |                                  Признаки / действия                                  |\n",
      "+--------+--------------------+--------------------+--------------------+--------------------+---------------------------------------------------------------------------------------+\n",
      "| Model0 | 0.7196757085831575 | 0.7455813830127763 | 0.6125511913966952 | 0.575787706032451  |                                         AS IS                                         |\n",
      "| Model1 | 0.7272420835082767 | 0.7419270782296468 | 0.6043614091244853 | 0.5799358837198176 |             Удалили Признак 'AveRooms' (сильно коррелирующий с 'AveBedrms'            |\n",
      "| Model2 | 0.6294227865486249 | 0.6199151616977465 | 0.547080259665524  | 0.5620963707490221 | Убрали пред-ые выбросы,'Population'< 5000,'MedInc'< 8.0137, ЦП: 'MedHouseVal'< 4.827) |\n",
      "| Model3 | 0.6273342212975435 | 0.6072589861493274 | 0.5662399734391856 | 0.6012592989543195 |            Вернули все как было и убрали выбросы ЦП: 'MedHouseVal'< 4.827)            |\n",
      "| Model4 | 0.766599329030844  | 0.7580966417608691 | 0.5603799298285448 | 0.5614266020821972 |                            Изменили признаки математически                            |\n",
      "+--------+--------------------+--------------------+--------------------+--------------------+---------------------------------------------------------------------------------------+\n"
     ]
    }
   ],
   "source": [
    "from prettytable import PrettyTable\n",
    "\n",
    "\n",
    "table = PrettyTable()\n",
    "table.field_names = [\"Модель\", \"RMSE_train\", \"RMSE_test\",  \"R2_train\", \"R2_test\", \"Признаки / действия\"]\n",
    "table.add_row([\"Model0\", *get_metrics(X, y), \"AS IS\"])\n",
    "table.add_row([\"Model1\", *get_metrics(X1, y1), \"Удалили Признак 'AveRooms' (сильно коррелирующий с 'AveBedrms'\"])\n",
    "table.add_row([\"Model2\", *get_metrics(X2, y2), \"Убрали пред-ые выбросы,'Population'< 5000,'MedInc'< 8.0137, ЦП: 'MedHouseVal'< 4.827)\"])\n",
    "table.add_row([\"Model3\", *get_metrics(X3, y3), \"Вернули все как было и убрали выбросы ЦП: 'MedHouseVal'< 4.827)\"])\n",
    "table.add_row([\"Model4\", *get_metrics(X4, y4), \"Изменили признаки математически\"])\n",
    "print(table.get_string())\n"
   ]
  },
  {
   "cell_type": "markdown",
   "id": "62e0c994-07f4-462a-8049-d3d669967b88",
   "metadata": {},
   "source": [
    "> **Общий вывод**: <br> \n",
    "заключается в том, что преобразование данных может иметь как положительное, так и отрицательное влияние на качество модели.\n",
    "Для достижения наилучшего результата, если он возможен с теми данными, что у вас есть, то конечно же нужно использовать разные методы и подходы.\n"
   ]
  }
 ],
 "metadata": {
  "kernelspec": {
   "display_name": "Python 3 (ipykernel)",
   "language": "python",
   "name": "python3"
  },
  "language_info": {
   "codemirror_mode": {
    "name": "ipython",
    "version": 3
   },
   "file_extension": ".py",
   "mimetype": "text/x-python",
   "name": "python",
   "nbconvert_exporter": "python",
   "pygments_lexer": "ipython3",
   "version": "3.9.12"
  }
 },
 "nbformat": 4,
 "nbformat_minor": 5
}

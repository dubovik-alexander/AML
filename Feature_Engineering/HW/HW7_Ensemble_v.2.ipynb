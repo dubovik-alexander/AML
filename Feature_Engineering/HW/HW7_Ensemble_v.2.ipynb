{
 "cells": [
  {
   "cell_type": "markdown",
   "id": "4a5b3614-ec43-46d9-bff9-63be670d23e2",
   "metadata": {},
   "source": [
    "## Домашнее задание по теме «Ансамблирование»\n",
    "\n",
    "### Задание\n",
    "\n",
    "<b>Цель:</b><br> применить на практике базовые ансамблевые методы <p>\n",
    "<b>Описание задания:</b><br>\n",
    "В домашнем задании нужно решить задачу классификации наличия болезни сердца у пациентов. Данные для обучения моделей необходимо загрузить самостоятельно с <a href=\"https://www.kaggle.com/fedesoriano/heart-failure-prediction\" target=\"_blank\">сайта</a>. Целевая переменная – наличие болезни сердца (HeartDisease), принимает значения 0 или 1 в зависимости от отсутствия или наличия болезни соответственно. (Подробнее о признаках можно прочесть в описании датасета на сайте. Для выполнения работы не обязательно вникать в медицинские показатели.)<br>\n",
    "\n",
    "<b>Этапы работы:</b>\n",
    "1. Получите данные и загрузите их в рабочую среду. (Jupyter Notebook или другую)<br>\n",
    "2. Подготовьте датасет к обучению моделей.<br>\n",
    "a) Категориальные переменные переведите в цифровые значения. Можно использовать <a href=\"https://pandas.pydata.org/docs/reference/api/pandas.get_dummies.html\" target=\"_blank\">pd.get_dummies</a>, <a href=\"https://scikit-learn.org/stable/modules/generated/sklearn.preprocessing.LabelEncoder.html\" target=\"_blank\">preprocessing.LabelEncoder</a>. Старайтесь не использовать для этой задачи циклы.<br>\n",
    "b) *Постройте 1-2 графика на выбор. Визуализация должна быть основана на исследуемых данных и быть полезной (из графика можно сделать вывод об особенностях датасета/класса/признака).<br>\n",
    "3. Разделите выборку на обучающее и тестовое подмножество. 80% данных оставить на обучающее множество, 20% на тестовое.<br>\n",
    "4. Обучите дерево решений на обучающем множестве. Используйте следующие модели:<br>\n",
    "a) <a href=\"https://scikit-learn.org/stable/modules/generated/sklearn.tree.DecisionTreeClassifier.html\" target=\"_blank\">tree.DecisionTreeClassifier</a><br>\n",
    "b) <a href=\"https://scikit-learn.org/stable/modules/generated/sklearn.ensemble.RandomForestClassifier.html\" target=\"_blank\">ensemble.RandomForestClassifier</a><br>\n",
    "5. Для тестового множества сделайте предсказание целевой переменной. Выведите метрики для каждой построенной модели с помощью metrics.classification_report.<br>\n",
    "6. Выведите важность признаков, полученную после обучения модели из п. 4b в виде столбчатой диаграммы. Отсортируйте важность по убыванию.<br>\n",
    "7. Обучите бэггинг над моделью из п. 4a. Используйте <a href=\"https://scikit-learn.org/stable/modules/generated/sklearn.ensemble.BaggingClassifier.html\" target=\"_blank\">ensemble.BaggingClassifier</a>.<br>\n",
    "a) Повторите п. 5<br>\n",
    "Обучите стекинг трех моделей: из п. 4a, п. 4b и <a href=\"https://scikit-learn.org/stable/modules/generated/sklearn.svm.LinearSVC.html\" target=\"_blank\">svm.LinearSVC</a>. Используйте <a href=\"https://scikit-learn.org/stable/modules/generated/sklearn.ensemble.StackingClassifier.html\" target=\"_blank\">ensemble.StackingClassifier</a>.<br>\n",
    "a) Повторите п. 5<br>\n",
    "8. Сформулируйте выводы по проделанной работе.<br>\n",
    "a) Сравните метрики построенных моделей.<br>\n",
    "b) Напишите свое мнение, какая модель наилучшая и почему.<br>\n",
    "\n",
    "Для получения зачета по этому домашнему заданию, должно быть как минимум реализовано обучение двух моделей, выведена их точность, оптимизирован один параметр дерева решений.\n",
    "\n",
    "\n",
    "\n",
    "<b>Результат:</b>\n",
    "получены знания по работе с деревом решений.\n",
    "<p>\n",
    "\n",
    "<b>Форма выполнения:</b>\n",
    "- Ссылка на Jupyter Notebook, загруженный на GitHub\n",
    "- Ссылка на Google Colab\n",
    "- Файл с расширением .ipynb<p>\n",
    "\n",
    "   \n",
    "<b>Инструменты:</b>\n",
    "- Jupyter Notebook/Google Colab;\n",
    "- GitHub;\n",
    "- данные с <a href=\"https://www.kaggle.com/fedesoriano/heart-failure-prediction\" target=\"_blank\">сайта</a>\n",
    "- <a href=\"https://pandas.pydata.org/docs/reference/api/pandas.get_dummies.html\" target=\"_blank\">pd.get_dummies,</a>, <a href=\"https://scikit-learn.org/stable/modules/generated/sklearn.preprocessing.LabelEncoder.html\" target=\"_blank\">preprocessing.LabelEncoder</a>\n",
    "- модели <a href=\"https://scikit-learn.org/stable/modules/generated/sklearn.tree.DecisionTreeClassifier.html\" target=\"_blank\">tree.DecisionTreeClassifier</a> и <a href=\"https://scikit-learn.org/stable/modules/generated/sklearn.ensemble.RandomForestClassifier.html\" target=\"_blank\">ensemble.RandomForestClassifier</a>\n",
    "- <a href=\"https://scikit-learn.org/stable/modules/generated/sklearn.metrics.classification_report.html\" target=\"_blank\">metrics.classification_report</a>\n",
    "- <a href=\"https://scikit-learn.org/stable/modules/generated/sklearn.ensemble.BaggingClassifier.html\" target=\"_blank\">ensemble.BaggingClassifier</a>\n",
    "- <a href=\"https://scikit-learn.org/stable/modules/generated/sklearn.svm.LinearSVC.html\" target=\"_blank\">svm.LinearSVC</a>\n",
    "- <a href=\"https://scikit-learn.org/stable/modules/generated/sklearn.ensemble.StackingClassifier.html\" target=\"_blank\">ensemble.StackingClassifier</a>\n",
    "    \n",
    "    \n",
    "<b>Срок выполнения:</b> дедлайн приема решений на проверку\n",
    "    \n",
    "<b><i>Рекомендации к выполнению: </b></i><br>\n",
    "- Текст оформляйте в отдельной ячейке Jupyter Notebook/Google Colab в формате markdown.\n",
    "- У графиков должен быть заголовок, подписи осей, легенда (опционально). Делайте графики бОльшего размера, чем стандартный вывод, чтобы увеличить читабельность.\n",
    "- Убедитесь, что по ссылкам есть доступ на чтение/просмотр.\n",
    "- Убедитесь, что все ячейки в работе выполнены и можно увидеть их вывод без повторного запуска."
   ]
  },
  {
   "cell_type": "markdown",
   "id": "ba0ad7a7-fc6f-4293-9c63-350e7b250c18",
   "metadata": {},
   "source": [
    "____"
   ]
  },
  {
   "cell_type": "markdown",
   "id": "ee47928c-5f05-4050-bb4a-ac045fa4d7b1",
   "metadata": {},
   "source": [
    "### Решение"
   ]
  },
  {
   "cell_type": "markdown",
   "id": "8166312b-2fd9-4fc8-9413-9b2b4c2f063a",
   "metadata": {},
   "source": [
    "> #### Получите данные и загрузите их в рабочую среду"
   ]
  },
  {
   "cell_type": "code",
   "execution_count": 56,
   "id": "67e9f8fe-2427-4a72-a9bb-8f7733df9662",
   "metadata": {},
   "outputs": [],
   "source": [
    "import pandas as pd\n",
    "import numpy as np\n",
    "from matplotlib import pyplot as plt\n",
    "%matplotlib inline\n",
    "import seaborn as sns"
   ]
  },
  {
   "cell_type": "code",
   "execution_count": 57,
   "id": "30d8f479-05fb-441d-999c-952998ef17f0",
   "metadata": {},
   "outputs": [
    {
     "name": "stdout",
     "output_type": "stream",
     "text": [
      "(918, 12)\n",
      "<class 'pandas.core.frame.DataFrame'>\n",
      "RangeIndex: 918 entries, 0 to 917\n",
      "Data columns (total 12 columns):\n",
      " #   Column          Non-Null Count  Dtype  \n",
      "---  ------          --------------  -----  \n",
      " 0   Age             918 non-null    int64  \n",
      " 1   Sex             918 non-null    object \n",
      " 2   ChestPainType   918 non-null    object \n",
      " 3   RestingBP       918 non-null    int64  \n",
      " 4   Cholesterol     918 non-null    int64  \n",
      " 5   FastingBS       918 non-null    int64  \n",
      " 6   RestingECG      918 non-null    object \n",
      " 7   MaxHR           918 non-null    int64  \n",
      " 8   ExerciseAngina  918 non-null    object \n",
      " 9   Oldpeak         918 non-null    float64\n",
      " 10  ST_Slope        918 non-null    object \n",
      " 11  HeartDisease    918 non-null    int64  \n",
      "dtypes: float64(1), int64(6), object(5)\n",
      "memory usage: 86.2+ KB\n"
     ]
    }
   ],
   "source": [
    "# загружаем данные\n",
    "data = pd.read_csv('heart.csv')\n",
    "print(data.shape)\n",
    "data.info()"
   ]
  },
  {
   "cell_type": "markdown",
   "id": "a1bcabac-6308-41c9-aba5-25f4da0beb08",
   "metadata": {},
   "source": [
    "#### Описание датасета:\n",
    "1. *Age* : возраст  [лет]\n",
    "2. *Sex* : пол M / F ( мужской / женский)\n",
    "3. *ChestPainType* : тип боли в груди [TA: Типичная стенокардия, ATA: Атипичная стенокардия, NAP: Неангинальная боль, ASY: Бессимптомное течение]\n",
    "4. *RestingBP* : артериальное давление в покое [мм рт.ст.]\n",
    "5. *Cholesterol* : холестерин сыворотки [мм/дл]\n",
    "6. *FastingBS* : уровень сахара в крови натощак [1: если FastingBS > 120 мг/дл, 0: иначе]\n",
    "7. *RestingECG* : результаты электрокардиограммы в покое [Normal: нормальная, ST: аномалия ST-T (инверсия зубца T и/или подъем или депрессия ST > 0,05 мВ), LVH: вероятная или определенная гипертрофия левого желудочка по критериям Эстеса]\n",
    "8. *MaxHR* : максимальная достигнутая частота сердечных сокращений [Числовое значение от 60 до 202]\n",
    "9. *ExerciseAngina* : стенокардия, вызванная физической нагрузкой [Yes / No]\n",
    "10. *Oldpeak* : Oldpeak = ST [Числовое значение, измеренное в депрессии]\n",
    "12. *ST_Slope* : наклон сегмента ST Oldpeak [Up: восходящий, Flat: плоский, Down: нисходящий]\n",
    "13. *HeartDisease* : итоговый класс [1: болезнь сердца, 0: нормальный] - *Целевая переменная*\n"
   ]
  },
  {
   "cell_type": "markdown",
   "id": "1f02e9a5-5f11-4c61-8407-70b342aee2d2",
   "metadata": {},
   "source": [
    "> Проведем ряд стандартных проверок, для выявления пропусков, выбросов и прочее"
   ]
  },
  {
   "cell_type": "code",
   "execution_count": 58,
   "id": "fce1d4fa-d210-436c-8f36-f5f8cac80118",
   "metadata": {},
   "outputs": [
    {
     "data": {
      "text/html": [
       "<div>\n",
       "<style scoped>\n",
       "    .dataframe tbody tr th:only-of-type {\n",
       "        vertical-align: middle;\n",
       "    }\n",
       "\n",
       "    .dataframe tbody tr th {\n",
       "        vertical-align: top;\n",
       "    }\n",
       "\n",
       "    .dataframe thead th {\n",
       "        text-align: right;\n",
       "    }\n",
       "</style>\n",
       "<table border=\"1\" class=\"dataframe\">\n",
       "  <thead>\n",
       "    <tr style=\"text-align: right;\">\n",
       "      <th></th>\n",
       "      <th>Age</th>\n",
       "      <th>Sex</th>\n",
       "      <th>ChestPainType</th>\n",
       "      <th>RestingBP</th>\n",
       "      <th>Cholesterol</th>\n",
       "      <th>FastingBS</th>\n",
       "      <th>RestingECG</th>\n",
       "      <th>MaxHR</th>\n",
       "      <th>ExerciseAngina</th>\n",
       "      <th>Oldpeak</th>\n",
       "      <th>ST_Slope</th>\n",
       "      <th>HeartDisease</th>\n",
       "    </tr>\n",
       "  </thead>\n",
       "  <tbody>\n",
       "    <tr>\n",
       "      <th>0</th>\n",
       "      <td>40</td>\n",
       "      <td>M</td>\n",
       "      <td>ATA</td>\n",
       "      <td>140</td>\n",
       "      <td>289</td>\n",
       "      <td>0</td>\n",
       "      <td>Normal</td>\n",
       "      <td>172</td>\n",
       "      <td>N</td>\n",
       "      <td>0.0</td>\n",
       "      <td>Up</td>\n",
       "      <td>0</td>\n",
       "    </tr>\n",
       "    <tr>\n",
       "      <th>1</th>\n",
       "      <td>49</td>\n",
       "      <td>F</td>\n",
       "      <td>NAP</td>\n",
       "      <td>160</td>\n",
       "      <td>180</td>\n",
       "      <td>0</td>\n",
       "      <td>Normal</td>\n",
       "      <td>156</td>\n",
       "      <td>N</td>\n",
       "      <td>1.0</td>\n",
       "      <td>Flat</td>\n",
       "      <td>1</td>\n",
       "    </tr>\n",
       "    <tr>\n",
       "      <th>2</th>\n",
       "      <td>37</td>\n",
       "      <td>M</td>\n",
       "      <td>ATA</td>\n",
       "      <td>130</td>\n",
       "      <td>283</td>\n",
       "      <td>0</td>\n",
       "      <td>ST</td>\n",
       "      <td>98</td>\n",
       "      <td>N</td>\n",
       "      <td>0.0</td>\n",
       "      <td>Up</td>\n",
       "      <td>0</td>\n",
       "    </tr>\n",
       "    <tr>\n",
       "      <th>3</th>\n",
       "      <td>48</td>\n",
       "      <td>F</td>\n",
       "      <td>ASY</td>\n",
       "      <td>138</td>\n",
       "      <td>214</td>\n",
       "      <td>0</td>\n",
       "      <td>Normal</td>\n",
       "      <td>108</td>\n",
       "      <td>Y</td>\n",
       "      <td>1.5</td>\n",
       "      <td>Flat</td>\n",
       "      <td>1</td>\n",
       "    </tr>\n",
       "    <tr>\n",
       "      <th>4</th>\n",
       "      <td>54</td>\n",
       "      <td>M</td>\n",
       "      <td>NAP</td>\n",
       "      <td>150</td>\n",
       "      <td>195</td>\n",
       "      <td>0</td>\n",
       "      <td>Normal</td>\n",
       "      <td>122</td>\n",
       "      <td>N</td>\n",
       "      <td>0.0</td>\n",
       "      <td>Up</td>\n",
       "      <td>0</td>\n",
       "    </tr>\n",
       "  </tbody>\n",
       "</table>\n",
       "</div>"
      ],
      "text/plain": [
       "   Age Sex ChestPainType  RestingBP  Cholesterol  FastingBS RestingECG  MaxHR  \\\n",
       "0   40   M           ATA        140          289          0     Normal    172   \n",
       "1   49   F           NAP        160          180          0     Normal    156   \n",
       "2   37   M           ATA        130          283          0         ST     98   \n",
       "3   48   F           ASY        138          214          0     Normal    108   \n",
       "4   54   M           NAP        150          195          0     Normal    122   \n",
       "\n",
       "  ExerciseAngina  Oldpeak ST_Slope  HeartDisease  \n",
       "0              N      0.0       Up             0  \n",
       "1              N      1.0     Flat             1  \n",
       "2              N      0.0       Up             0  \n",
       "3              Y      1.5     Flat             1  \n",
       "4              N      0.0       Up             0  "
      ]
     },
     "execution_count": 58,
     "metadata": {},
     "output_type": "execute_result"
    }
   ],
   "source": [
    "data.head()"
   ]
  },
  {
   "cell_type": "code",
   "execution_count": 59,
   "id": "749b549b-3884-4fbd-93c4-92e68767ce00",
   "metadata": {},
   "outputs": [
    {
     "data": {
      "text/plain": [
       "Age               0\n",
       "Sex               0\n",
       "ChestPainType     0\n",
       "RestingBP         0\n",
       "Cholesterol       0\n",
       "FastingBS         0\n",
       "RestingECG        0\n",
       "MaxHR             0\n",
       "ExerciseAngina    0\n",
       "Oldpeak           0\n",
       "ST_Slope          0\n",
       "HeartDisease      0\n",
       "dtype: int64"
      ]
     },
     "execution_count": 59,
     "metadata": {},
     "output_type": "execute_result"
    }
   ],
   "source": [
    "data.isnull().sum()"
   ]
  },
  {
   "cell_type": "code",
   "execution_count": 60,
   "id": "099ed848-908f-4fe6-be16-a2c7ce0a46e2",
   "metadata": {},
   "outputs": [
    {
     "data": {
      "text/html": [
       "<div>\n",
       "<style scoped>\n",
       "    .dataframe tbody tr th:only-of-type {\n",
       "        vertical-align: middle;\n",
       "    }\n",
       "\n",
       "    .dataframe tbody tr th {\n",
       "        vertical-align: top;\n",
       "    }\n",
       "\n",
       "    .dataframe thead th {\n",
       "        text-align: right;\n",
       "    }\n",
       "</style>\n",
       "<table border=\"1\" class=\"dataframe\">\n",
       "  <thead>\n",
       "    <tr style=\"text-align: right;\">\n",
       "      <th></th>\n",
       "      <th>Age</th>\n",
       "      <th>RestingBP</th>\n",
       "      <th>Cholesterol</th>\n",
       "      <th>FastingBS</th>\n",
       "      <th>MaxHR</th>\n",
       "      <th>Oldpeak</th>\n",
       "      <th>HeartDisease</th>\n",
       "    </tr>\n",
       "  </thead>\n",
       "  <tbody>\n",
       "    <tr>\n",
       "      <th>count</th>\n",
       "      <td>918.000000</td>\n",
       "      <td>918.000000</td>\n",
       "      <td>918.000000</td>\n",
       "      <td>918.000000</td>\n",
       "      <td>918.000000</td>\n",
       "      <td>918.000000</td>\n",
       "      <td>918.000000</td>\n",
       "    </tr>\n",
       "    <tr>\n",
       "      <th>mean</th>\n",
       "      <td>53.510893</td>\n",
       "      <td>132.396514</td>\n",
       "      <td>198.799564</td>\n",
       "      <td>0.233115</td>\n",
       "      <td>136.809368</td>\n",
       "      <td>0.887364</td>\n",
       "      <td>0.553377</td>\n",
       "    </tr>\n",
       "    <tr>\n",
       "      <th>std</th>\n",
       "      <td>9.432617</td>\n",
       "      <td>18.514154</td>\n",
       "      <td>109.384145</td>\n",
       "      <td>0.423046</td>\n",
       "      <td>25.460334</td>\n",
       "      <td>1.066570</td>\n",
       "      <td>0.497414</td>\n",
       "    </tr>\n",
       "    <tr>\n",
       "      <th>min</th>\n",
       "      <td>28.000000</td>\n",
       "      <td>0.000000</td>\n",
       "      <td>0.000000</td>\n",
       "      <td>0.000000</td>\n",
       "      <td>60.000000</td>\n",
       "      <td>-2.600000</td>\n",
       "      <td>0.000000</td>\n",
       "    </tr>\n",
       "    <tr>\n",
       "      <th>25%</th>\n",
       "      <td>47.000000</td>\n",
       "      <td>120.000000</td>\n",
       "      <td>173.250000</td>\n",
       "      <td>0.000000</td>\n",
       "      <td>120.000000</td>\n",
       "      <td>0.000000</td>\n",
       "      <td>0.000000</td>\n",
       "    </tr>\n",
       "    <tr>\n",
       "      <th>50%</th>\n",
       "      <td>54.000000</td>\n",
       "      <td>130.000000</td>\n",
       "      <td>223.000000</td>\n",
       "      <td>0.000000</td>\n",
       "      <td>138.000000</td>\n",
       "      <td>0.600000</td>\n",
       "      <td>1.000000</td>\n",
       "    </tr>\n",
       "    <tr>\n",
       "      <th>75%</th>\n",
       "      <td>60.000000</td>\n",
       "      <td>140.000000</td>\n",
       "      <td>267.000000</td>\n",
       "      <td>0.000000</td>\n",
       "      <td>156.000000</td>\n",
       "      <td>1.500000</td>\n",
       "      <td>1.000000</td>\n",
       "    </tr>\n",
       "    <tr>\n",
       "      <th>max</th>\n",
       "      <td>77.000000</td>\n",
       "      <td>200.000000</td>\n",
       "      <td>603.000000</td>\n",
       "      <td>1.000000</td>\n",
       "      <td>202.000000</td>\n",
       "      <td>6.200000</td>\n",
       "      <td>1.000000</td>\n",
       "    </tr>\n",
       "  </tbody>\n",
       "</table>\n",
       "</div>"
      ],
      "text/plain": [
       "              Age   RestingBP  Cholesterol   FastingBS       MaxHR  \\\n",
       "count  918.000000  918.000000   918.000000  918.000000  918.000000   \n",
       "mean    53.510893  132.396514   198.799564    0.233115  136.809368   \n",
       "std      9.432617   18.514154   109.384145    0.423046   25.460334   \n",
       "min     28.000000    0.000000     0.000000    0.000000   60.000000   \n",
       "25%     47.000000  120.000000   173.250000    0.000000  120.000000   \n",
       "50%     54.000000  130.000000   223.000000    0.000000  138.000000   \n",
       "75%     60.000000  140.000000   267.000000    0.000000  156.000000   \n",
       "max     77.000000  200.000000   603.000000    1.000000  202.000000   \n",
       "\n",
       "          Oldpeak  HeartDisease  \n",
       "count  918.000000    918.000000  \n",
       "mean     0.887364      0.553377  \n",
       "std      1.066570      0.497414  \n",
       "min     -2.600000      0.000000  \n",
       "25%      0.000000      0.000000  \n",
       "50%      0.600000      1.000000  \n",
       "75%      1.500000      1.000000  \n",
       "max      6.200000      1.000000  "
      ]
     },
     "execution_count": 60,
     "metadata": {},
     "output_type": "execute_result"
    }
   ],
   "source": [
    "data.describe()"
   ]
  },
  {
   "cell_type": "markdown",
   "id": "e18ac542-2e75-4764-a6f0-1c4c00d7e392",
   "metadata": {},
   "source": [
    "> Из полученных даннных видим, что пропусков нет"
   ]
  },
  {
   "cell_type": "markdown",
   "id": "20a8d880-88eb-4031-ba1b-b5089f2e9a77",
   "metadata": {},
   "source": [
    "> #### Подготавливаем датасет к обучению моделей"
   ]
  },
  {
   "cell_type": "code",
   "execution_count": 61,
   "id": "cdc25988-d871-4805-8b1d-55d3cd8a5faa",
   "metadata": {},
   "outputs": [],
   "source": [
    "from sklearn.preprocessing import LabelEncoder"
   ]
  },
  {
   "cell_type": "code",
   "execution_count": 62,
   "id": "f876a2b8-3bae-4867-a6dc-9d8ab4a3ff2d",
   "metadata": {},
   "outputs": [],
   "source": [
    "def lab_enc(df, column = []):\n",
    "    '''\n",
    "    Функция LabelEncorder для кодирование категориальных переменных с двумя типами данных в 1 / 0\n",
    "    '''\n",
    "    lei = LabelEncoder()\n",
    "    lei.fit(df[column])\n",
    "    df[column]=lei.transform(df[column])"
   ]
  },
  {
   "cell_type": "code",
   "execution_count": 63,
   "id": "00da3418-9210-4a8a-9fbc-2c22324a5def",
   "metadata": {},
   "outputs": [],
   "source": [
    "# кодируем пол и ExerciseAngina, так как они имеют всего два значения в 1 и 0\n",
    "\n",
    "lab_enc(data, 'ExerciseAngina')\n",
    "lab_enc(data, 'Sex')"
   ]
  },
  {
   "cell_type": "code",
   "execution_count": 64,
   "id": "fa471dbf-9570-4969-b531-be53990fda40",
   "metadata": {},
   "outputs": [],
   "source": [
    "# кодируем остальные даные с помощью get_dummies (pandas)\n",
    "temp = pd.get_dummies(data, columns=['ChestPainType', 'RestingECG', 'ST_Slope'])"
   ]
  },
  {
   "cell_type": "code",
   "execution_count": 65,
   "id": "d53678fe-49e3-4ef8-a184-c735cf39700f",
   "metadata": {},
   "outputs": [
    {
     "data": {
      "text/plain": [
       "<AxesSubplot:xlabel='HeartDisease', ylabel='Age'>"
      ]
     },
     "execution_count": 65,
     "metadata": {},
     "output_type": "execute_result"
    },
    {
     "data": {
      "image/png": "[encoded data removed]",
      "text/plain": [
       "<Figure size 432x288 with 1 Axes>"
      ]
     },
     "metadata": {
      "needs_background": "light"
     },
     "output_type": "display_data"
    }
   ],
   "source": [
    "# Выведем в виде ящика с усами информацию по болезни сердца от возраста\n",
    "\n",
    "sns.boxplot(data=temp, x=\"HeartDisease\", y=\"Age\")"
   ]
  },
  {
   "cell_type": "markdown",
   "id": "662333a5-4246-4624-befa-4318e4f30a34",
   "metadata": {},
   "source": [
    "> По графику можно определить, что примерно с 55 лет вероятность, основанная на дата сете, болезни сердца выше, чем до этого возраста."
   ]
  },
  {
   "cell_type": "code",
   "execution_count": 66,
   "id": "7364ab3f-6df9-4168-95d0-6d4207a50f36",
   "metadata": {},
   "outputs": [],
   "source": [
    "# # Посчитаем и выведим корреляционную матрицу\n",
    "\n",
    "# fig, ax = plt.subplots(figsize = (20,20))\n",
    "# corr_matrix = temp.corr()\n",
    "# sns.heatmap(corr_matrix, cmap = 'coolwarm', annot = True, fmt = '.2f')\n",
    "# plt.title('Correlation Matrix for Heart Failure Prediction Dataset')\n",
    "# plt.show()\n",
    "\n",
    "# Сильной корреляции нет, вы водить ее не стоит для того что бы не испортить данные."
   ]
  },
  {
   "cell_type": "code",
   "execution_count": 67,
   "id": "74964550-37de-4c41-9b57-450be4471c1f",
   "metadata": {},
   "outputs": [
    {
     "data": {
      "text/html": [
       "<div>\n",
       "<style scoped>\n",
       "    .dataframe tbody tr th:only-of-type {\n",
       "        vertical-align: middle;\n",
       "    }\n",
       "\n",
       "    .dataframe tbody tr th {\n",
       "        vertical-align: top;\n",
       "    }\n",
       "\n",
       "    .dataframe thead th {\n",
       "        text-align: right;\n",
       "    }\n",
       "</style>\n",
       "<table border=\"1\" class=\"dataframe\">\n",
       "  <thead>\n",
       "    <tr style=\"text-align: right;\">\n",
       "      <th></th>\n",
       "      <th>Age</th>\n",
       "      <th>Sex</th>\n",
       "      <th>RestingBP</th>\n",
       "      <th>Cholesterol</th>\n",
       "      <th>FastingBS</th>\n",
       "      <th>MaxHR</th>\n",
       "      <th>ExerciseAngina</th>\n",
       "      <th>Oldpeak</th>\n",
       "      <th>HeartDisease</th>\n",
       "      <th>ChestPainType_ASY</th>\n",
       "      <th>ChestPainType_ATA</th>\n",
       "      <th>ChestPainType_NAP</th>\n",
       "      <th>ChestPainType_TA</th>\n",
       "      <th>RestingECG_LVH</th>\n",
       "      <th>RestingECG_Normal</th>\n",
       "      <th>RestingECG_ST</th>\n",
       "      <th>ST_Slope_Down</th>\n",
       "      <th>ST_Slope_Flat</th>\n",
       "      <th>ST_Slope_Up</th>\n",
       "    </tr>\n",
       "  </thead>\n",
       "  <tbody>\n",
       "    <tr>\n",
       "      <th>count</th>\n",
       "      <td>918.000000</td>\n",
       "      <td>918.000000</td>\n",
       "      <td>918.000000</td>\n",
       "      <td>918.000000</td>\n",
       "      <td>918.000000</td>\n",
       "      <td>918.000000</td>\n",
       "      <td>918.000000</td>\n",
       "      <td>918.000000</td>\n",
       "      <td>918.000000</td>\n",
       "      <td>918.000000</td>\n",
       "      <td>918.000000</td>\n",
       "      <td>918.000000</td>\n",
       "      <td>918.000000</td>\n",
       "      <td>918.000000</td>\n",
       "      <td>918.000000</td>\n",
       "      <td>918.000000</td>\n",
       "      <td>918.000000</td>\n",
       "      <td>918.000000</td>\n",
       "      <td>918.000000</td>\n",
       "    </tr>\n",
       "    <tr>\n",
       "      <th>mean</th>\n",
       "      <td>53.510893</td>\n",
       "      <td>0.789760</td>\n",
       "      <td>132.396514</td>\n",
       "      <td>198.799564</td>\n",
       "      <td>0.233115</td>\n",
       "      <td>136.809368</td>\n",
       "      <td>0.404139</td>\n",
       "      <td>0.887364</td>\n",
       "      <td>0.553377</td>\n",
       "      <td>0.540305</td>\n",
       "      <td>0.188453</td>\n",
       "      <td>0.221133</td>\n",
       "      <td>0.050109</td>\n",
       "      <td>0.204793</td>\n",
       "      <td>0.601307</td>\n",
       "      <td>0.193900</td>\n",
       "      <td>0.068627</td>\n",
       "      <td>0.501089</td>\n",
       "      <td>0.430283</td>\n",
       "    </tr>\n",
       "    <tr>\n",
       "      <th>std</th>\n",
       "      <td>9.432617</td>\n",
       "      <td>0.407701</td>\n",
       "      <td>18.514154</td>\n",
       "      <td>109.384145</td>\n",
       "      <td>0.423046</td>\n",
       "      <td>25.460334</td>\n",
       "      <td>0.490992</td>\n",
       "      <td>1.066570</td>\n",
       "      <td>0.497414</td>\n",
       "      <td>0.498645</td>\n",
       "      <td>0.391287</td>\n",
       "      <td>0.415236</td>\n",
       "      <td>0.218289</td>\n",
       "      <td>0.403770</td>\n",
       "      <td>0.489896</td>\n",
       "      <td>0.395567</td>\n",
       "      <td>0.252957</td>\n",
       "      <td>0.500271</td>\n",
       "      <td>0.495386</td>\n",
       "    </tr>\n",
       "    <tr>\n",
       "      <th>min</th>\n",
       "      <td>28.000000</td>\n",
       "      <td>0.000000</td>\n",
       "      <td>0.000000</td>\n",
       "      <td>0.000000</td>\n",
       "      <td>0.000000</td>\n",
       "      <td>60.000000</td>\n",
       "      <td>0.000000</td>\n",
       "      <td>-2.600000</td>\n",
       "      <td>0.000000</td>\n",
       "      <td>0.000000</td>\n",
       "      <td>0.000000</td>\n",
       "      <td>0.000000</td>\n",
       "      <td>0.000000</td>\n",
       "      <td>0.000000</td>\n",
       "      <td>0.000000</td>\n",
       "      <td>0.000000</td>\n",
       "      <td>0.000000</td>\n",
       "      <td>0.000000</td>\n",
       "      <td>0.000000</td>\n",
       "    </tr>\n",
       "    <tr>\n",
       "      <th>25%</th>\n",
       "      <td>47.000000</td>\n",
       "      <td>1.000000</td>\n",
       "      <td>120.000000</td>\n",
       "      <td>173.250000</td>\n",
       "      <td>0.000000</td>\n",
       "      <td>120.000000</td>\n",
       "      <td>0.000000</td>\n",
       "      <td>0.000000</td>\n",
       "      <td>0.000000</td>\n",
       "      <td>0.000000</td>\n",
       "      <td>0.000000</td>\n",
       "      <td>0.000000</td>\n",
       "      <td>0.000000</td>\n",
       "      <td>0.000000</td>\n",
       "      <td>0.000000</td>\n",
       "      <td>0.000000</td>\n",
       "      <td>0.000000</td>\n",
       "      <td>0.000000</td>\n",
       "      <td>0.000000</td>\n",
       "    </tr>\n",
       "    <tr>\n",
       "      <th>50%</th>\n",
       "      <td>54.000000</td>\n",
       "      <td>1.000000</td>\n",
       "      <td>130.000000</td>\n",
       "      <td>223.000000</td>\n",
       "      <td>0.000000</td>\n",
       "      <td>138.000000</td>\n",
       "      <td>0.000000</td>\n",
       "      <td>0.600000</td>\n",
       "      <td>1.000000</td>\n",
       "      <td>1.000000</td>\n",
       "      <td>0.000000</td>\n",
       "      <td>0.000000</td>\n",
       "      <td>0.000000</td>\n",
       "      <td>0.000000</td>\n",
       "      <td>1.000000</td>\n",
       "      <td>0.000000</td>\n",
       "      <td>0.000000</td>\n",
       "      <td>1.000000</td>\n",
       "      <td>0.000000</td>\n",
       "    </tr>\n",
       "    <tr>\n",
       "      <th>75%</th>\n",
       "      <td>60.000000</td>\n",
       "      <td>1.000000</td>\n",
       "      <td>140.000000</td>\n",
       "      <td>267.000000</td>\n",
       "      <td>0.000000</td>\n",
       "      <td>156.000000</td>\n",
       "      <td>1.000000</td>\n",
       "      <td>1.500000</td>\n",
       "      <td>1.000000</td>\n",
       "      <td>1.000000</td>\n",
       "      <td>0.000000</td>\n",
       "      <td>0.000000</td>\n",
       "      <td>0.000000</td>\n",
       "      <td>0.000000</td>\n",
       "      <td>1.000000</td>\n",
       "      <td>0.000000</td>\n",
       "      <td>0.000000</td>\n",
       "      <td>1.000000</td>\n",
       "      <td>1.000000</td>\n",
       "    </tr>\n",
       "    <tr>\n",
       "      <th>max</th>\n",
       "      <td>77.000000</td>\n",
       "      <td>1.000000</td>\n",
       "      <td>200.000000</td>\n",
       "      <td>603.000000</td>\n",
       "      <td>1.000000</td>\n",
       "      <td>202.000000</td>\n",
       "      <td>1.000000</td>\n",
       "      <td>6.200000</td>\n",
       "      <td>1.000000</td>\n",
       "      <td>1.000000</td>\n",
       "      <td>1.000000</td>\n",
       "      <td>1.000000</td>\n",
       "      <td>1.000000</td>\n",
       "      <td>1.000000</td>\n",
       "      <td>1.000000</td>\n",
       "      <td>1.000000</td>\n",
       "      <td>1.000000</td>\n",
       "      <td>1.000000</td>\n",
       "      <td>1.000000</td>\n",
       "    </tr>\n",
       "  </tbody>\n",
       "</table>\n",
       "</div>"
      ],
      "text/plain": [
       "              Age         Sex   RestingBP  Cholesterol   FastingBS  \\\n",
       "count  918.000000  918.000000  918.000000   918.000000  918.000000   \n",
       "mean    53.510893    0.789760  132.396514   198.799564    0.233115   \n",
       "std      9.432617    0.407701   18.514154   109.384145    0.423046   \n",
       "min     28.000000    0.000000    0.000000     0.000000    0.000000   \n",
       "25%     47.000000    1.000000  120.000000   173.250000    0.000000   \n",
       "50%     54.000000    1.000000  130.000000   223.000000    0.000000   \n",
       "75%     60.000000    1.000000  140.000000   267.000000    0.000000   \n",
       "max     77.000000    1.000000  200.000000   603.000000    1.000000   \n",
       "\n",
       "            MaxHR  ExerciseAngina     Oldpeak  HeartDisease  \\\n",
       "count  918.000000      918.000000  918.000000    918.000000   \n",
       "mean   136.809368        0.404139    0.887364      0.553377   \n",
       "std     25.460334        0.490992    1.066570      0.497414   \n",
       "min     60.000000        0.000000   -2.600000      0.000000   \n",
       "25%    120.000000        0.000000    0.000000      0.000000   \n",
       "50%    138.000000        0.000000    0.600000      1.000000   \n",
       "75%    156.000000        1.000000    1.500000      1.000000   \n",
       "max    202.000000        1.000000    6.200000      1.000000   \n",
       "\n",
       "       ChestPainType_ASY  ChestPainType_ATA  ChestPainType_NAP  \\\n",
       "count         918.000000         918.000000         918.000000   \n",
       "mean            0.540305           0.188453           0.221133   \n",
       "std             0.498645           0.391287           0.415236   \n",
       "min             0.000000           0.000000           0.000000   \n",
       "25%             0.000000           0.000000           0.000000   \n",
       "50%             1.000000           0.000000           0.000000   \n",
       "75%             1.000000           0.000000           0.000000   \n",
       "max             1.000000           1.000000           1.000000   \n",
       "\n",
       "       ChestPainType_TA  RestingECG_LVH  RestingECG_Normal  RestingECG_ST  \\\n",
       "count        918.000000      918.000000         918.000000     918.000000   \n",
       "mean           0.050109        0.204793           0.601307       0.193900   \n",
       "std            0.218289        0.403770           0.489896       0.395567   \n",
       "min            0.000000        0.000000           0.000000       0.000000   \n",
       "25%            0.000000        0.000000           0.000000       0.000000   \n",
       "50%            0.000000        0.000000           1.000000       0.000000   \n",
       "75%            0.000000        0.000000           1.000000       0.000000   \n",
       "max            1.000000        1.000000           1.000000       1.000000   \n",
       "\n",
       "       ST_Slope_Down  ST_Slope_Flat  ST_Slope_Up  \n",
       "count     918.000000     918.000000   918.000000  \n",
       "mean        0.068627       0.501089     0.430283  \n",
       "std         0.252957       0.500271     0.495386  \n",
       "min         0.000000       0.000000     0.000000  \n",
       "25%         0.000000       0.000000     0.000000  \n",
       "50%         0.000000       1.000000     0.000000  \n",
       "75%         0.000000       1.000000     1.000000  \n",
       "max         1.000000       1.000000     1.000000  "
      ]
     },
     "execution_count": 67,
     "metadata": {},
     "output_type": "execute_result"
    }
   ],
   "source": [
    "temp.describe()"
   ]
  },
  {
   "cell_type": "code",
   "execution_count": 68,
   "id": "ac92fdac-3465-49e0-b32f-2877de0d19ba",
   "metadata": {},
   "outputs": [],
   "source": [
    "# Для улучшения работы алгоритмов модели проведем нормализацию данных для столбцов\n",
    "# Но, сначала сделаю еще одну копию, что бы потом можно было сроавнить полученные данные моделей если нужно будет\n",
    "\n",
    "temp1 = temp.copy()\n",
    "\n",
    "from sklearn.preprocessing import MinMaxScaler\n",
    "\n",
    "scaler = MinMaxScaler()\n",
    "temp1['Age'] = scaler.fit_transform(temp1[['Age']])\n",
    "temp1['Cholesterol'] = scaler.fit_transform(temp1[['Cholesterol']])\n",
    "temp1['MaxHR'] = scaler.fit_transform(temp1[['MaxHR']])\n",
    "temp1['Oldpeak'] = scaler.fit_transform(temp1[['Oldpeak']])\n",
    "temp1['RestingBP'] = scaler.fit_transform(temp1[['RestingBP']])"
   ]
  },
  {
   "cell_type": "code",
   "execution_count": 69,
   "id": "15b4363b-581e-4c63-a4ac-13d41017db5c",
   "metadata": {},
   "outputs": [
    {
     "data": {
      "text/html": [
       "<div>\n",
       "<style scoped>\n",
       "    .dataframe tbody tr th:only-of-type {\n",
       "        vertical-align: middle;\n",
       "    }\n",
       "\n",
       "    .dataframe tbody tr th {\n",
       "        vertical-align: top;\n",
       "    }\n",
       "\n",
       "    .dataframe thead th {\n",
       "        text-align: right;\n",
       "    }\n",
       "</style>\n",
       "<table border=\"1\" class=\"dataframe\">\n",
       "  <thead>\n",
       "    <tr style=\"text-align: right;\">\n",
       "      <th></th>\n",
       "      <th>Age</th>\n",
       "      <th>Sex</th>\n",
       "      <th>RestingBP</th>\n",
       "      <th>Cholesterol</th>\n",
       "      <th>FastingBS</th>\n",
       "      <th>MaxHR</th>\n",
       "      <th>ExerciseAngina</th>\n",
       "      <th>Oldpeak</th>\n",
       "      <th>HeartDisease</th>\n",
       "      <th>ChestPainType_ASY</th>\n",
       "      <th>ChestPainType_ATA</th>\n",
       "      <th>ChestPainType_NAP</th>\n",
       "      <th>ChestPainType_TA</th>\n",
       "      <th>RestingECG_LVH</th>\n",
       "      <th>RestingECG_Normal</th>\n",
       "      <th>RestingECG_ST</th>\n",
       "      <th>ST_Slope_Down</th>\n",
       "      <th>ST_Slope_Flat</th>\n",
       "      <th>ST_Slope_Up</th>\n",
       "    </tr>\n",
       "  </thead>\n",
       "  <tbody>\n",
       "    <tr>\n",
       "      <th>count</th>\n",
       "      <td>918.000000</td>\n",
       "      <td>918.000000</td>\n",
       "      <td>918.000000</td>\n",
       "      <td>918.000000</td>\n",
       "      <td>918.000000</td>\n",
       "      <td>918.000000</td>\n",
       "      <td>918.000000</td>\n",
       "      <td>918.000000</td>\n",
       "      <td>918.000000</td>\n",
       "      <td>918.000000</td>\n",
       "      <td>918.000000</td>\n",
       "      <td>918.000000</td>\n",
       "      <td>918.000000</td>\n",
       "      <td>918.000000</td>\n",
       "      <td>918.000000</td>\n",
       "      <td>918.000000</td>\n",
       "      <td>918.000000</td>\n",
       "      <td>918.000000</td>\n",
       "      <td>918.000000</td>\n",
       "    </tr>\n",
       "    <tr>\n",
       "      <th>mean</th>\n",
       "      <td>0.520630</td>\n",
       "      <td>0.789760</td>\n",
       "      <td>0.661983</td>\n",
       "      <td>0.329684</td>\n",
       "      <td>0.233115</td>\n",
       "      <td>0.540911</td>\n",
       "      <td>0.404139</td>\n",
       "      <td>0.396291</td>\n",
       "      <td>0.553377</td>\n",
       "      <td>0.540305</td>\n",
       "      <td>0.188453</td>\n",
       "      <td>0.221133</td>\n",
       "      <td>0.050109</td>\n",
       "      <td>0.204793</td>\n",
       "      <td>0.601307</td>\n",
       "      <td>0.193900</td>\n",
       "      <td>0.068627</td>\n",
       "      <td>0.501089</td>\n",
       "      <td>0.430283</td>\n",
       "    </tr>\n",
       "    <tr>\n",
       "      <th>std</th>\n",
       "      <td>0.192502</td>\n",
       "      <td>0.407701</td>\n",
       "      <td>0.092571</td>\n",
       "      <td>0.181400</td>\n",
       "      <td>0.423046</td>\n",
       "      <td>0.179298</td>\n",
       "      <td>0.490992</td>\n",
       "      <td>0.121201</td>\n",
       "      <td>0.497414</td>\n",
       "      <td>0.498645</td>\n",
       "      <td>0.391287</td>\n",
       "      <td>0.415236</td>\n",
       "      <td>0.218289</td>\n",
       "      <td>0.403770</td>\n",
       "      <td>0.489896</td>\n",
       "      <td>0.395567</td>\n",
       "      <td>0.252957</td>\n",
       "      <td>0.500271</td>\n",
       "      <td>0.495386</td>\n",
       "    </tr>\n",
       "    <tr>\n",
       "      <th>min</th>\n",
       "      <td>0.000000</td>\n",
       "      <td>0.000000</td>\n",
       "      <td>0.000000</td>\n",
       "      <td>0.000000</td>\n",
       "      <td>0.000000</td>\n",
       "      <td>0.000000</td>\n",
       "      <td>0.000000</td>\n",
       "      <td>0.000000</td>\n",
       "      <td>0.000000</td>\n",
       "      <td>0.000000</td>\n",
       "      <td>0.000000</td>\n",
       "      <td>0.000000</td>\n",
       "      <td>0.000000</td>\n",
       "      <td>0.000000</td>\n",
       "      <td>0.000000</td>\n",
       "      <td>0.000000</td>\n",
       "      <td>0.000000</td>\n",
       "      <td>0.000000</td>\n",
       "      <td>0.000000</td>\n",
       "    </tr>\n",
       "    <tr>\n",
       "      <th>25%</th>\n",
       "      <td>0.387755</td>\n",
       "      <td>1.000000</td>\n",
       "      <td>0.600000</td>\n",
       "      <td>0.287313</td>\n",
       "      <td>0.000000</td>\n",
       "      <td>0.422535</td>\n",
       "      <td>0.000000</td>\n",
       "      <td>0.295455</td>\n",
       "      <td>0.000000</td>\n",
       "      <td>0.000000</td>\n",
       "      <td>0.000000</td>\n",
       "      <td>0.000000</td>\n",
       "      <td>0.000000</td>\n",
       "      <td>0.000000</td>\n",
       "      <td>0.000000</td>\n",
       "      <td>0.000000</td>\n",
       "      <td>0.000000</td>\n",
       "      <td>0.000000</td>\n",
       "      <td>0.000000</td>\n",
       "    </tr>\n",
       "    <tr>\n",
       "      <th>50%</th>\n",
       "      <td>0.530612</td>\n",
       "      <td>1.000000</td>\n",
       "      <td>0.650000</td>\n",
       "      <td>0.369818</td>\n",
       "      <td>0.000000</td>\n",
       "      <td>0.549296</td>\n",
       "      <td>0.000000</td>\n",
       "      <td>0.363636</td>\n",
       "      <td>1.000000</td>\n",
       "      <td>1.000000</td>\n",
       "      <td>0.000000</td>\n",
       "      <td>0.000000</td>\n",
       "      <td>0.000000</td>\n",
       "      <td>0.000000</td>\n",
       "      <td>1.000000</td>\n",
       "      <td>0.000000</td>\n",
       "      <td>0.000000</td>\n",
       "      <td>1.000000</td>\n",
       "      <td>0.000000</td>\n",
       "    </tr>\n",
       "    <tr>\n",
       "      <th>75%</th>\n",
       "      <td>0.653061</td>\n",
       "      <td>1.000000</td>\n",
       "      <td>0.700000</td>\n",
       "      <td>0.442786</td>\n",
       "      <td>0.000000</td>\n",
       "      <td>0.676056</td>\n",
       "      <td>1.000000</td>\n",
       "      <td>0.465909</td>\n",
       "      <td>1.000000</td>\n",
       "      <td>1.000000</td>\n",
       "      <td>0.000000</td>\n",
       "      <td>0.000000</td>\n",
       "      <td>0.000000</td>\n",
       "      <td>0.000000</td>\n",
       "      <td>1.000000</td>\n",
       "      <td>0.000000</td>\n",
       "      <td>0.000000</td>\n",
       "      <td>1.000000</td>\n",
       "      <td>1.000000</td>\n",
       "    </tr>\n",
       "    <tr>\n",
       "      <th>max</th>\n",
       "      <td>1.000000</td>\n",
       "      <td>1.000000</td>\n",
       "      <td>1.000000</td>\n",
       "      <td>1.000000</td>\n",
       "      <td>1.000000</td>\n",
       "      <td>1.000000</td>\n",
       "      <td>1.000000</td>\n",
       "      <td>1.000000</td>\n",
       "      <td>1.000000</td>\n",
       "      <td>1.000000</td>\n",
       "      <td>1.000000</td>\n",
       "      <td>1.000000</td>\n",
       "      <td>1.000000</td>\n",
       "      <td>1.000000</td>\n",
       "      <td>1.000000</td>\n",
       "      <td>1.000000</td>\n",
       "      <td>1.000000</td>\n",
       "      <td>1.000000</td>\n",
       "      <td>1.000000</td>\n",
       "    </tr>\n",
       "  </tbody>\n",
       "</table>\n",
       "</div>"
      ],
      "text/plain": [
       "              Age         Sex   RestingBP  Cholesterol   FastingBS  \\\n",
       "count  918.000000  918.000000  918.000000   918.000000  918.000000   \n",
       "mean     0.520630    0.789760    0.661983     0.329684    0.233115   \n",
       "std      0.192502    0.407701    0.092571     0.181400    0.423046   \n",
       "min      0.000000    0.000000    0.000000     0.000000    0.000000   \n",
       "25%      0.387755    1.000000    0.600000     0.287313    0.000000   \n",
       "50%      0.530612    1.000000    0.650000     0.369818    0.000000   \n",
       "75%      0.653061    1.000000    0.700000     0.442786    0.000000   \n",
       "max      1.000000    1.000000    1.000000     1.000000    1.000000   \n",
       "\n",
       "            MaxHR  ExerciseAngina     Oldpeak  HeartDisease  \\\n",
       "count  918.000000      918.000000  918.000000    918.000000   \n",
       "mean     0.540911        0.404139    0.396291      0.553377   \n",
       "std      0.179298        0.490992    0.121201      0.497414   \n",
       "min      0.000000        0.000000    0.000000      0.000000   \n",
       "25%      0.422535        0.000000    0.295455      0.000000   \n",
       "50%      0.549296        0.000000    0.363636      1.000000   \n",
       "75%      0.676056        1.000000    0.465909      1.000000   \n",
       "max      1.000000        1.000000    1.000000      1.000000   \n",
       "\n",
       "       ChestPainType_ASY  ChestPainType_ATA  ChestPainType_NAP  \\\n",
       "count         918.000000         918.000000         918.000000   \n",
       "mean            0.540305           0.188453           0.221133   \n",
       "std             0.498645           0.391287           0.415236   \n",
       "min             0.000000           0.000000           0.000000   \n",
       "25%             0.000000           0.000000           0.000000   \n",
       "50%             1.000000           0.000000           0.000000   \n",
       "75%             1.000000           0.000000           0.000000   \n",
       "max             1.000000           1.000000           1.000000   \n",
       "\n",
       "       ChestPainType_TA  RestingECG_LVH  RestingECG_Normal  RestingECG_ST  \\\n",
       "count        918.000000      918.000000         918.000000     918.000000   \n",
       "mean           0.050109        0.204793           0.601307       0.193900   \n",
       "std            0.218289        0.403770           0.489896       0.395567   \n",
       "min            0.000000        0.000000           0.000000       0.000000   \n",
       "25%            0.000000        0.000000           0.000000       0.000000   \n",
       "50%            0.000000        0.000000           1.000000       0.000000   \n",
       "75%            0.000000        0.000000           1.000000       0.000000   \n",
       "max            1.000000        1.000000           1.000000       1.000000   \n",
       "\n",
       "       ST_Slope_Down  ST_Slope_Flat  ST_Slope_Up  \n",
       "count     918.000000     918.000000   918.000000  \n",
       "mean        0.068627       0.501089     0.430283  \n",
       "std         0.252957       0.500271     0.495386  \n",
       "min         0.000000       0.000000     0.000000  \n",
       "25%         0.000000       0.000000     0.000000  \n",
       "50%         0.000000       1.000000     0.000000  \n",
       "75%         0.000000       1.000000     1.000000  \n",
       "max         1.000000       1.000000     1.000000  "
      ]
     },
     "execution_count": 69,
     "metadata": {},
     "output_type": "execute_result"
    }
   ],
   "source": [
    "temp1.describe()"
   ]
  },
  {
   "cell_type": "markdown",
   "id": "2bcfba4a-7edb-4c12-85d0-ec58e6eb3110",
   "metadata": {},
   "source": [
    "> #### Разделяем на тренировочные и тестовые данные (согласно условию: 80% данных оставить на обучающее множество, 20% - на тестовое)"
   ]
  },
  {
   "cell_type": "code",
   "execution_count": 70,
   "id": "3074f616-44ff-4e6d-b0b0-8ba75da8a467",
   "metadata": {},
   "outputs": [],
   "source": [
    "from sklearn.model_selection import train_test_split"
   ]
  },
  {
   "cell_type": "code",
   "execution_count": 71,
   "id": "d809fd36-7d8f-4dcd-a78d-3ec6dae82c8c",
   "metadata": {},
   "outputs": [],
   "source": [
    "X = temp1.drop(['HeartDisease'], axis = 1) \n",
    "y = temp1['HeartDisease']\n",
    "X_train, X_test, y_train, y_test = train_test_split(X, y, test_size = 0.2, random_state = 10)\n"
   ]
  },
  {
   "cell_type": "markdown",
   "id": "469c0317-1e42-4226-a3d7-3b3a72d154e7",
   "metadata": {},
   "source": [
    "> #### Обучаем дерево решений на обучающем множестве\n",
    "> Используем следующие модели:<br>\n",
    "> a) tree.DecisionTreeClassifier<br>\n",
    "> b) ensemble.RandomForestClassifier"
   ]
  },
  {
   "cell_type": "code",
   "execution_count": 72,
   "id": "6d46859f-cca4-4cf2-bd6c-a79f345c73e7",
   "metadata": {},
   "outputs": [],
   "source": [
    "from sklearn.tree import DecisionTreeClassifier\n",
    "from sklearn.metrics import classification_report"
   ]
  },
  {
   "cell_type": "markdown",
   "id": "8929b0e0-5f8d-457e-9e50-1e344b9fe055",
   "metadata": {},
   "source": [
    "> #### Модель DecisionTreeClassifier"
   ]
  },
  {
   "cell_type": "code",
   "execution_count": 73,
   "id": "6412cb1d-0784-4241-bdae-cb1a52a92b46",
   "metadata": {},
   "outputs": [
    {
     "data": {
      "text/plain": [
       "0.9768392370572208"
      ]
     },
     "execution_count": 73,
     "metadata": {},
     "output_type": "execute_result"
    }
   ],
   "source": [
    "\n",
    "dtc = DecisionTreeClassifier(random_state = 10, max_depth = 11, min_samples_split = 3, min_samples_leaf = 1)\n",
    "dtc.fit(X_train, y_train)\n",
    "dtc_score = dtc.score(X_train, y_train)\n",
    "dtc_score"
   ]
  },
  {
   "cell_type": "code",
   "execution_count": 74,
   "id": "975a5ebd-af4c-4e2d-8d47-98c679eae5fc",
   "metadata": {},
   "outputs": [
    {
     "data": {
      "text/plain": [
       "0.7554347826086957"
      ]
     },
     "execution_count": 74,
     "metadata": {},
     "output_type": "execute_result"
    }
   ],
   "source": [
    "dtc_score_t = dtc.score(X_test, y_test)\n",
    "dtc_score_t"
   ]
  },
  {
   "cell_type": "code",
   "execution_count": 75,
   "id": "9257f172-4313-4637-9724-d907e7f8a064",
   "metadata": {},
   "outputs": [],
   "source": [
    "y_pred = dtc.predict(X_test)"
   ]
  },
  {
   "cell_type": "code",
   "execution_count": 76,
   "id": "e20897c0-9290-4e03-88f7-b0f1201a8039",
   "metadata": {},
   "outputs": [
    {
     "name": "stdout",
     "output_type": "stream",
     "text": [
      "              precision    recall  f1-score   support\n",
      "\n",
      "           0       0.73      0.76      0.74        86\n",
      "           1       0.78      0.76      0.77        98\n",
      "\n",
      "    accuracy                           0.76       184\n",
      "   macro avg       0.75      0.76      0.75       184\n",
      "weighted avg       0.76      0.76      0.76       184\n",
      "\n"
     ]
    }
   ],
   "source": [
    "print(classification_report(y_test, y_pred))"
   ]
  },
  {
   "cell_type": "code",
   "execution_count": 77,
   "id": "7dfb0d91-b272-4c42-bad0-27e1151d8433",
   "metadata": {},
   "outputs": [],
   "source": [
    "# Выявляем наиболее важные признаки и выводим на график. \n",
    "\n",
    "imp = pd.Series(dtc.feature_importances_)"
   ]
  },
  {
   "cell_type": "code",
   "execution_count": 78,
   "id": "938f8a23-6e09-440d-97b3-24492acc3af6",
   "metadata": {},
   "outputs": [],
   "source": [
    "imp.index = pd.Series(X_train.columns)"
   ]
  },
  {
   "cell_type": "code",
   "execution_count": 79,
   "id": "6c7d7119-998b-49b1-9e03-fe45b342d01b",
   "metadata": {},
   "outputs": [
    {
     "data": {
      "text/plain": [
       "ST_Slope_Up          0.418723\n",
       "ChestPainType_ASY    0.117825\n",
       "MaxHR                0.090438\n",
       "Oldpeak              0.077863\n",
       "RestingBP            0.073048\n",
       "Cholesterol          0.063825\n",
       "Age                  0.055885\n",
       "Sex                  0.042978\n",
       "FastingBS            0.029096\n",
       "RestingECG_Normal    0.008595\n",
       "ChestPainType_NAP    0.007739\n",
       "ST_Slope_Flat        0.007531\n",
       "ChestPainType_TA     0.004686\n",
       "RestingECG_ST        0.001768\n",
       "ExerciseAngina       0.000000\n",
       "RestingECG_LVH       0.000000\n",
       "ST_Slope_Down        0.000000\n",
       "ChestPainType_ATA    0.000000\n",
       "dtype: float64"
      ]
     },
     "execution_count": 79,
     "metadata": {},
     "output_type": "execute_result"
    }
   ],
   "source": [
    "imp = imp.sort_values(ascending=False)\n",
    "imp"
   ]
  },
  {
   "cell_type": "markdown",
   "id": "62464496-ef25-4cc7-82d6-692796a23b40",
   "metadata": {},
   "source": [
    "Большое значение имеет признак ST_Slope_Up"
   ]
  },
  {
   "cell_type": "code",
   "execution_count": 80,
   "id": "4c903d4d-892b-4958-9db9-787a2e6e37c4",
   "metadata": {},
   "outputs": [
    {
     "data": {
      "image/png": "[encoded data removed]",
      "text/plain": [
       "<Figure size 432x288 with 1 Axes>"
      ]
     },
     "metadata": {
      "needs_background": "light"
     },
     "output_type": "display_data"
    }
   ],
   "source": [
    "plt.title('Top 5 feature importances')\n",
    "plt.xlabel('Features')\n",
    "plt.ylabel('Gini')\n",
    "plt.bar(imp.head().index, imp.head())\n",
    "plt.xticks(rotation=90)\n",
    "plt.show()"
   ]
  },
  {
   "cell_type": "markdown",
   "id": "a94403c7-5cd2-408a-9416-b46aa8675cb2",
   "metadata": {},
   "source": [
    "> #### Модель RandomForestClassifier"
   ]
  },
  {
   "cell_type": "code",
   "execution_count": 81,
   "id": "d8c8ad25-a2a4-42d6-9a80-86e92a70a814",
   "metadata": {},
   "outputs": [],
   "source": [
    "# RandomForestClassifier\n",
    "\n",
    "from sklearn.ensemble import RandomForestClassifier"
   ]
  },
  {
   "cell_type": "code",
   "execution_count": 82,
   "id": "b132773d-d72d-40c6-978a-3f857ce02ebb",
   "metadata": {},
   "outputs": [
    {
     "data": {
      "text/plain": [
       "0.989100817438692"
      ]
     },
     "execution_count": 82,
     "metadata": {},
     "output_type": "execute_result"
    }
   ],
   "source": [
    "rfc = RandomForestClassifier(n_estimators=100, random_state=0, max_depth = 11, min_samples_split = 3, min_samples_leaf = 1)\n",
    "rfc.fit(X_train, y_train)\n",
    "rfc_score = rfc.score(X_train, y_train)\n",
    "rfc_score"
   ]
  },
  {
   "cell_type": "code",
   "execution_count": 83,
   "id": "f6114641-bb11-4709-b7ca-b809b809ea72",
   "metadata": {},
   "outputs": [
    {
     "data": {
      "text/plain": [
       "0.8532608695652174"
      ]
     },
     "execution_count": 83,
     "metadata": {},
     "output_type": "execute_result"
    }
   ],
   "source": [
    "rfc_score_t = rfc.score(X_test, y_test)\n",
    "rfc_score_t"
   ]
  },
  {
   "cell_type": "code",
   "execution_count": 84,
   "id": "733983c9-7697-4964-a7c3-c86cb984179a",
   "metadata": {},
   "outputs": [],
   "source": [
    "y_pred = rfc.predict(X_test)"
   ]
  },
  {
   "cell_type": "code",
   "execution_count": 85,
   "id": "3e7baebb-9383-495e-bb08-ba09a68d4246",
   "metadata": {},
   "outputs": [
    {
     "name": "stdout",
     "output_type": "stream",
     "text": [
      "              precision    recall  f1-score   support\n",
      "\n",
      "           0       0.87      0.80      0.84        86\n",
      "           1       0.84      0.90      0.87        98\n",
      "\n",
      "    accuracy                           0.85       184\n",
      "   macro avg       0.86      0.85      0.85       184\n",
      "weighted avg       0.85      0.85      0.85       184\n",
      "\n"
     ]
    }
   ],
   "source": [
    "print(classification_report(y_test, y_pred))"
   ]
  },
  {
   "cell_type": "code",
   "execution_count": 86,
   "id": "fe441026-b27d-426f-bca1-ed81d33b7999",
   "metadata": {},
   "outputs": [],
   "source": [
    "# Выявляем наиболее важные признаки и выводим на график. \n",
    "\n",
    "imp = pd.Series(rfc.feature_importances_)"
   ]
  },
  {
   "cell_type": "code",
   "execution_count": 87,
   "id": "607fdd57-775f-472a-8c62-6447bf06b8de",
   "metadata": {},
   "outputs": [],
   "source": [
    "imp.index = pd.Series(X_train.columns)"
   ]
  },
  {
   "cell_type": "code",
   "execution_count": 88,
   "id": "146f814e-c93c-4a82-8f37-132c759274a2",
   "metadata": {},
   "outputs": [
    {
     "data": {
      "text/plain": [
       "ST_Slope_Up          0.160765\n",
       "ST_Slope_Flat        0.111548\n",
       "ChestPainType_ASY    0.104068\n",
       "Oldpeak              0.100444\n",
       "MaxHR                0.094272\n",
       "Cholesterol          0.079375\n",
       "ExerciseAngina       0.067464\n",
       "RestingBP            0.067436\n",
       "Age                  0.067309\n",
       "Sex                  0.040019\n",
       "ChestPainType_ATA    0.025430\n",
       "FastingBS            0.020538\n",
       "ChestPainType_NAP    0.017452\n",
       "RestingECG_LVH       0.013956\n",
       "RestingECG_Normal    0.009024\n",
       "RestingECG_ST        0.007142\n",
       "ST_Slope_Down        0.006891\n",
       "ChestPainType_TA     0.006868\n",
       "dtype: float64"
      ]
     },
     "execution_count": 88,
     "metadata": {},
     "output_type": "execute_result"
    }
   ],
   "source": [
    "imp = imp.sort_values(ascending=False)\n",
    "imp"
   ]
  },
  {
   "cell_type": "markdown",
   "id": "6d3c8740-3069-4556-817a-e7c15ca70021",
   "metadata": {},
   "source": [
    "Большое значение имеет признак ST_Slope_Up, но по отношению к остальным 4-м признакам уже разница не большая и значение этих признаков выше чем у первой модели. "
   ]
  },
  {
   "cell_type": "code",
   "execution_count": 89,
   "id": "53a30e22-39b8-4d9f-b1c8-ecd59e5e1063",
   "metadata": {},
   "outputs": [
    {
     "data": {
      "image/png": "[encoded data removed]",
      "text/plain": [
       "<Figure size 432x288 with 1 Axes>"
      ]
     },
     "metadata": {
      "needs_background": "light"
     },
     "output_type": "display_data"
    }
   ],
   "source": [
    "plt.title('Top 5 feature importances')\n",
    "plt.xlabel('Features')\n",
    "plt.ylabel('Gini')\n",
    "plt.bar(imp.head().index, imp.head())\n",
    "plt.xticks(rotation=90)\n",
    "plt.show()"
   ]
  },
  {
   "cell_type": "markdown",
   "id": "fd63bc02-f704-4cf5-8e9a-557ae30e0a2f",
   "metadata": {},
   "source": [
    "> #### Методы сбора ансамблей Бэггинг\n",
    "модель tree.DecisionTreeClassifier"
   ]
  },
  {
   "cell_type": "code",
   "execution_count": 90,
   "id": "933919c4-ebb2-44c1-aa6f-617f3d7ec654",
   "metadata": {},
   "outputs": [],
   "source": [
    "from sklearn.ensemble import BaggingClassifier"
   ]
  },
  {
   "cell_type": "code",
   "execution_count": 91,
   "id": "42286dc5-09d8-42dc-9490-580b1d55477b",
   "metadata": {},
   "outputs": [],
   "source": [
    "bagging = BaggingClassifier(DecisionTreeClassifier(),\n",
    "                           n_estimators=100,\n",
    "                           max_samples=0.5,\n",
    "                           max_features=0.5,\n",
    "                           random_state=10)\n"
   ]
  },
  {
   "cell_type": "code",
   "execution_count": 92,
   "id": "4ebd2991-f1f2-48b6-bdd2-13bc32d659e9",
   "metadata": {},
   "outputs": [
    {
     "data": {
      "text/plain": [
       "BaggingClassifier(base_estimator=DecisionTreeClassifier(), max_features=0.5,\n",
       "                  max_samples=0.5, n_estimators=100, random_state=10)"
      ]
     },
     "execution_count": 92,
     "metadata": {},
     "output_type": "execute_result"
    }
   ],
   "source": [
    "bagging.fit(X_train, y_train)"
   ]
  },
  {
   "cell_type": "code",
   "execution_count": 93,
   "id": "7c7032fd-ada8-44ab-bab9-d802b0d63dc0",
   "metadata": {},
   "outputs": [
    {
     "data": {
      "text/plain": [
       "0.9700272479564033"
      ]
     },
     "execution_count": 93,
     "metadata": {},
     "output_type": "execute_result"
    }
   ],
   "source": [
    "bag_score = bagging.score(X_train, y_train)\n",
    "bag_score"
   ]
  },
  {
   "cell_type": "code",
   "execution_count": 94,
   "id": "7c3725d7-5c18-4fb0-bc2d-ba7d6ec5fc0f",
   "metadata": {},
   "outputs": [
    {
     "data": {
      "text/plain": [
       "0.8369565217391305"
      ]
     },
     "execution_count": 94,
     "metadata": {},
     "output_type": "execute_result"
    }
   ],
   "source": [
    "bag_score_t = bagging.score(X_test, y_test)\n",
    "bag_score_t"
   ]
  },
  {
   "cell_type": "code",
   "execution_count": 95,
   "id": "169cf787-33e0-4069-a93c-c2265c809c39",
   "metadata": {},
   "outputs": [],
   "source": [
    "y_pred = bagging.predict(X_test)"
   ]
  },
  {
   "cell_type": "code",
   "execution_count": 96,
   "id": "9b2a537b-244d-4c8b-bdf4-dd3be38d8506",
   "metadata": {},
   "outputs": [
    {
     "name": "stdout",
     "output_type": "stream",
     "text": [
      "              precision    recall  f1-score   support\n",
      "\n",
      "           0       0.84      0.80      0.82        86\n",
      "           1       0.83      0.87      0.85        98\n",
      "\n",
      "    accuracy                           0.84       184\n",
      "   macro avg       0.84      0.83      0.84       184\n",
      "weighted avg       0.84      0.84      0.84       184\n",
      "\n"
     ]
    }
   ],
   "source": [
    "print(classification_report(y_test, y_pred))"
   ]
  },
  {
   "cell_type": "markdown",
   "id": "22b0b18d-53ee-4017-b051-034e7e1164c9",
   "metadata": {},
   "source": [
    "> #### Методы сбора ансамблей Стекинг *(ensemble.StackingClassifier)*\n",
    "Модели:<br>\n",
    "> a) tree.DecisionTreeClassifier <br>\n",
    "> b) ensemble.RandomForestClassifier <br>\n",
    "> с) svm.LinearSVC <br>\n"
   ]
  },
  {
   "cell_type": "code",
   "execution_count": 97,
   "id": "d7117f54-0765-42b4-9f76-3f2f38aa270f",
   "metadata": {},
   "outputs": [],
   "source": [
    "from sklearn.ensemble import StackingClassifier\n",
    "from sklearn.svm import LinearSVC\n",
    "from sklearn.linear_model import RidgeCV"
   ]
  },
  {
   "cell_type": "code",
   "execution_count": 98,
   "id": "7b1e53da-fc1a-41e2-b09f-e9a3a01a51e2",
   "metadata": {},
   "outputs": [],
   "source": [
    "Stacking = StackingClassifier(\n",
    "    [\n",
    "        ('DecisionTreeClassifier', DecisionTreeClassifier(random_state = 10, max_depth = 11, min_samples_split = 3, min_samples_leaf = 1)),\n",
    "        ('RandomForestClassifier', RandomForestClassifier(n_estimators=100, random_state=10))\n",
    "    ], final_estimator = LinearSVC())"
   ]
  },
  {
   "cell_type": "code",
   "execution_count": 99,
   "id": "0bdbf7b5-4382-43e5-8a66-47c22332b294",
   "metadata": {},
   "outputs": [
    {
     "data": {
      "text/plain": [
       "StackingClassifier(estimators=[('DecisionTreeClassifier',\n",
       "                                DecisionTreeClassifier(max_depth=11,\n",
       "                                                       min_samples_split=3,\n",
       "                                                       random_state=10)),\n",
       "                               ('RandomForestClassifier',\n",
       "                                RandomForestClassifier(random_state=10))],\n",
       "                   final_estimator=LinearSVC())"
      ]
     },
     "execution_count": 99,
     "metadata": {},
     "output_type": "execute_result"
    }
   ],
   "source": [
    "Stacking.fit(X_train, y_train)"
   ]
  },
  {
   "cell_type": "code",
   "execution_count": 100,
   "id": "89480ab7-5be2-4d42-8f28-069f89edd0c4",
   "metadata": {},
   "outputs": [
    {
     "data": {
      "text/plain": [
       "1.0"
      ]
     },
     "execution_count": 100,
     "metadata": {},
     "output_type": "execute_result"
    }
   ],
   "source": [
    "Stacking.score(X_train, y_train)"
   ]
  },
  {
   "cell_type": "code",
   "execution_count": 101,
   "id": "a4112140-2bf0-4225-81e0-5bcbe663adf3",
   "metadata": {},
   "outputs": [],
   "source": [
    "y_pred = Stacking.predict(X_test)"
   ]
  },
  {
   "cell_type": "code",
   "execution_count": 102,
   "id": "8d5facdc-0772-4b23-b666-2ff3c2e5094c",
   "metadata": {},
   "outputs": [
    {
     "name": "stdout",
     "output_type": "stream",
     "text": [
      "              precision    recall  f1-score   support\n",
      "\n",
      "           0       0.85      0.83      0.84        86\n",
      "           1       0.85      0.87      0.86        98\n",
      "\n",
      "    accuracy                           0.85       184\n",
      "   macro avg       0.85      0.85      0.85       184\n",
      "weighted avg       0.85      0.85      0.85       184\n",
      "\n"
     ]
    }
   ],
   "source": [
    "print(classification_report(y_test, y_pred))"
   ]
  },
  {
   "cell_type": "code",
   "execution_count": 103,
   "id": "7913c603-ca6c-4312-b2a2-e9105bc14d59",
   "metadata": {},
   "outputs": [
    {
     "name": "stdout",
     "output_type": "stream",
     "text": [
      "Score on train  1.0\n",
      "Score on test  0.8478260869565217\n"
     ]
    }
   ],
   "source": [
    "print(f'Score on train  {Stacking.score(X_train, y_train)}')\n",
    "print(f'Score on test  {Stacking.score(X_test, y_test)}')"
   ]
  },
  {
   "cell_type": "code",
   "execution_count": 104,
   "id": "a844371e-a0a1-4a19-bdaf-71c9c5e50251",
   "metadata": {},
   "outputs": [
    {
     "name": "stdout",
     "output_type": "stream",
     "text": [
      "Score on train  with model DecisionTreeClassifier 0.9768392370572208\n",
      "Score on test  with model DecisionTreeClassifier 0.7554347826086957\n",
      "Score on train  with model RandomForestClassifier 1.0\n",
      "Score on test  with model RandomForestClassifier 0.8586956521739131\n"
     ]
    }
   ],
   "source": [
    "sc = []\n",
    "for i in Stacking.named_estimators:\n",
    "    print(f'Score on train  with model {i} {Stacking.named_estimators_[i].score(X_train, y_train)}')\n",
    "    print(f'Score on test  with model {i} {Stacking.named_estimators_[i].score(X_test, y_test)}')\n",
    "    sc.append(Stacking.named_estimators_[i].score(X_train, y_train))\n",
    "    sc.append(Stacking.named_estimators_[i].score(X_test, y_test))"
   ]
  },
  {
   "cell_type": "code",
   "execution_count": 105,
   "id": "a5f1b394-f62c-414f-8dfc-ce8bc8010fcd",
   "metadata": {},
   "outputs": [],
   "source": [
    "from prettytable import PrettyTable"
   ]
  },
  {
   "cell_type": "code",
   "execution_count": 106,
   "id": "918dba07-5078-4bd8-ba7c-657a62ce8970",
   "metadata": {},
   "outputs": [
    {
     "name": "stdout",
     "output_type": "stream",
     "text": [
      "+------------------------+------------------------+-------------------------+----------------------+-------------------------------------------------------------------+\n",
      "| Методы сбора ансамблей |         Модель         | Score(X_train, y_train) | Score(X_test, y_test | Комментарий                                                       |\n",
      "+------------------------+------------------------+-------------------------+----------------------+-------------------------------------------------------------------+\n",
      "|          N/a           | DecisionTreeClassifier |          0.9768         |        0.7554        | В целом модель обучилась не плохо, тестовая оценка ниже других    |\n",
      "|          N/a           | RandomForestClassifier |          0.9891         |        0.8533        | Лучшее обучение модели                                            |\n",
      "|   BaggingClassifier    | DecisionTreeClassifier |           0.97          |        0.837         | Не смотря на то что оценка обучения ниже других, тестовая средняя |\n",
      "|   StackingClassifier   | DecisionTreeClassifier |          0.9768         |        0.7554        | В целом модель обучилась не плохо, тестовая оценка ниже других    |\n",
      "|   StackingClassifier   | RandomForestClassifier |           1.0           |        0.8587        | Модель переобучилась                                              |\n",
      "+------------------------+------------------------+-------------------------+----------------------+-------------------------------------------------------------------+\n"
     ]
    }
   ],
   "source": [
    "table = PrettyTable()\n",
    "table.field_names = [\"Методы сбора ансамблей\", \"Модель\", \"Score(X_train, y_train)\", \"Score(X_test, y_test\", \"Комментарий\"]\n",
    "table.add_row([\" N/a \", \"DecisionTreeClassifier\", round(dtc_score, 4), round(dtc_score_t, 4), \"В целом модель обучилась не плохо, тестовая оценка ниже других\" ])\n",
    "table.add_row([\"N/a \", \"RandomForestClassifier\",round(rfc_score, 4), round(rfc_score_t, 4),  \"Лучшее обучение модели\"])\n",
    "table.add_row([\"BaggingClassifier\",\"DecisionTreeClassifier\"  , round(bag_score, 4), round(bag_score_t, 4), \"Не смотря на то что оценка обучения ниже других, тестовая средняя\"])\n",
    "table.add_row([\"StackingClassifier\",\"DecisionTreeClassifier\", round(sc[0], 4), round(sc[1], 4), \"В целом модель обучилась не плохо, тестовая оценка ниже других\"])\n",
    "table.add_row([\"StackingClassifier\",\"RandomForestClassifier\", round(sc[2], 4), round(sc[3], 4), \"Модель переобучилась\"])\n",
    "table.align[\"Комментарий\"] = \"l\"\n",
    "table.valign = \"m\"\n",
    "print(table.get_string())"
   ]
  },
  {
   "cell_type": "markdown",
   "id": "da6a4671-2ef0-4cdc-a790-7d4e0a158a18",
   "metadata": {},
   "source": [
    "> **Вывод:**<br>\n",
    "Из всех моделей у меня обучилась лучше всего RandomForestClassifier, без Ансамбля. \n",
    "По моему мнению, данных не достаточно для обучения, а так же много показателей, которые вероятно повлияли на результат."
   ]
  }
 ],
 "metadata": {
  "kernelspec": {
   "display_name": "Python 3 (ipykernel)",
   "language": "python",
   "name": "python3"
  },
  "language_info": {
   "codemirror_mode": {
    "name": "ipython",
    "version": 3
   },
   "file_extension": ".py",
   "mimetype": "text/x-python",
   "name": "python",
   "nbconvert_exporter": "python",
   "pygments_lexer": "ipython3",
   "version": "3.9.12"
  }
 },
 "nbformat": 4,
 "nbformat_minor": 5
}

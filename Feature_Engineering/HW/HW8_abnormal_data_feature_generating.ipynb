{
 "cells": [
  {
   "cell_type": "markdown",
   "id": "9bd3c66b-b26d-4884-a561-d5eb4cbb42b2",
   "metadata": {},
   "source": [
    "## Домашнее задание к занятию «Поиск выбросов и генерация новых признаков»\n",
    "\n",
    "### Задание\n",
    "\n",
    "<b>Цель:</b><br>Изучить применение методов по поиску выбросов в данных, попрактиковаться в обработке экстремальных значений.<p>\n",
    "<b>Описание задания:</b><br>\n",
    "В домашнем задании нужно решить задачу классификации типа стекол. Данные для обучения моделей можно скачать с <a href=\"https://www.kaggle.com/uciml/glass\" target=\"_blank\">сайта</a>. \n",
    "Целевая переменная – тип стекла «Type». Остальные признаки описывают химические элементы в составе материала. \n",
    "Датасет нужно исследовать на наличие выбросов, провести EDA.\n",
    "\n",
    "<b>Этапы работы:</b>\n",
    "1. Получите данные и загрузите их в рабочую среду (Jupyter Notebook или другую).\n",
    "2. Проведите первичный анализ.<br>\n",
    "а) Проверьте количество записей для каждого класса. Сделайте вывод.\n",
    "3. Разделите выборку на обучающее и тестовое подмножество. 80% данных оставить на обучающее множество, 20% на тестовое.\n",
    "4. Обучите модель дерева решений <a href=\"https://scikit-learn.org/stable/modules/generated/sklearn.ensemble.RandomForestClassifier.html\" target=\"_blank\">RandomForestClassifier</a> на обучающем множестве.\n",
    "5. Для тестового множества предскажите тип стекла и сравните с истинным значением, посчитав точность предсказания модели (accuracy).\n",
    "6. Обработайте выбросы в данных.<br>\n",
    "а) Визуализируйте распределение значений для каждой переменной. Можно использовать функции <a href=\"https://seaborn.pydata.org/generated/seaborn.boxplot.html\" target=\"_blank\">sns.boxplot</a>, <a href=\"https://seaborn.pydata.org/generated/seaborn.distplot.html\" target=\"_blank\">sns.distplot.</a>. \n",
    "Есть ли признаки с нормальным распределением?<br>\n",
    "b) Исследуйте признаки на выбросы несколькими способами.<br>\n",
    "c) Удалите выбросы. *Посчитайте процент удаленных записей от общего числа записей для каждого класса.<br>\n",
    "7. Повторите п. 4, п. 5.\n",
    "8. Сформулируйте выводы по проделанной работе.<br>\n",
    "а) Кратко опишите, какие преобразования были сделаны с данными.<br>\n",
    "b) Сравните точность двух моделей.<br>\n",
    "c) Напишите свое мнение, нужно ли исследовать данные на выбросы, для чего это делается, плюсы и минусы подхода.<p>\n",
    "Для получения зачета по этому домашнему заданию минимально должны быть реализованы методы по поиску выбросов и \n",
    "построены две модели: «до» и «после» обработки экстремальных значений.\n",
    "\n",
    "<b>Результат:</b>\n",
    "Получены практические знания по работе с выбросами в данных.\n",
    "<p>\n",
    "\n",
    "<b>Форма выполнения:</b>\n",
    "- Ссылка на Jupyter Notebook, загруженный на GitHub\n",
    "- Ссылка на Google Colab\n",
    "- Файл с расширением .ipynb<p>\n",
    "\n",
    "   \n",
    "<b>Инструменты:</b>\n",
    "- Jupyter Notebook/Google Colab;\n",
    "- GitHub;\n",
    "- <a href=\"https://www.kaggle.com/uciml/glass\" target=\"_blank\">сайт</a> с данными для обучения моделей;\n",
    "- модель дерева решений <a href=\"https://scikit-learn.org/stable/modules/generated/sklearn.ensemble.RandomForestClassifier.html\" target=\"_blank\">RandomForestClassifier.</a>.\n",
    "    \n",
    "<b>Срок выполнения:</b> дедлайн приема решений на проверку\n",
    "    \n",
    "<b><i>Рекомендации к выполнению: </b></i><br>\n",
    "- Текст оформляйте в отдельной ячейке Jupyter Notebook/Google Colab в формате markdown.\n",
    "- У графиков должен быть заголовок, подписи осей, легенда (опционально). Делайте графики бОльшего размера, \n",
    "чем стандартный вывод, чтобы увеличить читабельность.\n",
    "- Убедитесь, что по ссылкам есть доступ на чтение/просмотр.\n",
    "- Убедитесь, что все ячейки в работе выполнены и можно увидеть их вывод без повторного запуска."
   ]
  },
  {
   "cell_type": "markdown",
   "id": "e862cba8-3067-477a-baca-2c7855e723fa",
   "metadata": {},
   "source": [
    "____"
   ]
  },
  {
   "cell_type": "markdown",
   "id": "bda163ad-b554-4563-b21b-ee4970f33c5a",
   "metadata": {},
   "source": [
    "### Решение"
   ]
  },
  {
   "cell_type": "markdown",
   "id": "30defea6-a3c3-4b52-829d-86447bb78525",
   "metadata": {},
   "source": [
    "> #### Получите данные и загрузите их в рабочую среду"
   ]
  },
  {
   "cell_type": "code",
   "execution_count": 66,
   "id": "df0f8d24-bab4-4ffd-99fb-b78b8f97d574",
   "metadata": {},
   "outputs": [],
   "source": [
    "import numpy as np\n",
    "import pandas as pd\n",
    "from matplotlib import pyplot as plt\n",
    "%matplotlib inline\n",
    "import seaborn as sns"
   ]
  },
  {
   "cell_type": "code",
   "execution_count": 67,
   "id": "a10485ff-1c5f-4632-a633-4257e2428711",
   "metadata": {},
   "outputs": [
    {
     "name": "stdout",
     "output_type": "stream",
     "text": [
      "(214, 10)\n"
     ]
    },
    {
     "data": {
      "text/html": [
       "<div>\n",
       "<style scoped>\n",
       "    .dataframe tbody tr th:only-of-type {\n",
       "        vertical-align: middle;\n",
       "    }\n",
       "\n",
       "    .dataframe tbody tr th {\n",
       "        vertical-align: top;\n",
       "    }\n",
       "\n",
       "    .dataframe thead th {\n",
       "        text-align: right;\n",
       "    }\n",
       "</style>\n",
       "<table border=\"1\" class=\"dataframe\">\n",
       "  <thead>\n",
       "    <tr style=\"text-align: right;\">\n",
       "      <th></th>\n",
       "      <th>RI</th>\n",
       "      <th>Na</th>\n",
       "      <th>Mg</th>\n",
       "      <th>Al</th>\n",
       "      <th>Si</th>\n",
       "      <th>K</th>\n",
       "      <th>Ca</th>\n",
       "      <th>Ba</th>\n",
       "      <th>Fe</th>\n",
       "      <th>Type</th>\n",
       "    </tr>\n",
       "  </thead>\n",
       "  <tbody>\n",
       "    <tr>\n",
       "      <th>0</th>\n",
       "      <td>1.52101</td>\n",
       "      <td>13.64</td>\n",
       "      <td>4.49</td>\n",
       "      <td>1.10</td>\n",
       "      <td>71.78</td>\n",
       "      <td>0.06</td>\n",
       "      <td>8.75</td>\n",
       "      <td>0.0</td>\n",
       "      <td>0.0</td>\n",
       "      <td>1</td>\n",
       "    </tr>\n",
       "    <tr>\n",
       "      <th>1</th>\n",
       "      <td>1.51761</td>\n",
       "      <td>13.89</td>\n",
       "      <td>3.60</td>\n",
       "      <td>1.36</td>\n",
       "      <td>72.73</td>\n",
       "      <td>0.48</td>\n",
       "      <td>7.83</td>\n",
       "      <td>0.0</td>\n",
       "      <td>0.0</td>\n",
       "      <td>1</td>\n",
       "    </tr>\n",
       "    <tr>\n",
       "      <th>2</th>\n",
       "      <td>1.51618</td>\n",
       "      <td>13.53</td>\n",
       "      <td>3.55</td>\n",
       "      <td>1.54</td>\n",
       "      <td>72.99</td>\n",
       "      <td>0.39</td>\n",
       "      <td>7.78</td>\n",
       "      <td>0.0</td>\n",
       "      <td>0.0</td>\n",
       "      <td>1</td>\n",
       "    </tr>\n",
       "    <tr>\n",
       "      <th>3</th>\n",
       "      <td>1.51766</td>\n",
       "      <td>13.21</td>\n",
       "      <td>3.69</td>\n",
       "      <td>1.29</td>\n",
       "      <td>72.61</td>\n",
       "      <td>0.57</td>\n",
       "      <td>8.22</td>\n",
       "      <td>0.0</td>\n",
       "      <td>0.0</td>\n",
       "      <td>1</td>\n",
       "    </tr>\n",
       "    <tr>\n",
       "      <th>4</th>\n",
       "      <td>1.51742</td>\n",
       "      <td>13.27</td>\n",
       "      <td>3.62</td>\n",
       "      <td>1.24</td>\n",
       "      <td>73.08</td>\n",
       "      <td>0.55</td>\n",
       "      <td>8.07</td>\n",
       "      <td>0.0</td>\n",
       "      <td>0.0</td>\n",
       "      <td>1</td>\n",
       "    </tr>\n",
       "  </tbody>\n",
       "</table>\n",
       "</div>"
      ],
      "text/plain": [
       "        RI     Na    Mg    Al     Si     K    Ca   Ba   Fe  Type\n",
       "0  1.52101  13.64  4.49  1.10  71.78  0.06  8.75  0.0  0.0     1\n",
       "1  1.51761  13.89  3.60  1.36  72.73  0.48  7.83  0.0  0.0     1\n",
       "2  1.51618  13.53  3.55  1.54  72.99  0.39  7.78  0.0  0.0     1\n",
       "3  1.51766  13.21  3.69  1.29  72.61  0.57  8.22  0.0  0.0     1\n",
       "4  1.51742  13.27  3.62  1.24  73.08  0.55  8.07  0.0  0.0     1"
      ]
     },
     "execution_count": 67,
     "metadata": {},
     "output_type": "execute_result"
    }
   ],
   "source": [
    "data = pd.read_csv('glass.csv')\n",
    "print(data.shape)\n",
    "data.head()"
   ]
  },
  {
   "cell_type": "code",
   "execution_count": 68,
   "id": "d50d4640-c2c1-4d22-a0a8-f0791a74e5c3",
   "metadata": {},
   "outputs": [
    {
     "name": "stdout",
     "output_type": "stream",
     "text": [
      "<class 'pandas.core.frame.DataFrame'>\n",
      "RangeIndex: 214 entries, 0 to 213\n",
      "Data columns (total 10 columns):\n",
      " #   Column  Non-Null Count  Dtype  \n",
      "---  ------  --------------  -----  \n",
      " 0   RI      214 non-null    float64\n",
      " 1   Na      214 non-null    float64\n",
      " 2   Mg      214 non-null    float64\n",
      " 3   Al      214 non-null    float64\n",
      " 4   Si      214 non-null    float64\n",
      " 5   K       214 non-null    float64\n",
      " 6   Ca      214 non-null    float64\n",
      " 7   Ba      214 non-null    float64\n",
      " 8   Fe      214 non-null    float64\n",
      " 9   Type    214 non-null    int64  \n",
      "dtypes: float64(9), int64(1)\n",
      "memory usage: 16.8 KB\n"
     ]
    }
   ],
   "source": [
    "data.info()"
   ]
  },
  {
   "cell_type": "markdown",
   "id": "4e9e0cbb-7923-430b-ac36-aba102765959",
   "metadata": {},
   "source": [
    "* Пропуски отсутствуют"
   ]
  },
  {
   "cell_type": "code",
   "execution_count": 69,
   "id": "24540f77-0cc6-467a-92f9-3a6dc7494298",
   "metadata": {},
   "outputs": [
    {
     "data": {
      "image/png": "[encoded data removed]",
      "text/plain": [
       "<Figure size 432x288 with 1 Axes>"
      ]
     },
     "metadata": {
      "needs_background": "light"
     },
     "output_type": "display_data"
    }
   ],
   "source": [
    "sns.histplot(data=data, x='Type', binwidth=1)\n",
    "plt.show()"
   ]
  },
  {
   "cell_type": "markdown",
   "id": "0f092f64-9caa-4794-9ede-7bd9672b2fbf",
   "metadata": {},
   "source": [
    "* 2 и 1 типы стекла чаще встречаются в данных\n",
    "* В данных 7 типов стекла, 4 - отсутсвует, если он в дальнейшем появиться, то нужно будет переобучать модели"
   ]
  },
  {
   "cell_type": "code",
   "execution_count": 70,
   "id": "2779f802-3772-49d9-bf43-b054b7b593f7",
   "metadata": {},
   "outputs": [
    {
     "data": {
      "text/html": [
       "<div>\n",
       "<style scoped>\n",
       "    .dataframe tbody tr th:only-of-type {\n",
       "        vertical-align: middle;\n",
       "    }\n",
       "\n",
       "    .dataframe tbody tr th {\n",
       "        vertical-align: top;\n",
       "    }\n",
       "\n",
       "    .dataframe thead th {\n",
       "        text-align: right;\n",
       "    }\n",
       "</style>\n",
       "<table border=\"1\" class=\"dataframe\">\n",
       "  <thead>\n",
       "    <tr style=\"text-align: right;\">\n",
       "      <th></th>\n",
       "      <th>RI</th>\n",
       "      <th>Na</th>\n",
       "      <th>Mg</th>\n",
       "      <th>Al</th>\n",
       "      <th>Si</th>\n",
       "      <th>K</th>\n",
       "      <th>Ca</th>\n",
       "      <th>Ba</th>\n",
       "      <th>Fe</th>\n",
       "      <th>Type</th>\n",
       "    </tr>\n",
       "  </thead>\n",
       "  <tbody>\n",
       "    <tr>\n",
       "      <th>count</th>\n",
       "      <td>214.000000</td>\n",
       "      <td>214.000000</td>\n",
       "      <td>214.000000</td>\n",
       "      <td>214.000000</td>\n",
       "      <td>214.000000</td>\n",
       "      <td>214.000000</td>\n",
       "      <td>214.000000</td>\n",
       "      <td>214.000000</td>\n",
       "      <td>214.000000</td>\n",
       "      <td>214.000000</td>\n",
       "    </tr>\n",
       "    <tr>\n",
       "      <th>mean</th>\n",
       "      <td>1.518365</td>\n",
       "      <td>13.407850</td>\n",
       "      <td>2.684533</td>\n",
       "      <td>1.444907</td>\n",
       "      <td>72.650935</td>\n",
       "      <td>0.497056</td>\n",
       "      <td>8.956963</td>\n",
       "      <td>0.175047</td>\n",
       "      <td>0.057009</td>\n",
       "      <td>2.780374</td>\n",
       "    </tr>\n",
       "    <tr>\n",
       "      <th>std</th>\n",
       "      <td>0.003037</td>\n",
       "      <td>0.816604</td>\n",
       "      <td>1.442408</td>\n",
       "      <td>0.499270</td>\n",
       "      <td>0.774546</td>\n",
       "      <td>0.652192</td>\n",
       "      <td>1.423153</td>\n",
       "      <td>0.497219</td>\n",
       "      <td>0.097439</td>\n",
       "      <td>2.103739</td>\n",
       "    </tr>\n",
       "    <tr>\n",
       "      <th>min</th>\n",
       "      <td>1.511150</td>\n",
       "      <td>10.730000</td>\n",
       "      <td>0.000000</td>\n",
       "      <td>0.290000</td>\n",
       "      <td>69.810000</td>\n",
       "      <td>0.000000</td>\n",
       "      <td>5.430000</td>\n",
       "      <td>0.000000</td>\n",
       "      <td>0.000000</td>\n",
       "      <td>1.000000</td>\n",
       "    </tr>\n",
       "    <tr>\n",
       "      <th>25%</th>\n",
       "      <td>1.516522</td>\n",
       "      <td>12.907500</td>\n",
       "      <td>2.115000</td>\n",
       "      <td>1.190000</td>\n",
       "      <td>72.280000</td>\n",
       "      <td>0.122500</td>\n",
       "      <td>8.240000</td>\n",
       "      <td>0.000000</td>\n",
       "      <td>0.000000</td>\n",
       "      <td>1.000000</td>\n",
       "    </tr>\n",
       "    <tr>\n",
       "      <th>50%</th>\n",
       "      <td>1.517680</td>\n",
       "      <td>13.300000</td>\n",
       "      <td>3.480000</td>\n",
       "      <td>1.360000</td>\n",
       "      <td>72.790000</td>\n",
       "      <td>0.555000</td>\n",
       "      <td>8.600000</td>\n",
       "      <td>0.000000</td>\n",
       "      <td>0.000000</td>\n",
       "      <td>2.000000</td>\n",
       "    </tr>\n",
       "    <tr>\n",
       "      <th>75%</th>\n",
       "      <td>1.519157</td>\n",
       "      <td>13.825000</td>\n",
       "      <td>3.600000</td>\n",
       "      <td>1.630000</td>\n",
       "      <td>73.087500</td>\n",
       "      <td>0.610000</td>\n",
       "      <td>9.172500</td>\n",
       "      <td>0.000000</td>\n",
       "      <td>0.100000</td>\n",
       "      <td>3.000000</td>\n",
       "    </tr>\n",
       "    <tr>\n",
       "      <th>max</th>\n",
       "      <td>1.533930</td>\n",
       "      <td>17.380000</td>\n",
       "      <td>4.490000</td>\n",
       "      <td>3.500000</td>\n",
       "      <td>75.410000</td>\n",
       "      <td>6.210000</td>\n",
       "      <td>16.190000</td>\n",
       "      <td>3.150000</td>\n",
       "      <td>0.510000</td>\n",
       "      <td>7.000000</td>\n",
       "    </tr>\n",
       "  </tbody>\n",
       "</table>\n",
       "</div>"
      ],
      "text/plain": [
       "               RI          Na          Mg          Al          Si           K  \\\n",
       "count  214.000000  214.000000  214.000000  214.000000  214.000000  214.000000   \n",
       "mean     1.518365   13.407850    2.684533    1.444907   72.650935    0.497056   \n",
       "std      0.003037    0.816604    1.442408    0.499270    0.774546    0.652192   \n",
       "min      1.511150   10.730000    0.000000    0.290000   69.810000    0.000000   \n",
       "25%      1.516522   12.907500    2.115000    1.190000   72.280000    0.122500   \n",
       "50%      1.517680   13.300000    3.480000    1.360000   72.790000    0.555000   \n",
       "75%      1.519157   13.825000    3.600000    1.630000   73.087500    0.610000   \n",
       "max      1.533930   17.380000    4.490000    3.500000   75.410000    6.210000   \n",
       "\n",
       "               Ca          Ba          Fe        Type  \n",
       "count  214.000000  214.000000  214.000000  214.000000  \n",
       "mean     8.956963    0.175047    0.057009    2.780374  \n",
       "std      1.423153    0.497219    0.097439    2.103739  \n",
       "min      5.430000    0.000000    0.000000    1.000000  \n",
       "25%      8.240000    0.000000    0.000000    1.000000  \n",
       "50%      8.600000    0.000000    0.000000    2.000000  \n",
       "75%      9.172500    0.000000    0.100000    3.000000  \n",
       "max     16.190000    3.150000    0.510000    7.000000  "
      ]
     },
     "execution_count": 70,
     "metadata": {},
     "output_type": "execute_result"
    }
   ],
   "source": [
    "data.describe()"
   ]
  },
  {
   "cell_type": "markdown",
   "id": "7977c41f-ae56-484e-83aa-cab1d0bb396b",
   "metadata": {},
   "source": [
    "* Вывод:\n",
    "Мы видим, что большинство записей относится к классам 1 и 2, в то время как в других классах записей меньше. Это потенциально может привести к несбалансированным результатам классификации, когда модель лучше работает с классами большинства и хуже с классами меньшинства."
   ]
  },
  {
   "cell_type": "markdown",
   "id": "34a5531a-edc7-4b8e-8fc8-f73f8bd2aae6",
   "metadata": {
    "tags": []
   },
   "source": [
    "> #### Подготавливаем датасет к обучению моделей"
   ]
  },
  {
   "cell_type": "markdown",
   "id": "012fbe7a-8a6a-4f75-9375-700416931843",
   "metadata": {},
   "source": [
    "* Обратим внимание на Ba и Fe.\n",
    "ниже две формулы, которые показали что есть типы у которых отсутствуют данные, т.е. = 0, это 6 тип, и что превалируют 0 над другими значениями. Я решил перекодировать эти два параметра в 0 и 1, т.е. либо есть, либо нет."
   ]
  },
  {
   "cell_type": "code",
   "execution_count": 71,
   "id": "0f2df58e-ecb4-4280-99b4-e30974b1561d",
   "metadata": {},
   "outputs": [
    {
     "data": {
      "text/plain": [
       "Type  Ba  \n",
       "1     0.00    67\n",
       "      0.09     1\n",
       "      0.11     1\n",
       "      0.69     1\n",
       "2     0.00    70\n",
       "      0.06     1\n",
       "      0.09     1\n",
       "      0.11     1\n",
       "      0.14     1\n",
       "      0.27     1\n",
       "      3.15     1\n",
       "3     0.00    16\n",
       "      0.15     1\n",
       "5     0.00    11\n",
       "      0.24     1\n",
       "      2.20     1\n",
       "6     0.00     9\n",
       "7     0.00     3\n",
       "      0.64     2\n",
       "      1.57     2\n",
       "      1.59     2\n",
       "      0.40     1\n",
       "      0.53     1\n",
       "      0.54     1\n",
       "      0.56     1\n",
       "      0.61     1\n",
       "      0.63     1\n",
       "      0.66     1\n",
       "      0.67     1\n",
       "      0.76     1\n",
       "      0.81     1\n",
       "      1.06     1\n",
       "      1.19     1\n",
       "      1.38     1\n",
       "      1.55     1\n",
       "      1.63     1\n",
       "      1.64     1\n",
       "      1.67     1\n",
       "      1.68     1\n",
       "      1.71     1\n",
       "      2.88     1\n",
       "Name: Ba, dtype: int64"
      ]
     },
     "execution_count": 71,
     "metadata": {},
     "output_type": "execute_result"
    }
   ],
   "source": [
    "data['Ba'].groupby(data['Type']).value_counts()"
   ]
  },
  {
   "cell_type": "code",
   "execution_count": 72,
   "id": "858f0212-7541-448a-98ec-3df01d73a672",
   "metadata": {},
   "outputs": [
    {
     "data": {
      "text/plain": [
       "Type  Fe  \n",
       "1     0.00    45\n",
       "      0.11     4\n",
       "      0.16     3\n",
       "      0.17     3\n",
       "      0.24     3\n",
       "      0.07     2\n",
       "      0.03     1\n",
       "      0.06     1\n",
       "      0.09     1\n",
       "      0.10     1\n",
       "      0.14     1\n",
       "      0.19     1\n",
       "      0.22     1\n",
       "      0.26     1\n",
       "      0.30     1\n",
       "      0.31     1\n",
       "2     0.00    44\n",
       "      0.10     3\n",
       "      0.12     3\n",
       "      0.17     3\n",
       "      0.24     3\n",
       "      0.09     2\n",
       "      0.14     2\n",
       "      0.15     2\n",
       "      0.22     2\n",
       "      0.28     2\n",
       "      0.08     1\n",
       "      0.18     1\n",
       "      0.19     1\n",
       "      0.20     1\n",
       "      0.21     1\n",
       "      0.25     1\n",
       "      0.29     1\n",
       "      0.32     1\n",
       "      0.34     1\n",
       "      0.35     1\n",
       "3     0.00    12\n",
       "      0.09     1\n",
       "      0.10     1\n",
       "      0.17     1\n",
       "      0.24     1\n",
       "      0.37     1\n",
       "5     0.00    11\n",
       "      0.28     1\n",
       "      0.51     1\n",
       "6     0.00     9\n",
       "7     0.00    23\n",
       "      0.09     2\n",
       "      0.01     1\n",
       "      0.05     1\n",
       "      0.07     1\n",
       "      0.08     1\n",
       "Name: Fe, dtype: int64"
      ]
     },
     "execution_count": 72,
     "metadata": {},
     "output_type": "execute_result"
    }
   ],
   "source": [
    "data['Fe'].groupby(data['Type']).value_counts()"
   ]
  },
  {
   "cell_type": "code",
   "execution_count": 73,
   "id": "3283cbdb-d6b7-4a52-a975-5cf9ed055e39",
   "metadata": {},
   "outputs": [],
   "source": [
    "# лямбда-функцию для кодирования значений\n",
    "encode_func = lambda x: 1 if x != 0 else 0\n",
    "\n",
    "# Применем функцию к выбранным показателям\n",
    "data['Fe'] = data['Fe'].apply(encode_func)\n",
    "data['Ba'] = data['Ba'].apply(encode_func)\n",
    "\n"
   ]
  },
  {
   "cell_type": "code",
   "execution_count": 74,
   "id": "f062cc9b-fd23-477c-ae7d-02033b26333c",
   "metadata": {},
   "outputs": [],
   "source": [
    "# произведем Нормализацию данных перед использованием в Моделях, то есть приведем числовые переменные к диапазону от 0 до 1. (за исключением показаетелей, которые мы уже трансформировали)\n",
    "from sklearn.preprocessing import MinMaxScaler\n",
    "\n",
    "scaler = MinMaxScaler(feature_range=(0, 1))\n",
    "cols_to_scale = [col for col in data.columns if col not in [\"Type\", \"Fe\", \"Ba\"]]\n",
    "data[cols_to_scale] = scaler.fit_transform(data[cols_to_scale])"
   ]
  },
  {
   "cell_type": "code",
   "execution_count": 75,
   "id": "cfc84e91-fd3d-4a9d-a9d8-27b47c7762f0",
   "metadata": {},
   "outputs": [
    {
     "data": {
      "text/html": [
       "<div>\n",
       "<style scoped>\n",
       "    .dataframe tbody tr th:only-of-type {\n",
       "        vertical-align: middle;\n",
       "    }\n",
       "\n",
       "    .dataframe tbody tr th {\n",
       "        vertical-align: top;\n",
       "    }\n",
       "\n",
       "    .dataframe thead th {\n",
       "        text-align: right;\n",
       "    }\n",
       "</style>\n",
       "<table border=\"1\" class=\"dataframe\">\n",
       "  <thead>\n",
       "    <tr style=\"text-align: right;\">\n",
       "      <th></th>\n",
       "      <th>RI</th>\n",
       "      <th>Na</th>\n",
       "      <th>Mg</th>\n",
       "      <th>Al</th>\n",
       "      <th>Si</th>\n",
       "      <th>K</th>\n",
       "      <th>Ca</th>\n",
       "      <th>Ba</th>\n",
       "      <th>Fe</th>\n",
       "      <th>Type</th>\n",
       "    </tr>\n",
       "  </thead>\n",
       "  <tbody>\n",
       "    <tr>\n",
       "      <th>count</th>\n",
       "      <td>214.000000</td>\n",
       "      <td>214.000000</td>\n",
       "      <td>214.000000</td>\n",
       "      <td>214.000000</td>\n",
       "      <td>214.000000</td>\n",
       "      <td>214.000000</td>\n",
       "      <td>214.000000</td>\n",
       "      <td>214.000000</td>\n",
       "      <td>214.000000</td>\n",
       "      <td>214.000000</td>\n",
       "    </tr>\n",
       "    <tr>\n",
       "      <th>mean</th>\n",
       "      <td>0.316744</td>\n",
       "      <td>0.402684</td>\n",
       "      <td>0.597891</td>\n",
       "      <td>0.359784</td>\n",
       "      <td>0.507310</td>\n",
       "      <td>0.080041</td>\n",
       "      <td>0.327785</td>\n",
       "      <td>0.177570</td>\n",
       "      <td>0.327103</td>\n",
       "      <td>2.780374</td>\n",
       "    </tr>\n",
       "    <tr>\n",
       "      <th>std</th>\n",
       "      <td>0.133313</td>\n",
       "      <td>0.122798</td>\n",
       "      <td>0.321249</td>\n",
       "      <td>0.155536</td>\n",
       "      <td>0.138312</td>\n",
       "      <td>0.105023</td>\n",
       "      <td>0.132263</td>\n",
       "      <td>0.383046</td>\n",
       "      <td>0.470255</td>\n",
       "      <td>2.103739</td>\n",
       "    </tr>\n",
       "    <tr>\n",
       "      <th>min</th>\n",
       "      <td>0.000000</td>\n",
       "      <td>0.000000</td>\n",
       "      <td>0.000000</td>\n",
       "      <td>0.000000</td>\n",
       "      <td>0.000000</td>\n",
       "      <td>0.000000</td>\n",
       "      <td>0.000000</td>\n",
       "      <td>0.000000</td>\n",
       "      <td>0.000000</td>\n",
       "      <td>1.000000</td>\n",
       "    </tr>\n",
       "    <tr>\n",
       "      <th>25%</th>\n",
       "      <td>0.235843</td>\n",
       "      <td>0.327444</td>\n",
       "      <td>0.471047</td>\n",
       "      <td>0.280374</td>\n",
       "      <td>0.441071</td>\n",
       "      <td>0.019726</td>\n",
       "      <td>0.261152</td>\n",
       "      <td>0.000000</td>\n",
       "      <td>0.000000</td>\n",
       "      <td>1.000000</td>\n",
       "    </tr>\n",
       "    <tr>\n",
       "      <th>50%</th>\n",
       "      <td>0.286655</td>\n",
       "      <td>0.386466</td>\n",
       "      <td>0.775056</td>\n",
       "      <td>0.333333</td>\n",
       "      <td>0.532143</td>\n",
       "      <td>0.089372</td>\n",
       "      <td>0.294610</td>\n",
       "      <td>0.000000</td>\n",
       "      <td>0.000000</td>\n",
       "      <td>2.000000</td>\n",
       "    </tr>\n",
       "    <tr>\n",
       "      <th>75%</th>\n",
       "      <td>0.351514</td>\n",
       "      <td>0.465414</td>\n",
       "      <td>0.801782</td>\n",
       "      <td>0.417445</td>\n",
       "      <td>0.585268</td>\n",
       "      <td>0.098229</td>\n",
       "      <td>0.347816</td>\n",
       "      <td>0.000000</td>\n",
       "      <td>1.000000</td>\n",
       "      <td>3.000000</td>\n",
       "    </tr>\n",
       "    <tr>\n",
       "      <th>max</th>\n",
       "      <td>1.000000</td>\n",
       "      <td>1.000000</td>\n",
       "      <td>1.000000</td>\n",
       "      <td>1.000000</td>\n",
       "      <td>1.000000</td>\n",
       "      <td>1.000000</td>\n",
       "      <td>1.000000</td>\n",
       "      <td>1.000000</td>\n",
       "      <td>1.000000</td>\n",
       "      <td>7.000000</td>\n",
       "    </tr>\n",
       "  </tbody>\n",
       "</table>\n",
       "</div>"
      ],
      "text/plain": [
       "               RI          Na          Mg          Al          Si           K  \\\n",
       "count  214.000000  214.000000  214.000000  214.000000  214.000000  214.000000   \n",
       "mean     0.316744    0.402684    0.597891    0.359784    0.507310    0.080041   \n",
       "std      0.133313    0.122798    0.321249    0.155536    0.138312    0.105023   \n",
       "min      0.000000    0.000000    0.000000    0.000000    0.000000    0.000000   \n",
       "25%      0.235843    0.327444    0.471047    0.280374    0.441071    0.019726   \n",
       "50%      0.286655    0.386466    0.775056    0.333333    0.532143    0.089372   \n",
       "75%      0.351514    0.465414    0.801782    0.417445    0.585268    0.098229   \n",
       "max      1.000000    1.000000    1.000000    1.000000    1.000000    1.000000   \n",
       "\n",
       "               Ca          Ba          Fe        Type  \n",
       "count  214.000000  214.000000  214.000000  214.000000  \n",
       "mean     0.327785    0.177570    0.327103    2.780374  \n",
       "std      0.132263    0.383046    0.470255    2.103739  \n",
       "min      0.000000    0.000000    0.000000    1.000000  \n",
       "25%      0.261152    0.000000    0.000000    1.000000  \n",
       "50%      0.294610    0.000000    0.000000    2.000000  \n",
       "75%      0.347816    0.000000    1.000000    3.000000  \n",
       "max      1.000000    1.000000    1.000000    7.000000  "
      ]
     },
     "execution_count": 75,
     "metadata": {},
     "output_type": "execute_result"
    }
   ],
   "source": [
    "data.describe()"
   ]
  },
  {
   "cell_type": "markdown",
   "id": "42203fde-d5ea-46b8-b1ae-0abbfff5378f",
   "metadata": {},
   "source": [
    "> #### Разделяем на тренировочные и тестовые данные (согласно условию: 80% данных оставить на обучающее множество, 20% - на тестовое)"
   ]
  },
  {
   "cell_type": "code",
   "execution_count": 76,
   "id": "034ee0f8-6a78-4a87-a33e-09876a7d78c6",
   "metadata": {},
   "outputs": [],
   "source": [
    "from sklearn.model_selection import train_test_split"
   ]
  },
  {
   "cell_type": "code",
   "execution_count": 77,
   "id": "b2e305a7-85e7-40c7-a89d-c3f13bb3dc14",
   "metadata": {},
   "outputs": [],
   "source": [
    "X = data.drop(['Type'], axis = 1) \n",
    "\n",
    "y = data['Type']\n",
    "X_train, X_test, y_train, y_test = train_test_split(X, y, test_size = 0.2, random_state = 10)"
   ]
  },
  {
   "cell_type": "markdown",
   "id": "e7fdbe6a-0da6-45ac-a42e-7e9d9a42f000",
   "metadata": {},
   "source": [
    "> #### Обучим модель дерева решений RandomForestClassifier на обучающем множестве."
   ]
  },
  {
   "cell_type": "code",
   "execution_count": 78,
   "id": "26a6fddc-6941-4308-bc1c-5b5573a1b98a",
   "metadata": {},
   "outputs": [],
   "source": [
    "from sklearn.ensemble import RandomForestClassifier"
   ]
  },
  {
   "cell_type": "code",
   "execution_count": 79,
   "id": "01cff4a8-e967-4d1f-90b0-fc5a5f8efedf",
   "metadata": {},
   "outputs": [
    {
     "data": {
      "text/plain": [
       "0.9707602339181286"
      ]
     },
     "execution_count": 79,
     "metadata": {},
     "output_type": "execute_result"
    }
   ],
   "source": [
    "rfc = RandomForestClassifier(n_estimators = 1000, random_state = 10, max_depth = 6)\n",
    "rfc.fit(X_train, y_train)\n",
    "rfc.score(X_train, y_train)"
   ]
  },
  {
   "cell_type": "code",
   "execution_count": 80,
   "id": "bfbc9539-ba9f-447c-b932-16a67321a5cf",
   "metadata": {},
   "outputs": [
    {
     "name": "stdout",
     "output_type": "stream",
     "text": [
      "Вывод: Точность модели на тестовом наборе данных составляет: 62.8% что означает, что модель правильно предсказала тип стекла для 62.8% записей на тестовом наборе данных\n"
     ]
    }
   ],
   "source": [
    "# Для тестового множества предскажим тип стекла и сравним с истинным значением, посчитав точность предсказания модели (accuracy).\n",
    "from sklearn.metrics import accuracy_score\n",
    "\n",
    "y_pred = rfc.predict(X_test)\n",
    "accuracy = accuracy_score(y_test, y_pred)\n",
    "print(f\"Вывод: Точность модели на тестовом наборе данных составляет: {accuracy:.1%} что означает, что модель правильно предсказала тип стекла для {accuracy:.1%} записей на тестовом наборе данных\")\n"
   ]
  },
  {
   "cell_type": "markdown",
   "id": "09f91291-3145-4ff4-97e4-c3bbdf4f4d89",
   "metadata": {},
   "source": [
    "> ####  Обработка выбросов"
   ]
  },
  {
   "cell_type": "code",
   "execution_count": 81,
   "id": "723f3612-1978-42d1-950f-5b7ff3116175",
   "metadata": {},
   "outputs": [
    {
     "data": {
      "image/png": "[encoded data removed]",
      "text/plain": [
       "<Figure size 720x360 with 2 Axes>"
      ]
     },
     "metadata": {},
     "output_type": "display_data"
    },
    {
     "data": {
      "image/png": "[encoded data removed]",
      "text/plain": [
       "<Figure size 720x360 with 2 Axes>"
      ]
     },
     "metadata": {},
     "output_type": "display_data"
    },
    {
     "data": {
      "image/png": "[encoded data removed]",
      "text/plain": [
       "<Figure size 720x360 with 2 Axes>"
      ]
     },
     "metadata": {},
     "output_type": "display_data"
    },
    {
     "data": {
      "image/png": "[encoded data removed]",
      "text/plain": [
       "<Figure size 720x360 with 2 Axes>"
      ]
     },
     "metadata": {},
     "output_type": "display_data"
    },
    {
     "data": {
      "image/png": "[encoded data removed]",
      "text/plain": [
       "<Figure size 720x360 with 2 Axes>"
      ]
     },
     "metadata": {},
     "output_type": "display_data"
    },
    {
     "data": {
      "image/png": "[encoded data removed]",
      "text/plain": [
       "<Figure size 720x360 with 2 Axes>"
      ]
     },
     "metadata": {},
     "output_type": "display_data"
    },
    {
     "data": {
      "image/png": "[encoded data removed]",
      "text/plain": [
       "<Figure size 720x360 with 2 Axes>"
      ]
     },
     "metadata": {},
     "output_type": "display_data"
    },
    {
     "data": {
      "image/png": "[encoded data removed]",
      "text/plain": [
       "<Figure size 720x360 with 2 Axes>"
      ]
     },
     "metadata": {},
     "output_type": "display_data"
    },
    {
     "data": {
      "image/png": "[encoded data removed]",
      "text/plain": [
       "<Figure size 720x360 with 2 Axes>"
      ]
     },
     "metadata": {},
     "output_type": "display_data"
    }
   ],
   "source": [
    "sns.set(style='whitegrid')\n",
    "for feature in X_train.columns:\n",
    "    fig, ax = plt.subplots(1, 2, figsize=(10, 5))\n",
    "    sns.boxplot(x=y_train, y=X_train[feature], ax=ax[0])\n",
    "    sns.histplot(X_train[feature], ax=ax[1])\n",
    "    plt.show()\n"
   ]
  },
  {
   "cell_type": "markdown",
   "id": "136691a8-0418-41f6-8471-4766e74a52d8",
   "metadata": {},
   "source": [
    "* Вывод: Из графиков мы видим, что большинство показателей не имеют нормального распределения. Показатели \"RI\", \"NA\" и \"AI\", по-видимому, имеют несколько нормальное распределение. <br>\n",
    "Так же графикам мы видим предположительные выбросы, так же как и по ящикам с усами по каждому типу стекла наблюдаются предполагаемые выбросы."
   ]
  },
  {
   "cell_type": "markdown",
   "id": "83b56df2-b39b-4e37-a33a-e35fb059072e",
   "metadata": {},
   "source": [
    "> #### Удаляем выбросы несколькими методами"
   ]
  },
  {
   "cell_type": "code",
   "execution_count": 82,
   "id": "39f9863b-9286-425c-a957-a5bb1ebf4c6b",
   "metadata": {},
   "outputs": [],
   "source": [
    "from scipy.stats import zscore, iqr"
   ]
  },
  {
   "cell_type": "code",
   "execution_count": 83,
   "id": "67f1aafd-4d41-4e1a-a5ae-d8cca5f858b0",
   "metadata": {},
   "outputs": [],
   "source": [
    "# Z-Score метод\n",
    "z_scores = zscore(X)\n",
    "abs_z_scores = np.abs(z_scores)\n",
    "filtered_entries = (abs_z_scores < 3).all(axis=1)\n",
    "X_z = X[filtered_entries]\n",
    "y_z = y[filtered_entries]\n",
    "\n"
   ]
  },
  {
   "cell_type": "code",
   "execution_count": 84,
   "id": "108645b7-4824-4aee-8123-7dcb93a64988",
   "metadata": {},
   "outputs": [
    {
     "name": "stdout",
     "output_type": "stream",
     "text": [
      "1     0.000000\n",
      "2     9.210526\n",
      "3     0.000000\n",
      "5    23.076923\n",
      "6    11.111111\n",
      "7     6.896552\n",
      "Name: Type, dtype: float64\n"
     ]
    },
    {
     "data": {
      "text/plain": [
       "(201,)"
      ]
     },
     "execution_count": 84,
     "metadata": {},
     "output_type": "execute_result"
    }
   ],
   "source": [
    "# выводим процент удаленных записей для каждого класса (z-scores)\n",
    "\n",
    "total_counts = data['Type'].value_counts() \n",
    "filtered_counts = y_z.value_counts()\n",
    "percent_removed = (1 - filtered_counts / total_counts) * 100\n",
    "print(percent_removed)\n",
    "y_z.shape"
   ]
  },
  {
   "cell_type": "code",
   "execution_count": 85,
   "id": "8a589388-14b7-4217-8c84-5ac7a79f453f",
   "metadata": {},
   "outputs": [
    {
     "name": "stdout",
     "output_type": "stream",
     "text": [
      "1    12.857143\n",
      "2    22.368421\n",
      "3     5.882353\n",
      "5    84.615385\n",
      "6    44.444444\n",
      "7          NaN\n",
      "Name: Type, dtype: float64\n"
     ]
    },
    {
     "data": {
      "text/plain": [
       "(143,)"
      ]
     },
     "execution_count": 85,
     "metadata": {},
     "output_type": "execute_result"
    }
   ],
   "source": [
    "# выводим процент удаленных записей для каждого класса (IQR) Межквартильный диапазон\n",
    "\n",
    "Q1 = X.quantile(0.25)\n",
    "Q3 = X.quantile(0.75)\n",
    "IQR = Q3 - Q1\n",
    "\n",
    "filtered_entries_iqr = ~((X < (Q1 - 1.5 * IQR)) | (X > (Q3 + 1.5 * IQR))).any(axis=1)\n",
    "\n",
    "X_iqr = X[filtered_entries_iqr]\n",
    "y_iqr = y[filtered_entries_iqr]\n",
    "filtered_counts_iqr = y_iqr.value_counts()\n",
    "percent_removed_iqr = (1 - filtered_counts_iqr / total_counts) * 100\n",
    "print(percent_removed_iqr)\n",
    "y_iqr.shape"
   ]
  },
  {
   "cell_type": "code",
   "execution_count": 86,
   "id": "e57b26b8-884e-4a5a-a92b-3873e82a0f14",
   "metadata": {},
   "outputs": [
    {
     "name": "stdout",
     "output_type": "stream",
     "text": [
      "2    36.363636\n",
      "5    27.272727\n",
      "7    27.272727\n",
      "6     9.090909\n",
      "Name: Type, dtype: float64\n"
     ]
    },
    {
     "data": {
      "text/plain": [
       "(203,)"
      ]
     },
     "execution_count": 86,
     "metadata": {},
     "output_type": "execute_result"
    }
   ],
   "source": [
    "# Isolation Forest\n",
    "from sklearn.ensemble import IsolationForest\n",
    "\n",
    "isf = IsolationForest(n_estimators = 100, random_state = 10, contamination = 0.05)\n",
    "\n",
    "outliers_if = isf.fit_predict(X.values)\n",
    "data_if = data[outliers_if == 1]\n",
    "outliers_if = np.where(outliers_if == -1)[0]\n",
    "outliers_percentage_if = len(outliers_if) / len(X) * 100\n",
    "print(data.iloc[outliers_if]['Type'].value_counts(normalize = True) *100)\n",
    "X_if = data_if.drop('Type', axis=1)\n",
    "y_if = data_if['Type']\n",
    "y_if.shape"
   ]
  },
  {
   "cell_type": "code",
   "execution_count": 87,
   "id": "85df0e81-6711-4fc4-9673-8487c68547e7",
   "metadata": {},
   "outputs": [
    {
     "name": "stdout",
     "output_type": "stream",
     "text": [
      "2    43.478261\n",
      "1    15.217391\n",
      "5    15.217391\n",
      "6    13.043478\n",
      "3     6.521739\n",
      "7     6.521739\n",
      "Name: Type, dtype: float64\n"
     ]
    },
    {
     "data": {
      "text/plain": [
       "(168,)"
      ]
     },
     "execution_count": 87,
     "metadata": {},
     "output_type": "execute_result"
    }
   ],
   "source": [
    "# KNN\n",
    "from sklearn.neighbors import LocalOutlierFactor\n",
    "\n",
    "knn = LocalOutlierFactor(n_neighbors = 20)\n",
    "\n",
    "outliers_knn = knn.fit_predict(X)\n",
    "data_knn = data[outliers_knn == 1]\n",
    "outliers_knn = np.where(outliers_knn == -1)[0]\n",
    "outliers_percentage_knn = len(outliers_knn) / len(X) * 100\n",
    "\n",
    "print(data.iloc[outliers_knn]['Type'].value_counts(normalize = True) * 100)\n",
    "\n",
    "X_knn = data_knn.drop('Type', axis=1)\n",
    "y_knn = data_knn['Type']\n",
    "y_knn.shape"
   ]
  },
  {
   "cell_type": "markdown",
   "id": "0c2b4b3f-f1ea-4855-81f9-97002d95173d",
   "metadata": {},
   "source": [
    "> #### Разделяем на тренировочные и тестовые данные (согласно условию: 80% данных оставить на обучающее множество, 20% - на тестовое) для всех моделей"
   ]
  },
  {
   "cell_type": "code",
   "execution_count": 88,
   "id": "85c9f106-391b-4395-8cbc-f61419f3191f",
   "metadata": {},
   "outputs": [],
   "source": [
    " # Z-Score\n",
    "X_train_z, X_test_z, y_train_z, y_test_z = train_test_split(X_z, y_z, test_size = 0.2, random_state = 10)\n",
    "# IQR\n",
    "X_train_iqr, X_test_iqr, y_train_iqr, y_test_iqr = train_test_split(X_iqr, y_iqr, test_size = 0.2, random_state = 10)\n",
    "# Isolation Forest\n",
    "X_train_if, X_test_if, y_train_if, y_test_if = train_test_split(X_if, y_if, test_size = 0.2, random_state = 10)\n",
    "# KNN\n",
    "X_train_knn, X_test_knn, y_train_knn, y_test_knn = train_test_split(X_knn, y_knn, test_size = 0.2, random_state = 10)"
   ]
  },
  {
   "cell_type": "markdown",
   "id": "f6f8d5a7-42b6-4eed-a8e8-eddd00870c6f",
   "metadata": {},
   "source": [
    "> #### Обучим модели дерева решений RandomForestClassifier на полученных данных после удаления выбросов в следующем порядке:\n",
    "1. Z-Score\n",
    "2. IQR\n",
    "3. Isolation Forest\n",
    "4. KNN"
   ]
  },
  {
   "cell_type": "code",
   "execution_count": 89,
   "id": "5c5af1ea-1e39-472c-ab34-bf88716515fb",
   "metadata": {},
   "outputs": [
    {
     "data": {
      "text/plain": [
       "0.975"
      ]
     },
     "execution_count": 89,
     "metadata": {},
     "output_type": "execute_result"
    }
   ],
   "source": [
    "# 1. Z-Score\n",
    "rfc_z = RandomForestClassifier(n_estimators = 1000, random_state = 10, max_depth = 6)\n",
    "rfc_z.fit(X_train_z, y_train_z)\n",
    "rfc_z.score(X_train_z, y_train_z)"
   ]
  },
  {
   "cell_type": "code",
   "execution_count": 90,
   "id": "eddf6be4-4844-4304-bc00-38412523d061",
   "metadata": {},
   "outputs": [
    {
     "name": "stdout",
     "output_type": "stream",
     "text": [
      "Вывод: Точность модели на тестовом наборе данных составляет: 70.7% что означает, что модель правильно предсказала тип стекла для 70.7% записей на тестовом наборе данных\n"
     ]
    }
   ],
   "source": [
    "y_pred_z = rfc_z.predict(X_test_z)\n",
    "accuracy_z = accuracy_score(y_test_z, y_pred_z)\n",
    "print(f\"Вывод: Точность модели на тестовом наборе данных составляет: {accuracy_z:.1%} что означает, что модель правильно предсказала тип стекла для {accuracy_z:.1%} записей на тестовом наборе данных\")"
   ]
  },
  {
   "cell_type": "code",
   "execution_count": 91,
   "id": "da2911b9-a51e-4967-8b9d-3aa3c75843b2",
   "metadata": {},
   "outputs": [
    {
     "data": {
      "text/plain": [
       "0.9912280701754386"
      ]
     },
     "execution_count": 91,
     "metadata": {},
     "output_type": "execute_result"
    }
   ],
   "source": [
    "# 2. IQR\n",
    "\n",
    "rfc_iqr = RandomForestClassifier(n_estimators = 1000, random_state = 10, max_depth = 6)\n",
    "rfc_iqr.fit(X_train_iqr, y_train_iqr)\n",
    "rfc_iqr.score(X_train_iqr, y_train_iqr)"
   ]
  },
  {
   "cell_type": "code",
   "execution_count": 92,
   "id": "68af5caa-e54e-4440-a02b-153d8e8f3995",
   "metadata": {},
   "outputs": [
    {
     "name": "stdout",
     "output_type": "stream",
     "text": [
      "Вывод: Точность модели на тестовом наборе данных составляет: 75.9% что означает, что модель правильно предсказала тип стекла для 75.9% записей на тестовом наборе данных\n"
     ]
    }
   ],
   "source": [
    "y_pred_iqr = rfc_iqr.predict(X_test_iqr)\n",
    "accuracy_iqr = accuracy_score(y_test_iqr, y_pred_iqr)\n",
    "print(f\"Вывод: Точность модели на тестовом наборе данных составляет: {accuracy_iqr:.1%} что означает, что модель правильно предсказала тип стекла для {accuracy_iqr:.1%} записей на тестовом наборе данных\")"
   ]
  },
  {
   "cell_type": "code",
   "execution_count": 93,
   "id": "33d49fe8-6dcc-4cf3-8571-f4d11dc5c9c4",
   "metadata": {},
   "outputs": [
    {
     "data": {
      "text/plain": [
       "0.9444444444444444"
      ]
     },
     "execution_count": 93,
     "metadata": {},
     "output_type": "execute_result"
    }
   ],
   "source": [
    "# 3. Isolation Forest\n",
    "\n",
    "rfc_if = RandomForestClassifier(n_estimators = 1000, random_state = 10, max_depth = 6)\n",
    "rfc_if.fit(X_train_if, y_train_if)\n",
    "rfc_if.score(X_train_if, y_train_if)"
   ]
  },
  {
   "cell_type": "code",
   "execution_count": 94,
   "id": "2a47e340-3be1-4d40-9f7e-35fe2007c6cc",
   "metadata": {},
   "outputs": [
    {
     "name": "stdout",
     "output_type": "stream",
     "text": [
      "Вывод: Точность модели на тестовом наборе данных составляет: 68.3% что означает, что модель правильно предсказала тип стекла для 68.3% записей на тестовом наборе данных\n"
     ]
    }
   ],
   "source": [
    "y_pred_if = rfc_if.predict(X_test_if)\n",
    "accuracy_if = accuracy_score(y_test_if, y_pred_if)\n",
    "print(f\"Вывод: Точность модели на тестовом наборе данных составляет: {accuracy_if:.1%} что означает, что модель правильно предсказала тип стекла для {accuracy_if:.1%} записей на тестовом наборе данных\")"
   ]
  },
  {
   "cell_type": "code",
   "execution_count": 95,
   "id": "cc242b45-5fcf-4eee-82a8-3aaa204d8a69",
   "metadata": {},
   "outputs": [
    {
     "data": {
      "text/plain": [
       "0.9925373134328358"
      ]
     },
     "execution_count": 95,
     "metadata": {},
     "output_type": "execute_result"
    }
   ],
   "source": [
    "# 4. KNN\n",
    "\n",
    "rfc_knn = RandomForestClassifier(n_estimators = 1000, random_state = 10, max_depth = 6)\n",
    "rfc_knn.fit(X_train_knn, y_train_knn)\n",
    "rfc_knn.score(X_train_knn, y_train_knn)"
   ]
  },
  {
   "cell_type": "code",
   "execution_count": 96,
   "id": "e4176b09-ebb2-4975-a82c-57cb06439651",
   "metadata": {},
   "outputs": [
    {
     "name": "stdout",
     "output_type": "stream",
     "text": [
      "Вывод: Точность модели на тестовом наборе данных составляет: 76.5% что означает, что модель правильно предсказала тип стекла для 76.5% записей на тестовом наборе данных\n"
     ]
    }
   ],
   "source": [
    "y_pred_knn = rfc_knn.predict(X_test_knn)\n",
    "accuracy_knn = accuracy_score(y_test_knn, y_pred_knn)\n",
    "print(f\"Вывод: Точность модели на тестовом наборе данных составляет: {accuracy_knn:.1%} что означает, что модель правильно предсказала тип стекла для {accuracy_knn:.1%} записей на тестовом наборе данных\")"
   ]
  },
  {
   "cell_type": "code",
   "execution_count": 97,
   "id": "2cb031b4-811b-4a9f-9154-37d6624f44ce",
   "metadata": {},
   "outputs": [],
   "source": [
    "from prettytable import PrettyTable"
   ]
  },
  {
   "cell_type": "markdown",
   "id": "1903698f-1fb5-4daa-a1fe-d646c75fab8f",
   "metadata": {},
   "source": [
    "> #### Какие преобразования были сделаны с данными:\n",
    ">  1.  проверка на пропуски;\n",
    ">  2.  бинарная кодировка Fe и Ba;\n",
    ">  3.  нормализация остальных показателей (MinMaxScaler(0,1))\n",
    ">  4.  проверка на выбросы;\n",
    ">  5.  удаление выбросов с момщью Zscore, IQR, Isolation Forest и KNN."
   ]
  },
  {
   "cell_type": "markdown",
   "id": "5d399d96-a7f1-4005-b4f2-8b051050119a",
   "metadata": {},
   "source": [
    "> #### Сравнение точности моделей"
   ]
  },
  {
   "cell_type": "code",
   "execution_count": 98,
   "id": "5ce066c0-be7b-4d92-8bdd-dc4cf0cc1b0a",
   "metadata": {},
   "outputs": [
    {
     "name": "stdout",
     "output_type": "stream",
     "text": [
      "+------------------------+-------------------------------+------------------+-------------------+----------+-------------------------+\n",
      "|         Модель         |    Методы удаления выбросов   | Кол-во данных DF | кол-во данных в % | Аccuracy | Score(X_train, y_train) |\n",
      "+------------------------+-------------------------------+------------------+-------------------+----------+-------------------------+\n",
      "| RandomForestClassifier |        Исходные данные        |       214        |        100%       |  0.6279  |          0.9708         |\n",
      "| RandomForestClassifier |         Z-Score метод         |       201        |        94%        |  0.7073  |          0.975          |\n",
      "| RandomForestClassifier | (IQR) Межквартильный диапазон |       143        |        67%        |  0.7586  |          0.9912         |\n",
      "| RandomForestClassifier |        Isolation Forest       |       203        |        95%        |  0.6829  |          0.9211         |\n",
      "| RandomForestClassifier |              KNN              |       168        |        79%        |  0.7647  |          0.9925         |\n",
      "+------------------------+-------------------------------+------------------+-------------------+----------+-------------------------+\n"
     ]
    }
   ],
   "source": [
    "table = PrettyTable()\n",
    "table.field_names = [\"Модель\", \"Методы удаления выбросов\", \"Кол-во данных DF\", \"кол-во данных в %\", \"Аccuracy\", \"Score(X_train, y_train)\"]\n",
    "table.add_row([\"RandomForestClassifier\", \"Исходные данные\", y.shape[0] , f'{y.shape[0]/y.shape[0]:.0%}', round(accuracy, 4), round(rfc.score(X_train, y_train), 4)])\n",
    "table.add_row([\"RandomForestClassifier\", \"Z-Score метод\", y_z.shape[0], f'{y_z.shape[0]/y.shape[0]:.0%}',round(accuracy_z, 4), round(rfc_z.score(X_train_z, y_train_z), 4)])\n",
    "table.add_row([\"RandomForestClassifier\", \"(IQR) Межквартильный диапазон\", y_iqr.shape[0],f'{y_iqr.shape[0]/y.shape[0]:.0%}',  round(accuracy_iqr, 4), round(rfc_iqr.score(X_train_iqr, y_train_iqr), 4)])\n",
    "table.add_row([\"RandomForestClassifier\", \"Isolation Forest\", y_if.shape[0],f'{y_if.shape[0]/y.shape[0]:.0%}',  round(accuracy_if, 4), round(rfc_if.score(X_train_iqr, y_train_iqr), 4)])\n",
    "table.add_row([\"RandomForestClassifier\", \"KNN\", y_knn.shape[0],f'{y_knn.shape[0]/y.shape[0]:.0%}',  round(accuracy_knn, 4), round(rfc_knn.score(X_train_knn, y_train_knn), 4)])\n",
    "table.valign = \"m\"\n",
    "print(table.get_string())"
   ]
  },
  {
   "cell_type": "markdown",
   "id": "b4bf8424-864b-4703-92a6-a405aa4742ca",
   "metadata": {},
   "source": [
    "* Исходя из полученных данных, точность лучше у моделей, выбросы которой были удалены с помощью межквартильного диапазона и KNN. IQR - потеряли больше данных, чем в KNN. С большой долей вероятности надо выбирать KNN или пробовать другие методы, в том числе можно поиграть так же с данными (по другому их трансформировать) "
   ]
  },
  {
   "cell_type": "markdown",
   "id": "43479e52-b6d0-4588-bab6-072c710a7917",
   "metadata": {},
   "source": [
    "***Нужно ли исследовать данные на выбросы, для чего это делается, плюсы и минусы подхода:***"
   ]
  },
  {
   "cell_type": "markdown",
   "id": "30fda9ee-a444-4b4b-b847-a69148635f69",
   "metadata": {},
   "source": [
    "**Плюсы:** <br>\n",
    "1. Выбросы могут указывать на ошибки в данных или на аномалии в распределении данных, что может помочь в очистке набора данных и улучшении качества моделей машинного обучения.\n",
    "2. Идентификация выбросов может помочь в получении более точных и неожиданных выводов из данных.\n",
    "\n",
    "**Минусы:** <br>\n",
    "1. Идентификация выбросов может быть сложной и требовательной к ресурсам задачей, особенно для больших наборов данных.\n",
    "2. Удаление выбросов может привести к потере информации, что может негативно сказаться на качестве моделей машинного обучения.\n",
    "3. Интерпретация необработанных наблюдений может быть субъективной, что может привести к неправильному определению выбросов.\n",
    "\n",
    "**Вывод:**<br>\n",
    "Таким образом, исследование данных на выбросы может быть полезным инструментом для очистки набора данных и улучшения качества моделей машинного обучения. Однако, необходимо учитывать, что идентификация выбросов может быть сложной и субъективной задачей, а удаление выбросов может привести к потере информации. Поэтому, необходимо внимательно подходить к исследованию данных на выбросы и принимать решения на основе экспертного мнения и с учетом специфики каждого набора данных."
   ]
  }
 ],
 "metadata": {
  "kernelspec": {
   "display_name": "Python 3 (ipykernel)",
   "language": "python",
   "name": "python3"
  },
  "language_info": {
   "codemirror_mode": {
    "name": "ipython",
    "version": 3
   },
   "file_extension": ".py",
   "mimetype": "text/x-python",
   "name": "python",
   "nbconvert_exporter": "python",
   "pygments_lexer": "ipython3",
   "version": "3.9.12"
  }
 },
 "nbformat": 4,
 "nbformat_minor": 5
}

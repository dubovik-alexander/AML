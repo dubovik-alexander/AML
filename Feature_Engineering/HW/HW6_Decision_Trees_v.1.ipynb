{
 "cells": [
  {
   "cell_type": "markdown",
   "id": "1c15c39f-7112-4975-8b04-e63c5080085c",
   "metadata": {},
   "source": [
    "## Домашнее задание «Деревья решений»\n",
    "\n",
    "### Задание\n",
    "\n",
    "<b>Цель:</b><br> изучить применение дерева решений в рамках задачи регрессии. <p>\n",
    "<b>Описание задания:</b><br>\n",
    "В домашнем задании нужно решить задачу регрессии. В качестве датасета необходимо взять данные о недвижимости Калифорнии из библиотеки <a href=\"https://scikit-learn.org/stable/modules/generated/sklearn.datasets.fetch_california_housing.html\" target=\"_blank\">sklearn.datasets</a>. Целевая переменная – MedHouseVal. Прочитать информацию о признаках датасета можно, выполнив следующий код – print(fetch_california_housing().DESCR). На полученных данных построить модель регрессии и дерево решений.<br>\n",
    "\n",
    "<b>Этапы работы:</b>\n",
    "1. Получите данные и загрузите их в рабочую среду. (Jupyter Notebook или другую).\n",
    "2. Проведите первичный анализ.<br>\n",
    "a.Проверьте данные на пропуски. Удалите в случае обнаружения.<br>\n",
    "b.*Нормализуйте один из признаков.<br>\n",
    "3. Разделите выборку на обучающее и тесbrтовое подмножества. 80% данных оставить на обучающее множество, 20% - на тестовое.\n",
    "4. Обучите <a href=\"https://scikit-learn.org/stable/modules/generated/sklearn.linear_model.LinearRegression.html\" target=\"_blank\">модель регрессии</a> на обучающем множестве.\n",
    "5. Для тестового множества предскажите целевую переменную и сравните с истинным значением, посчитав точность предсказания модели. Для этого используйте встроенную функцию score.\n",
    "6. Обучите <a href=\"https://scikit-learn.org/stable/modules/generated/sklearn.tree.DecisionTreeRegressor.html\" target=\"_blank\">дерево решений</a> на обучающем множестве.<br>\n",
    "a. Повторите п. 5 для полученной модели.<br>\n",
    "b. Визуализируйте часть дерева решений. Убедитесь, что график получился читабельным. Посмотрите примеры визуализации по <a href=\"https://mljar.com/blog/visualize-decision-tree/\" target=\"_blank\">ссылке</a>.<br>\n",
    "7. Оптимизируйте глубину дерева (max_depth). *Оптимизируйте ещё один параметр модели на выбор.<br>\n",
    "a. Повторите п. 5 для полученной модели.<br>\n",
    "8. Сформулируйте выводы по проделанной работе.<br>\n",
    "a. Сравните точность двух моделей.<br>\n",
    "b. Напишите свое мнение, для каких задач предпочтительнее использовать обученные в работе модели? Какие у них есть плюсы и минусы?<br>\n",
    "\n",
    "Для получения зачета по этому домашнему заданию, должно быть как минимум реализовано обучение двух моделей, выведена их точность, оптимизирован один параметр дерева решений.\n",
    "\n",
    "\n",
    "\n",
    "<b>Результат:</b>\n",
    "получены знания по работе с деревом решений.\n",
    "<p>\n",
    "\n",
    "<b>Форма выполнения:</b>\n",
    "- Ссылка на Jupyter Notebook, загруженный на GitHub\n",
    "- Ссылка на Google Colab\n",
    "- Файл с расширением .ipynb<p>\n",
    "\n",
    "   \n",
    "<b>Инструменты:</b>\n",
    "- Jupyter Notebook/Google Colab;\n",
    "- GitHub;\n",
    "- библиотека <a href=\"https://scikit-learn.org/stable/modules/generated/sklearn.datasets.fetch_california_housing.html\" target=\"_blank\">sklearn.datasets</a>;\n",
    "- <a href=\"https://scikit-learn.org/stable/modules/generated/sklearn.linear_model.LinearRegression.html\" target=\"_blank\">модель регрессии</a>;\n",
    "- <a href=\"https://scikit-learn.org/stable/modules/generated/sklearn.tree.DecisionTreeRegressor.html\" target=\"_blank\">дерево решений</a>.\n",
    "\n",
    "<b>Срок выполнения:</b> дедлайн приема решений на проверку\n",
    "    \n",
    "<b><i>Рекомендации к выполнению: </b></i><br>\n",
    "- Текст оформляйте в отдельной ячейке Jupyter Notebook/Google Colab в формате markdown.\n",
    "- У графиков должен быть заголовок, подписи осей, легенда (опционально). Делайте графики бОльшего размера, чем стандартный вывод, чтобы увеличить читабельность.\n",
    "- Убедитесь, что по ссылкам есть доступ на чтение/просмотр.\n",
    "- Убедитесь, что все ячейки в работе выполнены и можно увидеть их вывод без повторного запуска."
   ]
  },
  {
   "cell_type": "markdown",
   "id": "f6af34a5-58b5-49f3-a71c-0c825886e959",
   "metadata": {},
   "source": [
    "___"
   ]
  },
  {
   "cell_type": "markdown",
   "id": "1bd76742-0585-4431-b1b7-8314a12d574c",
   "metadata": {},
   "source": [
    "### Решение"
   ]
  },
  {
   "cell_type": "code",
   "execution_count": 1,
   "id": "5c367428-bd47-40ad-8224-1c27ab8be0ab",
   "metadata": {},
   "outputs": [],
   "source": [
    "import pandas as pd\n",
    "import numpy as np\n",
    "from matplotlib import pyplot as plt\n",
    "%matplotlib inline\n",
    "import seaborn as sns"
   ]
  },
  {
   "cell_type": "markdown",
   "id": "1ed23973-adab-47d9-87a9-abfa1951b534",
   "metadata": {},
   "source": [
    "> 1. Загружаем данные о недвижимости Калифорнии из библиотеки sklearn.datasets."
   ]
  },
  {
   "cell_type": "code",
   "execution_count": 2,
   "id": "487f0423-7472-4db4-b60b-6b0eb966c5e7",
   "metadata": {},
   "outputs": [
    {
     "name": "stdout",
     "output_type": "stream",
     "text": [
      ".. _california_housing_dataset:\n",
      "\n",
      "California Housing dataset\n",
      "--------------------------\n",
      "\n",
      "**Data Set Characteristics:**\n",
      "\n",
      "    :Number of Instances: 20640\n",
      "\n",
      "    :Number of Attributes: 8 numeric, predictive attributes and the target\n",
      "\n",
      "    :Attribute Information:\n",
      "        - MedInc        median income in block group\n",
      "        - HouseAge      median house age in block group\n",
      "        - AveRooms      average number of rooms per household\n",
      "        - AveBedrms     average number of bedrooms per household\n",
      "        - Population    block group population\n",
      "        - AveOccup      average number of household members\n",
      "        - Latitude      block group latitude\n",
      "        - Longitude     block group longitude\n",
      "\n",
      "    :Missing Attribute Values: None\n",
      "\n",
      "This dataset was obtained from the StatLib repository.\n",
      "https://www.dcc.fc.up.pt/~ltorgo/Regression/cal_housing.html\n",
      "\n",
      "The target variable is the median house value for California districts,\n",
      "expressed in hundreds of thousands of dollars ($100,000).\n",
      "\n",
      "This dataset was derived from the 1990 U.S. census, using one row per census\n",
      "block group. A block group is the smallest geographical unit for which the U.S.\n",
      "Census Bureau publishes sample data (a block group typically has a population\n",
      "of 600 to 3,000 people).\n",
      "\n",
      "An household is a group of people residing within a home. Since the average\n",
      "number of rooms and bedrooms in this dataset are provided per household, these\n",
      "columns may take surpinsingly large values for block groups with few households\n",
      "and many empty houses, such as vacation resorts.\n",
      "\n",
      "It can be downloaded/loaded using the\n",
      ":func:`sklearn.datasets.fetch_california_housing` function.\n",
      "\n",
      ".. topic:: References\n",
      "\n",
      "    - Pace, R. Kelley and Ronald Barry, Sparse Spatial Autoregressions,\n",
      "      Statistics and Probability Letters, 33 (1997) 291-297\n",
      "\n"
     ]
    }
   ],
   "source": [
    "from sklearn.datasets import fetch_california_housing\n",
    "print(fetch_california_housing().DESCR)\n",
    "data = fetch_california_housing(as_frame=True).frame"
   ]
  },
  {
   "cell_type": "markdown",
   "id": "792d3ce7-bbc8-40fe-880a-5ed8341fbd19",
   "metadata": {},
   "source": [
    "> 2. Первичный анализ.<br> *Проверяем данные на наличие пропусков. И в общем оцениваем и смотрим информацию по полученным данным*"
   ]
  },
  {
   "cell_type": "code",
   "execution_count": 3,
   "id": "59f453f3-757f-481e-9efc-979aaf11f507",
   "metadata": {},
   "outputs": [
    {
     "name": "stdout",
     "output_type": "stream",
     "text": [
      "(20640, 9)\n",
      "<class 'pandas.core.frame.DataFrame'>\n",
      "RangeIndex: 20640 entries, 0 to 20639\n",
      "Data columns (total 9 columns):\n",
      " #   Column       Non-Null Count  Dtype  \n",
      "---  ------       --------------  -----  \n",
      " 0   MedInc       20640 non-null  float64\n",
      " 1   HouseAge     20640 non-null  float64\n",
      " 2   AveRooms     20640 non-null  float64\n",
      " 3   AveBedrms    20640 non-null  float64\n",
      " 4   Population   20640 non-null  float64\n",
      " 5   AveOccup     20640 non-null  float64\n",
      " 6   Latitude     20640 non-null  float64\n",
      " 7   Longitude    20640 non-null  float64\n",
      " 8   MedHouseVal  20640 non-null  float64\n",
      "dtypes: float64(9)\n",
      "memory usage: 1.4 MB\n"
     ]
    }
   ],
   "source": [
    "print(data.shape)\n",
    "data.info()"
   ]
  },
  {
   "cell_type": "code",
   "execution_count": 4,
   "id": "8bc7bbbc-3823-48d0-a693-5c18f001582c",
   "metadata": {},
   "outputs": [
    {
     "name": "stdout",
     "output_type": "stream",
     "text": [
      "   MedInc  HouseAge  AveRooms  AveBedrms  Population  AveOccup  Latitude  \\\n",
      "0  8.3252      41.0  6.984127   1.023810       322.0  2.555556     37.88   \n",
      "1  8.3014      21.0  6.238137   0.971880      2401.0  2.109842     37.86   \n",
      "2  7.2574      52.0  8.288136   1.073446       496.0  2.802260     37.85   \n",
      "3  5.6431      52.0  5.817352   1.073059       558.0  2.547945     37.85   \n",
      "4  3.8462      52.0  6.281853   1.081081       565.0  2.181467     37.85   \n",
      "\n",
      "   Longitude  MedHouseVal  \n",
      "0    -122.23        4.526  \n",
      "1    -122.22        3.585  \n",
      "2    -122.24        3.521  \n",
      "3    -122.25        3.413  \n",
      "4    -122.25        3.422  \n"
     ]
    },
    {
     "data": {
      "text/html": [
       "<div>\n",
       "<style scoped>\n",
       "    .dataframe tbody tr th:only-of-type {\n",
       "        vertical-align: middle;\n",
       "    }\n",
       "\n",
       "    .dataframe tbody tr th {\n",
       "        vertical-align: top;\n",
       "    }\n",
       "\n",
       "    .dataframe thead th {\n",
       "        text-align: right;\n",
       "    }\n",
       "</style>\n",
       "<table border=\"1\" class=\"dataframe\">\n",
       "  <thead>\n",
       "    <tr style=\"text-align: right;\">\n",
       "      <th></th>\n",
       "      <th>MedInc</th>\n",
       "      <th>HouseAge</th>\n",
       "      <th>AveRooms</th>\n",
       "      <th>AveBedrms</th>\n",
       "      <th>Population</th>\n",
       "      <th>AveOccup</th>\n",
       "      <th>Latitude</th>\n",
       "      <th>Longitude</th>\n",
       "      <th>MedHouseVal</th>\n",
       "    </tr>\n",
       "  </thead>\n",
       "  <tbody>\n",
       "    <tr>\n",
       "      <th>count</th>\n",
       "      <td>20640.000000</td>\n",
       "      <td>20640.000000</td>\n",
       "      <td>20640.000000</td>\n",
       "      <td>20640.000000</td>\n",
       "      <td>20640.000000</td>\n",
       "      <td>20640.000000</td>\n",
       "      <td>20640.000000</td>\n",
       "      <td>20640.000000</td>\n",
       "      <td>20640.000000</td>\n",
       "    </tr>\n",
       "    <tr>\n",
       "      <th>mean</th>\n",
       "      <td>3.870671</td>\n",
       "      <td>28.639486</td>\n",
       "      <td>5.429000</td>\n",
       "      <td>1.096675</td>\n",
       "      <td>1425.476744</td>\n",
       "      <td>3.070655</td>\n",
       "      <td>35.631861</td>\n",
       "      <td>-119.569704</td>\n",
       "      <td>2.068558</td>\n",
       "    </tr>\n",
       "    <tr>\n",
       "      <th>std</th>\n",
       "      <td>1.899822</td>\n",
       "      <td>12.585558</td>\n",
       "      <td>2.474173</td>\n",
       "      <td>0.473911</td>\n",
       "      <td>1132.462122</td>\n",
       "      <td>10.386050</td>\n",
       "      <td>2.135952</td>\n",
       "      <td>2.003532</td>\n",
       "      <td>1.153956</td>\n",
       "    </tr>\n",
       "    <tr>\n",
       "      <th>min</th>\n",
       "      <td>0.499900</td>\n",
       "      <td>1.000000</td>\n",
       "      <td>0.846154</td>\n",
       "      <td>0.333333</td>\n",
       "      <td>3.000000</td>\n",
       "      <td>0.692308</td>\n",
       "      <td>32.540000</td>\n",
       "      <td>-124.350000</td>\n",
       "      <td>0.149990</td>\n",
       "    </tr>\n",
       "    <tr>\n",
       "      <th>25%</th>\n",
       "      <td>2.563400</td>\n",
       "      <td>18.000000</td>\n",
       "      <td>4.440716</td>\n",
       "      <td>1.006079</td>\n",
       "      <td>787.000000</td>\n",
       "      <td>2.429741</td>\n",
       "      <td>33.930000</td>\n",
       "      <td>-121.800000</td>\n",
       "      <td>1.196000</td>\n",
       "    </tr>\n",
       "    <tr>\n",
       "      <th>50%</th>\n",
       "      <td>3.534800</td>\n",
       "      <td>29.000000</td>\n",
       "      <td>5.229129</td>\n",
       "      <td>1.048780</td>\n",
       "      <td>1166.000000</td>\n",
       "      <td>2.818116</td>\n",
       "      <td>34.260000</td>\n",
       "      <td>-118.490000</td>\n",
       "      <td>1.797000</td>\n",
       "    </tr>\n",
       "    <tr>\n",
       "      <th>75%</th>\n",
       "      <td>4.743250</td>\n",
       "      <td>37.000000</td>\n",
       "      <td>6.052381</td>\n",
       "      <td>1.099526</td>\n",
       "      <td>1725.000000</td>\n",
       "      <td>3.282261</td>\n",
       "      <td>37.710000</td>\n",
       "      <td>-118.010000</td>\n",
       "      <td>2.647250</td>\n",
       "    </tr>\n",
       "    <tr>\n",
       "      <th>max</th>\n",
       "      <td>15.000100</td>\n",
       "      <td>52.000000</td>\n",
       "      <td>141.909091</td>\n",
       "      <td>34.066667</td>\n",
       "      <td>35682.000000</td>\n",
       "      <td>1243.333333</td>\n",
       "      <td>41.950000</td>\n",
       "      <td>-114.310000</td>\n",
       "      <td>5.000010</td>\n",
       "    </tr>\n",
       "  </tbody>\n",
       "</table>\n",
       "</div>"
      ],
      "text/plain": [
       "             MedInc      HouseAge      AveRooms     AveBedrms    Population  \\\n",
       "count  20640.000000  20640.000000  20640.000000  20640.000000  20640.000000   \n",
       "mean       3.870671     28.639486      5.429000      1.096675   1425.476744   \n",
       "std        1.899822     12.585558      2.474173      0.473911   1132.462122   \n",
       "min        0.499900      1.000000      0.846154      0.333333      3.000000   \n",
       "25%        2.563400     18.000000      4.440716      1.006079    787.000000   \n",
       "50%        3.534800     29.000000      5.229129      1.048780   1166.000000   \n",
       "75%        4.743250     37.000000      6.052381      1.099526   1725.000000   \n",
       "max       15.000100     52.000000    141.909091     34.066667  35682.000000   \n",
       "\n",
       "           AveOccup      Latitude     Longitude   MedHouseVal  \n",
       "count  20640.000000  20640.000000  20640.000000  20640.000000  \n",
       "mean       3.070655     35.631861   -119.569704      2.068558  \n",
       "std       10.386050      2.135952      2.003532      1.153956  \n",
       "min        0.692308     32.540000   -124.350000      0.149990  \n",
       "25%        2.429741     33.930000   -121.800000      1.196000  \n",
       "50%        2.818116     34.260000   -118.490000      1.797000  \n",
       "75%        3.282261     37.710000   -118.010000      2.647250  \n",
       "max     1243.333333     41.950000   -114.310000      5.000010  "
      ]
     },
     "execution_count": 4,
     "metadata": {},
     "output_type": "execute_result"
    }
   ],
   "source": [
    "print(data.head())\n",
    "data.describe()"
   ]
  },
  {
   "cell_type": "code",
   "execution_count": 5,
   "id": "39c720e0-aa4a-4ba5-a5d6-84d3f757d1c1",
   "metadata": {},
   "outputs": [
    {
     "data": {
      "text/plain": [
       "MedInc         0\n",
       "HouseAge       0\n",
       "AveRooms       0\n",
       "AveBedrms      0\n",
       "Population     0\n",
       "AveOccup       0\n",
       "Latitude       0\n",
       "Longitude      0\n",
       "MedHouseVal    0\n",
       "dtype: int64"
      ]
     },
     "execution_count": 5,
     "metadata": {},
     "output_type": "execute_result"
    }
   ],
   "source": [
    "data.isna().sum()"
   ]
  },
  {
   "cell_type": "markdown",
   "id": "5584f614-3191-4488-8ba5-51cfff6521fc",
   "metadata": {},
   "source": [
    "Вывод: <br> *Видим что пропусков нет, таким образом с ними ничего делать не надо*"
   ]
  },
  {
   "cell_type": "markdown",
   "id": "bdfd3340-e8a3-477d-bf2b-1888f273e4a9",
   "metadata": {},
   "source": [
    "> *Нормализуем один из признаков*"
   ]
  },
  {
   "cell_type": "code",
   "execution_count": 6,
   "id": "efa2e8c1-c46e-4e54-a1c5-5eec747b6e39",
   "metadata": {},
   "outputs": [
    {
     "name": "stdout",
     "output_type": "stream",
     "text": [
      "   MedInc  HouseAge  AveRooms  AveBedrms  Population  AveOccup  Latitude  \\\n",
      "0  8.3252  0.784314  6.984127   1.023810       322.0  2.555556     37.88   \n",
      "1  8.3014  0.392157  6.238137   0.971880      2401.0  2.109842     37.86   \n",
      "2  7.2574  1.000000  8.288136   1.073446       496.0  2.802260     37.85   \n",
      "3  5.6431  1.000000  5.817352   1.073059       558.0  2.547945     37.85   \n",
      "4  3.8462  1.000000  6.281853   1.081081       565.0  2.181467     37.85   \n",
      "\n",
      "   Longitude  MedHouseVal  \n",
      "0    -122.23        4.526  \n",
      "1    -122.22        3.585  \n",
      "2    -122.24        3.521  \n",
      "3    -122.25        3.413  \n",
      "4    -122.25        3.422  \n"
     ]
    },
    {
     "data": {
      "text/html": [
       "<div>\n",
       "<style scoped>\n",
       "    .dataframe tbody tr th:only-of-type {\n",
       "        vertical-align: middle;\n",
       "    }\n",
       "\n",
       "    .dataframe tbody tr th {\n",
       "        vertical-align: top;\n",
       "    }\n",
       "\n",
       "    .dataframe thead th {\n",
       "        text-align: right;\n",
       "    }\n",
       "</style>\n",
       "<table border=\"1\" class=\"dataframe\">\n",
       "  <thead>\n",
       "    <tr style=\"text-align: right;\">\n",
       "      <th></th>\n",
       "      <th>MedInc</th>\n",
       "      <th>HouseAge</th>\n",
       "      <th>AveRooms</th>\n",
       "      <th>AveBedrms</th>\n",
       "      <th>Population</th>\n",
       "      <th>AveOccup</th>\n",
       "      <th>Latitude</th>\n",
       "      <th>Longitude</th>\n",
       "      <th>MedHouseVal</th>\n",
       "    </tr>\n",
       "  </thead>\n",
       "  <tbody>\n",
       "    <tr>\n",
       "      <th>count</th>\n",
       "      <td>20640.000000</td>\n",
       "      <td>20640.000000</td>\n",
       "      <td>20640.000000</td>\n",
       "      <td>20640.000000</td>\n",
       "      <td>20640.000000</td>\n",
       "      <td>20640.000000</td>\n",
       "      <td>20640.000000</td>\n",
       "      <td>20640.000000</td>\n",
       "      <td>20640.000000</td>\n",
       "    </tr>\n",
       "    <tr>\n",
       "      <th>mean</th>\n",
       "      <td>3.870671</td>\n",
       "      <td>0.541951</td>\n",
       "      <td>5.429000</td>\n",
       "      <td>1.096675</td>\n",
       "      <td>1425.476744</td>\n",
       "      <td>3.070655</td>\n",
       "      <td>35.631861</td>\n",
       "      <td>-119.569704</td>\n",
       "      <td>2.068558</td>\n",
       "    </tr>\n",
       "    <tr>\n",
       "      <th>std</th>\n",
       "      <td>1.899822</td>\n",
       "      <td>0.246776</td>\n",
       "      <td>2.474173</td>\n",
       "      <td>0.473911</td>\n",
       "      <td>1132.462122</td>\n",
       "      <td>10.386050</td>\n",
       "      <td>2.135952</td>\n",
       "      <td>2.003532</td>\n",
       "      <td>1.153956</td>\n",
       "    </tr>\n",
       "    <tr>\n",
       "      <th>min</th>\n",
       "      <td>0.499900</td>\n",
       "      <td>0.000000</td>\n",
       "      <td>0.846154</td>\n",
       "      <td>0.333333</td>\n",
       "      <td>3.000000</td>\n",
       "      <td>0.692308</td>\n",
       "      <td>32.540000</td>\n",
       "      <td>-124.350000</td>\n",
       "      <td>0.149990</td>\n",
       "    </tr>\n",
       "    <tr>\n",
       "      <th>25%</th>\n",
       "      <td>2.563400</td>\n",
       "      <td>0.333333</td>\n",
       "      <td>4.440716</td>\n",
       "      <td>1.006079</td>\n",
       "      <td>787.000000</td>\n",
       "      <td>2.429741</td>\n",
       "      <td>33.930000</td>\n",
       "      <td>-121.800000</td>\n",
       "      <td>1.196000</td>\n",
       "    </tr>\n",
       "    <tr>\n",
       "      <th>50%</th>\n",
       "      <td>3.534800</td>\n",
       "      <td>0.549020</td>\n",
       "      <td>5.229129</td>\n",
       "      <td>1.048780</td>\n",
       "      <td>1166.000000</td>\n",
       "      <td>2.818116</td>\n",
       "      <td>34.260000</td>\n",
       "      <td>-118.490000</td>\n",
       "      <td>1.797000</td>\n",
       "    </tr>\n",
       "    <tr>\n",
       "      <th>75%</th>\n",
       "      <td>4.743250</td>\n",
       "      <td>0.705882</td>\n",
       "      <td>6.052381</td>\n",
       "      <td>1.099526</td>\n",
       "      <td>1725.000000</td>\n",
       "      <td>3.282261</td>\n",
       "      <td>37.710000</td>\n",
       "      <td>-118.010000</td>\n",
       "      <td>2.647250</td>\n",
       "    </tr>\n",
       "    <tr>\n",
       "      <th>max</th>\n",
       "      <td>15.000100</td>\n",
       "      <td>1.000000</td>\n",
       "      <td>141.909091</td>\n",
       "      <td>34.066667</td>\n",
       "      <td>35682.000000</td>\n",
       "      <td>1243.333333</td>\n",
       "      <td>41.950000</td>\n",
       "      <td>-114.310000</td>\n",
       "      <td>5.000010</td>\n",
       "    </tr>\n",
       "  </tbody>\n",
       "</table>\n",
       "</div>"
      ],
      "text/plain": [
       "             MedInc      HouseAge      AveRooms     AveBedrms    Population  \\\n",
       "count  20640.000000  20640.000000  20640.000000  20640.000000  20640.000000   \n",
       "mean       3.870671      0.541951      5.429000      1.096675   1425.476744   \n",
       "std        1.899822      0.246776      2.474173      0.473911   1132.462122   \n",
       "min        0.499900      0.000000      0.846154      0.333333      3.000000   \n",
       "25%        2.563400      0.333333      4.440716      1.006079    787.000000   \n",
       "50%        3.534800      0.549020      5.229129      1.048780   1166.000000   \n",
       "75%        4.743250      0.705882      6.052381      1.099526   1725.000000   \n",
       "max       15.000100      1.000000    141.909091     34.066667  35682.000000   \n",
       "\n",
       "           AveOccup      Latitude     Longitude   MedHouseVal  \n",
       "count  20640.000000  20640.000000  20640.000000  20640.000000  \n",
       "mean       3.070655     35.631861   -119.569704      2.068558  \n",
       "std       10.386050      2.135952      2.003532      1.153956  \n",
       "min        0.692308     32.540000   -124.350000      0.149990  \n",
       "25%        2.429741     33.930000   -121.800000      1.196000  \n",
       "50%        2.818116     34.260000   -118.490000      1.797000  \n",
       "75%        3.282261     37.710000   -118.010000      2.647250  \n",
       "max     1243.333333     41.950000   -114.310000      5.000010  "
      ]
     },
     "execution_count": 6,
     "metadata": {},
     "output_type": "execute_result"
    }
   ],
   "source": [
    "# Используем MinMaxScaler() \n",
    "from sklearn.preprocessing import MinMaxScaler\n",
    "\n",
    "scaler = MinMaxScaler()\n",
    "data['HouseAge'] = scaler.fit_transform(data[['HouseAge']])\n",
    "\n",
    "print(data.head())\n",
    "data.describe()"
   ]
  },
  {
   "cell_type": "code",
   "execution_count": 7,
   "id": "5c96d9a2-f0e3-4a17-8e91-3d2444e38cb9",
   "metadata": {},
   "outputs": [],
   "source": [
    "# sns.histplot(data=data, x=\"Population\", bins=50)\n",
    "# plt.show()"
   ]
  },
  {
   "cell_type": "markdown",
   "id": "9bd3e7ed-26bc-4ea2-a43a-791109db296f",
   "metadata": {},
   "source": [
    "> 3 - 5 Строим модель"
   ]
  },
  {
   "cell_type": "code",
   "execution_count": 8,
   "id": "50d36255-526c-492a-ba21-477e72aa6d76",
   "metadata": {},
   "outputs": [],
   "source": [
    "# Создаем функцию метрик\n",
    "# Разделяем на тренировочные и тестовые данные (согласно условию: 80% данных оставить на обучающее множество, 20% - на тестовое)\n",
    "# Для тестового множества предскажите целевую переменную и сравните с истинным значением, посчитав точность предсказания модели.\n",
    "# Для этого используйте встроенную функцию score.\n",
    "\n",
    "from sklearn.linear_model import LinearRegression\n",
    "from sklearn.tree import DecisionTreeRegressor\n",
    "from sklearn.model_selection import train_test_split\n",
    "from sklearn.metrics import r2_score\n",
    "from sklearn.tree import plot_tree\n",
    "\n",
    "\n",
    "\n",
    "def get_metrics(X, y, method = 'LRG', max_depth = 5, test_size = 0.2, random_seed = 42, dtreeprint = 'no'): \n",
    "    if method == 'LRG':\n",
    "        model = LinearRegression()\n",
    "    elif method == 'Tree':\n",
    "        model = DecisionTreeRegressor(max_depth = max_depth, random_state = random_seed)\n",
    "    else:\n",
    "        raise ValueError('Invalid method specified.')\n",
    "    \n",
    "    X_train, X_test, y_train, y_test = train_test_split(X, y, test_size = test_size, random_state = random_seed)\n",
    "    model.fit(X_train, y_train)\n",
    "    \n",
    "    if method == 'Tree':\n",
    "        if dtreeprint == \"yes\":\n",
    "            plt.figure(figsize=(20,10))\n",
    "            plot_tree(model, feature_names=X_test.columns, filled=True)\n",
    "            plt.show()\n",
    "    \n",
    "    y_pred_train = model.predict(X_train)\n",
    "    y_pred_test = model.predict(X_test)\n",
    "    \n",
    "    score_test = model.score(X_test, y_test)\n",
    "    \n",
    "\n",
    "    return score_test"
   ]
  },
  {
   "cell_type": "code",
   "execution_count": 9,
   "id": "735faf31-a59e-4a03-8a35-4d84757d59ca",
   "metadata": {},
   "outputs": [
    {
     "data": {
      "text/plain": [
       "0.575787706032448"
      ]
     },
     "execution_count": 9,
     "metadata": {},
     "output_type": "execute_result"
    }
   ],
   "source": [
    "X = data.drop(['MedHouseVal'], axis=1) \n",
    "y = data[\"MedHouseVal\"]\n",
    "get_metrics(X, y)"
   ]
  },
  {
   "cell_type": "markdown",
   "id": "abadf09b-f5ca-4ed1-93b3-7b39e2ea7d16",
   "metadata": {},
   "source": [
    "> 6. Дерево решений"
   ]
  },
  {
   "cell_type": "code",
   "execution_count": 10,
   "id": "8b121bf7-b444-4a30-a61c-c1c5d970bbd1",
   "metadata": {},
   "outputs": [
    {
     "data": {
      "image/png": "[encoded data removed]",
      "text/plain": [
       "<Figure size 1440x720 with 1 Axes>"
      ]
     },
     "metadata": {
      "needs_background": "light"
     },
     "output_type": "display_data"
    },
    {
     "data": {
      "text/plain": [
       "0.5097629887358219"
      ]
     },
     "execution_count": 10,
     "metadata": {},
     "output_type": "execute_result"
    }
   ],
   "source": [
    "X = data.drop(['MedHouseVal'], axis=1) \n",
    "y = data[\"MedHouseVal\"]\n",
    "get_metrics(X, y, method='Tree', max_depth = 3, dtreeprint = 'yes')"
   ]
  },
  {
   "cell_type": "markdown",
   "id": "6cf2f6ee-366c-4710-8131-8eab4d00b204",
   "metadata": {},
   "source": [
    "> Оптимизируйте глубину дерева (max_depth). *Оптимизируйте ещё один параметр модели на выбор."
   ]
  },
  {
   "cell_type": "code",
   "execution_count": 11,
   "id": "28fd29fa-ed45-46c9-a758-9e1575c82cec",
   "metadata": {},
   "outputs": [],
   "source": [
    "# data = data.drop(['Population'], axis=1) \n",
    "data['AveRooms'] = scaler.fit_transform(data[['AveRooms']])\n",
    "X = data.drop(['MedHouseVal'], axis=1) \n",
    "y = data[\"MedHouseVal\"]"
   ]
  },
  {
   "cell_type": "code",
   "execution_count": 12,
   "id": "023e806a-6f63-4f08-a9f0-7bf9a51e3893",
   "metadata": {},
   "outputs": [],
   "source": [
    "def opt_best_deph(max_depth = 10):\n",
    "    '''\n",
    "    поиск наилучшей глубины дерева, по оценке качества, \n",
    "    как только оценка падает, выводиться глубина и сама оценка\n",
    "    '''\n",
    "    best_score = -1\n",
    "    best_depth = None\n",
    "    max_score = -1\n",
    "    decrease_count = 0\n",
    "    for i in range(1, max_depth+1):\n",
    "        score_test = get_metrics(X, y, method='Tree', max_depth = i)\n",
    "        if score_test > best_score:\n",
    "            best_score = score_test\n",
    "            best_depth = i\n",
    "            decrease_count = 0\n",
    "            if score_test > max_score:\n",
    "                max_score = score_test\n",
    "        # else:\n",
    "        #     decrease_count += 1\n",
    "        #     if decrease_count == 3:\n",
    "        #         print(f\"Maximum score achieved: {max_score}\")\n",
    "        #         break\n",
    "    print(f\"Best depth: {best_depth}, Best score: {best_score}\")"
   ]
  },
  {
   "cell_type": "code",
   "execution_count": 13,
   "id": "a1a9ab2c-712a-4f06-a809-1bb4da02c43b",
   "metadata": {},
   "outputs": [
    {
     "name": "stdout",
     "output_type": "stream",
     "text": [
      "Best depth: 9, Best score: 0.6832529836308363\n"
     ]
    }
   ],
   "source": [
    "opt_best_deph()"
   ]
  },
  {
   "cell_type": "markdown",
   "id": "f527a16e-17fd-40a3-ab0e-dd6c98497c1d",
   "metadata": {},
   "source": [
    "> Выведем еще для сравнения скор для модели линейной регрессии, с измененными ранее параметрами"
   ]
  },
  {
   "cell_type": "code",
   "execution_count": 14,
   "id": "794850bd-f9b2-42f3-a19a-fba1b7f617b0",
   "metadata": {},
   "outputs": [
    {
     "data": {
      "text/plain": [
       "0.5757877060324499"
      ]
     },
     "execution_count": 14,
     "metadata": {},
     "output_type": "execute_result"
    }
   ],
   "source": [
    "get_metrics(X, y)"
   ]
  },
  {
   "cell_type": "markdown",
   "id": "75fa91e9-c2c4-4f03-9eec-2ac617e68c23",
   "metadata": {},
   "source": [
    "> ### ВЫВОД Итоговый <br>\n",
    "> 1. При одинаковых условиях и данных, модель линейной регрессии (на тех данных что у нас есть) уступает модели дерева решений.\n",
    "> 2. При оптимизации данных, мы их делали нескольо раз, оценка и качество модели улучшается.\n",
    "> 3. Для дерева решений есть пороговое значение максимальной глубины, когда качество модели начинает ухудшаться."
   ]
  }
 ],
 "metadata": {
  "kernelspec": {
   "display_name": "Python 3 (ipykernel)",
   "language": "python",
   "name": "python3"
  },
  "language_info": {
   "codemirror_mode": {
    "name": "ipython",
    "version": 3
   },
   "file_extension": ".py",
   "mimetype": "text/x-python",
   "name": "python",
   "nbconvert_exporter": "python",
   "pygments_lexer": "ipython3",
   "version": "3.9.12"
  }
 },
 "nbformat": 4,
 "nbformat_minor": 5
}

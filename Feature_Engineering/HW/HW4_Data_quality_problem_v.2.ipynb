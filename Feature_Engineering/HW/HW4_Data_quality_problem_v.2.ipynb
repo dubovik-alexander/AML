{
 "cells": [
  {
   "cell_type": "markdown",
   "id": "5d13743f-29cd-48b0-9dc5-8b9a49e6c2b3",
   "metadata": {},
   "source": [
    "## Домашнее задание «Проблема качества данных»\n",
    "\n",
    "### Задание\n",
    "\n",
    "<b>Цель:</b><br> применить на практике методы по оценке качества данных. <p>\n",
    "<b>Описание задания:</b><br>\n",
    "В домашней работе необходимо провести очистку данных на примере датасета с информацией о пассажирах корабля Титаник. <br>\n",
    "Данные можно скачать по <a href=\"https://www.kaggle.com/hesh97/titanicdataset-traincsv\" target=\"_blank\">ссылке</a> или найти в материалах к уроку. На полученных данных обучите модель классификации, с целевым <br>\n",
    "признаком Survived (1 – пассажир выжил, 0 – погиб). Обучите модель на необработанных данных и посчитайте метрику качества. <br>\n",
    "Проведите очистку данных. Обучите модель на данных после обработки, посчитайте метрику качества. Сравнить полученные результаты.<br>\n",
    "Значение метрики должно улучшиться.<p>\n",
    "\n",
    "<b>Этапы работы:</b>\n",
    "1. Получите и загрузите данные.\n",
    "2. Удалите все пропущенные значения и категориальные переменные. Обучите модель. Выберете и посчитайте метрику качества.\n",
    "3. Снова загрузите полные данные.\n",
    "4. Удалите признаки, которые логически не нужны для построения модели. Обоснуйте.\n",
    "5. Проверьте данные на наличие пропущенных значений.<br>\n",
    "a) Посчитайте, какой процент данных будет потерян, если просто удалить пропуски.<br>\n",
    "b) Заполните пропуски: средним значением; константой; классом, указывающим на то, что значение было пропущено; случайным числом. Для разных признаков используйте подходящий метод. Можно не использовать все перечисленные методы.<br>\n",
    "6. Категориальные переменные переведите в цифровые значения. Можно использовать pd.get_dummies, preprocessing.LabelEncoder. Старайтесь не использовать для этой задачи циклы.\n",
    "7. Проверьте данные на наличие выбросов.<b4>\n",
    "a) Удалите выбросы, если считаете это целесообразным. Обоснуйте.\n",
    "8. *Постройте 1-2 графика на выбор. Визуализация должна быть основана на исследуемых данных и быть полезной (из графика можно сделать вывод об особенностях датасета/класса/признака)\n",
    "9. *Попробуйте математически преобразовать признак Age.\n",
    "10. Обучите ту же модель, что в п. 2 на преобразованных данных. Посчитайте ту же, что в п. 2 метрику.\n",
    "11. Сформулируйте выводы по проделанной работе.<br>\n",
    "a) Кратко опишите какие преобразования были сделаны и почему.<br>\n",
    "b) Сравните метрики моделей из п. 2 и п. 10. <br>\n",
    "c) Напишите свое мнение о целесообразности работы с данными при построении моделей машинного обучения. *Нужно ли аналогичным образов исследовать и дополнять действительно большие данные? <br>\n",
    "Для получения зачета по этому домашнему заданию, минимально, должно быть построено две модели, выведена одна метрика для каждой. В данных должны быть обработаны пропуски и категориальные значения.\n",
    "\n",
    "\n",
    "\n",
    "<b>Результат:</b>\n",
    "применены на практике основные методы разведочного анализа данных (exploratory data analysis, EDA). Проведена оценка качества данных.\n",
    "<p>\n",
    "\n",
    "<b>Форма выполнения:</b>\n",
    "- ссылка на Jupyter Notebook, загруженный на GitHub;\n",
    "- ссылка на Google Colab;\n",
    "- файл с расширением .ipynb.<p>\n",
    "\n",
    "   \n",
    "<b>Инструменты:</b>\n",
    "- Jupyter Notebook/Google Colab;\n",
    "- GitHub;\n",
    "- файл athletes.csv<p>\n",
    "\n",
    "<b>Срок выполнения:</b> дедлайн приема решений на проверку\n",
    "    \n",
    "<b><i>Рекомендации к выполнению: </b></i><br>\n",
    "- Текст оформляйте в отдельной ячейке Jupyter Notebook/Google Colab в формате markdown.\n",
    "- У графиков должен быть заголовок, подписи осей, легенда (опционально). Делайте графики бОльшего размера, чем стандартный вывод, чтобы увеличить читабельность.\n",
    "- Убедитесь, что по ссылкам есть доступ на чтение/просмотр.\n",
    "- Убедитесь, что все ячейки в работе выполнены и можно увидеть их вывод без повторного запуска."
   ]
  },
  {
   "cell_type": "code",
   "execution_count": 1,
   "id": "3c27869b-caf3-4ca9-9f2c-0b55c76d9144",
   "metadata": {},
   "outputs": [],
   "source": [
    "import pandas as pd\n",
    "import numpy as np\n",
    "from matplotlib import pyplot as plt\n",
    "import seaborn as sns"
   ]
  },
  {
   "cell_type": "code",
   "execution_count": 2,
   "id": "3902ac49-4b99-4cb8-bf34-c9b8ea8e3010",
   "metadata": {},
   "outputs": [
    {
     "name": "stdout",
     "output_type": "stream",
     "text": [
      "(891, 12)\n"
     ]
    }
   ],
   "source": [
    "data = pd.read_csv('train.csv', )\n",
    "data.head()\n",
    "print(data.shape)"
   ]
  },
  {
   "cell_type": "markdown",
   "id": "b6324644-f4e7-46eb-972c-9508a58e8683",
   "metadata": {},
   "source": [
    "> Описание DF:\n",
    "> - Survived - выживаемость (0 - умер, 1 - выжил)\n",
    "> - Pclass — класс пассажира (1 — высший, 2 — средний, 3 — низший);\n",
    "> - Name — имя;\n",
    "> - Sex — пол;\n",
    "> - Age — возраст;\n",
    "> - SibSp — количество братьев, сестер, сводных братьев, сводных сестер, супругов на борту титаника;\n",
    "> - Parch — количество родителей, детей (в том числе приемных) на борту титаника;\n",
    "> - Ticket — номер билета;\n",
    "> - Fare — плата за проезд;\n",
    "> - Cabin — каюта;\n",
    "> - Embarked — порт посадки (C — Шербур; Q — Квинстаун; S — Саутгемптон)."
   ]
  },
  {
   "cell_type": "code",
   "execution_count": 3,
   "id": "94aad68e-7f2c-4f2c-8697-ddd1532c03d3",
   "metadata": {},
   "outputs": [
    {
     "data": {
      "text/plain": [
       "PassengerId    891\n",
       "Survived         2\n",
       "Pclass           3\n",
       "Name           891\n",
       "Sex              2\n",
       "Age             88\n",
       "SibSp            7\n",
       "Parch            7\n",
       "Ticket         681\n",
       "Fare           248\n",
       "Cabin          147\n",
       "Embarked         3\n",
       "dtype: int64"
      ]
     },
     "execution_count": 3,
     "metadata": {},
     "output_type": "execute_result"
    }
   ],
   "source": [
    "data.nunique()"
   ]
  },
  {
   "cell_type": "code",
   "execution_count": 4,
   "id": "a11a4889-9ad0-47f4-a3b4-0c8e6160b7c8",
   "metadata": {},
   "outputs": [
    {
     "name": "stdout",
     "output_type": "stream",
     "text": [
      "<class 'pandas.core.frame.DataFrame'>\n",
      "RangeIndex: 891 entries, 0 to 890\n",
      "Data columns (total 12 columns):\n",
      " #   Column       Non-Null Count  Dtype  \n",
      "---  ------       --------------  -----  \n",
      " 0   PassengerId  891 non-null    int64  \n",
      " 1   Survived     891 non-null    int64  \n",
      " 2   Pclass       891 non-null    int64  \n",
      " 3   Name         891 non-null    object \n",
      " 4   Sex          891 non-null    object \n",
      " 5   Age          714 non-null    float64\n",
      " 6   SibSp        891 non-null    int64  \n",
      " 7   Parch        891 non-null    int64  \n",
      " 8   Ticket       891 non-null    object \n",
      " 9   Fare         891 non-null    float64\n",
      " 10  Cabin        204 non-null    object \n",
      " 11  Embarked     889 non-null    object \n",
      "dtypes: float64(2), int64(5), object(5)\n",
      "memory usage: 83.7+ KB\n"
     ]
    }
   ],
   "source": [
    "data.info()"
   ]
  },
  {
   "cell_type": "code",
   "execution_count": 5,
   "id": "698835bc-e155-485d-96e9-5bdca1bd4e96",
   "metadata": {},
   "outputs": [],
   "source": [
    "# data.isnull().sum()"
   ]
  },
  {
   "cell_type": "markdown",
   "id": "5a21ada8-58cf-4369-91ed-92e4dec608c1",
   "metadata": {},
   "source": [
    "> По заданию удаляем все пропущенные значения и категориальные переменные"
   ]
  },
  {
   "cell_type": "code",
   "execution_count": 6,
   "id": "c893659c-0233-469e-9873-ae32b69f9d80",
   "metadata": {},
   "outputs": [],
   "source": [
    "# удаляем пропущенные значения и столбцы которые являются категориальными переменными, а так же, так как в задании мы \n",
    "# не можем сделать категории, то удаляем все не цифровые столбцы, что бы модель могла обучиться\n",
    "\n",
    "test1 = data.dropna().copy()\n",
    "test1 = test1.drop(['Sex', 'Embarked', 'Pclass', 'Name', 'Ticket', 'Cabin'], axis=1) "
   ]
  },
  {
   "cell_type": "code",
   "execution_count": 7,
   "id": "62ec1000-8eab-425f-91cd-7940d988907a",
   "metadata": {},
   "outputs": [
    {
     "data": {
      "text/html": [
       "<div>\n",
       "<style scoped>\n",
       "    .dataframe tbody tr th:only-of-type {\n",
       "        vertical-align: middle;\n",
       "    }\n",
       "\n",
       "    .dataframe tbody tr th {\n",
       "        vertical-align: top;\n",
       "    }\n",
       "\n",
       "    .dataframe thead th {\n",
       "        text-align: right;\n",
       "    }\n",
       "</style>\n",
       "<table border=\"1\" class=\"dataframe\">\n",
       "  <thead>\n",
       "    <tr style=\"text-align: right;\">\n",
       "      <th></th>\n",
       "      <th>PassengerId</th>\n",
       "      <th>Survived</th>\n",
       "      <th>Age</th>\n",
       "      <th>SibSp</th>\n",
       "      <th>Parch</th>\n",
       "      <th>Fare</th>\n",
       "    </tr>\n",
       "  </thead>\n",
       "  <tbody>\n",
       "    <tr>\n",
       "      <th>1</th>\n",
       "      <td>2</td>\n",
       "      <td>1</td>\n",
       "      <td>38.0</td>\n",
       "      <td>1</td>\n",
       "      <td>0</td>\n",
       "      <td>71.2833</td>\n",
       "    </tr>\n",
       "    <tr>\n",
       "      <th>3</th>\n",
       "      <td>4</td>\n",
       "      <td>1</td>\n",
       "      <td>35.0</td>\n",
       "      <td>1</td>\n",
       "      <td>0</td>\n",
       "      <td>53.1000</td>\n",
       "    </tr>\n",
       "    <tr>\n",
       "      <th>6</th>\n",
       "      <td>7</td>\n",
       "      <td>0</td>\n",
       "      <td>54.0</td>\n",
       "      <td>0</td>\n",
       "      <td>0</td>\n",
       "      <td>51.8625</td>\n",
       "    </tr>\n",
       "    <tr>\n",
       "      <th>10</th>\n",
       "      <td>11</td>\n",
       "      <td>1</td>\n",
       "      <td>4.0</td>\n",
       "      <td>1</td>\n",
       "      <td>1</td>\n",
       "      <td>16.7000</td>\n",
       "    </tr>\n",
       "    <tr>\n",
       "      <th>11</th>\n",
       "      <td>12</td>\n",
       "      <td>1</td>\n",
       "      <td>58.0</td>\n",
       "      <td>0</td>\n",
       "      <td>0</td>\n",
       "      <td>26.5500</td>\n",
       "    </tr>\n",
       "    <tr>\n",
       "      <th>...</th>\n",
       "      <td>...</td>\n",
       "      <td>...</td>\n",
       "      <td>...</td>\n",
       "      <td>...</td>\n",
       "      <td>...</td>\n",
       "      <td>...</td>\n",
       "    </tr>\n",
       "    <tr>\n",
       "      <th>871</th>\n",
       "      <td>872</td>\n",
       "      <td>1</td>\n",
       "      <td>47.0</td>\n",
       "      <td>1</td>\n",
       "      <td>1</td>\n",
       "      <td>52.5542</td>\n",
       "    </tr>\n",
       "    <tr>\n",
       "      <th>872</th>\n",
       "      <td>873</td>\n",
       "      <td>0</td>\n",
       "      <td>33.0</td>\n",
       "      <td>0</td>\n",
       "      <td>0</td>\n",
       "      <td>5.0000</td>\n",
       "    </tr>\n",
       "    <tr>\n",
       "      <th>879</th>\n",
       "      <td>880</td>\n",
       "      <td>1</td>\n",
       "      <td>56.0</td>\n",
       "      <td>0</td>\n",
       "      <td>1</td>\n",
       "      <td>83.1583</td>\n",
       "    </tr>\n",
       "    <tr>\n",
       "      <th>887</th>\n",
       "      <td>888</td>\n",
       "      <td>1</td>\n",
       "      <td>19.0</td>\n",
       "      <td>0</td>\n",
       "      <td>0</td>\n",
       "      <td>30.0000</td>\n",
       "    </tr>\n",
       "    <tr>\n",
       "      <th>889</th>\n",
       "      <td>890</td>\n",
       "      <td>1</td>\n",
       "      <td>26.0</td>\n",
       "      <td>0</td>\n",
       "      <td>0</td>\n",
       "      <td>30.0000</td>\n",
       "    </tr>\n",
       "  </tbody>\n",
       "</table>\n",
       "<p>183 rows × 6 columns</p>\n",
       "</div>"
      ],
      "text/plain": [
       "     PassengerId  Survived   Age  SibSp  Parch     Fare\n",
       "1              2         1  38.0      1      0  71.2833\n",
       "3              4         1  35.0      1      0  53.1000\n",
       "6              7         0  54.0      0      0  51.8625\n",
       "10            11         1   4.0      1      1  16.7000\n",
       "11            12         1  58.0      0      0  26.5500\n",
       "..           ...       ...   ...    ...    ...      ...\n",
       "871          872         1  47.0      1      1  52.5542\n",
       "872          873         0  33.0      0      0   5.0000\n",
       "879          880         1  56.0      0      1  83.1583\n",
       "887          888         1  19.0      0      0  30.0000\n",
       "889          890         1  26.0      0      0  30.0000\n",
       "\n",
       "[183 rows x 6 columns]"
      ]
     },
     "execution_count": 7,
     "metadata": {},
     "output_type": "execute_result"
    }
   ],
   "source": [
    "test1"
   ]
  },
  {
   "cell_type": "markdown",
   "id": "dfee559f-06e9-4081-ba2d-5861a2fb06bc",
   "metadata": {},
   "source": [
    "> Строим модель"
   ]
  },
  {
   "cell_type": "code",
   "execution_count": 8,
   "id": "56853a07-bdc1-4764-af66-b6448f743f6a",
   "metadata": {},
   "outputs": [],
   "source": [
    "from sklearn.linear_model import LogisticRegression\n",
    "from sklearn.model_selection import train_test_split\n",
    "from sklearn.pipeline import make_pipeline  # используем пайплайны для удобства\n",
    "from sklearn.preprocessing import StandardScaler\n"
   ]
  },
  {
   "cell_type": "code",
   "execution_count": 9,
   "id": "a9fec0eb-e604-471f-9b5b-1ce65d2240ca",
   "metadata": {},
   "outputs": [
    {
     "data": {
      "text/html": [
       "<div>\n",
       "<style scoped>\n",
       "    .dataframe tbody tr th:only-of-type {\n",
       "        vertical-align: middle;\n",
       "    }\n",
       "\n",
       "    .dataframe tbody tr th {\n",
       "        vertical-align: top;\n",
       "    }\n",
       "\n",
       "    .dataframe thead th {\n",
       "        text-align: right;\n",
       "    }\n",
       "</style>\n",
       "<table border=\"1\" class=\"dataframe\">\n",
       "  <thead>\n",
       "    <tr style=\"text-align: right;\">\n",
       "      <th></th>\n",
       "      <th>PassengerId</th>\n",
       "      <th>Age</th>\n",
       "      <th>SibSp</th>\n",
       "      <th>Parch</th>\n",
       "      <th>Fare</th>\n",
       "    </tr>\n",
       "  </thead>\n",
       "  <tbody>\n",
       "    <tr>\n",
       "      <th>1</th>\n",
       "      <td>2</td>\n",
       "      <td>38.0</td>\n",
       "      <td>1</td>\n",
       "      <td>0</td>\n",
       "      <td>71.2833</td>\n",
       "    </tr>\n",
       "    <tr>\n",
       "      <th>3</th>\n",
       "      <td>4</td>\n",
       "      <td>35.0</td>\n",
       "      <td>1</td>\n",
       "      <td>0</td>\n",
       "      <td>53.1000</td>\n",
       "    </tr>\n",
       "    <tr>\n",
       "      <th>6</th>\n",
       "      <td>7</td>\n",
       "      <td>54.0</td>\n",
       "      <td>0</td>\n",
       "      <td>0</td>\n",
       "      <td>51.8625</td>\n",
       "    </tr>\n",
       "    <tr>\n",
       "      <th>10</th>\n",
       "      <td>11</td>\n",
       "      <td>4.0</td>\n",
       "      <td>1</td>\n",
       "      <td>1</td>\n",
       "      <td>16.7000</td>\n",
       "    </tr>\n",
       "    <tr>\n",
       "      <th>11</th>\n",
       "      <td>12</td>\n",
       "      <td>58.0</td>\n",
       "      <td>0</td>\n",
       "      <td>0</td>\n",
       "      <td>26.5500</td>\n",
       "    </tr>\n",
       "  </tbody>\n",
       "</table>\n",
       "</div>"
      ],
      "text/plain": [
       "    PassengerId   Age  SibSp  Parch     Fare\n",
       "1             2  38.0      1      0  71.2833\n",
       "3             4  35.0      1      0  53.1000\n",
       "6             7  54.0      0      0  51.8625\n",
       "10           11   4.0      1      1  16.7000\n",
       "11           12  58.0      0      0  26.5500"
      ]
     },
     "execution_count": 9,
     "metadata": {},
     "output_type": "execute_result"
    }
   ],
   "source": [
    "selectedColumns = list(filter(lambda i: i != 'Survived', test1.columns))\n",
    "X = test1[selectedColumns]\n",
    "X.head()"
   ]
  },
  {
   "cell_type": "code",
   "execution_count": 10,
   "id": "6070b4e6-53c9-47f1-87fa-a00097f1cca5",
   "metadata": {},
   "outputs": [
    {
     "data": {
      "text/plain": [
       "1     1\n",
       "3     1\n",
       "6     0\n",
       "10    1\n",
       "11    1\n",
       "Name: Survived, dtype: int64"
      ]
     },
     "execution_count": 10,
     "metadata": {},
     "output_type": "execute_result"
    }
   ],
   "source": [
    "y = test1['Survived']\n",
    "y.head()"
   ]
  },
  {
   "cell_type": "code",
   "execution_count": 11,
   "id": "2ae7537e-cdb8-4018-9037-3404d0710fcb",
   "metadata": {},
   "outputs": [],
   "source": [
    "# Разделите выборку на обучающее (80% данных) и тестовое (20% данных) подмножества.\n",
    "X_train, X_test, y_train, y_test = train_test_split(X, y, test_size=0.3, random_state=42)"
   ]
  },
  {
   "cell_type": "code",
   "execution_count": 12,
   "id": "71e183ea-4834-4248-b94e-498aea7a4869",
   "metadata": {},
   "outputs": [],
   "source": [
    "model_1 = make_pipeline(\n",
    "    StandardScaler(),\n",
    "    LogisticRegression(max_iter=3000)\n",
    ")"
   ]
  },
  {
   "cell_type": "code",
   "execution_count": 13,
   "id": "13eed664-8e99-4e58-87b5-c4927212c027",
   "metadata": {},
   "outputs": [
    {
     "data": {
      "text/plain": [
       "Pipeline(steps=[('standardscaler', StandardScaler()),\n",
       "                ('logisticregression', LogisticRegression(max_iter=3000))])"
      ]
     },
     "execution_count": 13,
     "metadata": {},
     "output_type": "execute_result"
    }
   ],
   "source": [
    "model_1.fit(X_train, y_train)"
   ]
  },
  {
   "cell_type": "code",
   "execution_count": 14,
   "id": "49a080f5-1751-4250-a431-1026e842c9a3",
   "metadata": {},
   "outputs": [
    {
     "data": {
      "text/plain": [
       "0.6727272727272727"
      ]
     },
     "execution_count": 14,
     "metadata": {},
     "output_type": "execute_result"
    }
   ],
   "source": [
    "model_1.score(X_test, y_test)"
   ]
  },
  {
   "cell_type": "markdown",
   "id": "416ee202-75fd-4a8f-a715-8ea3a5d1b305",
   "metadata": {},
   "source": [
    "___"
   ]
  },
  {
   "cell_type": "markdown",
   "id": "3e2eb738-4685-48c7-b09e-a9467f3c6779",
   "metadata": {},
   "source": [
    "> Создаем новый DF для анализа и для тестирования новой модели, созданной на базе нового DF"
   ]
  },
  {
   "cell_type": "code",
   "execution_count": 15,
   "id": "b4fbc520-162f-43f1-91c0-f157f30c4563",
   "metadata": {},
   "outputs": [],
   "source": [
    "titanic = data.copy()"
   ]
  },
  {
   "cell_type": "markdown",
   "id": "47eb6563-0f74-4e35-9885-c94a2c517f03",
   "metadata": {},
   "source": [
    "> Удаляем признаки, которые логически не нужны для построения модели."
   ]
  },
  {
   "cell_type": "markdown",
   "id": "cd76f10e-c401-4578-8d55-a5c615c90d27",
   "metadata": {},
   "source": [
    "*Объяснение:*<br> Для обучения и построения модели нам не нужно ID, имя пассажира, а так же номер его билета. <br>\n",
    "Имя не несет смысловой нагрузки, билет так же не дает нам информации (если только мы не будем рассмтривать нумерологию и искать счастливые билеты)."
   ]
  },
  {
   "cell_type": "code",
   "execution_count": 16,
   "id": "908361a6-53c5-445e-8628-6f12de1fc9bd",
   "metadata": {},
   "outputs": [
    {
     "name": "stdout",
     "output_type": "stream",
     "text": [
      "<class 'pandas.core.frame.DataFrame'>\n",
      "RangeIndex: 891 entries, 0 to 890\n",
      "Data columns (total 9 columns):\n",
      " #   Column    Non-Null Count  Dtype  \n",
      "---  ------    --------------  -----  \n",
      " 0   Survived  891 non-null    int64  \n",
      " 1   Pclass    891 non-null    int64  \n",
      " 2   Sex       891 non-null    object \n",
      " 3   Age       714 non-null    float64\n",
      " 4   SibSp     891 non-null    int64  \n",
      " 5   Parch     891 non-null    int64  \n",
      " 6   Fare      891 non-null    float64\n",
      " 7   Cabin     204 non-null    object \n",
      " 8   Embarked  889 non-null    object \n",
      "dtypes: float64(2), int64(4), object(3)\n",
      "memory usage: 62.8+ KB\n"
     ]
    }
   ],
   "source": [
    "titanic = titanic.drop(['PassengerId', 'Name', 'Ticket'], axis=1) \n",
    "titanic.info()"
   ]
  },
  {
   "cell_type": "code",
   "execution_count": 17,
   "id": "250bfec1-24ae-4757-90d0-6d4b997ff9da",
   "metadata": {},
   "outputs": [
    {
     "name": "stdout",
     "output_type": "stream",
     "text": [
      "Sex: ['male' 'female'] \n",
      "\n",
      "Cabin: [nan 'C85' 'C123' 'E46' 'G6' 'C103' 'D56' 'A6' 'C23 C25 C27' 'B78' 'D33'\n",
      " 'B30' 'C52' 'B28' 'C83' 'F33' 'F G73' 'E31' 'A5' 'D10 D12' 'D26' 'C110'\n",
      " 'B58 B60' 'E101' 'F E69' 'D47' 'B86' 'F2' 'C2' 'E33' 'B19' 'A7' 'C49'\n",
      " 'F4' 'A32' 'B4' 'B80' 'A31' 'D36' 'D15' 'C93' 'C78' 'D35' 'C87' 'B77'\n",
      " 'E67' 'B94' 'C125' 'C99' 'C118' 'D7' 'A19' 'B49' 'D' 'C22 C26' 'C106'\n",
      " 'C65' 'E36' 'C54' 'B57 B59 B63 B66' 'C7' 'E34' 'C32' 'B18' 'C124' 'C91'\n",
      " 'E40' 'T' 'C128' 'D37' 'B35' 'E50' 'C82' 'B96 B98' 'E10' 'E44' 'A34'\n",
      " 'C104' 'C111' 'C92' 'E38' 'D21' 'E12' 'E63' 'A14' 'B37' 'C30' 'D20' 'B79'\n",
      " 'E25' 'D46' 'B73' 'C95' 'B38' 'B39' 'B22' 'C86' 'C70' 'A16' 'C101' 'C68'\n",
      " 'A10' 'E68' 'B41' 'A20' 'D19' 'D50' 'D9' 'A23' 'B50' 'A26' 'D48' 'E58'\n",
      " 'C126' 'B71' 'B51 B53 B55' 'D49' 'B5' 'B20' 'F G63' 'C62 C64' 'E24' 'C90'\n",
      " 'C45' 'E8' 'B101' 'D45' 'C46' 'D30' 'E121' 'D11' 'E77' 'F38' 'B3' 'D6'\n",
      " 'B82 B84' 'D17' 'A36' 'B102' 'B69' 'E49' 'C47' 'D28' 'E17' 'A24' 'C50'\n",
      " 'B42' 'C148'] \n",
      "\n",
      "Embarked: ['S' 'C' 'Q' nan] \n",
      "\n"
     ]
    }
   ],
   "source": [
    "# Визуально проверим все уникальные данные по всем колонкам c типом object:\n",
    "for col in titanic.select_dtypes('object'):\n",
    "    print(f'{col}: {titanic[col].unique()} \\n')  "
   ]
  },
  {
   "cell_type": "markdown",
   "id": "5c80f4ca-6a1f-4a8f-91e6-96d29a93f8e6",
   "metadata": {},
   "source": [
    "> Какой процент данных будет потерян, если просто удалить пропуски."
   ]
  },
  {
   "cell_type": "code",
   "execution_count": 18,
   "id": "60e0cf5f-aa80-4c98-b88b-2002a3b50c97",
   "metadata": {},
   "outputs": [
    {
     "name": "stdout",
     "output_type": "stream",
     "text": [
      " После удаления строк со всеми пропусками, мы потеряли: 79.46% данных\n"
     ]
    }
   ],
   "source": [
    "data_test = data.copy()\n",
    "# удаляем строки с пропусками\n",
    "data_test = data_test[~(data_test['Age'].isna())]\n",
    "data_test = data_test[~(data_test['Cabin'].isna())]\n",
    "data_test = data_test[~(data_test['Embarked'].isna())]\n",
    "\n",
    "print(f\" После удаления строк со всеми пропусками, мы потеряли: {100 - data_test['PassengerId'].count()*100 / data['PassengerId'].count():.2f}% данных\")"
   ]
  },
  {
   "cell_type": "markdown",
   "id": "bef71c75-e73b-4ecd-9100-44505613d8ec",
   "metadata": {},
   "source": [
    "> Заполните пропуски: средним значением; константой; классом, указывающим на то, что значение было пропущено; случайным числом. Для разных признаков используйте подходящий метод. Можно не использовать все перечисленные методы."
   ]
  },
  {
   "cell_type": "markdown",
   "id": "8d854d44-a9ba-4946-88e5-5a9c741d6db1",
   "metadata": {},
   "source": [
    "> 1. определим сколько уникальных значений есть "
   ]
  },
  {
   "cell_type": "code",
   "execution_count": 19,
   "id": "e50da5f9-7c2e-4160-98bf-a05c2b73dff8",
   "metadata": {},
   "outputs": [
    {
     "data": {
      "text/plain": [
       "S    644\n",
       "C    168\n",
       "Q     77\n",
       "Name: Embarked, dtype: int64"
      ]
     },
     "execution_count": 19,
     "metadata": {},
     "output_type": "execute_result"
    }
   ],
   "source": [
    "# определение уникальных значений и их количество в столбце Embarked (порт посадки)\n",
    "titanic['Embarked'].value_counts()\n"
   ]
  },
  {
   "cell_type": "markdown",
   "id": "0efad0cb-4c2a-4da6-b63f-10fe5c373253",
   "metadata": {},
   "source": [
    "> * Из выше полученных данных, видно, что пропущенных значений всего 2, при этом наибольшее кол-во пассажиров сели в портe посадки S — Саутгемптон.<br>\n",
    "Так как вероятность того, что пассажиры сели в S больше, то заменим проупски на этот пункт"
   ]
  },
  {
   "cell_type": "code",
   "execution_count": 20,
   "id": "b4b1ef32-bb7d-4dda-8c9c-127e95c9d337",
   "metadata": {},
   "outputs": [],
   "source": [
    "titanic['Embarked'].fillna(titanic['Embarked'].mode()[0], inplace = True)"
   ]
  },
  {
   "cell_type": "code",
   "execution_count": 21,
   "id": "13b39316-7799-4cdb-9933-f7ec4c535c87",
   "metadata": {},
   "outputs": [],
   "source": [
    "# Сделаем столбцы с 0 и 1 для этих портов (удалим первый, так как если в обоих столбцах 0, то значит это первый порт\n",
    "\n",
    "embarked = pd.get_dummies(titanic['Embarked'], prefix=\"Emb\", drop_first = True)\n",
    "titanic = pd.concat([titanic, embarked], axis = 1)"
   ]
  },
  {
   "cell_type": "markdown",
   "id": "21e7707a-33d9-4bf4-9859-74365cbb5dcc",
   "metadata": {},
   "source": [
    "> * Закодируем категориальные переменные Sex (пол) числовыми значениями"
   ]
  },
  {
   "cell_type": "code",
   "execution_count": 22,
   "id": "2f45b24c-d376-49b5-9e33-c6de42c5f301",
   "metadata": {},
   "outputs": [
    {
     "data": {
      "text/html": [
       "<div>\n",
       "<style scoped>\n",
       "    .dataframe tbody tr th:only-of-type {\n",
       "        vertical-align: middle;\n",
       "    }\n",
       "\n",
       "    .dataframe tbody tr th {\n",
       "        vertical-align: top;\n",
       "    }\n",
       "\n",
       "    .dataframe thead th {\n",
       "        text-align: right;\n",
       "    }\n",
       "</style>\n",
       "<table border=\"1\" class=\"dataframe\">\n",
       "  <thead>\n",
       "    <tr style=\"text-align: right;\">\n",
       "      <th></th>\n",
       "      <th>Survived</th>\n",
       "      <th>Pclass</th>\n",
       "      <th>Sex</th>\n",
       "      <th>Age</th>\n",
       "      <th>SibSp</th>\n",
       "      <th>Parch</th>\n",
       "      <th>Fare</th>\n",
       "      <th>Cabin</th>\n",
       "      <th>Embarked</th>\n",
       "      <th>Emb_Q</th>\n",
       "      <th>Emb_S</th>\n",
       "    </tr>\n",
       "  </thead>\n",
       "  <tbody>\n",
       "    <tr>\n",
       "      <th>0</th>\n",
       "      <td>0</td>\n",
       "      <td>3</td>\n",
       "      <td>1</td>\n",
       "      <td>22.0</td>\n",
       "      <td>1</td>\n",
       "      <td>0</td>\n",
       "      <td>7.2500</td>\n",
       "      <td>NaN</td>\n",
       "      <td>S</td>\n",
       "      <td>0</td>\n",
       "      <td>1</td>\n",
       "    </tr>\n",
       "    <tr>\n",
       "      <th>1</th>\n",
       "      <td>1</td>\n",
       "      <td>1</td>\n",
       "      <td>0</td>\n",
       "      <td>38.0</td>\n",
       "      <td>1</td>\n",
       "      <td>0</td>\n",
       "      <td>71.2833</td>\n",
       "      <td>C85</td>\n",
       "      <td>C</td>\n",
       "      <td>0</td>\n",
       "      <td>0</td>\n",
       "    </tr>\n",
       "    <tr>\n",
       "      <th>2</th>\n",
       "      <td>1</td>\n",
       "      <td>3</td>\n",
       "      <td>0</td>\n",
       "      <td>26.0</td>\n",
       "      <td>0</td>\n",
       "      <td>0</td>\n",
       "      <td>7.9250</td>\n",
       "      <td>NaN</td>\n",
       "      <td>S</td>\n",
       "      <td>0</td>\n",
       "      <td>1</td>\n",
       "    </tr>\n",
       "    <tr>\n",
       "      <th>3</th>\n",
       "      <td>1</td>\n",
       "      <td>1</td>\n",
       "      <td>0</td>\n",
       "      <td>35.0</td>\n",
       "      <td>1</td>\n",
       "      <td>0</td>\n",
       "      <td>53.1000</td>\n",
       "      <td>C123</td>\n",
       "      <td>S</td>\n",
       "      <td>0</td>\n",
       "      <td>1</td>\n",
       "    </tr>\n",
       "    <tr>\n",
       "      <th>4</th>\n",
       "      <td>0</td>\n",
       "      <td>3</td>\n",
       "      <td>1</td>\n",
       "      <td>35.0</td>\n",
       "      <td>0</td>\n",
       "      <td>0</td>\n",
       "      <td>8.0500</td>\n",
       "      <td>NaN</td>\n",
       "      <td>S</td>\n",
       "      <td>0</td>\n",
       "      <td>1</td>\n",
       "    </tr>\n",
       "    <tr>\n",
       "      <th>...</th>\n",
       "      <td>...</td>\n",
       "      <td>...</td>\n",
       "      <td>...</td>\n",
       "      <td>...</td>\n",
       "      <td>...</td>\n",
       "      <td>...</td>\n",
       "      <td>...</td>\n",
       "      <td>...</td>\n",
       "      <td>...</td>\n",
       "      <td>...</td>\n",
       "      <td>...</td>\n",
       "    </tr>\n",
       "    <tr>\n",
       "      <th>886</th>\n",
       "      <td>0</td>\n",
       "      <td>2</td>\n",
       "      <td>1</td>\n",
       "      <td>27.0</td>\n",
       "      <td>0</td>\n",
       "      <td>0</td>\n",
       "      <td>13.0000</td>\n",
       "      <td>NaN</td>\n",
       "      <td>S</td>\n",
       "      <td>0</td>\n",
       "      <td>1</td>\n",
       "    </tr>\n",
       "    <tr>\n",
       "      <th>887</th>\n",
       "      <td>1</td>\n",
       "      <td>1</td>\n",
       "      <td>0</td>\n",
       "      <td>19.0</td>\n",
       "      <td>0</td>\n",
       "      <td>0</td>\n",
       "      <td>30.0000</td>\n",
       "      <td>B42</td>\n",
       "      <td>S</td>\n",
       "      <td>0</td>\n",
       "      <td>1</td>\n",
       "    </tr>\n",
       "    <tr>\n",
       "      <th>888</th>\n",
       "      <td>0</td>\n",
       "      <td>3</td>\n",
       "      <td>0</td>\n",
       "      <td>NaN</td>\n",
       "      <td>1</td>\n",
       "      <td>2</td>\n",
       "      <td>23.4500</td>\n",
       "      <td>NaN</td>\n",
       "      <td>S</td>\n",
       "      <td>0</td>\n",
       "      <td>1</td>\n",
       "    </tr>\n",
       "    <tr>\n",
       "      <th>889</th>\n",
       "      <td>1</td>\n",
       "      <td>1</td>\n",
       "      <td>1</td>\n",
       "      <td>26.0</td>\n",
       "      <td>0</td>\n",
       "      <td>0</td>\n",
       "      <td>30.0000</td>\n",
       "      <td>C148</td>\n",
       "      <td>C</td>\n",
       "      <td>0</td>\n",
       "      <td>0</td>\n",
       "    </tr>\n",
       "    <tr>\n",
       "      <th>890</th>\n",
       "      <td>0</td>\n",
       "      <td>3</td>\n",
       "      <td>1</td>\n",
       "      <td>32.0</td>\n",
       "      <td>0</td>\n",
       "      <td>0</td>\n",
       "      <td>7.7500</td>\n",
       "      <td>NaN</td>\n",
       "      <td>Q</td>\n",
       "      <td>1</td>\n",
       "      <td>0</td>\n",
       "    </tr>\n",
       "  </tbody>\n",
       "</table>\n",
       "<p>891 rows × 11 columns</p>\n",
       "</div>"
      ],
      "text/plain": [
       "     Survived  Pclass  Sex   Age  SibSp  Parch     Fare Cabin Embarked  Emb_Q  \\\n",
       "0           0       3    1  22.0      1      0   7.2500   NaN        S      0   \n",
       "1           1       1    0  38.0      1      0  71.2833   C85        C      0   \n",
       "2           1       3    0  26.0      0      0   7.9250   NaN        S      0   \n",
       "3           1       1    0  35.0      1      0  53.1000  C123        S      0   \n",
       "4           0       3    1  35.0      0      0   8.0500   NaN        S      0   \n",
       "..        ...     ...  ...   ...    ...    ...      ...   ...      ...    ...   \n",
       "886         0       2    1  27.0      0      0  13.0000   NaN        S      0   \n",
       "887         1       1    0  19.0      0      0  30.0000   B42        S      0   \n",
       "888         0       3    0   NaN      1      2  23.4500   NaN        S      0   \n",
       "889         1       1    1  26.0      0      0  30.0000  C148        C      0   \n",
       "890         0       3    1  32.0      0      0   7.7500   NaN        Q      1   \n",
       "\n",
       "     Emb_S  \n",
       "0        1  \n",
       "1        0  \n",
       "2        1  \n",
       "3        1  \n",
       "4        1  \n",
       "..     ...  \n",
       "886      1  \n",
       "887      1  \n",
       "888      1  \n",
       "889      0  \n",
       "890      0  \n",
       "\n",
       "[891 rows x 11 columns]"
      ]
     },
     "execution_count": 22,
     "metadata": {},
     "output_type": "execute_result"
    }
   ],
   "source": [
    "from sklearn.preprocessing import LabelEncoder\n",
    "\n",
    "lei = LabelEncoder()\n",
    "lei.fit(titanic['Sex'])\n",
    "titanic['Sex']=lei.transform(titanic['Sex'])\n",
    "titanic"
   ]
  },
  {
   "cell_type": "markdown",
   "id": "2f221f58-58cf-41a8-9f3d-bd46d66662a6",
   "metadata": {},
   "source": [
    "> * По полученным ранее данным видно что меньше всего данных по каютам, я решил сделать новую колонку и при наличии каюты будет ставится этаж (палуба) каюты или 0 <br>\n"
   ]
  },
  {
   "cell_type": "code",
   "execution_count": 23,
   "id": "18826d70-6aef-4c92-852d-c5f29c5962d0",
   "metadata": {},
   "outputs": [
    {
     "data": {
      "text/plain": [
       "C    59\n",
       "B    47\n",
       "D    33\n",
       "E    32\n",
       "A    15\n",
       "F    13\n",
       "G     4\n",
       "T     1\n",
       "Name: Cabin_floor, dtype: int64"
      ]
     },
     "execution_count": 23,
     "metadata": {},
     "output_type": "execute_result"
    }
   ],
   "source": [
    "# Создадим новую колонку каюты по этажам, так как мы знаем, что в названии каюты закодирован этаж\n",
    "titanic[\"Cabin_floor\"] = titanic[\"Cabin\"].str[0]\n",
    "\n",
    "# # Заменим все пропуски на 0\n",
    "# titanic['Cabin_floor'] = titanic['Cabin_floor'].fillna(0)\n",
    "\n",
    "titanic['Cabin_floor'].value_counts()"
   ]
  },
  {
   "cell_type": "code",
   "execution_count": 24,
   "id": "a0531d71-ee75-487c-9a8c-fd5e9faa9399",
   "metadata": {},
   "outputs": [
    {
     "data": {
      "text/html": [
       "<div>\n",
       "<style scoped>\n",
       "    .dataframe tbody tr th:only-of-type {\n",
       "        vertical-align: middle;\n",
       "    }\n",
       "\n",
       "    .dataframe tbody tr th {\n",
       "        vertical-align: top;\n",
       "    }\n",
       "\n",
       "    .dataframe thead th {\n",
       "        text-align: right;\n",
       "    }\n",
       "</style>\n",
       "<table border=\"1\" class=\"dataframe\">\n",
       "  <thead>\n",
       "    <tr style=\"text-align: right;\">\n",
       "      <th></th>\n",
       "      <th>Survived</th>\n",
       "      <th>Pclass</th>\n",
       "      <th>Sex</th>\n",
       "      <th>Age</th>\n",
       "      <th>SibSp</th>\n",
       "      <th>Parch</th>\n",
       "      <th>Fare</th>\n",
       "      <th>Cabin</th>\n",
       "      <th>Embarked</th>\n",
       "      <th>Emb_Q</th>\n",
       "      <th>Emb_S</th>\n",
       "      <th>Cabin_floor</th>\n",
       "    </tr>\n",
       "  </thead>\n",
       "  <tbody>\n",
       "    <tr>\n",
       "      <th>339</th>\n",
       "      <td>0</td>\n",
       "      <td>1</td>\n",
       "      <td>1</td>\n",
       "      <td>45.0</td>\n",
       "      <td>0</td>\n",
       "      <td>0</td>\n",
       "      <td>35.5</td>\n",
       "      <td>T</td>\n",
       "      <td>S</td>\n",
       "      <td>0</td>\n",
       "      <td>1</td>\n",
       "      <td>T</td>\n",
       "    </tr>\n",
       "  </tbody>\n",
       "</table>\n",
       "</div>"
      ],
      "text/plain": [
       "     Survived  Pclass  Sex   Age  SibSp  Parch  Fare Cabin Embarked  Emb_Q  \\\n",
       "339         0       1    1  45.0      0      0  35.5     T        S      0   \n",
       "\n",
       "     Emb_S Cabin_floor  \n",
       "339      1           T  "
      ]
     },
     "execution_count": 24,
     "metadata": {},
     "output_type": "execute_result"
    }
   ],
   "source": [
    "titanic[(titanic['Cabin_floor']=='T')]"
   ]
  },
  {
   "cell_type": "markdown",
   "id": "65709577-caa4-4ad4-b7c4-dbe6576a7cc3",
   "metadata": {},
   "source": [
    "> * Видим что есть выброс в виде номера каюты Т.\n",
    "> Так как этаж Т это выброс, то его приравняем к тем что у нас пропущены и пропущенные переименуем, так как процент пропуска большой и скорее заполнив эти пропуски медианой, средним или еще каким-то значением, то мы испортим данные, скорее всего."
   ]
  },
  {
   "cell_type": "code",
   "execution_count": 25,
   "id": "a621e03b-f970-4f69-8877-baadbf64a94f",
   "metadata": {},
   "outputs": [],
   "source": [
    "titanic['Cabin_floor'] = titanic['Cabin_floor'].replace('T', np.nan)"
   ]
  },
  {
   "cell_type": "markdown",
   "id": "17cd3c62-36dc-424d-a9d2-1e170f88064d",
   "metadata": {},
   "source": [
    "> * Далее заполним все пропуски на ND - No data."
   ]
  },
  {
   "cell_type": "code",
   "execution_count": 26,
   "id": "d2148409-1b5b-481a-94f6-58d0ed41e293",
   "metadata": {},
   "outputs": [],
   "source": [
    "titanic['Cabin_floor'] = titanic['Cabin_floor'].fillna('ND')"
   ]
  },
  {
   "cell_type": "code",
   "execution_count": 27,
   "id": "24a2c21f-0090-4195-9fcb-24efe4fb80fb",
   "metadata": {},
   "outputs": [
    {
     "data": {
      "text/plain": [
       "ND    688\n",
       "C      59\n",
       "B      47\n",
       "D      33\n",
       "E      32\n",
       "A      15\n",
       "F      13\n",
       "G       4\n",
       "Name: Cabin_floor, dtype: int64"
      ]
     },
     "execution_count": 27,
     "metadata": {},
     "output_type": "execute_result"
    }
   ],
   "source": [
    "titanic['Cabin_floor'].value_counts()"
   ]
  },
  {
   "cell_type": "code",
   "execution_count": 28,
   "id": "541ccf01-30f3-4d37-b063-5a6518d06a58",
   "metadata": {},
   "outputs": [
    {
     "data": {
      "text/html": [
       "<div>\n",
       "<style scoped>\n",
       "    .dataframe tbody tr th:only-of-type {\n",
       "        vertical-align: middle;\n",
       "    }\n",
       "\n",
       "    .dataframe tbody tr th {\n",
       "        vertical-align: top;\n",
       "    }\n",
       "\n",
       "    .dataframe thead th {\n",
       "        text-align: right;\n",
       "    }\n",
       "</style>\n",
       "<table border=\"1\" class=\"dataframe\">\n",
       "  <thead>\n",
       "    <tr style=\"text-align: right;\">\n",
       "      <th></th>\n",
       "      <th>Survived</th>\n",
       "      <th>Pclass</th>\n",
       "      <th>Sex</th>\n",
       "      <th>Age</th>\n",
       "      <th>SibSp</th>\n",
       "      <th>Parch</th>\n",
       "      <th>Fare</th>\n",
       "      <th>Cabin</th>\n",
       "      <th>Embarked</th>\n",
       "      <th>Emb_Q</th>\n",
       "      <th>Emb_S</th>\n",
       "      <th>Cabin_floor</th>\n",
       "      <th>Cab_A</th>\n",
       "      <th>Cab_B</th>\n",
       "      <th>Cab_C</th>\n",
       "      <th>Cab_D</th>\n",
       "      <th>Cab_E</th>\n",
       "      <th>Cab_F</th>\n",
       "      <th>Cab_G</th>\n",
       "      <th>Cab_ND</th>\n",
       "    </tr>\n",
       "  </thead>\n",
       "  <tbody>\n",
       "    <tr>\n",
       "      <th>0</th>\n",
       "      <td>0</td>\n",
       "      <td>3</td>\n",
       "      <td>1</td>\n",
       "      <td>22.0</td>\n",
       "      <td>1</td>\n",
       "      <td>0</td>\n",
       "      <td>7.2500</td>\n",
       "      <td>NaN</td>\n",
       "      <td>S</td>\n",
       "      <td>0</td>\n",
       "      <td>1</td>\n",
       "      <td>ND</td>\n",
       "      <td>0</td>\n",
       "      <td>0</td>\n",
       "      <td>0</td>\n",
       "      <td>0</td>\n",
       "      <td>0</td>\n",
       "      <td>0</td>\n",
       "      <td>0</td>\n",
       "      <td>1</td>\n",
       "    </tr>\n",
       "    <tr>\n",
       "      <th>1</th>\n",
       "      <td>1</td>\n",
       "      <td>1</td>\n",
       "      <td>0</td>\n",
       "      <td>38.0</td>\n",
       "      <td>1</td>\n",
       "      <td>0</td>\n",
       "      <td>71.2833</td>\n",
       "      <td>C85</td>\n",
       "      <td>C</td>\n",
       "      <td>0</td>\n",
       "      <td>0</td>\n",
       "      <td>C</td>\n",
       "      <td>0</td>\n",
       "      <td>0</td>\n",
       "      <td>1</td>\n",
       "      <td>0</td>\n",
       "      <td>0</td>\n",
       "      <td>0</td>\n",
       "      <td>0</td>\n",
       "      <td>0</td>\n",
       "    </tr>\n",
       "    <tr>\n",
       "      <th>2</th>\n",
       "      <td>1</td>\n",
       "      <td>3</td>\n",
       "      <td>0</td>\n",
       "      <td>26.0</td>\n",
       "      <td>0</td>\n",
       "      <td>0</td>\n",
       "      <td>7.9250</td>\n",
       "      <td>NaN</td>\n",
       "      <td>S</td>\n",
       "      <td>0</td>\n",
       "      <td>1</td>\n",
       "      <td>ND</td>\n",
       "      <td>0</td>\n",
       "      <td>0</td>\n",
       "      <td>0</td>\n",
       "      <td>0</td>\n",
       "      <td>0</td>\n",
       "      <td>0</td>\n",
       "      <td>0</td>\n",
       "      <td>1</td>\n",
       "    </tr>\n",
       "    <tr>\n",
       "      <th>3</th>\n",
       "      <td>1</td>\n",
       "      <td>1</td>\n",
       "      <td>0</td>\n",
       "      <td>35.0</td>\n",
       "      <td>1</td>\n",
       "      <td>0</td>\n",
       "      <td>53.1000</td>\n",
       "      <td>C123</td>\n",
       "      <td>S</td>\n",
       "      <td>0</td>\n",
       "      <td>1</td>\n",
       "      <td>C</td>\n",
       "      <td>0</td>\n",
       "      <td>0</td>\n",
       "      <td>1</td>\n",
       "      <td>0</td>\n",
       "      <td>0</td>\n",
       "      <td>0</td>\n",
       "      <td>0</td>\n",
       "      <td>0</td>\n",
       "    </tr>\n",
       "    <tr>\n",
       "      <th>4</th>\n",
       "      <td>0</td>\n",
       "      <td>3</td>\n",
       "      <td>1</td>\n",
       "      <td>35.0</td>\n",
       "      <td>0</td>\n",
       "      <td>0</td>\n",
       "      <td>8.0500</td>\n",
       "      <td>NaN</td>\n",
       "      <td>S</td>\n",
       "      <td>0</td>\n",
       "      <td>1</td>\n",
       "      <td>ND</td>\n",
       "      <td>0</td>\n",
       "      <td>0</td>\n",
       "      <td>0</td>\n",
       "      <td>0</td>\n",
       "      <td>0</td>\n",
       "      <td>0</td>\n",
       "      <td>0</td>\n",
       "      <td>1</td>\n",
       "    </tr>\n",
       "    <tr>\n",
       "      <th>...</th>\n",
       "      <td>...</td>\n",
       "      <td>...</td>\n",
       "      <td>...</td>\n",
       "      <td>...</td>\n",
       "      <td>...</td>\n",
       "      <td>...</td>\n",
       "      <td>...</td>\n",
       "      <td>...</td>\n",
       "      <td>...</td>\n",
       "      <td>...</td>\n",
       "      <td>...</td>\n",
       "      <td>...</td>\n",
       "      <td>...</td>\n",
       "      <td>...</td>\n",
       "      <td>...</td>\n",
       "      <td>...</td>\n",
       "      <td>...</td>\n",
       "      <td>...</td>\n",
       "      <td>...</td>\n",
       "      <td>...</td>\n",
       "    </tr>\n",
       "    <tr>\n",
       "      <th>886</th>\n",
       "      <td>0</td>\n",
       "      <td>2</td>\n",
       "      <td>1</td>\n",
       "      <td>27.0</td>\n",
       "      <td>0</td>\n",
       "      <td>0</td>\n",
       "      <td>13.0000</td>\n",
       "      <td>NaN</td>\n",
       "      <td>S</td>\n",
       "      <td>0</td>\n",
       "      <td>1</td>\n",
       "      <td>ND</td>\n",
       "      <td>0</td>\n",
       "      <td>0</td>\n",
       "      <td>0</td>\n",
       "      <td>0</td>\n",
       "      <td>0</td>\n",
       "      <td>0</td>\n",
       "      <td>0</td>\n",
       "      <td>1</td>\n",
       "    </tr>\n",
       "    <tr>\n",
       "      <th>887</th>\n",
       "      <td>1</td>\n",
       "      <td>1</td>\n",
       "      <td>0</td>\n",
       "      <td>19.0</td>\n",
       "      <td>0</td>\n",
       "      <td>0</td>\n",
       "      <td>30.0000</td>\n",
       "      <td>B42</td>\n",
       "      <td>S</td>\n",
       "      <td>0</td>\n",
       "      <td>1</td>\n",
       "      <td>B</td>\n",
       "      <td>0</td>\n",
       "      <td>1</td>\n",
       "      <td>0</td>\n",
       "      <td>0</td>\n",
       "      <td>0</td>\n",
       "      <td>0</td>\n",
       "      <td>0</td>\n",
       "      <td>0</td>\n",
       "    </tr>\n",
       "    <tr>\n",
       "      <th>888</th>\n",
       "      <td>0</td>\n",
       "      <td>3</td>\n",
       "      <td>0</td>\n",
       "      <td>NaN</td>\n",
       "      <td>1</td>\n",
       "      <td>2</td>\n",
       "      <td>23.4500</td>\n",
       "      <td>NaN</td>\n",
       "      <td>S</td>\n",
       "      <td>0</td>\n",
       "      <td>1</td>\n",
       "      <td>ND</td>\n",
       "      <td>0</td>\n",
       "      <td>0</td>\n",
       "      <td>0</td>\n",
       "      <td>0</td>\n",
       "      <td>0</td>\n",
       "      <td>0</td>\n",
       "      <td>0</td>\n",
       "      <td>1</td>\n",
       "    </tr>\n",
       "    <tr>\n",
       "      <th>889</th>\n",
       "      <td>1</td>\n",
       "      <td>1</td>\n",
       "      <td>1</td>\n",
       "      <td>26.0</td>\n",
       "      <td>0</td>\n",
       "      <td>0</td>\n",
       "      <td>30.0000</td>\n",
       "      <td>C148</td>\n",
       "      <td>C</td>\n",
       "      <td>0</td>\n",
       "      <td>0</td>\n",
       "      <td>C</td>\n",
       "      <td>0</td>\n",
       "      <td>0</td>\n",
       "      <td>1</td>\n",
       "      <td>0</td>\n",
       "      <td>0</td>\n",
       "      <td>0</td>\n",
       "      <td>0</td>\n",
       "      <td>0</td>\n",
       "    </tr>\n",
       "    <tr>\n",
       "      <th>890</th>\n",
       "      <td>0</td>\n",
       "      <td>3</td>\n",
       "      <td>1</td>\n",
       "      <td>32.0</td>\n",
       "      <td>0</td>\n",
       "      <td>0</td>\n",
       "      <td>7.7500</td>\n",
       "      <td>NaN</td>\n",
       "      <td>Q</td>\n",
       "      <td>1</td>\n",
       "      <td>0</td>\n",
       "      <td>ND</td>\n",
       "      <td>0</td>\n",
       "      <td>0</td>\n",
       "      <td>0</td>\n",
       "      <td>0</td>\n",
       "      <td>0</td>\n",
       "      <td>0</td>\n",
       "      <td>0</td>\n",
       "      <td>1</td>\n",
       "    </tr>\n",
       "  </tbody>\n",
       "</table>\n",
       "<p>891 rows × 20 columns</p>\n",
       "</div>"
      ],
      "text/plain": [
       "     Survived  Pclass  Sex   Age  SibSp  Parch     Fare Cabin Embarked  Emb_Q  \\\n",
       "0           0       3    1  22.0      1      0   7.2500   NaN        S      0   \n",
       "1           1       1    0  38.0      1      0  71.2833   C85        C      0   \n",
       "2           1       3    0  26.0      0      0   7.9250   NaN        S      0   \n",
       "3           1       1    0  35.0      1      0  53.1000  C123        S      0   \n",
       "4           0       3    1  35.0      0      0   8.0500   NaN        S      0   \n",
       "..        ...     ...  ...   ...    ...    ...      ...   ...      ...    ...   \n",
       "886         0       2    1  27.0      0      0  13.0000   NaN        S      0   \n",
       "887         1       1    0  19.0      0      0  30.0000   B42        S      0   \n",
       "888         0       3    0   NaN      1      2  23.4500   NaN        S      0   \n",
       "889         1       1    1  26.0      0      0  30.0000  C148        C      0   \n",
       "890         0       3    1  32.0      0      0   7.7500   NaN        Q      1   \n",
       "\n",
       "     Emb_S Cabin_floor  Cab_A  Cab_B  Cab_C  Cab_D  Cab_E  Cab_F  Cab_G  \\\n",
       "0        1          ND      0      0      0      0      0      0      0   \n",
       "1        0           C      0      0      1      0      0      0      0   \n",
       "2        1          ND      0      0      0      0      0      0      0   \n",
       "3        1           C      0      0      1      0      0      0      0   \n",
       "4        1          ND      0      0      0      0      0      0      0   \n",
       "..     ...         ...    ...    ...    ...    ...    ...    ...    ...   \n",
       "886      1          ND      0      0      0      0      0      0      0   \n",
       "887      1           B      0      1      0      0      0      0      0   \n",
       "888      1          ND      0      0      0      0      0      0      0   \n",
       "889      0           C      0      0      1      0      0      0      0   \n",
       "890      0          ND      0      0      0      0      0      0      0   \n",
       "\n",
       "     Cab_ND  \n",
       "0         1  \n",
       "1         0  \n",
       "2         1  \n",
       "3         0  \n",
       "4         1  \n",
       "..      ...  \n",
       "886       1  \n",
       "887       0  \n",
       "888       1  \n",
       "889       0  \n",
       "890       1  \n",
       "\n",
       "[891 rows x 20 columns]"
      ]
     },
     "execution_count": 28,
     "metadata": {},
     "output_type": "execute_result"
    }
   ],
   "source": [
    "# Сделаем столбцы с 0 и 1 для этих этажей\n",
    "cabin = pd.get_dummies(titanic['Cabin_floor'], prefix=\"Cab\")\n",
    "titanic = pd.concat([titanic, cabin], axis = 1)\n",
    "titanic"
   ]
  },
  {
   "cell_type": "markdown",
   "id": "324b1201-3b1b-49cc-a2b0-462784178ba1",
   "metadata": {},
   "source": [
    "> * Проверим что у нас осталось не заполненым"
   ]
  },
  {
   "cell_type": "code",
   "execution_count": 29,
   "id": "83e091e3-a6ce-4b64-8f8d-716bbabb22ac",
   "metadata": {},
   "outputs": [
    {
     "name": "stdout",
     "output_type": "stream",
     "text": [
      "<class 'pandas.core.frame.DataFrame'>\n",
      "RangeIndex: 891 entries, 0 to 890\n",
      "Data columns (total 20 columns):\n",
      " #   Column       Non-Null Count  Dtype  \n",
      "---  ------       --------------  -----  \n",
      " 0   Survived     891 non-null    int64  \n",
      " 1   Pclass       891 non-null    int64  \n",
      " 2   Sex          891 non-null    int32  \n",
      " 3   Age          714 non-null    float64\n",
      " 4   SibSp        891 non-null    int64  \n",
      " 5   Parch        891 non-null    int64  \n",
      " 6   Fare         891 non-null    float64\n",
      " 7   Cabin        204 non-null    object \n",
      " 8   Embarked     891 non-null    object \n",
      " 9   Emb_Q        891 non-null    uint8  \n",
      " 10  Emb_S        891 non-null    uint8  \n",
      " 11  Cabin_floor  891 non-null    object \n",
      " 12  Cab_A        891 non-null    uint8  \n",
      " 13  Cab_B        891 non-null    uint8  \n",
      " 14  Cab_C        891 non-null    uint8  \n",
      " 15  Cab_D        891 non-null    uint8  \n",
      " 16  Cab_E        891 non-null    uint8  \n",
      " 17  Cab_F        891 non-null    uint8  \n",
      " 18  Cab_G        891 non-null    uint8  \n",
      " 19  Cab_ND       891 non-null    uint8  \n",
      "dtypes: float64(2), int32(1), int64(4), object(3), uint8(10)\n",
      "memory usage: 75.0+ KB\n"
     ]
    }
   ],
   "source": [
    "titanic.info()"
   ]
  },
  {
   "cell_type": "code",
   "execution_count": 30,
   "id": "6baaa993-5e4c-4fe1-a61a-e2acc0052bb9",
   "metadata": {},
   "outputs": [
    {
     "data": {
      "text/html": [
       "<div>\n",
       "<style scoped>\n",
       "    .dataframe tbody tr th:only-of-type {\n",
       "        vertical-align: middle;\n",
       "    }\n",
       "\n",
       "    .dataframe tbody tr th {\n",
       "        vertical-align: top;\n",
       "    }\n",
       "\n",
       "    .dataframe thead th {\n",
       "        text-align: right;\n",
       "    }\n",
       "</style>\n",
       "<table border=\"1\" class=\"dataframe\">\n",
       "  <thead>\n",
       "    <tr style=\"text-align: right;\">\n",
       "      <th></th>\n",
       "      <th>Survived</th>\n",
       "      <th>Pclass</th>\n",
       "      <th>Sex</th>\n",
       "      <th>Age</th>\n",
       "      <th>SibSp</th>\n",
       "      <th>Parch</th>\n",
       "      <th>Fare</th>\n",
       "      <th>Emb_Q</th>\n",
       "      <th>Emb_S</th>\n",
       "      <th>Cab_A</th>\n",
       "      <th>Cab_B</th>\n",
       "      <th>Cab_C</th>\n",
       "      <th>Cab_D</th>\n",
       "      <th>Cab_E</th>\n",
       "      <th>Cab_F</th>\n",
       "      <th>Cab_G</th>\n",
       "      <th>Cab_ND</th>\n",
       "    </tr>\n",
       "  </thead>\n",
       "  <tbody>\n",
       "    <tr>\n",
       "      <th>count</th>\n",
       "      <td>891.000000</td>\n",
       "      <td>891.000000</td>\n",
       "      <td>891.000000</td>\n",
       "      <td>714.000000</td>\n",
       "      <td>891.000000</td>\n",
       "      <td>891.000000</td>\n",
       "      <td>891.000000</td>\n",
       "      <td>891.000000</td>\n",
       "      <td>891.000000</td>\n",
       "      <td>891.000000</td>\n",
       "      <td>891.000000</td>\n",
       "      <td>891.000000</td>\n",
       "      <td>891.000000</td>\n",
       "      <td>891.000000</td>\n",
       "      <td>891.000000</td>\n",
       "      <td>891.000000</td>\n",
       "      <td>891.000000</td>\n",
       "    </tr>\n",
       "    <tr>\n",
       "      <th>mean</th>\n",
       "      <td>0.383838</td>\n",
       "      <td>2.308642</td>\n",
       "      <td>0.647587</td>\n",
       "      <td>29.699118</td>\n",
       "      <td>0.523008</td>\n",
       "      <td>0.381594</td>\n",
       "      <td>32.204208</td>\n",
       "      <td>0.086420</td>\n",
       "      <td>0.725028</td>\n",
       "      <td>0.016835</td>\n",
       "      <td>0.052750</td>\n",
       "      <td>0.066218</td>\n",
       "      <td>0.037037</td>\n",
       "      <td>0.035915</td>\n",
       "      <td>0.014590</td>\n",
       "      <td>0.004489</td>\n",
       "      <td>0.772166</td>\n",
       "    </tr>\n",
       "    <tr>\n",
       "      <th>std</th>\n",
       "      <td>0.486592</td>\n",
       "      <td>0.836071</td>\n",
       "      <td>0.477990</td>\n",
       "      <td>14.526497</td>\n",
       "      <td>1.102743</td>\n",
       "      <td>0.806057</td>\n",
       "      <td>49.693429</td>\n",
       "      <td>0.281141</td>\n",
       "      <td>0.446751</td>\n",
       "      <td>0.128725</td>\n",
       "      <td>0.223659</td>\n",
       "      <td>0.248802</td>\n",
       "      <td>0.188959</td>\n",
       "      <td>0.186182</td>\n",
       "      <td>0.119973</td>\n",
       "      <td>0.066890</td>\n",
       "      <td>0.419670</td>\n",
       "    </tr>\n",
       "    <tr>\n",
       "      <th>min</th>\n",
       "      <td>0.000000</td>\n",
       "      <td>1.000000</td>\n",
       "      <td>0.000000</td>\n",
       "      <td>0.420000</td>\n",
       "      <td>0.000000</td>\n",
       "      <td>0.000000</td>\n",
       "      <td>0.000000</td>\n",
       "      <td>0.000000</td>\n",
       "      <td>0.000000</td>\n",
       "      <td>0.000000</td>\n",
       "      <td>0.000000</td>\n",
       "      <td>0.000000</td>\n",
       "      <td>0.000000</td>\n",
       "      <td>0.000000</td>\n",
       "      <td>0.000000</td>\n",
       "      <td>0.000000</td>\n",
       "      <td>0.000000</td>\n",
       "    </tr>\n",
       "    <tr>\n",
       "      <th>25%</th>\n",
       "      <td>0.000000</td>\n",
       "      <td>2.000000</td>\n",
       "      <td>0.000000</td>\n",
       "      <td>20.125000</td>\n",
       "      <td>0.000000</td>\n",
       "      <td>0.000000</td>\n",
       "      <td>7.910400</td>\n",
       "      <td>0.000000</td>\n",
       "      <td>0.000000</td>\n",
       "      <td>0.000000</td>\n",
       "      <td>0.000000</td>\n",
       "      <td>0.000000</td>\n",
       "      <td>0.000000</td>\n",
       "      <td>0.000000</td>\n",
       "      <td>0.000000</td>\n",
       "      <td>0.000000</td>\n",
       "      <td>1.000000</td>\n",
       "    </tr>\n",
       "    <tr>\n",
       "      <th>50%</th>\n",
       "      <td>0.000000</td>\n",
       "      <td>3.000000</td>\n",
       "      <td>1.000000</td>\n",
       "      <td>28.000000</td>\n",
       "      <td>0.000000</td>\n",
       "      <td>0.000000</td>\n",
       "      <td>14.454200</td>\n",
       "      <td>0.000000</td>\n",
       "      <td>1.000000</td>\n",
       "      <td>0.000000</td>\n",
       "      <td>0.000000</td>\n",
       "      <td>0.000000</td>\n",
       "      <td>0.000000</td>\n",
       "      <td>0.000000</td>\n",
       "      <td>0.000000</td>\n",
       "      <td>0.000000</td>\n",
       "      <td>1.000000</td>\n",
       "    </tr>\n",
       "    <tr>\n",
       "      <th>75%</th>\n",
       "      <td>1.000000</td>\n",
       "      <td>3.000000</td>\n",
       "      <td>1.000000</td>\n",
       "      <td>38.000000</td>\n",
       "      <td>1.000000</td>\n",
       "      <td>0.000000</td>\n",
       "      <td>31.000000</td>\n",
       "      <td>0.000000</td>\n",
       "      <td>1.000000</td>\n",
       "      <td>0.000000</td>\n",
       "      <td>0.000000</td>\n",
       "      <td>0.000000</td>\n",
       "      <td>0.000000</td>\n",
       "      <td>0.000000</td>\n",
       "      <td>0.000000</td>\n",
       "      <td>0.000000</td>\n",
       "      <td>1.000000</td>\n",
       "    </tr>\n",
       "    <tr>\n",
       "      <th>max</th>\n",
       "      <td>1.000000</td>\n",
       "      <td>3.000000</td>\n",
       "      <td>1.000000</td>\n",
       "      <td>80.000000</td>\n",
       "      <td>8.000000</td>\n",
       "      <td>6.000000</td>\n",
       "      <td>512.329200</td>\n",
       "      <td>1.000000</td>\n",
       "      <td>1.000000</td>\n",
       "      <td>1.000000</td>\n",
       "      <td>1.000000</td>\n",
       "      <td>1.000000</td>\n",
       "      <td>1.000000</td>\n",
       "      <td>1.000000</td>\n",
       "      <td>1.000000</td>\n",
       "      <td>1.000000</td>\n",
       "      <td>1.000000</td>\n",
       "    </tr>\n",
       "  </tbody>\n",
       "</table>\n",
       "</div>"
      ],
      "text/plain": [
       "         Survived      Pclass         Sex         Age       SibSp       Parch  \\\n",
       "count  891.000000  891.000000  891.000000  714.000000  891.000000  891.000000   \n",
       "mean     0.383838    2.308642    0.647587   29.699118    0.523008    0.381594   \n",
       "std      0.486592    0.836071    0.477990   14.526497    1.102743    0.806057   \n",
       "min      0.000000    1.000000    0.000000    0.420000    0.000000    0.000000   \n",
       "25%      0.000000    2.000000    0.000000   20.125000    0.000000    0.000000   \n",
       "50%      0.000000    3.000000    1.000000   28.000000    0.000000    0.000000   \n",
       "75%      1.000000    3.000000    1.000000   38.000000    1.000000    0.000000   \n",
       "max      1.000000    3.000000    1.000000   80.000000    8.000000    6.000000   \n",
       "\n",
       "             Fare       Emb_Q       Emb_S       Cab_A       Cab_B       Cab_C  \\\n",
       "count  891.000000  891.000000  891.000000  891.000000  891.000000  891.000000   \n",
       "mean    32.204208    0.086420    0.725028    0.016835    0.052750    0.066218   \n",
       "std     49.693429    0.281141    0.446751    0.128725    0.223659    0.248802   \n",
       "min      0.000000    0.000000    0.000000    0.000000    0.000000    0.000000   \n",
       "25%      7.910400    0.000000    0.000000    0.000000    0.000000    0.000000   \n",
       "50%     14.454200    0.000000    1.000000    0.000000    0.000000    0.000000   \n",
       "75%     31.000000    0.000000    1.000000    0.000000    0.000000    0.000000   \n",
       "max    512.329200    1.000000    1.000000    1.000000    1.000000    1.000000   \n",
       "\n",
       "            Cab_D       Cab_E       Cab_F       Cab_G      Cab_ND  \n",
       "count  891.000000  891.000000  891.000000  891.000000  891.000000  \n",
       "mean     0.037037    0.035915    0.014590    0.004489    0.772166  \n",
       "std      0.188959    0.186182    0.119973    0.066890    0.419670  \n",
       "min      0.000000    0.000000    0.000000    0.000000    0.000000  \n",
       "25%      0.000000    0.000000    0.000000    0.000000    1.000000  \n",
       "50%      0.000000    0.000000    0.000000    0.000000    1.000000  \n",
       "75%      0.000000    0.000000    0.000000    0.000000    1.000000  \n",
       "max      1.000000    1.000000    1.000000    1.000000    1.000000  "
      ]
     },
     "execution_count": 30,
     "metadata": {},
     "output_type": "execute_result"
    }
   ],
   "source": [
    "titanic.describe()"
   ]
  },
  {
   "cell_type": "code",
   "execution_count": 31,
   "id": "37fb478d-f120-43f8-b113-13dba1369de9",
   "metadata": {},
   "outputs": [],
   "source": [
    "# удалим не нужные столбцы\n",
    "titanic.drop(['Cabin', 'Embarked', 'Cabin_floor'], axis=1, inplace=True)"
   ]
  },
  {
   "cell_type": "markdown",
   "id": "ebc27d06-d2d1-4b2a-852d-6cf205f23a38",
   "metadata": {},
   "source": [
    "> * Заполним возраст методом RandomForestRegressor"
   ]
  },
  {
   "cell_type": "code",
   "execution_count": 32,
   "id": "f92c158c-0e8b-41c0-8304-660fa3f62af9",
   "metadata": {},
   "outputs": [],
   "source": [
    "from sklearn.ensemble import RandomForestRegressor\n",
    "\n",
    "# Создаем модель\n",
    "\n",
    "rf_model = RandomForestRegressor(n_estimators=200, random_state=42)"
   ]
  },
  {
   "cell_type": "code",
   "execution_count": 33,
   "id": "b1fa2238-661d-4944-8405-0b3976117cec",
   "metadata": {},
   "outputs": [],
   "source": [
    "# Разделяем данные на известные и неизвестные значения возраста\n",
    "\n",
    "known_age = titanic[titanic['Age'].notnull()]\n",
    "unknown_age = titanic[titanic['Age'].isnull()]"
   ]
  },
  {
   "cell_type": "code",
   "execution_count": 34,
   "id": "11ace392-54d4-44f9-ba62-ba4de3fee300",
   "metadata": {},
   "outputs": [],
   "source": [
    "# Создаем матрицу признаков и целевой вектор для обучения модели\n",
    "\n",
    "X_train = known_age.drop(['Age'], axis=1)\n",
    "y_train = known_age['Age']"
   ]
  },
  {
   "cell_type": "code",
   "execution_count": 35,
   "id": "971499b6-241e-40c8-9286-a6f8999ff74e",
   "metadata": {},
   "outputs": [
    {
     "data": {
      "text/plain": [
       "RandomForestRegressor(n_estimators=200, random_state=42)"
      ]
     },
     "execution_count": 35,
     "metadata": {},
     "output_type": "execute_result"
    }
   ],
   "source": [
    "# Обучаем модель на известных значениях возраста\n",
    "\n",
    "rf_model.fit(X_train, y_train)"
   ]
  },
  {
   "cell_type": "code",
   "execution_count": 36,
   "id": "152efc42-91f4-4a48-987a-7b72d6357ddc",
   "metadata": {},
   "outputs": [],
   "source": [
    "# Используем обученную модель для предсказания возраста для пропущенных значений\n",
    "predicted_age = rf_model.predict(unknown_age.drop(['Age'], axis=1))\n",
    "\n"
   ]
  },
  {
   "cell_type": "code",
   "execution_count": 37,
   "id": "00977ec9-fc6d-40f0-be5c-d1cb8f407617",
   "metadata": {},
   "outputs": [],
   "source": [
    "# Заполняем пропущенные значения предсказанными значениями возраста\n",
    "titanic.loc[titanic.Age.isnull(), 'Age'] = predicted_age"
   ]
  },
  {
   "cell_type": "code",
   "execution_count": 38,
   "id": "880368a9-a056-4e27-9679-9eec61b5ee6d",
   "metadata": {},
   "outputs": [
    {
     "name": "stdout",
     "output_type": "stream",
     "text": [
      "<class 'pandas.core.frame.DataFrame'>\n",
      "RangeIndex: 891 entries, 0 to 890\n",
      "Data columns (total 17 columns):\n",
      " #   Column    Non-Null Count  Dtype  \n",
      "---  ------    --------------  -----  \n",
      " 0   Survived  891 non-null    int64  \n",
      " 1   Pclass    891 non-null    int64  \n",
      " 2   Sex       891 non-null    int32  \n",
      " 3   Age       891 non-null    float64\n",
      " 4   SibSp     891 non-null    int64  \n",
      " 5   Parch     891 non-null    int64  \n",
      " 6   Fare      891 non-null    float64\n",
      " 7   Emb_Q     891 non-null    uint8  \n",
      " 8   Emb_S     891 non-null    uint8  \n",
      " 9   Cab_A     891 non-null    uint8  \n",
      " 10  Cab_B     891 non-null    uint8  \n",
      " 11  Cab_C     891 non-null    uint8  \n",
      " 12  Cab_D     891 non-null    uint8  \n",
      " 13  Cab_E     891 non-null    uint8  \n",
      " 14  Cab_F     891 non-null    uint8  \n",
      " 15  Cab_G     891 non-null    uint8  \n",
      " 16  Cab_ND    891 non-null    uint8  \n",
      "dtypes: float64(2), int32(1), int64(4), uint8(10)\n",
      "memory usage: 54.1 KB\n"
     ]
    }
   ],
   "source": [
    "titanic.info()"
   ]
  },
  {
   "cell_type": "markdown",
   "id": "51a5aee3-ed92-40bb-806d-b337bea29d07",
   "metadata": {},
   "source": [
    "> * Найдем выбросы"
   ]
  },
  {
   "cell_type": "code",
   "execution_count": 39,
   "id": "e78659b5-a6ea-4eb1-afdb-81e094f6a8f5",
   "metadata": {},
   "outputs": [
    {
     "data": {
      "image/png": "[encoded data removed]",
      "text/plain": [
       "<Figure size 1080x720 with 1 Axes>"
      ]
     },
     "metadata": {
      "needs_background": "light"
     },
     "output_type": "display_data"
    }
   ],
   "source": [
    "# построение boxplot для всех числовых столбцов\n",
    "titanic.plot(kind='box', vert=False, figsize=(15,10))\n",
    "plt.show()"
   ]
  },
  {
   "cell_type": "code",
   "execution_count": 40,
   "id": "b4d741bb-dccb-4abd-8d3a-83506a20d04a",
   "metadata": {},
   "outputs": [
    {
     "data": {
      "text/html": [
       "<div>\n",
       "<style scoped>\n",
       "    .dataframe tbody tr th:only-of-type {\n",
       "        vertical-align: middle;\n",
       "    }\n",
       "\n",
       "    .dataframe tbody tr th {\n",
       "        vertical-align: top;\n",
       "    }\n",
       "\n",
       "    .dataframe thead th {\n",
       "        text-align: right;\n",
       "    }\n",
       "</style>\n",
       "<table border=\"1\" class=\"dataframe\">\n",
       "  <thead>\n",
       "    <tr style=\"text-align: right;\">\n",
       "      <th></th>\n",
       "      <th>Survived</th>\n",
       "      <th>Pclass</th>\n",
       "      <th>Sex</th>\n",
       "      <th>Age</th>\n",
       "      <th>SibSp</th>\n",
       "      <th>Parch</th>\n",
       "      <th>Fare</th>\n",
       "      <th>Emb_Q</th>\n",
       "      <th>Emb_S</th>\n",
       "      <th>Cab_A</th>\n",
       "      <th>Cab_B</th>\n",
       "      <th>Cab_C</th>\n",
       "      <th>Cab_D</th>\n",
       "      <th>Cab_E</th>\n",
       "      <th>Cab_F</th>\n",
       "      <th>Cab_G</th>\n",
       "      <th>Cab_ND</th>\n",
       "    </tr>\n",
       "  </thead>\n",
       "  <tbody>\n",
       "    <tr>\n",
       "      <th>count</th>\n",
       "      <td>891.000000</td>\n",
       "      <td>891.000000</td>\n",
       "      <td>891.000000</td>\n",
       "      <td>891.000000</td>\n",
       "      <td>891.000000</td>\n",
       "      <td>891.000000</td>\n",
       "      <td>891.000000</td>\n",
       "      <td>891.000000</td>\n",
       "      <td>891.000000</td>\n",
       "      <td>891.000000</td>\n",
       "      <td>891.000000</td>\n",
       "      <td>891.000000</td>\n",
       "      <td>891.000000</td>\n",
       "      <td>891.000000</td>\n",
       "      <td>891.000000</td>\n",
       "      <td>891.000000</td>\n",
       "      <td>891.000000</td>\n",
       "    </tr>\n",
       "    <tr>\n",
       "      <th>mean</th>\n",
       "      <td>0.383838</td>\n",
       "      <td>2.308642</td>\n",
       "      <td>0.647587</td>\n",
       "      <td>29.597557</td>\n",
       "      <td>0.523008</td>\n",
       "      <td>0.381594</td>\n",
       "      <td>32.204208</td>\n",
       "      <td>0.086420</td>\n",
       "      <td>0.725028</td>\n",
       "      <td>0.016835</td>\n",
       "      <td>0.052750</td>\n",
       "      <td>0.066218</td>\n",
       "      <td>0.037037</td>\n",
       "      <td>0.035915</td>\n",
       "      <td>0.014590</td>\n",
       "      <td>0.004489</td>\n",
       "      <td>0.772166</td>\n",
       "    </tr>\n",
       "    <tr>\n",
       "      <th>std</th>\n",
       "      <td>0.486592</td>\n",
       "      <td>0.836071</td>\n",
       "      <td>0.477990</td>\n",
       "      <td>13.790848</td>\n",
       "      <td>1.102743</td>\n",
       "      <td>0.806057</td>\n",
       "      <td>49.693429</td>\n",
       "      <td>0.281141</td>\n",
       "      <td>0.446751</td>\n",
       "      <td>0.128725</td>\n",
       "      <td>0.223659</td>\n",
       "      <td>0.248802</td>\n",
       "      <td>0.188959</td>\n",
       "      <td>0.186182</td>\n",
       "      <td>0.119973</td>\n",
       "      <td>0.066890</td>\n",
       "      <td>0.419670</td>\n",
       "    </tr>\n",
       "    <tr>\n",
       "      <th>min</th>\n",
       "      <td>0.000000</td>\n",
       "      <td>1.000000</td>\n",
       "      <td>0.000000</td>\n",
       "      <td>0.420000</td>\n",
       "      <td>0.000000</td>\n",
       "      <td>0.000000</td>\n",
       "      <td>0.000000</td>\n",
       "      <td>0.000000</td>\n",
       "      <td>0.000000</td>\n",
       "      <td>0.000000</td>\n",
       "      <td>0.000000</td>\n",
       "      <td>0.000000</td>\n",
       "      <td>0.000000</td>\n",
       "      <td>0.000000</td>\n",
       "      <td>0.000000</td>\n",
       "      <td>0.000000</td>\n",
       "      <td>0.000000</td>\n",
       "    </tr>\n",
       "    <tr>\n",
       "      <th>25%</th>\n",
       "      <td>0.000000</td>\n",
       "      <td>2.000000</td>\n",
       "      <td>0.000000</td>\n",
       "      <td>21.000000</td>\n",
       "      <td>0.000000</td>\n",
       "      <td>0.000000</td>\n",
       "      <td>7.910400</td>\n",
       "      <td>0.000000</td>\n",
       "      <td>0.000000</td>\n",
       "      <td>0.000000</td>\n",
       "      <td>0.000000</td>\n",
       "      <td>0.000000</td>\n",
       "      <td>0.000000</td>\n",
       "      <td>0.000000</td>\n",
       "      <td>0.000000</td>\n",
       "      <td>0.000000</td>\n",
       "      <td>1.000000</td>\n",
       "    </tr>\n",
       "    <tr>\n",
       "      <th>50%</th>\n",
       "      <td>0.000000</td>\n",
       "      <td>3.000000</td>\n",
       "      <td>1.000000</td>\n",
       "      <td>28.000000</td>\n",
       "      <td>0.000000</td>\n",
       "      <td>0.000000</td>\n",
       "      <td>14.454200</td>\n",
       "      <td>0.000000</td>\n",
       "      <td>1.000000</td>\n",
       "      <td>0.000000</td>\n",
       "      <td>0.000000</td>\n",
       "      <td>0.000000</td>\n",
       "      <td>0.000000</td>\n",
       "      <td>0.000000</td>\n",
       "      <td>0.000000</td>\n",
       "      <td>0.000000</td>\n",
       "      <td>1.000000</td>\n",
       "    </tr>\n",
       "    <tr>\n",
       "      <th>75%</th>\n",
       "      <td>1.000000</td>\n",
       "      <td>3.000000</td>\n",
       "      <td>1.000000</td>\n",
       "      <td>37.000000</td>\n",
       "      <td>1.000000</td>\n",
       "      <td>0.000000</td>\n",
       "      <td>31.000000</td>\n",
       "      <td>0.000000</td>\n",
       "      <td>1.000000</td>\n",
       "      <td>0.000000</td>\n",
       "      <td>0.000000</td>\n",
       "      <td>0.000000</td>\n",
       "      <td>0.000000</td>\n",
       "      <td>0.000000</td>\n",
       "      <td>0.000000</td>\n",
       "      <td>0.000000</td>\n",
       "      <td>1.000000</td>\n",
       "    </tr>\n",
       "    <tr>\n",
       "      <th>max</th>\n",
       "      <td>1.000000</td>\n",
       "      <td>3.000000</td>\n",
       "      <td>1.000000</td>\n",
       "      <td>80.000000</td>\n",
       "      <td>8.000000</td>\n",
       "      <td>6.000000</td>\n",
       "      <td>512.329200</td>\n",
       "      <td>1.000000</td>\n",
       "      <td>1.000000</td>\n",
       "      <td>1.000000</td>\n",
       "      <td>1.000000</td>\n",
       "      <td>1.000000</td>\n",
       "      <td>1.000000</td>\n",
       "      <td>1.000000</td>\n",
       "      <td>1.000000</td>\n",
       "      <td>1.000000</td>\n",
       "      <td>1.000000</td>\n",
       "    </tr>\n",
       "  </tbody>\n",
       "</table>\n",
       "</div>"
      ],
      "text/plain": [
       "         Survived      Pclass         Sex         Age       SibSp       Parch  \\\n",
       "count  891.000000  891.000000  891.000000  891.000000  891.000000  891.000000   \n",
       "mean     0.383838    2.308642    0.647587   29.597557    0.523008    0.381594   \n",
       "std      0.486592    0.836071    0.477990   13.790848    1.102743    0.806057   \n",
       "min      0.000000    1.000000    0.000000    0.420000    0.000000    0.000000   \n",
       "25%      0.000000    2.000000    0.000000   21.000000    0.000000    0.000000   \n",
       "50%      0.000000    3.000000    1.000000   28.000000    0.000000    0.000000   \n",
       "75%      1.000000    3.000000    1.000000   37.000000    1.000000    0.000000   \n",
       "max      1.000000    3.000000    1.000000   80.000000    8.000000    6.000000   \n",
       "\n",
       "             Fare       Emb_Q       Emb_S       Cab_A       Cab_B       Cab_C  \\\n",
       "count  891.000000  891.000000  891.000000  891.000000  891.000000  891.000000   \n",
       "mean    32.204208    0.086420    0.725028    0.016835    0.052750    0.066218   \n",
       "std     49.693429    0.281141    0.446751    0.128725    0.223659    0.248802   \n",
       "min      0.000000    0.000000    0.000000    0.000000    0.000000    0.000000   \n",
       "25%      7.910400    0.000000    0.000000    0.000000    0.000000    0.000000   \n",
       "50%     14.454200    0.000000    1.000000    0.000000    0.000000    0.000000   \n",
       "75%     31.000000    0.000000    1.000000    0.000000    0.000000    0.000000   \n",
       "max    512.329200    1.000000    1.000000    1.000000    1.000000    1.000000   \n",
       "\n",
       "            Cab_D       Cab_E       Cab_F       Cab_G      Cab_ND  \n",
       "count  891.000000  891.000000  891.000000  891.000000  891.000000  \n",
       "mean     0.037037    0.035915    0.014590    0.004489    0.772166  \n",
       "std      0.188959    0.186182    0.119973    0.066890    0.419670  \n",
       "min      0.000000    0.000000    0.000000    0.000000    0.000000  \n",
       "25%      0.000000    0.000000    0.000000    0.000000    1.000000  \n",
       "50%      0.000000    0.000000    0.000000    0.000000    1.000000  \n",
       "75%      0.000000    0.000000    0.000000    0.000000    1.000000  \n",
       "max      1.000000    1.000000    1.000000    1.000000    1.000000  "
      ]
     },
     "execution_count": 40,
     "metadata": {},
     "output_type": "execute_result"
    }
   ],
   "source": [
    "titanic.describe()"
   ]
  },
  {
   "cell_type": "markdown",
   "id": "b1b88db9-dc53-408e-8106-d2471399ec91",
   "metadata": {},
   "source": [
    "> * Видим, что выброс есть в стоимости билетов"
   ]
  },
  {
   "cell_type": "markdown",
   "id": "e2dfc9df-9beb-425f-aa25-90dbf505203c",
   "metadata": {},
   "source": [
    "> Используем статистические методы:правило трех сигм  и интерквартильный размах, посмотрим какие дадут меньше потерь"
   ]
  },
  {
   "cell_type": "markdown",
   "id": "f659e40c-93ba-4e94-8074-c56e4b26896c",
   "metadata": {},
   "source": [
    "> * правила трех сигм"
   ]
  },
  {
   "cell_type": "code",
   "execution_count": 41,
   "id": "0983f484-5f0c-4467-8334-1b0706e12314",
   "metadata": {},
   "outputs": [
    {
     "name": "stdout",
     "output_type": "stream",
     "text": [
      "<class 'pandas.core.frame.DataFrame'>\n",
      "Int64Index: 775 entries, 0 to 890\n",
      "Data columns (total 17 columns):\n",
      " #   Column    Non-Null Count  Dtype  \n",
      "---  ------    --------------  -----  \n",
      " 0   Survived  775 non-null    int64  \n",
      " 1   Pclass    775 non-null    int64  \n",
      " 2   Sex       775 non-null    int32  \n",
      " 3   Age       775 non-null    float64\n",
      " 4   SibSp     775 non-null    int64  \n",
      " 5   Parch     775 non-null    int64  \n",
      " 6   Fare      775 non-null    float64\n",
      " 7   Emb_Q     775 non-null    uint8  \n",
      " 8   Emb_S     775 non-null    uint8  \n",
      " 9   Cab_A     775 non-null    uint8  \n",
      " 10  Cab_B     775 non-null    uint8  \n",
      " 11  Cab_C     775 non-null    uint8  \n",
      " 12  Cab_D     775 non-null    uint8  \n",
      " 13  Cab_E     775 non-null    uint8  \n",
      " 14  Cab_F     775 non-null    uint8  \n",
      " 15  Cab_G     775 non-null    uint8  \n",
      " 16  Cab_ND    775 non-null    uint8  \n",
      "dtypes: float64(2), int32(1), int64(4), uint8(10)\n",
      "memory usage: 53.0 KB\n",
      "None\n"
     ]
    },
    {
     "data": {
      "image/png": "[encoded data removed]",
      "text/plain": [
       "<Figure size 1080x720 with 1 Axes>"
      ]
     },
     "metadata": {
      "needs_background": "light"
     },
     "output_type": "display_data"
    }
   ],
   "source": [
    "q1 = titanic['Fare'].quantile(0.25)\n",
    "q3 = titanic['Fare'].quantile(0.75)\n",
    "\n",
    "iqr = q3 - q1\n",
    "\n",
    "df = titanic[(titanic['Fare'] >= q1 - 1.5 * iqr) & (titanic['Fare'] <= q3 + 1.5 * iqr)]\n",
    "\n",
    "print(df.info())\n",
    "\n",
    "df.plot(kind='box', vert=False, figsize=(15,10))\n",
    "plt.show()"
   ]
  },
  {
   "cell_type": "markdown",
   "id": "41918e9f-b2f1-4ad8-a18b-f3fe53218c29",
   "metadata": {},
   "source": [
    "> * интерквартильный размах"
   ]
  },
  {
   "cell_type": "code",
   "execution_count": 42,
   "id": "a246638e-1d9d-4c98-9afd-57964021a24c",
   "metadata": {},
   "outputs": [
    {
     "name": "stdout",
     "output_type": "stream",
     "text": [
      "<class 'pandas.core.frame.DataFrame'>\n",
      "Int64Index: 871 entries, 0 to 890\n",
      "Data columns (total 17 columns):\n",
      " #   Column    Non-Null Count  Dtype  \n",
      "---  ------    --------------  -----  \n",
      " 0   Survived  871 non-null    int64  \n",
      " 1   Pclass    871 non-null    int64  \n",
      " 2   Sex       871 non-null    int32  \n",
      " 3   Age       871 non-null    float64\n",
      " 4   SibSp     871 non-null    int64  \n",
      " 5   Parch     871 non-null    int64  \n",
      " 6   Fare      871 non-null    float64\n",
      " 7   Emb_Q     871 non-null    uint8  \n",
      " 8   Emb_S     871 non-null    uint8  \n",
      " 9   Cab_A     871 non-null    uint8  \n",
      " 10  Cab_B     871 non-null    uint8  \n",
      " 11  Cab_C     871 non-null    uint8  \n",
      " 12  Cab_D     871 non-null    uint8  \n",
      " 13  Cab_E     871 non-null    uint8  \n",
      " 14  Cab_F     871 non-null    uint8  \n",
      " 15  Cab_G     871 non-null    uint8  \n",
      " 16  Cab_ND    871 non-null    uint8  \n",
      "dtypes: float64(2), int32(1), int64(4), uint8(10)\n",
      "memory usage: 59.5 KB\n",
      "None\n"
     ]
    },
    {
     "data": {
      "image/png": "[encoded data removed]",
      "text/plain": [
       "<Figure size 1080x720 with 1 Axes>"
      ]
     },
     "metadata": {
      "needs_background": "light"
     },
     "output_type": "display_data"
    }
   ],
   "source": [
    "mean = titanic['Fare'].mean()\n",
    "std = titanic['Fare'].std()\n",
    "\n",
    "df1 = titanic[np.abs(titanic['Fare'] - mean) <= 3 * std]\n",
    "\n",
    "print(df1.info())\n",
    "\n",
    "df1.plot(kind='box', vert=False, figsize=(15,10))\n",
    "plt.show()"
   ]
  },
  {
   "cell_type": "markdown",
   "id": "de45785e-636c-4aaa-afaf-604ecab2792e",
   "metadata": {},
   "source": [
    "> Я решил остановиться на последнем методе, что бы не потерять больше данных.\n",
    "По моему мнению, больше ничего делать с данными не нужно."
   ]
  },
  {
   "cell_type": "code",
   "execution_count": 43,
   "id": "38a29552-3806-478a-b6a3-5af3aac36284",
   "metadata": {},
   "outputs": [],
   "source": [
    "titanic = df1.copy()"
   ]
  },
  {
   "cell_type": "code",
   "execution_count": 44,
   "id": "fee78081-5996-4b83-8ccb-36a92ebae1f3",
   "metadata": {},
   "outputs": [
    {
     "data": {
      "text/html": [
       "<div>\n",
       "<style scoped>\n",
       "    .dataframe tbody tr th:only-of-type {\n",
       "        vertical-align: middle;\n",
       "    }\n",
       "\n",
       "    .dataframe tbody tr th {\n",
       "        vertical-align: top;\n",
       "    }\n",
       "\n",
       "    .dataframe thead th {\n",
       "        text-align: right;\n",
       "    }\n",
       "</style>\n",
       "<table border=\"1\" class=\"dataframe\">\n",
       "  <thead>\n",
       "    <tr style=\"text-align: right;\">\n",
       "      <th></th>\n",
       "      <th>Pclass</th>\n",
       "      <th>Sex</th>\n",
       "      <th>Age</th>\n",
       "      <th>SibSp</th>\n",
       "      <th>Parch</th>\n",
       "      <th>Fare</th>\n",
       "      <th>Emb_Q</th>\n",
       "      <th>Emb_S</th>\n",
       "      <th>Cab_A</th>\n",
       "      <th>Cab_B</th>\n",
       "      <th>Cab_C</th>\n",
       "      <th>Cab_D</th>\n",
       "      <th>Cab_E</th>\n",
       "      <th>Cab_F</th>\n",
       "      <th>Cab_G</th>\n",
       "      <th>Cab_ND</th>\n",
       "    </tr>\n",
       "  </thead>\n",
       "  <tbody>\n",
       "    <tr>\n",
       "      <th>0</th>\n",
       "      <td>3</td>\n",
       "      <td>1</td>\n",
       "      <td>22.0</td>\n",
       "      <td>1</td>\n",
       "      <td>0</td>\n",
       "      <td>7.2500</td>\n",
       "      <td>0</td>\n",
       "      <td>1</td>\n",
       "      <td>0</td>\n",
       "      <td>0</td>\n",
       "      <td>0</td>\n",
       "      <td>0</td>\n",
       "      <td>0</td>\n",
       "      <td>0</td>\n",
       "      <td>0</td>\n",
       "      <td>1</td>\n",
       "    </tr>\n",
       "    <tr>\n",
       "      <th>1</th>\n",
       "      <td>1</td>\n",
       "      <td>0</td>\n",
       "      <td>38.0</td>\n",
       "      <td>1</td>\n",
       "      <td>0</td>\n",
       "      <td>71.2833</td>\n",
       "      <td>0</td>\n",
       "      <td>0</td>\n",
       "      <td>0</td>\n",
       "      <td>0</td>\n",
       "      <td>1</td>\n",
       "      <td>0</td>\n",
       "      <td>0</td>\n",
       "      <td>0</td>\n",
       "      <td>0</td>\n",
       "      <td>0</td>\n",
       "    </tr>\n",
       "    <tr>\n",
       "      <th>2</th>\n",
       "      <td>3</td>\n",
       "      <td>0</td>\n",
       "      <td>26.0</td>\n",
       "      <td>0</td>\n",
       "      <td>0</td>\n",
       "      <td>7.9250</td>\n",
       "      <td>0</td>\n",
       "      <td>1</td>\n",
       "      <td>0</td>\n",
       "      <td>0</td>\n",
       "      <td>0</td>\n",
       "      <td>0</td>\n",
       "      <td>0</td>\n",
       "      <td>0</td>\n",
       "      <td>0</td>\n",
       "      <td>1</td>\n",
       "    </tr>\n",
       "    <tr>\n",
       "      <th>3</th>\n",
       "      <td>1</td>\n",
       "      <td>0</td>\n",
       "      <td>35.0</td>\n",
       "      <td>1</td>\n",
       "      <td>0</td>\n",
       "      <td>53.1000</td>\n",
       "      <td>0</td>\n",
       "      <td>1</td>\n",
       "      <td>0</td>\n",
       "      <td>0</td>\n",
       "      <td>1</td>\n",
       "      <td>0</td>\n",
       "      <td>0</td>\n",
       "      <td>0</td>\n",
       "      <td>0</td>\n",
       "      <td>0</td>\n",
       "    </tr>\n",
       "    <tr>\n",
       "      <th>4</th>\n",
       "      <td>3</td>\n",
       "      <td>1</td>\n",
       "      <td>35.0</td>\n",
       "      <td>0</td>\n",
       "      <td>0</td>\n",
       "      <td>8.0500</td>\n",
       "      <td>0</td>\n",
       "      <td>1</td>\n",
       "      <td>0</td>\n",
       "      <td>0</td>\n",
       "      <td>0</td>\n",
       "      <td>0</td>\n",
       "      <td>0</td>\n",
       "      <td>0</td>\n",
       "      <td>0</td>\n",
       "      <td>1</td>\n",
       "    </tr>\n",
       "  </tbody>\n",
       "</table>\n",
       "</div>"
      ],
      "text/plain": [
       "   Pclass  Sex   Age  SibSp  Parch     Fare  Emb_Q  Emb_S  Cab_A  Cab_B  \\\n",
       "0       3    1  22.0      1      0   7.2500      0      1      0      0   \n",
       "1       1    0  38.0      1      0  71.2833      0      0      0      0   \n",
       "2       3    0  26.0      0      0   7.9250      0      1      0      0   \n",
       "3       1    0  35.0      1      0  53.1000      0      1      0      0   \n",
       "4       3    1  35.0      0      0   8.0500      0      1      0      0   \n",
       "\n",
       "   Cab_C  Cab_D  Cab_E  Cab_F  Cab_G  Cab_ND  \n",
       "0      0      0      0      0      0       1  \n",
       "1      1      0      0      0      0       0  \n",
       "2      0      0      0      0      0       1  \n",
       "3      1      0      0      0      0       0  \n",
       "4      0      0      0      0      0       1  "
      ]
     },
     "execution_count": 44,
     "metadata": {},
     "output_type": "execute_result"
    }
   ],
   "source": [
    "selectedColumns = list(filter(lambda i: i != 'Survived', titanic.columns))\n",
    "X1 = titanic[selectedColumns]\n",
    "X1.head()"
   ]
  },
  {
   "cell_type": "code",
   "execution_count": 45,
   "id": "813d63f2-583e-4f35-9413-a55e5ed2a2c3",
   "metadata": {},
   "outputs": [
    {
     "data": {
      "text/plain": [
       "0    0\n",
       "1    1\n",
       "2    1\n",
       "3    1\n",
       "4    0\n",
       "Name: Survived, dtype: int64"
      ]
     },
     "execution_count": 45,
     "metadata": {},
     "output_type": "execute_result"
    }
   ],
   "source": [
    "y1 = titanic['Survived']\n",
    "y1.head()"
   ]
  },
  {
   "cell_type": "code",
   "execution_count": 46,
   "id": "3dfb623f-d452-48ca-b5a8-42409d2b2f30",
   "metadata": {},
   "outputs": [],
   "source": [
    "# Разделите выборку на обучающее (80% данных) и тестовое (20% данных) подмножества.\n",
    "X1_train, X1_test, y1_train, y1_test = train_test_split(X1, y1, test_size=0.3, random_state=42)"
   ]
  },
  {
   "cell_type": "code",
   "execution_count": 47,
   "id": "821124b3-b20b-4971-8855-3cce54f010e8",
   "metadata": {},
   "outputs": [],
   "source": [
    "model_2 = make_pipeline(\n",
    "    StandardScaler(),\n",
    "    LogisticRegression(max_iter=3000)\n",
    ")"
   ]
  },
  {
   "cell_type": "code",
   "execution_count": 48,
   "id": "c4a612b9-6a37-4bde-9cb2-b45b1f4014b2",
   "metadata": {},
   "outputs": [
    {
     "data": {
      "text/plain": [
       "Pipeline(steps=[('standardscaler', StandardScaler()),\n",
       "                ('logisticregression', LogisticRegression(max_iter=3000))])"
      ]
     },
     "execution_count": 48,
     "metadata": {},
     "output_type": "execute_result"
    }
   ],
   "source": [
    "model_2.fit(X1_train, y1_train)"
   ]
  },
  {
   "cell_type": "code",
   "execution_count": 49,
   "id": "0486e04b-e249-4c25-8b58-5fa8898be39f",
   "metadata": {},
   "outputs": [
    {
     "data": {
      "text/plain": [
       "0.7900763358778626"
      ]
     },
     "execution_count": 49,
     "metadata": {},
     "output_type": "execute_result"
    }
   ],
   "source": [
    "model_2.score(X1_test, y1_test)"
   ]
  },
  {
   "cell_type": "code",
   "execution_count": 50,
   "id": "8a627902-2f76-4d0d-817e-a5ab3a417840",
   "metadata": {},
   "outputs": [
    {
     "data": {
      "text/plain": [
       "0.6727272727272727"
      ]
     },
     "execution_count": 50,
     "metadata": {},
     "output_type": "execute_result"
    }
   ],
   "source": [
    "model_1.score(X_test, y_test)"
   ]
  },
  {
   "cell_type": "markdown",
   "id": "b1567341-c8aa-478c-8393-75a36e66259b",
   "metadata": {},
   "source": [
    "> Попробуем использовать нормализацию данных для столбцов и еще раз протестируем модель"
   ]
  },
  {
   "cell_type": "code",
   "execution_count": 51,
   "id": "92914484-2377-4162-a1f6-5c1e36962783",
   "metadata": {},
   "outputs": [],
   "source": [
    "df3 = titanic.copy()"
   ]
  },
  {
   "cell_type": "code",
   "execution_count": 52,
   "id": "2f4eca0a-d6e1-4a62-9b19-84e482c6887b",
   "metadata": {},
   "outputs": [],
   "source": [
    "from sklearn.preprocessing import MinMaxScaler\n",
    "\n",
    "scaler = MinMaxScaler()\n",
    "df3['Age'] = scaler.fit_transform(df3[['Age']])\n",
    "df3['Fare'] = scaler.fit_transform(df3[['Fare']])"
   ]
  },
  {
   "cell_type": "code",
   "execution_count": 53,
   "id": "e19c68af-800d-4c13-8550-208d16db349a",
   "metadata": {},
   "outputs": [
    {
     "data": {
      "text/html": [
       "<div>\n",
       "<style scoped>\n",
       "    .dataframe tbody tr th:only-of-type {\n",
       "        vertical-align: middle;\n",
       "    }\n",
       "\n",
       "    .dataframe tbody tr th {\n",
       "        vertical-align: top;\n",
       "    }\n",
       "\n",
       "    .dataframe thead th {\n",
       "        text-align: right;\n",
       "    }\n",
       "</style>\n",
       "<table border=\"1\" class=\"dataframe\">\n",
       "  <thead>\n",
       "    <tr style=\"text-align: right;\">\n",
       "      <th></th>\n",
       "      <th>Pclass</th>\n",
       "      <th>Sex</th>\n",
       "      <th>Age</th>\n",
       "      <th>SibSp</th>\n",
       "      <th>Parch</th>\n",
       "      <th>Fare</th>\n",
       "      <th>Emb_Q</th>\n",
       "      <th>Emb_S</th>\n",
       "      <th>Cab_A</th>\n",
       "      <th>Cab_B</th>\n",
       "      <th>Cab_C</th>\n",
       "      <th>Cab_D</th>\n",
       "      <th>Cab_E</th>\n",
       "      <th>Cab_F</th>\n",
       "      <th>Cab_G</th>\n",
       "      <th>Cab_ND</th>\n",
       "    </tr>\n",
       "  </thead>\n",
       "  <tbody>\n",
       "    <tr>\n",
       "      <th>0</th>\n",
       "      <td>3</td>\n",
       "      <td>1</td>\n",
       "      <td>0.271174</td>\n",
       "      <td>1</td>\n",
       "      <td>0</td>\n",
       "      <td>0.043975</td>\n",
       "      <td>0</td>\n",
       "      <td>1</td>\n",
       "      <td>0</td>\n",
       "      <td>0</td>\n",
       "      <td>0</td>\n",
       "      <td>0</td>\n",
       "      <td>0</td>\n",
       "      <td>0</td>\n",
       "      <td>0</td>\n",
       "      <td>1</td>\n",
       "    </tr>\n",
       "    <tr>\n",
       "      <th>1</th>\n",
       "      <td>1</td>\n",
       "      <td>0</td>\n",
       "      <td>0.472229</td>\n",
       "      <td>1</td>\n",
       "      <td>0</td>\n",
       "      <td>0.432369</td>\n",
       "      <td>0</td>\n",
       "      <td>0</td>\n",
       "      <td>0</td>\n",
       "      <td>0</td>\n",
       "      <td>1</td>\n",
       "      <td>0</td>\n",
       "      <td>0</td>\n",
       "      <td>0</td>\n",
       "      <td>0</td>\n",
       "      <td>0</td>\n",
       "    </tr>\n",
       "    <tr>\n",
       "      <th>2</th>\n",
       "      <td>3</td>\n",
       "      <td>0</td>\n",
       "      <td>0.321438</td>\n",
       "      <td>0</td>\n",
       "      <td>0</td>\n",
       "      <td>0.048069</td>\n",
       "      <td>0</td>\n",
       "      <td>1</td>\n",
       "      <td>0</td>\n",
       "      <td>0</td>\n",
       "      <td>0</td>\n",
       "      <td>0</td>\n",
       "      <td>0</td>\n",
       "      <td>0</td>\n",
       "      <td>0</td>\n",
       "      <td>1</td>\n",
       "    </tr>\n",
       "    <tr>\n",
       "      <th>3</th>\n",
       "      <td>1</td>\n",
       "      <td>0</td>\n",
       "      <td>0.434531</td>\n",
       "      <td>1</td>\n",
       "      <td>0</td>\n",
       "      <td>0.322078</td>\n",
       "      <td>0</td>\n",
       "      <td>1</td>\n",
       "      <td>0</td>\n",
       "      <td>0</td>\n",
       "      <td>1</td>\n",
       "      <td>0</td>\n",
       "      <td>0</td>\n",
       "      <td>0</td>\n",
       "      <td>0</td>\n",
       "      <td>0</td>\n",
       "    </tr>\n",
       "    <tr>\n",
       "      <th>4</th>\n",
       "      <td>3</td>\n",
       "      <td>1</td>\n",
       "      <td>0.434531</td>\n",
       "      <td>0</td>\n",
       "      <td>0</td>\n",
       "      <td>0.048827</td>\n",
       "      <td>0</td>\n",
       "      <td>1</td>\n",
       "      <td>0</td>\n",
       "      <td>0</td>\n",
       "      <td>0</td>\n",
       "      <td>0</td>\n",
       "      <td>0</td>\n",
       "      <td>0</td>\n",
       "      <td>0</td>\n",
       "      <td>1</td>\n",
       "    </tr>\n",
       "  </tbody>\n",
       "</table>\n",
       "</div>"
      ],
      "text/plain": [
       "   Pclass  Sex       Age  SibSp  Parch      Fare  Emb_Q  Emb_S  Cab_A  Cab_B  \\\n",
       "0       3    1  0.271174      1      0  0.043975      0      1      0      0   \n",
       "1       1    0  0.472229      1      0  0.432369      0      0      0      0   \n",
       "2       3    0  0.321438      0      0  0.048069      0      1      0      0   \n",
       "3       1    0  0.434531      1      0  0.322078      0      1      0      0   \n",
       "4       3    1  0.434531      0      0  0.048827      0      1      0      0   \n",
       "\n",
       "   Cab_C  Cab_D  Cab_E  Cab_F  Cab_G  Cab_ND  \n",
       "0      0      0      0      0      0       1  \n",
       "1      1      0      0      0      0       0  \n",
       "2      0      0      0      0      0       1  \n",
       "3      1      0      0      0      0       0  \n",
       "4      0      0      0      0      0       1  "
      ]
     },
     "execution_count": 53,
     "metadata": {},
     "output_type": "execute_result"
    }
   ],
   "source": [
    "selectedColumns3 = list(filter(lambda i: i != 'Survived', df3.columns))\n",
    "X3 = df3[selectedColumns]\n",
    "X3.head()"
   ]
  },
  {
   "cell_type": "code",
   "execution_count": 54,
   "id": "209fe0b8-55b6-45aa-ab82-49f2be5b855d",
   "metadata": {},
   "outputs": [
    {
     "data": {
      "text/plain": [
       "0    0\n",
       "1    1\n",
       "2    1\n",
       "3    1\n",
       "4    0\n",
       "Name: Survived, dtype: int64"
      ]
     },
     "execution_count": 54,
     "metadata": {},
     "output_type": "execute_result"
    }
   ],
   "source": [
    "y3 = df3['Survived']\n",
    "y3.head()"
   ]
  },
  {
   "cell_type": "code",
   "execution_count": 55,
   "id": "bbb9dd09-cb98-494a-bf20-3c1a7a7a72a0",
   "metadata": {},
   "outputs": [],
   "source": [
    "# Разделите выборку на обучающее (80% данных) и тестовое (20% данных) подмножества.\n",
    "X3_train, X3_test, y3_train, y3_test = train_test_split(X3, y3, test_size=0.3, random_state=42)"
   ]
  },
  {
   "cell_type": "code",
   "execution_count": 56,
   "id": "f5b072d9-f737-4a59-9684-c92210be4dd1",
   "metadata": {},
   "outputs": [],
   "source": [
    "model_3 = make_pipeline(\n",
    "    StandardScaler(),\n",
    "    LogisticRegression(max_iter=3000)\n",
    ")"
   ]
  },
  {
   "cell_type": "code",
   "execution_count": 57,
   "id": "acec6723-ec13-4013-b5dc-32ad02ea4a1e",
   "metadata": {},
   "outputs": [
    {
     "data": {
      "text/plain": [
       "Pipeline(steps=[('standardscaler', StandardScaler()),\n",
       "                ('logisticregression', LogisticRegression(max_iter=3000))])"
      ]
     },
     "execution_count": 57,
     "metadata": {},
     "output_type": "execute_result"
    }
   ],
   "source": [
    "model_3.fit(X3_train, y3_train)"
   ]
  },
  {
   "cell_type": "code",
   "execution_count": 58,
   "id": "9deb393f-12d9-4a92-ba15-75d05ea10bf8",
   "metadata": {},
   "outputs": [
    {
     "data": {
      "text/plain": [
       "0.7900763358778626"
      ]
     },
     "execution_count": 58,
     "metadata": {},
     "output_type": "execute_result"
    }
   ],
   "source": [
    "model_3.score(X3_test, y3_test)"
   ]
  },
  {
   "cell_type": "code",
   "execution_count": 59,
   "id": "27dbd65f-94ef-4dee-a3d7-874e5769101e",
   "metadata": {},
   "outputs": [
    {
     "data": {
      "text/plain": [
       "0.7900763358778626"
      ]
     },
     "execution_count": 59,
     "metadata": {},
     "output_type": "execute_result"
    }
   ],
   "source": [
    "model_2.score(X1_test, y1_test)"
   ]
  },
  {
   "cell_type": "code",
   "execution_count": 60,
   "id": "9ee45e7d-9052-42de-a416-5385013f3465",
   "metadata": {},
   "outputs": [
    {
     "data": {
      "text/plain": [
       "0.6727272727272727"
      ]
     },
     "execution_count": 60,
     "metadata": {},
     "output_type": "execute_result"
    }
   ],
   "source": [
    "model_1.score(X_test, y_test)"
   ]
  },
  {
   "cell_type": "markdown",
   "id": "461bbd99-f701-4f8d-bf1a-86e522043cca",
   "metadata": {},
   "source": [
    "> Гистограмма возраста пассажиров"
   ]
  },
  {
   "cell_type": "code",
   "execution_count": 61,
   "id": "b154c921-da45-4483-b56b-35a7d9757a25",
   "metadata": {},
   "outputs": [
    {
     "data": {
      "image/png": "[encoded data removed]",
      "text/plain": [
       "<Figure size 432x288 with 1 Axes>"
      ]
     },
     "metadata": {
      "needs_background": "light"
     },
     "output_type": "display_data"
    }
   ],
   "source": [
    "sns.histplot(data=titanic, x=\"Age\")\n",
    "plt.show()"
   ]
  },
  {
   "cell_type": "markdown",
   "id": "8d961de1-f29c-470e-9968-1263acc4911b",
   "metadata": {},
   "source": [
    "* Этот график позволяет увидеть распределение возраста пассажиров на корабле. Он показывает, что большинство пассажиров были в возрасте от 20 до 40 лет."
   ]
  },
  {
   "cell_type": "code",
   "execution_count": 62,
   "id": "abd180ba-6e87-4a8e-8b88-a8978a34e818",
   "metadata": {},
   "outputs": [],
   "source": [
    "# Создание нового столбца с информацией о выживаемости в зависимости от пола\n",
    "titanic['Survived by Gender'] = titanic.apply(lambda row: 'Survived' if row['Survived'] == 1 else 'Died', axis=1)\n",
    "\n",
    "# Создание нового столбца с информацией о выживаемости в зависимости от класса\n",
    "titanic['Survived by Class'] = titanic.apply(lambda row: 'Survived' if row['Survived'] == 1 else 'Died', axis=1)\n"
   ]
  },
  {
   "cell_type": "code",
   "execution_count": 63,
   "id": "9bd41f6d-b02b-4c9e-9a58-60563447f3e4",
   "metadata": {},
   "outputs": [],
   "source": [
    "# Группировка данных по полу и выживаемости\n",
    "gender_survival = titanic.groupby(['Sex', 'Survived by Gender']).size().unstack()\n",
    "\n",
    "# Группировка данных по классу и выживаемости\n",
    "class_survival = titanic.groupby(['Pclass', 'Survived by Class']).size().unstack()\n",
    "\n"
   ]
  },
  {
   "cell_type": "code",
   "execution_count": 64,
   "id": "f64de4a4-139d-48c4-80f2-91cccebd5ba7",
   "metadata": {},
   "outputs": [
    {
     "data": {
      "image/png": "[encoded data removed]",
      "text/plain": [
       "<Figure size 432x288 with 1 Axes>"
      ]
     },
     "metadata": {
      "needs_background": "light"
     },
     "output_type": "display_data"
    }
   ],
   "source": [
    "# Построение столбчатой диаграммы для данных о выживаемости в зависимости от пола\n",
    "gender_survival.plot(kind='bar', stacked=True)\n",
    "plt.title('Выживаемость от пола')\n",
    "plt.xlabel('Пол')\n",
    "plt.ylabel('кол-вл')\n",
    "plt.show()"
   ]
  },
  {
   "cell_type": "code",
   "execution_count": 65,
   "id": "634bb892-f441-4436-9a9c-f4bcde272eac",
   "metadata": {},
   "outputs": [
    {
     "data": {
      "image/png": "[encoded data removed]",
      "text/plain": [
       "<Figure size 432x288 with 1 Axes>"
      ]
     },
     "metadata": {
      "needs_background": "light"
     },
     "output_type": "display_data"
    }
   ],
   "source": [
    "# Построение столбчатой диаграммы для данных о выживаемости в зависимости от класса\n",
    "class_survival.plot(kind='bar', stacked=True)\n",
    "plt.title('Выживаемость от класса')\n",
    "plt.xlabel('Класс')\n",
    "plt.ylabel('кол-вл')\n",
    "plt.show()"
   ]
  },
  {
   "cell_type": "markdown",
   "id": "941b6e1f-2675-47fd-a05f-0c8bf356f3dd",
   "metadata": {},
   "source": [
    "<b> Выводы: <b><br>\n",
    "1. Сравнивая данные изначально и полученный в ходе модификации и заполенения пропусков, классификации видим, что не смотря на ограниченное кол-во данных модель номер 2 (после модификации) показывает лучшие результаты точности на 12%. \n",
    "2. Все данные подвергались различными преобразованиями, с пояснениями после каждого из них.\n",
    "3. По графикам можно сделать вывод, что выживаемость была выше всех у женщин и пассажиров первого класса.\n",
    "4. Если бы данных было больше, то точность модели могла бы быть увеличена, так как преобразования делались на основании текущих данных, где было много пропусков, которые приходилось заполнять с оговоркой на то, что данные не в достаточном кол-ве, особенно когда пропуски заполнялись на основании обучения данных. Но и в целом все преобразования очень сильно зависят от полноты и кол-во пропущенных данных, собсвенно это мы видим из сравнения моделей."
   ]
  }
 ],
 "metadata": {
  "kernelspec": {
   "display_name": "Python 3 (ipykernel)",
   "language": "python",
   "name": "python3"
  },
  "language_info": {
   "codemirror_mode": {
    "name": "ipython",
    "version": 3
   },
   "file_extension": ".py",
   "mimetype": "text/x-python",
   "name": "python",
   "nbconvert_exporter": "python",
   "pygments_lexer": "ipython3",
   "version": "3.9.12"
  }
 },
 "nbformat": 4,
 "nbformat_minor": 5
}
